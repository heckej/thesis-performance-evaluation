{
 "cells": [
  {
   "cell_type": "code",
   "execution_count": 1,
   "id": "posted-saudi",
   "metadata": {},
   "outputs": [],
   "source": [
    "from scipy import stats\n",
    "import pandas as pd\n",
    "import matplotlib.pyplot as plt"
   ]
  },
  {
   "cell_type": "code",
   "execution_count": null,
   "id": "ongoing-antenna",
   "metadata": {},
   "outputs": [],
   "source": [
    "data    = pd.read_csv(\"test/ubuntu/individual-benchmarks.csv\")\n",
    "data_lg = pd.read_csv(\"test-lambda-groups/ubuntu/individual-benchmarks.csv\")\n",
    "data_pg = pd.read_csv(\"test-pg-lambda-groups/ubuntu/individual-benchmarks.csv\")\n",
    "data_r8 = pd.read_csv(\"test-r8/ubuntu/individual-benchmarks.csv\")"
   ]
  }
 ],
 "metadata": {
  "kernelspec": {
   "display_name": "Python 3",
   "language": "python",
   "name": "python3"
  },
  "language_info": {
   "codemirror_mode": {
    "name": "ipython",
    "version": 3
   },
   "file_extension": ".py",
   "mimetype": "text/x-python",
   "name": "python",
   "nbconvert_exporter": "python",
   "pygments_lexer": "ipython3",
   "version": "3.9.6"
  }
 },
 "nbformat": 4,
 "nbformat_minor": 5
}
