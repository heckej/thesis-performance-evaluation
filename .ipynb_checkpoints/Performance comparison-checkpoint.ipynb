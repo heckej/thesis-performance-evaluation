{
 "cells": [
  {
   "cell_type": "markdown",
   "id": "searching-enterprise",
   "metadata": {},
   "source": [
    "# Performance test algorithms"
   ]
  },
  {
   "cell_type": "code",
   "execution_count": 16,
   "id": "olive-paradise",
   "metadata": {},
   "outputs": [],
   "source": [
    "def generate_lambda(arity, implementation):\n",
    "    parameters = \"\"\n",
    "    for i in range(arity):\n",
    "        if i > 0:\n",
    "            parameters += \", \"\n",
    "        parameters += f\"a{i}: Int\"\n",
    "    if arity > 0:\n",
    "        parameters += \" -> \"\n",
    "    result = \"{\" + parameters + implementation + \"}\"\n",
    "    return result"
   ]
  },
  {
   "cell_type": "code",
   "execution_count": 27,
   "id": "choice-compact",
   "metadata": {},
   "outputs": [
    {
     "name": "stdout",
     "output_type": "stream",
     "text": [
      "val lambda0 = {a0: Int -> println(\"a0: $a0\")}\n",
      "val lambda1 = {a0: Int -> println(\"a0: $a0\")}\n",
      "val lambda2 = {a0: Int -> println(\"a0: $a0\")}\n",
      "val lambda3 = {a0: Int -> println(\"a0: $a0\")}\n",
      "val lambda4 = {a0: Int -> println(\"a0: $a0\")}\n",
      "val lambda5 = {a0: Int -> println(\"a0: $a0\")}\n",
      "val lambda6 = {a0: Int -> println(\"a0: $a0\")}\n",
      "val lambda7 = {a0: Int -> println(\"a0: $a0\")}\n",
      "val lambda8 = {a0: Int -> println(\"a0: $a0\")}\n",
      "val lambda9 = {a0: Int -> println(\"a0: $a0\")}\n",
      "val lambda10 = {a0: Int -> println(\"a0: $a0\")}\n",
      "val lambda11 = {a0: Int -> println(\"a0: $a0\")}\n",
      "val lambda12 = {a0: Int -> println(\"a0: $a0\")}\n",
      "val lambda13 = {a0: Int -> println(\"a0: $a0\")}\n",
      "val lambda14 = {a0: Int -> println(\"a0: $a0\")}\n",
      "val lambda15 = {a0: Int -> println(\"a0: $a0\")}\n",
      "val lambda16 = {a0: Int -> println(\"a0: $a0\")}\n",
      "val lambda17 = {a0: Int -> println(\"a0: $a0\")}\n",
      "val lambda18 = {a0: Int -> println(\"a0: $a0\")}\n",
      "val lambda19 = {a0: Int -> println(\"a0: $a0\")}\n",
      "val lambda20 = {a0: Int -> println(\"a0: $a0\")}\n",
      "val lambda21 = {a0: Int -> println(\"a0: $a0\")}\n",
      "val lambda22 = {a0: Int -> println(\"a0: $a0\")}\n",
      "val lambda23 = {a0: Int -> println(\"a0: $a0\")}\n",
      "val lambda24 = {a0: Int -> println(\"a0: $a0\")}\n",
      "val lambda25 = {a0: Int -> println(\"a0: $a0\")}\n",
      "val lambda26 = {a0: Int -> println(\"a0: $a0\")}\n",
      "val lambda27 = {a0: Int -> println(\"a0: $a0\")}\n",
      "val lambda28 = {a0: Int -> println(\"a0: $a0\")}\n",
      "val lambda29 = {a0: Int -> println(\"a0: $a0\")}\n",
      "val lambda30 = {a0: Int -> println(\"a0: $a0\")}\n",
      "val lambda31 = {a0: Int -> println(\"a0: $a0\")}\n",
      "val lambda32 = {a0: Int -> println(\"a0: $a0\")}\n",
      "val lambda33 = {a0: Int -> println(\"a0: $a0\")}\n",
      "val lambda34 = {a0: Int -> println(\"a0: $a0\")}\n",
      "val lambda35 = {a0: Int -> println(\"a0: $a0\")}\n",
      "val lambda36 = {a0: Int -> println(\"a0: $a0\")}\n",
      "val lambda37 = {a0: Int -> println(\"a0: $a0\")}\n",
      "val lambda38 = {a0: Int -> println(\"a0: $a0\")}\n",
      "val lambda39 = {a0: Int -> println(\"a0: $a0\")}\n",
      "val lambda40 = {a0: Int -> println(\"a0: $a0\")}\n",
      "val lambda41 = {a0: Int -> println(\"a0: $a0\")}\n",
      "val lambda42 = {a0: Int -> println(\"a0: $a0\")}\n",
      "val lambda43 = {a0: Int -> println(\"a0: $a0\")}\n",
      "val lambda44 = {a0: Int -> println(\"a0: $a0\")}\n",
      "val lambda45 = {a0: Int -> println(\"a0: $a0\")}\n",
      "val lambda46 = {a0: Int -> println(\"a0: $a0\")}\n",
      "val lambda47 = {a0: Int -> println(\"a0: $a0\")}\n",
      "val lambda48 = {a0: Int -> println(\"a0: $a0\")}\n",
      "val lambda49 = {a0: Int -> println(\"a0: $a0\")}\n",
      "val lambda50 = {a0: Int -> println(\"a0: $a0\")}\n",
      "val lambda51 = {a0: Int -> println(\"a0: $a0\")}\n",
      "val lambda52 = {a0: Int -> println(\"a0: $a0\")}\n",
      "val lambda53 = {a0: Int -> println(\"a0: $a0\")}\n",
      "val lambda54 = {a0: Int -> println(\"a0: $a0\")}\n",
      "val lambda55 = {a0: Int -> println(\"a0: $a0\")}\n",
      "val lambda56 = {a0: Int -> println(\"a0: $a0\")}\n",
      "val lambda57 = {a0: Int -> println(\"a0: $a0\")}\n",
      "val lambda58 = {a0: Int -> println(\"a0: $a0\")}\n",
      "val lambda59 = {a0: Int -> println(\"a0: $a0\")}\n",
      "val lambda60 = {a0: Int -> println(\"a0: $a0\")}\n",
      "val lambda61 = {a0: Int -> println(\"a0: $a0\")}\n",
      "val lambda62 = {a0: Int -> println(\"a0: $a0\")}\n",
      "val lambda63 = {a0: Int -> println(\"a0: $a0\")}\n",
      "val lambda64 = {a0: Int -> println(\"a0: $a0\")}\n",
      "val lambda65 = {a0: Int -> println(\"a0: $a0\")}\n",
      "val lambda66 = {a0: Int -> println(\"a0: $a0\")}\n",
      "val lambda67 = {a0: Int -> println(\"a0: $a0\")}\n",
      "val lambda68 = {a0: Int -> println(\"a0: $a0\")}\n",
      "val lambda69 = {a0: Int -> println(\"a0: $a0\")}\n",
      "val lambda70 = {a0: Int -> println(\"a0: $a0\")}\n",
      "val lambda71 = {a0: Int -> println(\"a0: $a0\")}\n",
      "val lambda72 = {a0: Int -> println(\"a0: $a0\")}\n",
      "val lambda73 = {a0: Int -> println(\"a0: $a0\")}\n",
      "val lambda74 = {a0: Int -> println(\"a0: $a0\")}\n",
      "val lambda75 = {a0: Int -> println(\"a0: $a0\")}\n",
      "val lambda76 = {a0: Int -> println(\"a0: $a0\")}\n",
      "val lambda77 = {a0: Int -> println(\"a0: $a0\")}\n",
      "val lambda78 = {a0: Int -> println(\"a0: $a0\")}\n",
      "val lambda79 = {a0: Int -> println(\"a0: $a0\")}\n",
      "val lambda80 = {a0: Int -> println(\"a0: $a0\")}\n",
      "val lambda81 = {a0: Int -> println(\"a0: $a0\")}\n",
      "val lambda82 = {a0: Int -> println(\"a0: $a0\")}\n",
      "val lambda83 = {a0: Int -> println(\"a0: $a0\")}\n",
      "val lambda84 = {a0: Int -> println(\"a0: $a0\")}\n",
      "val lambda85 = {a0: Int -> println(\"a0: $a0\")}\n",
      "val lambda86 = {a0: Int -> println(\"a0: $a0\")}\n",
      "val lambda87 = {a0: Int -> println(\"a0: $a0\")}\n",
      "val lambda88 = {a0: Int -> println(\"a0: $a0\")}\n",
      "val lambda89 = {a0: Int -> println(\"a0: $a0\")}\n",
      "val lambda90 = {a0: Int -> println(\"a0: $a0\")}\n",
      "val lambda91 = {a0: Int -> println(\"a0: $a0\")}\n",
      "val lambda92 = {a0: Int -> println(\"a0: $a0\")}\n",
      "val lambda93 = {a0: Int -> println(\"a0: $a0\")}\n",
      "val lambda94 = {a0: Int -> println(\"a0: $a0\")}\n",
      "val lambda95 = {a0: Int -> println(\"a0: $a0\")}\n",
      "val lambda96 = {a0: Int -> println(\"a0: $a0\")}\n",
      "val lambda97 = {a0: Int -> println(\"a0: $a0\")}\n",
      "val lambda98 = {a0: Int -> println(\"a0: $a0\")}\n",
      "val lambda99 = {a0: Int -> println(\"a0: $a0\")}\n",
      "val lambda100 = {a0: Int -> println(\"a0: $a0\")}\n",
      "val lambda101 = {a0: Int -> println(\"a0: $a0\")}\n",
      "val lambda102 = {a0: Int -> println(\"a0: $a0\")}\n",
      "val lambda103 = {a0: Int -> println(\"a0: $a0\")}\n",
      "val lambda104 = {a0: Int -> println(\"a0: $a0\")}\n",
      "val lambda105 = {a0: Int -> println(\"a0: $a0\")}\n",
      "val lambda106 = {a0: Int -> println(\"a0: $a0\")}\n",
      "val lambda107 = {a0: Int -> println(\"a0: $a0\")}\n",
      "val lambda108 = {a0: Int -> println(\"a0: $a0\")}\n",
      "val lambda109 = {a0: Int -> println(\"a0: $a0\")}\n",
      "val lambda110 = {a0: Int -> println(\"a0: $a0\")}\n",
      "val lambda111 = {a0: Int -> println(\"a0: $a0\")}\n",
      "val lambda112 = {a0: Int -> println(\"a0: $a0\")}\n",
      "val lambda113 = {a0: Int -> println(\"a0: $a0\")}\n",
      "val lambda114 = {a0: Int -> println(\"a0: $a0\")}\n",
      "val lambda115 = {a0: Int -> println(\"a0: $a0\")}\n",
      "val lambda116 = {a0: Int -> println(\"a0: $a0\")}\n",
      "val lambda117 = {a0: Int -> println(\"a0: $a0\")}\n",
      "val lambda118 = {a0: Int -> println(\"a0: $a0\")}\n",
      "val lambda119 = {a0: Int -> println(\"a0: $a0\")}\n",
      "val lambda120 = {a0: Int -> println(\"a0: $a0\")}\n",
      "val lambda121 = {a0: Int -> println(\"a0: $a0\")}\n",
      "val lambda122 = {a0: Int -> println(\"a0: $a0\")}\n",
      "val lambda123 = {a0: Int -> println(\"a0: $a0\")}\n",
      "val lambda124 = {a0: Int -> println(\"a0: $a0\")}\n",
      "val lambda125 = {a0: Int -> println(\"a0: $a0\")}\n",
      "val lambda126 = {a0: Int -> println(\"a0: $a0\")}\n",
      "val lambda127 = {a0: Int -> println(\"a0: $a0\")}\n",
      "val lambda128 = {a0: Int -> println(\"a0: $a0\")}\n",
      "val lambda129 = {a0: Int -> println(\"a0: $a0\")}\n",
      "val lambda130 = {a0: Int -> println(\"a0: $a0\")}\n",
      "val lambda131 = {a0: Int -> println(\"a0: $a0\")}\n",
      "val lambda132 = {a0: Int -> println(\"a0: $a0\")}\n",
      "val lambda133 = {a0: Int -> println(\"a0: $a0\")}\n",
      "val lambda134 = {a0: Int -> println(\"a0: $a0\")}\n",
      "val lambda135 = {a0: Int -> println(\"a0: $a0\")}\n",
      "val lambda136 = {a0: Int -> println(\"a0: $a0\")}\n",
      "val lambda137 = {a0: Int -> println(\"a0: $a0\")}\n",
      "val lambda138 = {a0: Int -> println(\"a0: $a0\")}\n",
      "val lambda139 = {a0: Int -> println(\"a0: $a0\")}\n",
      "val lambda140 = {a0: Int -> println(\"a0: $a0\")}\n",
      "val lambda141 = {a0: Int -> println(\"a0: $a0\")}\n",
      "val lambda142 = {a0: Int -> println(\"a0: $a0\")}\n",
      "val lambda143 = {a0: Int -> println(\"a0: $a0\")}\n",
      "val lambda144 = {a0: Int -> println(\"a0: $a0\")}\n",
      "val lambda145 = {a0: Int -> println(\"a0: $a0\")}\n",
      "val lambda146 = {a0: Int -> println(\"a0: $a0\")}\n",
      "val lambda147 = {a0: Int -> println(\"a0: $a0\")}\n",
      "val lambda148 = {a0: Int -> println(\"a0: $a0\")}\n",
      "val lambda149 = {a0: Int -> println(\"a0: $a0\")}\n",
      "val lambda150 = {a0: Int -> println(\"a0: $a0\")}\n",
      "val lambda151 = {a0: Int -> println(\"a0: $a0\")}\n",
      "val lambda152 = {a0: Int -> println(\"a0: $a0\")}\n",
      "val lambda153 = {a0: Int -> println(\"a0: $a0\")}\n",
      "val lambda154 = {a0: Int -> println(\"a0: $a0\")}\n",
      "val lambda155 = {a0: Int -> println(\"a0: $a0\")}\n",
      "val lambda156 = {a0: Int -> println(\"a0: $a0\")}\n",
      "val lambda157 = {a0: Int -> println(\"a0: $a0\")}\n",
      "val lambda158 = {a0: Int -> println(\"a0: $a0\")}\n",
      "val lambda159 = {a0: Int -> println(\"a0: $a0\")}\n",
      "val lambda160 = {a0: Int -> println(\"a0: $a0\")}\n",
      "val lambda161 = {a0: Int -> println(\"a0: $a0\")}\n",
      "val lambda162 = {a0: Int -> println(\"a0: $a0\")}\n",
      "val lambda163 = {a0: Int -> println(\"a0: $a0\")}\n",
      "val lambda164 = {a0: Int -> println(\"a0: $a0\")}\n",
      "val lambda165 = {a0: Int -> println(\"a0: $a0\")}\n",
      "val lambda166 = {a0: Int -> println(\"a0: $a0\")}\n",
      "val lambda167 = {a0: Int -> println(\"a0: $a0\")}\n",
      "val lambda168 = {a0: Int -> println(\"a0: $a0\")}\n",
      "val lambda169 = {a0: Int -> println(\"a0: $a0\")}\n",
      "val lambda170 = {a0: Int -> println(\"a0: $a0\")}\n",
      "val lambda171 = {a0: Int -> println(\"a0: $a0\")}\n",
      "val lambda172 = {a0: Int -> println(\"a0: $a0\")}\n",
      "val lambda173 = {a0: Int -> println(\"a0: $a0\")}\n",
      "val lambda174 = {a0: Int -> println(\"a0: $a0\")}\n",
      "val lambda175 = {a0: Int -> println(\"a0: $a0\")}\n",
      "val lambda176 = {a0: Int -> println(\"a0: $a0\")}\n",
      "val lambda177 = {a0: Int -> println(\"a0: $a0\")}\n",
      "val lambda178 = {a0: Int -> println(\"a0: $a0\")}\n",
      "val lambda179 = {a0: Int -> println(\"a0: $a0\")}\n",
      "val lambda180 = {a0: Int -> println(\"a0: $a0\")}\n",
      "val lambda181 = {a0: Int -> println(\"a0: $a0\")}\n",
      "val lambda182 = {a0: Int -> println(\"a0: $a0\")}\n",
      "val lambda183 = {a0: Int -> println(\"a0: $a0\")}\n",
      "val lambda184 = {a0: Int -> println(\"a0: $a0\")}\n",
      "val lambda185 = {a0: Int -> println(\"a0: $a0\")}\n",
      "val lambda186 = {a0: Int -> println(\"a0: $a0\")}\n",
      "val lambda187 = {a0: Int -> println(\"a0: $a0\")}\n",
      "val lambda188 = {a0: Int -> println(\"a0: $a0\")}\n",
      "val lambda189 = {a0: Int -> println(\"a0: $a0\")}\n",
      "val lambda190 = {a0: Int -> println(\"a0: $a0\")}\n",
      "val lambda191 = {a0: Int -> println(\"a0: $a0\")}\n",
      "val lambda192 = {a0: Int -> println(\"a0: $a0\")}\n",
      "val lambda193 = {a0: Int -> println(\"a0: $a0\")}\n",
      "val lambda194 = {a0: Int -> println(\"a0: $a0\")}\n",
      "val lambda195 = {a0: Int -> println(\"a0: $a0\")}\n",
      "val lambda196 = {a0: Int -> println(\"a0: $a0\")}\n",
      "val lambda197 = {a0: Int -> println(\"a0: $a0\")}\n",
      "val lambda198 = {a0: Int -> println(\"a0: $a0\")}\n",
      "val lambda199 = {a0: Int -> println(\"a0: $a0\")}\n",
      "val lambda200 = {a0: Int -> println(\"a0: $a0\")}\n",
      "val lambda201 = {a0: Int -> println(\"a0: $a0\")}\n",
      "val lambda202 = {a0: Int -> println(\"a0: $a0\")}\n",
      "val lambda203 = {a0: Int -> println(\"a0: $a0\")}\n",
      "val lambda204 = {a0: Int -> println(\"a0: $a0\")}\n",
      "val lambda205 = {a0: Int -> println(\"a0: $a0\")}\n",
      "val lambda206 = {a0: Int -> println(\"a0: $a0\")}\n",
      "val lambda207 = {a0: Int -> println(\"a0: $a0\")}\n",
      "val lambda208 = {a0: Int -> println(\"a0: $a0\")}\n",
      "val lambda209 = {a0: Int -> println(\"a0: $a0\")}\n",
      "val lambda210 = {a0: Int -> println(\"a0: $a0\")}\n",
      "val lambda211 = {a0: Int -> println(\"a0: $a0\")}\n",
      "val lambda212 = {a0: Int -> println(\"a0: $a0\")}\n",
      "val lambda213 = {a0: Int -> println(\"a0: $a0\")}\n",
      "val lambda214 = {a0: Int -> println(\"a0: $a0\")}\n",
      "val lambda215 = {a0: Int -> println(\"a0: $a0\")}\n",
      "val lambda216 = {a0: Int -> println(\"a0: $a0\")}\n",
      "val lambda217 = {a0: Int -> println(\"a0: $a0\")}\n",
      "val lambda218 = {a0: Int -> println(\"a0: $a0\")}\n",
      "val lambda219 = {a0: Int -> println(\"a0: $a0\")}\n",
      "val lambda220 = {a0: Int -> println(\"a0: $a0\")}\n",
      "val lambda221 = {a0: Int -> println(\"a0: $a0\")}\n",
      "val lambda222 = {a0: Int -> println(\"a0: $a0\")}\n",
      "val lambda223 = {a0: Int -> println(\"a0: $a0\")}\n",
      "val lambda224 = {a0: Int -> println(\"a0: $a0\")}\n",
      "val lambda225 = {a0: Int -> println(\"a0: $a0\")}\n",
      "val lambda226 = {a0: Int -> println(\"a0: $a0\")}\n",
      "val lambda227 = {a0: Int -> println(\"a0: $a0\")}\n",
      "val lambda228 = {a0: Int -> println(\"a0: $a0\")}\n",
      "val lambda229 = {a0: Int -> println(\"a0: $a0\")}\n",
      "val lambda230 = {a0: Int -> println(\"a0: $a0\")}\n",
      "val lambda231 = {a0: Int -> println(\"a0: $a0\")}\n",
      "val lambda232 = {a0: Int -> println(\"a0: $a0\")}\n",
      "val lambda233 = {a0: Int -> println(\"a0: $a0\")}\n",
      "val lambda234 = {a0: Int -> println(\"a0: $a0\")}\n",
      "val lambda235 = {a0: Int -> println(\"a0: $a0\")}\n",
      "val lambda236 = {a0: Int -> println(\"a0: $a0\")}\n",
      "val lambda237 = {a0: Int -> println(\"a0: $a0\")}\n",
      "val lambda238 = {a0: Int -> println(\"a0: $a0\")}\n",
      "val lambda239 = {a0: Int -> println(\"a0: $a0\")}\n",
      "val lambda240 = {a0: Int -> println(\"a0: $a0\")}\n",
      "val lambda241 = {a0: Int -> println(\"a0: $a0\")}\n",
      "val lambda242 = {a0: Int -> println(\"a0: $a0\")}\n",
      "val lambda243 = {a0: Int -> println(\"a0: $a0\")}\n",
      "val lambda244 = {a0: Int -> println(\"a0: $a0\")}\n",
      "val lambda245 = {a0: Int -> println(\"a0: $a0\")}\n",
      "val lambda246 = {a0: Int -> println(\"a0: $a0\")}\n",
      "val lambda247 = {a0: Int -> println(\"a0: $a0\")}\n",
      "val lambda248 = {a0: Int -> println(\"a0: $a0\")}\n",
      "val lambda249 = {a0: Int -> println(\"a0: $a0\")}\n",
      "val lambda250 = {a0: Int -> println(\"a0: $a0\")}\n",
      "val lambda251 = {a0: Int -> println(\"a0: $a0\")}\n",
      "val lambda252 = {a0: Int -> println(\"a0: $a0\")}\n",
      "val lambda253 = {a0: Int -> println(\"a0: $a0\")}\n",
      "val lambda254 = {a0: Int -> println(\"a0: $a0\")}\n",
      "val lambda255 = {a0: Int -> println(\"a0: $a0\")}\n",
      "val lambda256 = {a0: Int -> println(\"a0: $a0\")}\n",
      "val lambda257 = {a0: Int -> println(\"a0: $a0\")}\n",
      "val lambda258 = {a0: Int -> println(\"a0: $a0\")}\n",
      "val lambda259 = {a0: Int -> println(\"a0: $a0\")}\n",
      "val lambda260 = {a0: Int -> println(\"a0: $a0\")}\n",
      "val lambda261 = {a0: Int -> println(\"a0: $a0\")}\n",
      "val lambda262 = {a0: Int -> println(\"a0: $a0\")}\n",
      "val lambda263 = {a0: Int -> println(\"a0: $a0\")}\n",
      "val lambda264 = {a0: Int -> println(\"a0: $a0\")}\n",
      "val lambda265 = {a0: Int -> println(\"a0: $a0\")}\n",
      "val lambda266 = {a0: Int -> println(\"a0: $a0\")}\n",
      "val lambda267 = {a0: Int -> println(\"a0: $a0\")}\n",
      "val lambda268 = {a0: Int -> println(\"a0: $a0\")}\n",
      "val lambda269 = {a0: Int -> println(\"a0: $a0\")}\n",
      "val lambda270 = {a0: Int -> println(\"a0: $a0\")}\n",
      "val lambda271 = {a0: Int -> println(\"a0: $a0\")}\n",
      "val lambda272 = {a0: Int -> println(\"a0: $a0\")}\n",
      "val lambda273 = {a0: Int -> println(\"a0: $a0\")}\n",
      "val lambda274 = {a0: Int -> println(\"a0: $a0\")}\n",
      "val lambda275 = {a0: Int -> println(\"a0: $a0\")}\n",
      "val lambda276 = {a0: Int -> println(\"a0: $a0\")}\n",
      "val lambda277 = {a0: Int -> println(\"a0: $a0\")}\n",
      "val lambda278 = {a0: Int -> println(\"a0: $a0\")}\n",
      "val lambda279 = {a0: Int -> println(\"a0: $a0\")}\n",
      "val lambda280 = {a0: Int -> println(\"a0: $a0\")}\n",
      "val lambda281 = {a0: Int -> println(\"a0: $a0\")}\n",
      "val lambda282 = {a0: Int -> println(\"a0: $a0\")}\n",
      "val lambda283 = {a0: Int -> println(\"a0: $a0\")}\n",
      "val lambda284 = {a0: Int -> println(\"a0: $a0\")}\n",
      "val lambda285 = {a0: Int -> println(\"a0: $a0\")}\n",
      "val lambda286 = {a0: Int -> println(\"a0: $a0\")}\n",
      "val lambda287 = {a0: Int -> println(\"a0: $a0\")}\n",
      "val lambda288 = {a0: Int -> println(\"a0: $a0\")}\n",
      "val lambda289 = {a0: Int -> println(\"a0: $a0\")}\n",
      "val lambda290 = {a0: Int -> println(\"a0: $a0\")}\n",
      "val lambda291 = {a0: Int -> println(\"a0: $a0\")}\n",
      "val lambda292 = {a0: Int -> println(\"a0: $a0\")}\n",
      "val lambda293 = {a0: Int -> println(\"a0: $a0\")}\n",
      "val lambda294 = {a0: Int -> println(\"a0: $a0\")}\n",
      "val lambda295 = {a0: Int -> println(\"a0: $a0\")}\n",
      "val lambda296 = {a0: Int -> println(\"a0: $a0\")}\n",
      "val lambda297 = {a0: Int -> println(\"a0: $a0\")}\n",
      "val lambda298 = {a0: Int -> println(\"a0: $a0\")}\n",
      "val lambda299 = {a0: Int -> println(\"a0: $a0\")}\n",
      "val lambda300 = {a0: Int -> println(\"a0: $a0\")}\n",
      "val lambda301 = {a0: Int -> println(\"a0: $a0\")}\n",
      "val lambda302 = {a0: Int -> println(\"a0: $a0\")}\n",
      "val lambda303 = {a0: Int -> println(\"a0: $a0\")}\n",
      "val lambda304 = {a0: Int -> println(\"a0: $a0\")}\n",
      "val lambda305 = {a0: Int -> println(\"a0: $a0\")}\n",
      "val lambda306 = {a0: Int -> println(\"a0: $a0\")}\n",
      "val lambda307 = {a0: Int -> println(\"a0: $a0\")}\n",
      "val lambda308 = {a0: Int -> println(\"a0: $a0\")}\n",
      "val lambda309 = {a0: Int -> println(\"a0: $a0\")}\n",
      "val lambda310 = {a0: Int -> println(\"a0: $a0\")}\n",
      "val lambda311 = {a0: Int -> println(\"a0: $a0\")}\n",
      "val lambda312 = {a0: Int -> println(\"a0: $a0\")}\n",
      "val lambda313 = {a0: Int -> println(\"a0: $a0\")}\n",
      "val lambda314 = {a0: Int -> println(\"a0: $a0\")}\n",
      "val lambda315 = {a0: Int -> println(\"a0: $a0\")}\n",
      "val lambda316 = {a0: Int -> println(\"a0: $a0\")}\n",
      "val lambda317 = {a0: Int -> println(\"a0: $a0\")}\n",
      "val lambda318 = {a0: Int -> println(\"a0: $a0\")}\n",
      "val lambda319 = {a0: Int -> println(\"a0: $a0\")}\n",
      "val lambda320 = {a0: Int -> println(\"a0: $a0\")}\n",
      "val lambda321 = {a0: Int -> println(\"a0: $a0\")}\n",
      "val lambda322 = {a0: Int -> println(\"a0: $a0\")}\n",
      "val lambda323 = {a0: Int -> println(\"a0: $a0\")}\n",
      "val lambda324 = {a0: Int -> println(\"a0: $a0\")}\n",
      "val lambda325 = {a0: Int -> println(\"a0: $a0\")}\n",
      "val lambda326 = {a0: Int -> println(\"a0: $a0\")}\n",
      "val lambda327 = {a0: Int -> println(\"a0: $a0\")}\n",
      "val lambda328 = {a0: Int -> println(\"a0: $a0\")}\n",
      "val lambda329 = {a0: Int -> println(\"a0: $a0\")}\n",
      "val lambda330 = {a0: Int -> println(\"a0: $a0\")}\n",
      "val lambda331 = {a0: Int -> println(\"a0: $a0\")}\n",
      "val lambda332 = {a0: Int -> println(\"a0: $a0\")}\n",
      "val lambda333 = {a0: Int -> println(\"a0: $a0\")}\n",
      "val lambda334 = {a0: Int -> println(\"a0: $a0\")}\n",
      "val lambda335 = {a0: Int -> println(\"a0: $a0\")}\n",
      "val lambda336 = {a0: Int -> println(\"a0: $a0\")}\n",
      "val lambda337 = {a0: Int -> println(\"a0: $a0\")}\n",
      "val lambda338 = {a0: Int -> println(\"a0: $a0\")}\n",
      "val lambda339 = {a0: Int -> println(\"a0: $a0\")}\n",
      "val lambda340 = {a0: Int -> println(\"a0: $a0\")}\n",
      "val lambda341 = {a0: Int -> println(\"a0: $a0\")}\n",
      "val lambda342 = {a0: Int -> println(\"a0: $a0\")}\n",
      "val lambda343 = {a0: Int -> println(\"a0: $a0\")}\n",
      "val lambda344 = {a0: Int -> println(\"a0: $a0\")}\n",
      "val lambda345 = {a0: Int -> println(\"a0: $a0\")}\n",
      "val lambda346 = {a0: Int -> println(\"a0: $a0\")}\n",
      "val lambda347 = {a0: Int -> println(\"a0: $a0\")}\n",
      "val lambda348 = {a0: Int -> println(\"a0: $a0\")}\n",
      "val lambda349 = {a0: Int -> println(\"a0: $a0\")}\n",
      "val lambda350 = {a0: Int -> println(\"a0: $a0\")}\n",
      "val lambda351 = {a0: Int -> println(\"a0: $a0\")}\n",
      "val lambda352 = {a0: Int -> println(\"a0: $a0\")}\n",
      "val lambda353 = {a0: Int -> println(\"a0: $a0\")}\n",
      "val lambda354 = {a0: Int -> println(\"a0: $a0\")}\n",
      "val lambda355 = {a0: Int -> println(\"a0: $a0\")}\n",
      "val lambda356 = {a0: Int -> println(\"a0: $a0\")}\n",
      "val lambda357 = {a0: Int -> println(\"a0: $a0\")}\n",
      "val lambda358 = {a0: Int -> println(\"a0: $a0\")}\n",
      "val lambda359 = {a0: Int -> println(\"a0: $a0\")}\n",
      "val lambda360 = {a0: Int -> println(\"a0: $a0\")}\n",
      "val lambda361 = {a0: Int -> println(\"a0: $a0\")}\n",
      "val lambda362 = {a0: Int -> println(\"a0: $a0\")}\n",
      "val lambda363 = {a0: Int -> println(\"a0: $a0\")}\n",
      "val lambda364 = {a0: Int -> println(\"a0: $a0\")}\n",
      "val lambda365 = {a0: Int -> println(\"a0: $a0\")}\n",
      "val lambda366 = {a0: Int -> println(\"a0: $a0\")}\n",
      "val lambda367 = {a0: Int -> println(\"a0: $a0\")}\n",
      "val lambda368 = {a0: Int -> println(\"a0: $a0\")}\n",
      "val lambda369 = {a0: Int -> println(\"a0: $a0\")}\n",
      "val lambda370 = {a0: Int -> println(\"a0: $a0\")}\n",
      "val lambda371 = {a0: Int -> println(\"a0: $a0\")}\n",
      "val lambda372 = {a0: Int -> println(\"a0: $a0\")}\n",
      "val lambda373 = {a0: Int -> println(\"a0: $a0\")}\n",
      "val lambda374 = {a0: Int -> println(\"a0: $a0\")}\n",
      "val lambda375 = {a0: Int -> println(\"a0: $a0\")}\n",
      "val lambda376 = {a0: Int -> println(\"a0: $a0\")}\n",
      "val lambda377 = {a0: Int -> println(\"a0: $a0\")}\n",
      "val lambda378 = {a0: Int -> println(\"a0: $a0\")}\n",
      "val lambda379 = {a0: Int -> println(\"a0: $a0\")}\n",
      "val lambda380 = {a0: Int -> println(\"a0: $a0\")}\n",
      "val lambda381 = {a0: Int -> println(\"a0: $a0\")}\n",
      "val lambda382 = {a0: Int -> println(\"a0: $a0\")}\n",
      "val lambda383 = {a0: Int -> println(\"a0: $a0\")}\n",
      "val lambda384 = {a0: Int -> println(\"a0: $a0\")}\n",
      "val lambda385 = {a0: Int -> println(\"a0: $a0\")}\n",
      "val lambda386 = {a0: Int -> println(\"a0: $a0\")}\n",
      "val lambda387 = {a0: Int -> println(\"a0: $a0\")}\n",
      "val lambda388 = {a0: Int -> println(\"a0: $a0\")}\n",
      "val lambda389 = {a0: Int -> println(\"a0: $a0\")}\n",
      "val lambda390 = {a0: Int -> println(\"a0: $a0\")}\n",
      "val lambda391 = {a0: Int -> println(\"a0: $a0\")}\n",
      "val lambda392 = {a0: Int -> println(\"a0: $a0\")}\n",
      "val lambda393 = {a0: Int -> println(\"a0: $a0\")}\n",
      "val lambda394 = {a0: Int -> println(\"a0: $a0\")}\n",
      "val lambda395 = {a0: Int -> println(\"a0: $a0\")}\n",
      "val lambda396 = {a0: Int -> println(\"a0: $a0\")}\n",
      "val lambda397 = {a0: Int -> println(\"a0: $a0\")}\n",
      "val lambda398 = {a0: Int -> println(\"a0: $a0\")}\n",
      "val lambda399 = {a0: Int -> println(\"a0: $a0\")}\n",
      "val lambda400 = {a0: Int -> println(\"a0: $a0\")}\n",
      "val lambda401 = {a0: Int -> println(\"a0: $a0\")}\n",
      "val lambda402 = {a0: Int -> println(\"a0: $a0\")}\n",
      "val lambda403 = {a0: Int -> println(\"a0: $a0\")}\n",
      "val lambda404 = {a0: Int -> println(\"a0: $a0\")}\n",
      "val lambda405 = {a0: Int -> println(\"a0: $a0\")}\n",
      "val lambda406 = {a0: Int -> println(\"a0: $a0\")}\n",
      "val lambda407 = {a0: Int -> println(\"a0: $a0\")}\n",
      "val lambda408 = {a0: Int -> println(\"a0: $a0\")}\n",
      "val lambda409 = {a0: Int -> println(\"a0: $a0\")}\n",
      "val lambda410 = {a0: Int -> println(\"a0: $a0\")}\n",
      "val lambda411 = {a0: Int -> println(\"a0: $a0\")}\n",
      "val lambda412 = {a0: Int -> println(\"a0: $a0\")}\n",
      "val lambda413 = {a0: Int -> println(\"a0: $a0\")}\n",
      "val lambda414 = {a0: Int -> println(\"a0: $a0\")}\n",
      "val lambda415 = {a0: Int -> println(\"a0: $a0\")}\n",
      "val lambda416 = {a0: Int -> println(\"a0: $a0\")}\n",
      "val lambda417 = {a0: Int -> println(\"a0: $a0\")}\n",
      "val lambda418 = {a0: Int -> println(\"a0: $a0\")}\n",
      "val lambda419 = {a0: Int -> println(\"a0: $a0\")}\n",
      "val lambda420 = {a0: Int -> println(\"a0: $a0\")}\n",
      "val lambda421 = {a0: Int -> println(\"a0: $a0\")}\n",
      "val lambda422 = {a0: Int -> println(\"a0: $a0\")}\n",
      "val lambda423 = {a0: Int -> println(\"a0: $a0\")}\n",
      "val lambda424 = {a0: Int -> println(\"a0: $a0\")}\n",
      "val lambda425 = {a0: Int -> println(\"a0: $a0\")}\n",
      "val lambda426 = {a0: Int -> println(\"a0: $a0\")}\n",
      "val lambda427 = {a0: Int -> println(\"a0: $a0\")}\n",
      "val lambda428 = {a0: Int -> println(\"a0: $a0\")}\n",
      "val lambda429 = {a0: Int -> println(\"a0: $a0\")}\n",
      "val lambda430 = {a0: Int -> println(\"a0: $a0\")}\n",
      "val lambda431 = {a0: Int -> println(\"a0: $a0\")}\n",
      "val lambda432 = {a0: Int -> println(\"a0: $a0\")}\n",
      "val lambda433 = {a0: Int -> println(\"a0: $a0\")}\n",
      "val lambda434 = {a0: Int -> println(\"a0: $a0\")}\n",
      "val lambda435 = {a0: Int -> println(\"a0: $a0\")}\n",
      "val lambda436 = {a0: Int -> println(\"a0: $a0\")}\n",
      "val lambda437 = {a0: Int -> println(\"a0: $a0\")}\n",
      "val lambda438 = {a0: Int -> println(\"a0: $a0\")}\n",
      "val lambda439 = {a0: Int -> println(\"a0: $a0\")}\n",
      "val lambda440 = {a0: Int -> println(\"a0: $a0\")}\n",
      "val lambda441 = {a0: Int -> println(\"a0: $a0\")}\n",
      "val lambda442 = {a0: Int -> println(\"a0: $a0\")}\n",
      "val lambda443 = {a0: Int -> println(\"a0: $a0\")}\n",
      "val lambda444 = {a0: Int -> println(\"a0: $a0\")}\n",
      "val lambda445 = {a0: Int -> println(\"a0: $a0\")}\n",
      "val lambda446 = {a0: Int -> println(\"a0: $a0\")}\n",
      "val lambda447 = {a0: Int -> println(\"a0: $a0\")}\n",
      "val lambda448 = {a0: Int -> println(\"a0: $a0\")}\n",
      "val lambda449 = {a0: Int -> println(\"a0: $a0\")}\n",
      "val lambda450 = {a0: Int -> println(\"a0: $a0\")}\n",
      "val lambda451 = {a0: Int -> println(\"a0: $a0\")}\n",
      "val lambda452 = {a0: Int -> println(\"a0: $a0\")}\n",
      "val lambda453 = {a0: Int -> println(\"a0: $a0\")}\n",
      "val lambda454 = {a0: Int -> println(\"a0: $a0\")}\n",
      "val lambda455 = {a0: Int -> println(\"a0: $a0\")}\n",
      "val lambda456 = {a0: Int -> println(\"a0: $a0\")}\n",
      "val lambda457 = {a0: Int -> println(\"a0: $a0\")}\n",
      "val lambda458 = {a0: Int -> println(\"a0: $a0\")}\n",
      "val lambda459 = {a0: Int -> println(\"a0: $a0\")}\n",
      "val lambda460 = {a0: Int -> println(\"a0: $a0\")}\n",
      "val lambda461 = {a0: Int -> println(\"a0: $a0\")}\n",
      "val lambda462 = {a0: Int -> println(\"a0: $a0\")}\n",
      "val lambda463 = {a0: Int -> println(\"a0: $a0\")}\n",
      "val lambda464 = {a0: Int -> println(\"a0: $a0\")}\n",
      "val lambda465 = {a0: Int -> println(\"a0: $a0\")}\n",
      "val lambda466 = {a0: Int -> println(\"a0: $a0\")}\n",
      "val lambda467 = {a0: Int -> println(\"a0: $a0\")}\n",
      "val lambda468 = {a0: Int -> println(\"a0: $a0\")}\n",
      "val lambda469 = {a0: Int -> println(\"a0: $a0\")}\n",
      "val lambda470 = {a0: Int -> println(\"a0: $a0\")}\n",
      "val lambda471 = {a0: Int -> println(\"a0: $a0\")}\n",
      "val lambda472 = {a0: Int -> println(\"a0: $a0\")}\n",
      "val lambda473 = {a0: Int -> println(\"a0: $a0\")}\n",
      "val lambda474 = {a0: Int -> println(\"a0: $a0\")}\n",
      "val lambda475 = {a0: Int -> println(\"a0: $a0\")}\n",
      "val lambda476 = {a0: Int -> println(\"a0: $a0\")}\n",
      "val lambda477 = {a0: Int -> println(\"a0: $a0\")}\n",
      "val lambda478 = {a0: Int -> println(\"a0: $a0\")}\n",
      "val lambda479 = {a0: Int -> println(\"a0: $a0\")}\n",
      "val lambda480 = {a0: Int -> println(\"a0: $a0\")}\n",
      "val lambda481 = {a0: Int -> println(\"a0: $a0\")}\n",
      "val lambda482 = {a0: Int -> println(\"a0: $a0\")}\n",
      "val lambda483 = {a0: Int -> println(\"a0: $a0\")}\n",
      "val lambda484 = {a0: Int -> println(\"a0: $a0\")}\n",
      "val lambda485 = {a0: Int -> println(\"a0: $a0\")}\n",
      "val lambda486 = {a0: Int -> println(\"a0: $a0\")}\n",
      "val lambda487 = {a0: Int -> println(\"a0: $a0\")}\n",
      "val lambda488 = {a0: Int -> println(\"a0: $a0\")}\n",
      "val lambda489 = {a0: Int -> println(\"a0: $a0\")}\n",
      "val lambda490 = {a0: Int -> println(\"a0: $a0\")}\n",
      "val lambda491 = {a0: Int -> println(\"a0: $a0\")}\n",
      "val lambda492 = {a0: Int -> println(\"a0: $a0\")}\n",
      "val lambda493 = {a0: Int -> println(\"a0: $a0\")}\n",
      "val lambda494 = {a0: Int -> println(\"a0: $a0\")}\n",
      "val lambda495 = {a0: Int -> println(\"a0: $a0\")}\n",
      "val lambda496 = {a0: Int -> println(\"a0: $a0\")}\n",
      "val lambda497 = {a0: Int -> println(\"a0: $a0\")}\n",
      "val lambda498 = {a0: Int -> println(\"a0: $a0\")}\n",
      "val lambda499 = {a0: Int -> println(\"a0: $a0\")}\n"
     ]
    }
   ],
   "source": [
    "for i in range(500):\n",
    "    lambdaDef = generate_lambda(1, \"println(\\\"a0: $a0\\\")\")\n",
    "    print(f\"val lambda{i} = {lambdaDef}\")"
   ]
  },
  {
   "cell_type": "markdown",
   "id": "distinguished-spanking",
   "metadata": {},
   "source": [
    "# New performance analysis (16/5) (Ubuntu)"
   ]
  },
  {
   "cell_type": "code",
   "execution_count": 2,
   "id": "pleasant-tuesday",
   "metadata": {},
   "outputs": [],
   "source": [
    "from scipy import stats\n",
    "import pandas as pd\n",
    "import matplotlib.pyplot as plt"
   ]
  },
  {
   "cell_type": "code",
   "execution_count": 3,
   "id": "prepared-photography",
   "metadata": {},
   "outputs": [],
   "source": [
    "data    = pd.read_csv(\"test/ubuntu/benchmark.csv\")\n",
    "data_lg = pd.read_csv(\"test-lambda-groups/ubuntu/benchmark.csv\")\n",
    "data_pg    = pd.read_csv(\"test-pg-lambda-groups/ubuntu/benchmark.csv\")\n",
    "data_r8 = pd.read_csv(\"test-r8/ubuntu/benchmark.csv\")"
   ]
  },
  {
   "cell_type": "code",
   "execution_count": 4,
   "id": "respiratory-turning",
   "metadata": {},
   "outputs": [],
   "source": [
    "data[\"jfr_benchmark\"] = data[\"Benchmark\"].apply(lambda val: \"jfr\" in val)\n",
    "data_lg[\"jfr_benchmark\"] = data_lg[\"Benchmark\"].apply(lambda val: \"jfr\" in val)"
   ]
  },
  {
   "cell_type": "code",
   "execution_count": 5,
   "id": "standing-miniature",
   "metadata": {},
   "outputs": [],
   "source": [
    "data    = data.query(\"not jfr_benchmark\")\n",
    "data_lg = data_lg.query(\"not jfr_benchmark\")"
   ]
  },
  {
   "cell_type": "code",
   "execution_count": 6,
   "id": "several-marsh",
   "metadata": {},
   "outputs": [],
   "source": [
    "replace_comma_for_dot = lambda val: float(str(val).replace(\",\", \".\"))"
   ]
  },
  {
   "cell_type": "code",
   "execution_count": 7,
   "id": "flush-doubt",
   "metadata": {},
   "outputs": [],
   "source": [
    "def replace_comma_for_dot_in_column(data, column):\n",
    "    data[column] = data[column].apply(replace_comma_for_dot)"
   ]
  },
  {
   "cell_type": "code",
   "execution_count": 8,
   "id": "protected-watts",
   "metadata": {},
   "outputs": [],
   "source": [
    "def replace_comma_for_dot_in_score_column(data):\n",
    "    return replace_comma_for_dot_in_column(data, \"Score\")"
   ]
  },
  {
   "cell_type": "code",
   "execution_count": 9,
   "id": "hollow-legend",
   "metadata": {},
   "outputs": [],
   "source": [
    "def df_to_name(df, index) -> str:\n",
    "    if index == 0: # or df == data:\n",
    "        return \"No transformations\"\n",
    "    elif index == 1: # or df == data_lg:\n",
    "        return \"ProGuard with lambda merging\"\n",
    "    elif index == 2: # or df == data_pg:\n",
    "        return \"ProGuard with shrinking, lambda merging and optimisation\"\n",
    "    elif index == 3: # or df == data_r8:\n",
    "        return \"R8 with shrinking and optimisation (target: dex)\"\n",
    "    else:\n",
    "        return \"Unknown dataframe\""
   ]
  },
  {
   "cell_type": "code",
   "execution_count": 10,
   "id": "meaning-failure",
   "metadata": {},
   "outputs": [],
   "source": [
    "def apply_to_each_dataframe(function, print_df_name=False):\n",
    "    for index, df in enumerate([data, data_lg, data_pg, data_r8]):\n",
    "        if print_df_name:\n",
    "            print(df_to_name(df, index))\n",
    "            function(df, df_to_name(df, index))\n",
    "        else:\n",
    "            function(df)"
   ]
  },
  {
   "cell_type": "code",
   "execution_count": 11,
   "id": "cultural-beijing",
   "metadata": {},
   "outputs": [],
   "source": [
    "apply_to_each_dataframe(replace_comma_for_dot_in_score_column)"
   ]
  },
  {
   "cell_type": "code",
   "execution_count": 12,
   "id": "disabled-triple",
   "metadata": {},
   "outputs": [],
   "source": [
    "def replace_comma_for_dot_in_error_column(data):\n",
    "    return replace_comma_for_dot_in_column(data, \"Score Error (99,9%)\")"
   ]
  },
  {
   "cell_type": "code",
   "execution_count": 13,
   "id": "signal-blogger",
   "metadata": {},
   "outputs": [],
   "source": [
    "apply_to_each_dataframe(replace_comma_for_dot_in_error_column)"
   ]
  },
  {
   "cell_type": "code",
   "execution_count": 14,
   "id": "employed-tuner",
   "metadata": {},
   "outputs": [
    {
     "data": {
      "text/html": [
       "<div>\n",
       "<style scoped>\n",
       "    .dataframe tbody tr th:only-of-type {\n",
       "        vertical-align: middle;\n",
       "    }\n",
       "\n",
       "    .dataframe tbody tr th {\n",
       "        vertical-align: top;\n",
       "    }\n",
       "\n",
       "    .dataframe thead th {\n",
       "        text-align: right;\n",
       "    }\n",
       "</style>\n",
       "<table border=\"1\" class=\"dataframe\">\n",
       "  <thead>\n",
       "    <tr style=\"text-align: right;\">\n",
       "      <th></th>\n",
       "      <th>Benchmark</th>\n",
       "      <th>Mode</th>\n",
       "      <th>Threads</th>\n",
       "      <th>Samples</th>\n",
       "      <th>Score</th>\n",
       "      <th>Score Error (99,9%)</th>\n",
       "      <th>Unit</th>\n",
       "      <th>jfr_benchmark</th>\n",
       "    </tr>\n",
       "  </thead>\n",
       "  <tbody>\n",
       "    <tr>\n",
       "      <th>0</th>\n",
       "      <td>test.MyBenchmark.closure2FreeVariables3Million...</td>\n",
       "      <td>thrpt</td>\n",
       "      <td>1</td>\n",
       "      <td>25</td>\n",
       "      <td>42.163108</td>\n",
       "      <td>0.068939</td>\n",
       "      <td>ops/s</td>\n",
       "      <td>False</td>\n",
       "    </tr>\n",
       "    <tr>\n",
       "      <th>1</th>\n",
       "      <td>test.MyBenchmark.closure6FreeVariables3Million...</td>\n",
       "      <td>thrpt</td>\n",
       "      <td>1</td>\n",
       "      <td>25</td>\n",
       "      <td>26.177601</td>\n",
       "      <td>0.042845</td>\n",
       "      <td>ops/s</td>\n",
       "      <td>False</td>\n",
       "    </tr>\n",
       "    <tr>\n",
       "      <th>2</th>\n",
       "      <td>test.MyBenchmark.closure9FreeVariables3Million...</td>\n",
       "      <td>thrpt</td>\n",
       "      <td>1</td>\n",
       "      <td>25</td>\n",
       "      <td>18.807198</td>\n",
       "      <td>0.009070</td>\n",
       "      <td>ops/s</td>\n",
       "      <td>False</td>\n",
       "    </tr>\n",
       "    <tr>\n",
       "      <th>3</th>\n",
       "      <td>test.MyBenchmark.closure13FreeVariables3Millio...</td>\n",
       "      <td>thrpt</td>\n",
       "      <td>1</td>\n",
       "      <td>25</td>\n",
       "      <td>13.604294</td>\n",
       "      <td>0.103989</td>\n",
       "      <td>ops/s</td>\n",
       "      <td>False</td>\n",
       "    </tr>\n",
       "    <tr>\n",
       "      <th>4</th>\n",
       "      <td>test.MyBenchmark.closure16FreeVariables3Millio...</td>\n",
       "      <td>thrpt</td>\n",
       "      <td>1</td>\n",
       "      <td>25</td>\n",
       "      <td>11.811881</td>\n",
       "      <td>0.008830</td>\n",
       "      <td>ops/s</td>\n",
       "      <td>False</td>\n",
       "    </tr>\n",
       "  </tbody>\n",
       "</table>\n",
       "</div>"
      ],
      "text/plain": [
       "                                           Benchmark   Mode  Threads  Samples  \\\n",
       "0  test.MyBenchmark.closure2FreeVariables3Million...  thrpt        1       25   \n",
       "1  test.MyBenchmark.closure6FreeVariables3Million...  thrpt        1       25   \n",
       "2  test.MyBenchmark.closure9FreeVariables3Million...  thrpt        1       25   \n",
       "3  test.MyBenchmark.closure13FreeVariables3Millio...  thrpt        1       25   \n",
       "4  test.MyBenchmark.closure16FreeVariables3Millio...  thrpt        1       25   \n",
       "\n",
       "       Score  Score Error (99,9%)   Unit  jfr_benchmark  \n",
       "0  42.163108             0.068939  ops/s          False  \n",
       "1  26.177601             0.042845  ops/s          False  \n",
       "2  18.807198             0.009070  ops/s          False  \n",
       "3  13.604294             0.103989  ops/s          False  \n",
       "4  11.811881             0.008830  ops/s          False  "
      ]
     },
     "execution_count": 14,
     "metadata": {},
     "output_type": "execute_result"
    }
   ],
   "source": [
    "data.head()"
   ]
  },
  {
   "cell_type": "code",
   "execution_count": 15,
   "id": "rental-copper",
   "metadata": {},
   "outputs": [
    {
     "data": {
      "text/html": [
       "<div>\n",
       "<style scoped>\n",
       "    .dataframe tbody tr th:only-of-type {\n",
       "        vertical-align: middle;\n",
       "    }\n",
       "\n",
       "    .dataframe tbody tr th {\n",
       "        vertical-align: top;\n",
       "    }\n",
       "\n",
       "    .dataframe thead th {\n",
       "        text-align: right;\n",
       "    }\n",
       "</style>\n",
       "<table border=\"1\" class=\"dataframe\">\n",
       "  <thead>\n",
       "    <tr style=\"text-align: right;\">\n",
       "      <th></th>\n",
       "      <th>Benchmark</th>\n",
       "      <th>Mode</th>\n",
       "      <th>Threads</th>\n",
       "      <th>Samples</th>\n",
       "      <th>Score</th>\n",
       "      <th>Score Error (99,9%)</th>\n",
       "      <th>Unit</th>\n",
       "      <th>jfr_benchmark</th>\n",
       "    </tr>\n",
       "  </thead>\n",
       "  <tbody>\n",
       "    <tr>\n",
       "      <th>0</th>\n",
       "      <td>test.MyBenchmark.emptyClosure13Arguments3Milli...</td>\n",
       "      <td>thrpt</td>\n",
       "      <td>1</td>\n",
       "      <td>25</td>\n",
       "      <td>1.359417e+01</td>\n",
       "      <td>0.084804</td>\n",
       "      <td>ops/s</td>\n",
       "      <td>False</td>\n",
       "    </tr>\n",
       "    <tr>\n",
       "      <th>1</th>\n",
       "      <td>test.MyBenchmark.emptyClosure16Arguments3Milli...</td>\n",
       "      <td>thrpt</td>\n",
       "      <td>1</td>\n",
       "      <td>25</td>\n",
       "      <td>9.929137e+00</td>\n",
       "      <td>0.288628</td>\n",
       "      <td>ops/s</td>\n",
       "      <td>False</td>\n",
       "    </tr>\n",
       "    <tr>\n",
       "      <th>2</th>\n",
       "      <td>test.MyBenchmark.emptyClosure2Arguments3Millio...</td>\n",
       "      <td>thrpt</td>\n",
       "      <td>1</td>\n",
       "      <td>25</td>\n",
       "      <td>9.962950e+08</td>\n",
       "      <td>30233.861638</td>\n",
       "      <td>ops/s</td>\n",
       "      <td>False</td>\n",
       "    </tr>\n",
       "    <tr>\n",
       "      <th>3</th>\n",
       "      <td>test.MyBenchmark.emptyClosure6Arguments3Millio...</td>\n",
       "      <td>thrpt</td>\n",
       "      <td>1</td>\n",
       "      <td>25</td>\n",
       "      <td>9.960183e+08</td>\n",
       "      <td>963534.060782</td>\n",
       "      <td>ops/s</td>\n",
       "      <td>False</td>\n",
       "    </tr>\n",
       "    <tr>\n",
       "      <th>4</th>\n",
       "      <td>test.MyBenchmark.emptyClosure9Arguments3Millio...</td>\n",
       "      <td>thrpt</td>\n",
       "      <td>1</td>\n",
       "      <td>25</td>\n",
       "      <td>2.399210e+01</td>\n",
       "      <td>0.169623</td>\n",
       "      <td>ops/s</td>\n",
       "      <td>False</td>\n",
       "    </tr>\n",
       "  </tbody>\n",
       "</table>\n",
       "</div>"
      ],
      "text/plain": [
       "                                           Benchmark   Mode  Threads  Samples  \\\n",
       "0  test.MyBenchmark.emptyClosure13Arguments3Milli...  thrpt        1       25   \n",
       "1  test.MyBenchmark.emptyClosure16Arguments3Milli...  thrpt        1       25   \n",
       "2  test.MyBenchmark.emptyClosure2Arguments3Millio...  thrpt        1       25   \n",
       "3  test.MyBenchmark.emptyClosure6Arguments3Millio...  thrpt        1       25   \n",
       "4  test.MyBenchmark.emptyClosure9Arguments3Millio...  thrpt        1       25   \n",
       "\n",
       "          Score  Score Error (99,9%)   Unit  jfr_benchmark  \n",
       "0  1.359417e+01             0.084804  ops/s          False  \n",
       "1  9.929137e+00             0.288628  ops/s          False  \n",
       "2  9.962950e+08         30233.861638  ops/s          False  \n",
       "3  9.960183e+08        963534.060782  ops/s          False  \n",
       "4  2.399210e+01             0.169623  ops/s          False  "
      ]
     },
     "execution_count": 15,
     "metadata": {},
     "output_type": "execute_result"
    }
   ],
   "source": [
    "data_lg.head()"
   ]
  },
  {
   "cell_type": "code",
   "execution_count": 16,
   "id": "motivated-apple",
   "metadata": {},
   "outputs": [
    {
     "data": {
      "text/html": [
       "<div>\n",
       "<style scoped>\n",
       "    .dataframe tbody tr th:only-of-type {\n",
       "        vertical-align: middle;\n",
       "    }\n",
       "\n",
       "    .dataframe tbody tr th {\n",
       "        vertical-align: top;\n",
       "    }\n",
       "\n",
       "    .dataframe thead th {\n",
       "        text-align: right;\n",
       "    }\n",
       "</style>\n",
       "<table border=\"1\" class=\"dataframe\">\n",
       "  <thead>\n",
       "    <tr style=\"text-align: right;\">\n",
       "      <th></th>\n",
       "      <th>Benchmark</th>\n",
       "      <th>Mode</th>\n",
       "      <th>Threads</th>\n",
       "      <th>Samples</th>\n",
       "      <th>Score</th>\n",
       "      <th>Score Error (99,9%)</th>\n",
       "      <th>Unit</th>\n",
       "    </tr>\n",
       "  </thead>\n",
       "  <tbody>\n",
       "    <tr>\n",
       "      <th>0</th>\n",
       "      <td>test.MyBenchmark.closure11FreeVariables3Millio...</td>\n",
       "      <td>thrpt</td>\n",
       "      <td>1</td>\n",
       "      <td>25</td>\n",
       "      <td>44.242019</td>\n",
       "      <td>0.211287</td>\n",
       "      <td>ops/s</td>\n",
       "    </tr>\n",
       "    <tr>\n",
       "      <th>1</th>\n",
       "      <td>test.MyBenchmark.closure11FreeVariables3Millio...</td>\n",
       "      <td>thrpt</td>\n",
       "      <td>1</td>\n",
       "      <td>25</td>\n",
       "      <td>7.939237</td>\n",
       "      <td>0.015364</td>\n",
       "      <td>ops/s</td>\n",
       "    </tr>\n",
       "    <tr>\n",
       "      <th>2</th>\n",
       "      <td>test.MyBenchmark.closure13FreeVariables3Millio...</td>\n",
       "      <td>thrpt</td>\n",
       "      <td>1</td>\n",
       "      <td>25</td>\n",
       "      <td>41.857858</td>\n",
       "      <td>0.591009</td>\n",
       "      <td>ops/s</td>\n",
       "    </tr>\n",
       "    <tr>\n",
       "      <th>3</th>\n",
       "      <td>test.MyBenchmark.closure13FreeVariables3Millio...</td>\n",
       "      <td>thrpt</td>\n",
       "      <td>1</td>\n",
       "      <td>25</td>\n",
       "      <td>7.939407</td>\n",
       "      <td>0.006395</td>\n",
       "      <td>ops/s</td>\n",
       "    </tr>\n",
       "    <tr>\n",
       "      <th>4</th>\n",
       "      <td>test.MyBenchmark.closure15FreeVariables3Millio...</td>\n",
       "      <td>thrpt</td>\n",
       "      <td>1</td>\n",
       "      <td>25</td>\n",
       "      <td>37.952371</td>\n",
       "      <td>0.251965</td>\n",
       "      <td>ops/s</td>\n",
       "    </tr>\n",
       "  </tbody>\n",
       "</table>\n",
       "</div>"
      ],
      "text/plain": [
       "                                           Benchmark   Mode  Threads  Samples  \\\n",
       "0  test.MyBenchmark.closure11FreeVariables3Millio...  thrpt        1       25   \n",
       "1  test.MyBenchmark.closure11FreeVariables3Millio...  thrpt        1       25   \n",
       "2  test.MyBenchmark.closure13FreeVariables3Millio...  thrpt        1       25   \n",
       "3  test.MyBenchmark.closure13FreeVariables3Millio...  thrpt        1       25   \n",
       "4  test.MyBenchmark.closure15FreeVariables3Millio...  thrpt        1       25   \n",
       "\n",
       "       Score  Score Error (99,9%)   Unit  \n",
       "0  44.242019             0.211287  ops/s  \n",
       "1   7.939237             0.015364  ops/s  \n",
       "2  41.857858             0.591009  ops/s  \n",
       "3   7.939407             0.006395  ops/s  \n",
       "4  37.952371             0.251965  ops/s  "
      ]
     },
     "execution_count": 16,
     "metadata": {},
     "output_type": "execute_result"
    }
   ],
   "source": [
    "data_pg.head()"
   ]
  },
  {
   "cell_type": "code",
   "execution_count": 17,
   "id": "vulnerable-groove",
   "metadata": {},
   "outputs": [
    {
     "data": {
      "text/html": [
       "<div>\n",
       "<style scoped>\n",
       "    .dataframe tbody tr th:only-of-type {\n",
       "        vertical-align: middle;\n",
       "    }\n",
       "\n",
       "    .dataframe tbody tr th {\n",
       "        vertical-align: top;\n",
       "    }\n",
       "\n",
       "    .dataframe thead th {\n",
       "        text-align: right;\n",
       "    }\n",
       "</style>\n",
       "<table border=\"1\" class=\"dataframe\">\n",
       "  <thead>\n",
       "    <tr style=\"text-align: right;\">\n",
       "      <th></th>\n",
       "      <th>Benchmark</th>\n",
       "      <th>Mode</th>\n",
       "      <th>Threads</th>\n",
       "      <th>Samples</th>\n",
       "      <th>Score</th>\n",
       "      <th>Score Error (99,9%)</th>\n",
       "      <th>Unit</th>\n",
       "    </tr>\n",
       "  </thead>\n",
       "  <tbody>\n",
       "    <tr>\n",
       "      <th>0</th>\n",
       "      <td>test.MyBenchmark.closure11FreeVariables3Millio...</td>\n",
       "      <td>thrpt</td>\n",
       "      <td>1</td>\n",
       "      <td>25</td>\n",
       "      <td>9.962956e+08</td>\n",
       "      <td>43826.423892</td>\n",
       "      <td>ops/s</td>\n",
       "    </tr>\n",
       "    <tr>\n",
       "      <th>1</th>\n",
       "      <td>test.MyBenchmark.closure11FreeVariables3Millio...</td>\n",
       "      <td>thrpt</td>\n",
       "      <td>1</td>\n",
       "      <td>25</td>\n",
       "      <td>4.157351e+01</td>\n",
       "      <td>0.083068</td>\n",
       "      <td>ops/s</td>\n",
       "    </tr>\n",
       "    <tr>\n",
       "      <th>2</th>\n",
       "      <td>test.MyBenchmark.closure13FreeVariables3Millio...</td>\n",
       "      <td>thrpt</td>\n",
       "      <td>1</td>\n",
       "      <td>25</td>\n",
       "      <td>9.962720e+08</td>\n",
       "      <td>56990.956333</td>\n",
       "      <td>ops/s</td>\n",
       "    </tr>\n",
       "    <tr>\n",
       "      <th>3</th>\n",
       "      <td>test.MyBenchmark.closure13FreeVariables3Millio...</td>\n",
       "      <td>thrpt</td>\n",
       "      <td>1</td>\n",
       "      <td>25</td>\n",
       "      <td>4.126793e+01</td>\n",
       "      <td>0.122207</td>\n",
       "      <td>ops/s</td>\n",
       "    </tr>\n",
       "    <tr>\n",
       "      <th>4</th>\n",
       "      <td>test.MyBenchmark.closure15FreeVariables3Millio...</td>\n",
       "      <td>thrpt</td>\n",
       "      <td>1</td>\n",
       "      <td>25</td>\n",
       "      <td>9.962781e+08</td>\n",
       "      <td>55454.696529</td>\n",
       "      <td>ops/s</td>\n",
       "    </tr>\n",
       "  </tbody>\n",
       "</table>\n",
       "</div>"
      ],
      "text/plain": [
       "                                           Benchmark   Mode  Threads  Samples  \\\n",
       "0  test.MyBenchmark.closure11FreeVariables3Millio...  thrpt        1       25   \n",
       "1  test.MyBenchmark.closure11FreeVariables3Millio...  thrpt        1       25   \n",
       "2  test.MyBenchmark.closure13FreeVariables3Millio...  thrpt        1       25   \n",
       "3  test.MyBenchmark.closure13FreeVariables3Millio...  thrpt        1       25   \n",
       "4  test.MyBenchmark.closure15FreeVariables3Millio...  thrpt        1       25   \n",
       "\n",
       "          Score  Score Error (99,9%)   Unit  \n",
       "0  9.962956e+08         43826.423892  ops/s  \n",
       "1  4.157351e+01             0.083068  ops/s  \n",
       "2  9.962720e+08         56990.956333  ops/s  \n",
       "3  4.126793e+01             0.122207  ops/s  \n",
       "4  9.962781e+08         55454.696529  ops/s  "
      ]
     },
     "execution_count": 17,
     "metadata": {},
     "output_type": "execute_result"
    }
   ],
   "source": [
    "data_r8.head()"
   ]
  },
  {
   "cell_type": "code",
   "execution_count": 18,
   "id": "living-wright",
   "metadata": {},
   "outputs": [],
   "source": [
    "def calculate_error_bounds(data):\n",
    "    data[\"Score - error\"] = data[\"Score\"] - data[\"Score Error (99,9%)\"]\n",
    "    data[\"Score + error\"] = data[\"Score\"] + data[\"Score Error (99,9%)\"]"
   ]
  },
  {
   "cell_type": "code",
   "execution_count": 19,
   "id": "pacific-referral",
   "metadata": {},
   "outputs": [],
   "source": [
    "apply_to_each_dataframe(calculate_error_bounds)"
   ]
  },
  {
   "cell_type": "code",
   "execution_count": 20,
   "id": "accurate-slope",
   "metadata": {},
   "outputs": [],
   "source": [
    "calculate_inverse = lambda val: val**(-1)"
   ]
  },
  {
   "cell_type": "code",
   "execution_count": 21,
   "id": "parental-design",
   "metadata": {},
   "outputs": [],
   "source": [
    "def calculate_inverse_scores(data):\n",
    "    data[\"inverse score\"] = data[\"Score\"].apply(calculate_inverse)\n",
    "    data[\"inverse lower score\"] = data[\"Score - error\"].apply(calculate_inverse)\n",
    "    data[\"inverse upper score\"] = data[\"Score + error\"].apply(calculate_inverse)"
   ]
  },
  {
   "cell_type": "code",
   "execution_count": 22,
   "id": "sixth-deficit",
   "metadata": {},
   "outputs": [],
   "source": [
    "apply_to_each_dataframe(calculate_inverse_scores)"
   ]
  },
  {
   "cell_type": "code",
   "execution_count": 23,
   "id": "parliamentary-harvest",
   "metadata": {},
   "outputs": [],
   "source": [
    "def get_closure_size_from_benchmark(benchmark):\n",
    "    benchmark = benchmark.replace(\"InstantiationsAnd\", \"\")\n",
    "    benchmark = benchmark.replace(\"test.MyBenchmark.closure\", \"\")\n",
    "    benchmark = benchmark.replace(\"FreeVariables3MillionCalls\", \"\")\n",
    "    benchmark = benchmark.replace(\"FreeVariables3MillionInstantiations\", \"\")\n",
    "    try:\n",
    "        closure_size = int(benchmark)\n",
    "        return closure_size\n",
    "    except Exception as exc:\n",
    "        return 0"
   ]
  },
  {
   "cell_type": "code",
   "execution_count": 24,
   "id": "constant-macintosh",
   "metadata": {},
   "outputs": [],
   "source": [
    "def get_arity_from_benchmark(benchmark):\n",
    "    benchmark = benchmark.replace(\"InstantiationsAnd\", \"\")\n",
    "    benchmark = benchmark.replace(\"test.MyBenchmark.emptyClosure\", \"\")\n",
    "    benchmark = benchmark.replace(\"Arguments3MillionCalls\", \"\")\n",
    "    try:\n",
    "        arity = int(benchmark)\n",
    "        return arity\n",
    "    except Exception:\n",
    "        return 0"
   ]
  },
  {
   "cell_type": "code",
   "execution_count": 25,
   "id": "loving-serum",
   "metadata": {},
   "outputs": [],
   "source": [
    "def add_closure_size(data):\n",
    "    data[\"closure_size\"] = data[\"Benchmark\"].apply(get_closure_size_from_benchmark)"
   ]
  },
  {
   "cell_type": "code",
   "execution_count": 26,
   "id": "governing-webster",
   "metadata": {},
   "outputs": [],
   "source": [
    "def add_arity(data):\n",
    "    data[\"arity\"] = data[\"Benchmark\"].apply(get_arity_from_benchmark)"
   ]
  },
  {
   "cell_type": "code",
   "execution_count": 27,
   "id": "greater-stocks",
   "metadata": {},
   "outputs": [],
   "source": [
    "apply_to_each_dataframe(add_closure_size)\n",
    "apply_to_each_dataframe(add_arity)"
   ]
  },
  {
   "cell_type": "code",
   "execution_count": 28,
   "id": "damaged-exclusive",
   "metadata": {},
   "outputs": [],
   "source": [
    "def add_test_type(data):\n",
    "    data[\"closure_test\"] = data[\"Benchmark\"].apply(lambda val: val.startswith(\"test.MyBenchmark.closure\") and \"FreeVariables\" in val)\n",
    "    data[\"arity_test\"] = data[\"Benchmark\"].apply(lambda val: val.startswith(\"test.MyBenchmark.emptyClosure\") and \"Arguments3Million\" in val)\n",
    "    data[\"instantiation_test\"] = data[\"Benchmark\"].apply(lambda val: \"Instantiations\" in val)\n",
    "    data[\"invocation_test\"] = data[\"Benchmark\"].apply(lambda val: \"Calls\" in val)"
   ]
  },
  {
   "cell_type": "code",
   "execution_count": 29,
   "id": "aerial-resource",
   "metadata": {},
   "outputs": [],
   "source": [
    "apply_to_each_dataframe(add_test_type)"
   ]
  },
  {
   "cell_type": "code",
   "execution_count": 30,
   "id": "promising-football",
   "metadata": {},
   "outputs": [
    {
     "data": {
      "text/html": [
       "<div>\n",
       "<style scoped>\n",
       "    .dataframe tbody tr th:only-of-type {\n",
       "        vertical-align: middle;\n",
       "    }\n",
       "\n",
       "    .dataframe tbody tr th {\n",
       "        vertical-align: top;\n",
       "    }\n",
       "\n",
       "    .dataframe thead th {\n",
       "        text-align: right;\n",
       "    }\n",
       "</style>\n",
       "<table border=\"1\" class=\"dataframe\">\n",
       "  <thead>\n",
       "    <tr style=\"text-align: right;\">\n",
       "      <th></th>\n",
       "      <th>Benchmark</th>\n",
       "      <th>closure_size</th>\n",
       "      <th>arity</th>\n",
       "      <th>closure_test</th>\n",
       "      <th>arity_test</th>\n",
       "      <th>instantiation_test</th>\n",
       "      <th>invocation_test</th>\n",
       "    </tr>\n",
       "  </thead>\n",
       "  <tbody>\n",
       "    <tr>\n",
       "      <th>0</th>\n",
       "      <td>test.MyBenchmark.closure2FreeVariables3Million...</td>\n",
       "      <td>2</td>\n",
       "      <td>0</td>\n",
       "      <td>True</td>\n",
       "      <td>False</td>\n",
       "      <td>True</td>\n",
       "      <td>False</td>\n",
       "    </tr>\n",
       "    <tr>\n",
       "      <th>1</th>\n",
       "      <td>test.MyBenchmark.closure6FreeVariables3Million...</td>\n",
       "      <td>6</td>\n",
       "      <td>0</td>\n",
       "      <td>True</td>\n",
       "      <td>False</td>\n",
       "      <td>True</td>\n",
       "      <td>False</td>\n",
       "    </tr>\n",
       "    <tr>\n",
       "      <th>2</th>\n",
       "      <td>test.MyBenchmark.closure9FreeVariables3Million...</td>\n",
       "      <td>9</td>\n",
       "      <td>0</td>\n",
       "      <td>True</td>\n",
       "      <td>False</td>\n",
       "      <td>True</td>\n",
       "      <td>False</td>\n",
       "    </tr>\n",
       "    <tr>\n",
       "      <th>3</th>\n",
       "      <td>test.MyBenchmark.closure13FreeVariables3Millio...</td>\n",
       "      <td>13</td>\n",
       "      <td>0</td>\n",
       "      <td>True</td>\n",
       "      <td>False</td>\n",
       "      <td>True</td>\n",
       "      <td>False</td>\n",
       "    </tr>\n",
       "    <tr>\n",
       "      <th>4</th>\n",
       "      <td>test.MyBenchmark.closure16FreeVariables3Millio...</td>\n",
       "      <td>16</td>\n",
       "      <td>0</td>\n",
       "      <td>True</td>\n",
       "      <td>False</td>\n",
       "      <td>True</td>\n",
       "      <td>False</td>\n",
       "    </tr>\n",
       "  </tbody>\n",
       "</table>\n",
       "</div>"
      ],
      "text/plain": [
       "                                           Benchmark  closure_size  arity  \\\n",
       "0  test.MyBenchmark.closure2FreeVariables3Million...             2      0   \n",
       "1  test.MyBenchmark.closure6FreeVariables3Million...             6      0   \n",
       "2  test.MyBenchmark.closure9FreeVariables3Million...             9      0   \n",
       "3  test.MyBenchmark.closure13FreeVariables3Millio...            13      0   \n",
       "4  test.MyBenchmark.closure16FreeVariables3Millio...            16      0   \n",
       "\n",
       "   closure_test  arity_test  instantiation_test  invocation_test  \n",
       "0          True       False                True            False  \n",
       "1          True       False                True            False  \n",
       "2          True       False                True            False  \n",
       "3          True       False                True            False  \n",
       "4          True       False                True            False  "
      ]
     },
     "execution_count": 30,
     "metadata": {},
     "output_type": "execute_result"
    }
   ],
   "source": [
    "data[[\"Benchmark\", \"closure_size\", \"arity\", \"closure_test\", \"arity_test\", \"instantiation_test\", \"invocation_test\"]].head()"
   ]
  },
  {
   "cell_type": "code",
   "execution_count": 31,
   "id": "fiscal-boston",
   "metadata": {},
   "outputs": [
    {
     "data": {
      "text/html": [
       "<div>\n",
       "<style scoped>\n",
       "    .dataframe tbody tr th:only-of-type {\n",
       "        vertical-align: middle;\n",
       "    }\n",
       "\n",
       "    .dataframe tbody tr th {\n",
       "        vertical-align: top;\n",
       "    }\n",
       "\n",
       "    .dataframe thead th {\n",
       "        text-align: right;\n",
       "    }\n",
       "</style>\n",
       "<table border=\"1\" class=\"dataframe\">\n",
       "  <thead>\n",
       "    <tr style=\"text-align: right;\">\n",
       "      <th></th>\n",
       "      <th>Benchmark</th>\n",
       "      <th>closure_size</th>\n",
       "      <th>arity</th>\n",
       "      <th>closure_test</th>\n",
       "      <th>arity_test</th>\n",
       "      <th>instantiation_test</th>\n",
       "      <th>invocation_test</th>\n",
       "    </tr>\n",
       "  </thead>\n",
       "  <tbody>\n",
       "    <tr>\n",
       "      <th>0</th>\n",
       "      <td>test.MyBenchmark.emptyClosure13Arguments3Milli...</td>\n",
       "      <td>0</td>\n",
       "      <td>13</td>\n",
       "      <td>False</td>\n",
       "      <td>True</td>\n",
       "      <td>False</td>\n",
       "      <td>True</td>\n",
       "    </tr>\n",
       "    <tr>\n",
       "      <th>1</th>\n",
       "      <td>test.MyBenchmark.emptyClosure16Arguments3Milli...</td>\n",
       "      <td>0</td>\n",
       "      <td>16</td>\n",
       "      <td>False</td>\n",
       "      <td>True</td>\n",
       "      <td>False</td>\n",
       "      <td>True</td>\n",
       "    </tr>\n",
       "    <tr>\n",
       "      <th>2</th>\n",
       "      <td>test.MyBenchmark.emptyClosure2Arguments3Millio...</td>\n",
       "      <td>0</td>\n",
       "      <td>2</td>\n",
       "      <td>False</td>\n",
       "      <td>True</td>\n",
       "      <td>False</td>\n",
       "      <td>True</td>\n",
       "    </tr>\n",
       "    <tr>\n",
       "      <th>3</th>\n",
       "      <td>test.MyBenchmark.emptyClosure6Arguments3Millio...</td>\n",
       "      <td>0</td>\n",
       "      <td>6</td>\n",
       "      <td>False</td>\n",
       "      <td>True</td>\n",
       "      <td>False</td>\n",
       "      <td>True</td>\n",
       "    </tr>\n",
       "    <tr>\n",
       "      <th>4</th>\n",
       "      <td>test.MyBenchmark.emptyClosure9Arguments3Millio...</td>\n",
       "      <td>0</td>\n",
       "      <td>9</td>\n",
       "      <td>False</td>\n",
       "      <td>True</td>\n",
       "      <td>False</td>\n",
       "      <td>True</td>\n",
       "    </tr>\n",
       "  </tbody>\n",
       "</table>\n",
       "</div>"
      ],
      "text/plain": [
       "                                           Benchmark  closure_size  arity  \\\n",
       "0  test.MyBenchmark.emptyClosure13Arguments3Milli...             0     13   \n",
       "1  test.MyBenchmark.emptyClosure16Arguments3Milli...             0     16   \n",
       "2  test.MyBenchmark.emptyClosure2Arguments3Millio...             0      2   \n",
       "3  test.MyBenchmark.emptyClosure6Arguments3Millio...             0      6   \n",
       "4  test.MyBenchmark.emptyClosure9Arguments3Millio...             0      9   \n",
       "\n",
       "   closure_test  arity_test  instantiation_test  invocation_test  \n",
       "0         False        True               False             True  \n",
       "1         False        True               False             True  \n",
       "2         False        True               False             True  \n",
       "3         False        True               False             True  \n",
       "4         False        True               False             True  "
      ]
     },
     "execution_count": 31,
     "metadata": {},
     "output_type": "execute_result"
    }
   ],
   "source": [
    "data_lg[[\"Benchmark\", \"closure_size\", \"arity\", \"closure_test\", \"arity_test\", \"instantiation_test\", \"invocation_test\"]].head()"
   ]
  },
  {
   "cell_type": "code",
   "execution_count": 32,
   "id": "developmental-moses",
   "metadata": {},
   "outputs": [
    {
     "data": {
      "text/html": [
       "<div>\n",
       "<style scoped>\n",
       "    .dataframe tbody tr th:only-of-type {\n",
       "        vertical-align: middle;\n",
       "    }\n",
       "\n",
       "    .dataframe tbody tr th {\n",
       "        vertical-align: top;\n",
       "    }\n",
       "\n",
       "    .dataframe thead th {\n",
       "        text-align: right;\n",
       "    }\n",
       "</style>\n",
       "<table border=\"1\" class=\"dataframe\">\n",
       "  <thead>\n",
       "    <tr style=\"text-align: right;\">\n",
       "      <th></th>\n",
       "      <th>Benchmark</th>\n",
       "      <th>closure_size</th>\n",
       "      <th>arity</th>\n",
       "      <th>closure_test</th>\n",
       "      <th>arity_test</th>\n",
       "      <th>instantiation_test</th>\n",
       "      <th>invocation_test</th>\n",
       "    </tr>\n",
       "  </thead>\n",
       "  <tbody>\n",
       "    <tr>\n",
       "      <th>0</th>\n",
       "      <td>test.MyBenchmark.closure11FreeVariables3Millio...</td>\n",
       "      <td>11</td>\n",
       "      <td>0</td>\n",
       "      <td>True</td>\n",
       "      <td>False</td>\n",
       "      <td>False</td>\n",
       "      <td>True</td>\n",
       "    </tr>\n",
       "    <tr>\n",
       "      <th>1</th>\n",
       "      <td>test.MyBenchmark.closure11FreeVariables3Millio...</td>\n",
       "      <td>11</td>\n",
       "      <td>0</td>\n",
       "      <td>True</td>\n",
       "      <td>False</td>\n",
       "      <td>True</td>\n",
       "      <td>False</td>\n",
       "    </tr>\n",
       "    <tr>\n",
       "      <th>2</th>\n",
       "      <td>test.MyBenchmark.closure13FreeVariables3Millio...</td>\n",
       "      <td>13</td>\n",
       "      <td>0</td>\n",
       "      <td>True</td>\n",
       "      <td>False</td>\n",
       "      <td>False</td>\n",
       "      <td>True</td>\n",
       "    </tr>\n",
       "    <tr>\n",
       "      <th>3</th>\n",
       "      <td>test.MyBenchmark.closure13FreeVariables3Millio...</td>\n",
       "      <td>13</td>\n",
       "      <td>0</td>\n",
       "      <td>True</td>\n",
       "      <td>False</td>\n",
       "      <td>True</td>\n",
       "      <td>False</td>\n",
       "    </tr>\n",
       "    <tr>\n",
       "      <th>4</th>\n",
       "      <td>test.MyBenchmark.closure15FreeVariables3Millio...</td>\n",
       "      <td>15</td>\n",
       "      <td>0</td>\n",
       "      <td>True</td>\n",
       "      <td>False</td>\n",
       "      <td>False</td>\n",
       "      <td>True</td>\n",
       "    </tr>\n",
       "  </tbody>\n",
       "</table>\n",
       "</div>"
      ],
      "text/plain": [
       "                                           Benchmark  closure_size  arity  \\\n",
       "0  test.MyBenchmark.closure11FreeVariables3Millio...            11      0   \n",
       "1  test.MyBenchmark.closure11FreeVariables3Millio...            11      0   \n",
       "2  test.MyBenchmark.closure13FreeVariables3Millio...            13      0   \n",
       "3  test.MyBenchmark.closure13FreeVariables3Millio...            13      0   \n",
       "4  test.MyBenchmark.closure15FreeVariables3Millio...            15      0   \n",
       "\n",
       "   closure_test  arity_test  instantiation_test  invocation_test  \n",
       "0          True       False               False             True  \n",
       "1          True       False                True            False  \n",
       "2          True       False               False             True  \n",
       "3          True       False                True            False  \n",
       "4          True       False               False             True  "
      ]
     },
     "execution_count": 32,
     "metadata": {},
     "output_type": "execute_result"
    }
   ],
   "source": [
    "data_pg[[\"Benchmark\", \"closure_size\", \"arity\", \"closure_test\", \"arity_test\", \"instantiation_test\", \"invocation_test\"]].head()"
   ]
  },
  {
   "cell_type": "code",
   "execution_count": 33,
   "id": "drawn-programmer",
   "metadata": {},
   "outputs": [
    {
     "data": {
      "text/html": [
       "<div>\n",
       "<style scoped>\n",
       "    .dataframe tbody tr th:only-of-type {\n",
       "        vertical-align: middle;\n",
       "    }\n",
       "\n",
       "    .dataframe tbody tr th {\n",
       "        vertical-align: top;\n",
       "    }\n",
       "\n",
       "    .dataframe thead th {\n",
       "        text-align: right;\n",
       "    }\n",
       "</style>\n",
       "<table border=\"1\" class=\"dataframe\">\n",
       "  <thead>\n",
       "    <tr style=\"text-align: right;\">\n",
       "      <th></th>\n",
       "      <th>Benchmark</th>\n",
       "      <th>closure_size</th>\n",
       "      <th>arity</th>\n",
       "      <th>closure_test</th>\n",
       "      <th>arity_test</th>\n",
       "      <th>instantiation_test</th>\n",
       "      <th>invocation_test</th>\n",
       "    </tr>\n",
       "  </thead>\n",
       "  <tbody>\n",
       "    <tr>\n",
       "      <th>0</th>\n",
       "      <td>test.MyBenchmark.closure11FreeVariables3Millio...</td>\n",
       "      <td>11</td>\n",
       "      <td>0</td>\n",
       "      <td>True</td>\n",
       "      <td>False</td>\n",
       "      <td>False</td>\n",
       "      <td>True</td>\n",
       "    </tr>\n",
       "    <tr>\n",
       "      <th>1</th>\n",
       "      <td>test.MyBenchmark.closure11FreeVariables3Millio...</td>\n",
       "      <td>11</td>\n",
       "      <td>0</td>\n",
       "      <td>True</td>\n",
       "      <td>False</td>\n",
       "      <td>True</td>\n",
       "      <td>False</td>\n",
       "    </tr>\n",
       "    <tr>\n",
       "      <th>2</th>\n",
       "      <td>test.MyBenchmark.closure13FreeVariables3Millio...</td>\n",
       "      <td>13</td>\n",
       "      <td>0</td>\n",
       "      <td>True</td>\n",
       "      <td>False</td>\n",
       "      <td>False</td>\n",
       "      <td>True</td>\n",
       "    </tr>\n",
       "    <tr>\n",
       "      <th>3</th>\n",
       "      <td>test.MyBenchmark.closure13FreeVariables3Millio...</td>\n",
       "      <td>13</td>\n",
       "      <td>0</td>\n",
       "      <td>True</td>\n",
       "      <td>False</td>\n",
       "      <td>True</td>\n",
       "      <td>False</td>\n",
       "    </tr>\n",
       "    <tr>\n",
       "      <th>4</th>\n",
       "      <td>test.MyBenchmark.closure15FreeVariables3Millio...</td>\n",
       "      <td>15</td>\n",
       "      <td>0</td>\n",
       "      <td>True</td>\n",
       "      <td>False</td>\n",
       "      <td>False</td>\n",
       "      <td>True</td>\n",
       "    </tr>\n",
       "  </tbody>\n",
       "</table>\n",
       "</div>"
      ],
      "text/plain": [
       "                                           Benchmark  closure_size  arity  \\\n",
       "0  test.MyBenchmark.closure11FreeVariables3Millio...            11      0   \n",
       "1  test.MyBenchmark.closure11FreeVariables3Millio...            11      0   \n",
       "2  test.MyBenchmark.closure13FreeVariables3Millio...            13      0   \n",
       "3  test.MyBenchmark.closure13FreeVariables3Millio...            13      0   \n",
       "4  test.MyBenchmark.closure15FreeVariables3Millio...            15      0   \n",
       "\n",
       "   closure_test  arity_test  instantiation_test  invocation_test  \n",
       "0          True       False               False             True  \n",
       "1          True       False                True            False  \n",
       "2          True       False               False             True  \n",
       "3          True       False                True            False  \n",
       "4          True       False               False             True  "
      ]
     },
     "execution_count": 33,
     "metadata": {},
     "output_type": "execute_result"
    }
   ],
   "source": [
    "data_r8[[\"Benchmark\", \"closure_size\", \"arity\", \"closure_test\", \"arity_test\", \"instantiation_test\", \"invocation_test\"]].head()"
   ]
  },
  {
   "cell_type": "code",
   "execution_count": 34,
   "id": "impressive-label",
   "metadata": {
    "scrolled": false
   },
   "outputs": [
    {
     "name": "stdout",
     "output_type": "stream",
     "text": [
      "No transformations\n",
      "ProGuard with lambda merging\n",
      "ProGuard with shrinking, lambda merging and optimisation\n",
      "R8 with shrinking and optimisation (target: dex)\n"
     ]
    },
    {
     "data": {
      "image/png": "[encoded data removed]",
      "text/plain": [
       "<Figure size 432x288 with 1 Axes>"
      ]
     },
     "metadata": {
      "needs_background": "light"
     },
     "output_type": "display_data"
    },
    {
     "data": {
      "image/png": "[encoded data removed]",
      "text/plain": [
       "<Figure size 432x288 with 1 Axes>"
      ]
     },
     "metadata": {
      "needs_background": "light"
     },
     "output_type": "display_data"
    },
    {
     "data": {
      "image/png": "[encoded data removed]",
      "text/plain": [
       "<Figure size 432x288 with 1 Axes>"
      ]
     },
     "metadata": {
      "needs_background": "light"
     },
     "output_type": "display_data"
    },
    {
     "data": {
      "image/png": "[encoded data removed]",
      "text/plain": [
       "<Figure size 432x288 with 1 Axes>"
      ]
     },
     "metadata": {
      "needs_background": "light"
     },
     "output_type": "display_data"
    }
   ],
   "source": [
    "def plot_closure_instantiation_invocation_benchmark(data, df_name=\"\"):\n",
    "    try:\n",
    "        data.sort_values(by=\"closure_size\").query(\"closure_test and instantiation_test and invocation_test\").plot.line(x=\"closure_size\", y=\"Score\")\n",
    "    except Exception as exception:\n",
    "        print(f\"Exception for dataframe: {exception}\")\n",
    "apply_to_each_dataframe(plot_closure_instantiation_invocation_benchmark, True)"
   ]
  },
  {
   "cell_type": "code",
   "execution_count": 35,
   "id": "following-mexico",
   "metadata": {},
   "outputs": [],
   "source": [
    "def round_if_no_comma(val):\n",
    "    if round(val) == val:\n",
    "        return round(val)\n",
    "    return round(val, 1)\n",
    "\n",
    "def ops_per_sec_formatter(val, val2):\n",
    "    if val > 10**6:\n",
    "        return f\"{round_if_no_comma(val/10**6)}M ops/s\"\n",
    "    elif val > 10**3:\n",
    "        return f\"{round_if_no_comma(val/10**3)}K ops/s\"\n",
    "    return f\"{round_if_no_comma(val)} ops/s\""
   ]
  },
  {
   "cell_type": "code",
   "execution_count": 36,
   "id": "revolutionary-narrative",
   "metadata": {},
   "outputs": [
    {
     "name": "stdout",
     "output_type": "stream",
     "text": [
      "No transformations\n",
      "ProGuard with lambda merging\n",
      "ProGuard with shrinking, lambda merging and optimisation\n",
      "R8 with shrinking and optimisation (target: dex)\n"
     ]
    },
    {
     "data": {
      "text/plain": [
       "'\\nax1 = data.sort_values(by=\"closure_size\").query(\"closure_test and invocation_test and not instantiation_test\").plot.line(x=\"closure_size\", y=\"Score\")\\nax1.set_xlabel(\"closuregrootte\")\\nax1.set_ylabel(\"verwerkingscapaciteit voor \\n3 miljoen functieoproepen\")\\nax1.set_title(\"Impact closuregrootte op verwerkingscapaciteit functieoproepen\\nvoor lambda merging\")\\nax1.yaxis.set_major_formatter(lambda val, val2: f\"{round(val/10**6)}M ops/s\")\\nplt.savefig(\"average-throughput-invocation-closure-before-lambda-merging-nl.pdf\", bbox_inches=\\'tight\\')\\nax2 = data_lg.sort_values(by=\"closure_size\").query(\"closure_test and invocation_test and not instantiation_test\").plot.line(x=\"closure_size\", y=\"Score\")\\nax2.set_xlabel(\"closuregrootte\")\\nax2.set_ylabel(\"verwerkingscapaciteit voor \\n3 miljoen functieoproepen\")\\nax2.set_title(\"Impact closuregrootte op verwerkingscapaciteit functieoproepen\\nvoor lambda merging\")\\nax2.yaxis.set_major_formatter(lambda val, val2: f\"{round(val)} ops/s\")\\nplt.savefig(\"average-throughput-invocation-closure-after-lambda-merging-nl.pdf\", bbox_inches=\\'tight\\')\\n'"
      ]
     },
     "execution_count": 36,
     "metadata": {},
     "output_type": "execute_result"
    },
    {
     "data": {
      "image/png": "[encoded data removed]",
      "text/plain": [
       "<Figure size 432x288 with 1 Axes>"
      ]
     },
     "metadata": {
      "needs_background": "light"
     },
     "output_type": "display_data"
    },
    {
     "data": {
      "image/png": "[encoded data removed]",
      "text/plain": [
       "<Figure size 432x288 with 1 Axes>"
      ]
     },
     "metadata": {
      "needs_background": "light"
     },
     "output_type": "display_data"
    },
    {
     "data": {
      "image/png": "[encoded data removed]",
      "text/plain": [
       "<Figure size 432x288 with 1 Axes>"
      ]
     },
     "metadata": {
      "needs_background": "light"
     },
     "output_type": "display_data"
    },
    {
     "data": {
      "image/png": "[encoded data removed]",
      "text/plain": [
       "<Figure size 432x288 with 1 Axes>"
      ]
     },
     "metadata": {
      "needs_background": "light"
     },
     "output_type": "display_data"
    }
   ],
   "source": [
    "def plot_closure_invocation_benchmark(data, df_name=\"\"):\n",
    "    try:\n",
    "        ax1 = data.sort_values(by=\"closure_size\").query(\"closure_test and invocation_test and not instantiation_test\").plot.line(x=\"closure_size\", y=\"Score\")\n",
    "        ax1.set_xlabel(\"closuregrootte\")\n",
    "        ax1.set_ylabel(\"verwerkingscapaciteit voor \\n3 miljoen functieoproepen\")\n",
    "        ax1.set_title(f\"Impact closuregrootte op verwerkingscapaciteit functieoproepen\\n{df_name}\")\n",
    "        ax1.yaxis.set_major_formatter(ops_per_sec_formatter)\n",
    "        plt.savefig(f\"average-throughput-invocation-closure-{df_name.replace(' ', '-')}-nl.pdf\", bbox_inches='tight')\n",
    "    except Exception as exception:\n",
    "        print(f\"Exception for dataframe: {exception}\")\n",
    "apply_to_each_dataframe(plot_closure_invocation_benchmark, True)\n",
    "\"\"\"\n",
    "ax1 = data.sort_values(by=\"closure_size\").query(\"closure_test and invocation_test and not instantiation_test\").plot.line(x=\"closure_size\", y=\"Score\")\n",
    "ax1.set_xlabel(\"closuregrootte\")\n",
    "ax1.set_ylabel(\"verwerkingscapaciteit voor \\n3 miljoen functieoproepen\")\n",
    "ax1.set_title(\"Impact closuregrootte op verwerkingscapaciteit functieoproepen\\nvoor lambda merging\")\n",
    "ax1.yaxis.set_major_formatter(lambda val, val2: f\"{round(val/10**6)}M ops/s\")\n",
    "plt.savefig(\"average-throughput-invocation-closure-before-lambda-merging-nl.pdf\", bbox_inches='tight')\n",
    "ax2 = data_lg.sort_values(by=\"closure_size\").query(\"closure_test and invocation_test and not instantiation_test\").plot.line(x=\"closure_size\", y=\"Score\")\n",
    "ax2.set_xlabel(\"closuregrootte\")\n",
    "ax2.set_ylabel(\"verwerkingscapaciteit voor \\n3 miljoen functieoproepen\")\n",
    "ax2.set_title(\"Impact closuregrootte op verwerkingscapaciteit functieoproepen\\nvoor lambda merging\")\n",
    "ax2.yaxis.set_major_formatter(lambda val, val2: f\"{round(val)} ops/s\")\n",
    "plt.savefig(\"average-throughput-invocation-closure-after-lambda-merging-nl.pdf\", bbox_inches='tight')\n",
    "\"\"\""
   ]
  },
  {
   "cell_type": "code",
   "execution_count": 143,
   "id": "infrared-champion",
   "metadata": {},
   "outputs": [
    {
     "name": "stdout",
     "output_type": "stream",
     "text": [
      "No transformations\n",
      "ProGuard with lambda merging\n",
      "ProGuard with shrinking, lambda merging and optimisation\n",
      "R8 with shrinking and optimisation (target: dex)\n"
     ]
    },
    {
     "data": {
      "text/plain": [
       "'\\nax2 = data_lg.sort_values(by=\"closure_size\").query(\"closure_test and instantiation_test and not invocation_test\").plot.line(x=\"closure_size\", y=\"Score\")\\nax2.set_xlabel(\"closuregrootte\")\\nax2.set_ylabel(\"verwerkingscapaciteit voor \\n3 miljoen instantiaties\")\\nax2.set_title(\"Impact closuregrootte op verwerkingscapaciteit instantiaties\\nna lambda merging\")\\nax2.yaxis.set_major_formatter(lambda val, val2: f\"{round(val,2)} ops/s\")\\nplt.savefig(\"average-throughput-instantiation-after-lambda-merging-nl.pdf\", bbox_inches=\\'tight\\')\\n'"
      ]
     },
     "execution_count": 143,
     "metadata": {},
     "output_type": "execute_result"
    },
    {
     "data": {
      "image/png": "[encoded data removed]",
      "text/plain": [
       "<Figure size 432x288 with 1 Axes>"
      ]
     },
     "metadata": {
      "needs_background": "light"
     },
     "output_type": "display_data"
    },
    {
     "data": {
      "image/png": "[encoded data removed]",
      "text/plain": [
       "<Figure size 432x288 with 1 Axes>"
      ]
     },
     "metadata": {
      "needs_background": "light"
     },
     "output_type": "display_data"
    },
    {
     "data": {
      "image/png": "[encoded data removed]",
      "text/plain": [
       "<Figure size 432x288 with 1 Axes>"
      ]
     },
     "metadata": {
      "needs_background": "light"
     },
     "output_type": "display_data"
    },
    {
     "data": {
      "image/png": "[encoded data removed]",
      "text/plain": [
       "<Figure size 432x288 with 1 Axes>"
      ]
     },
     "metadata": {
      "needs_background": "light"
     },
     "output_type": "display_data"
    }
   ],
   "source": [
    "def plot_closure_instantiation(data, df_name=\"\"):\n",
    "    try:\n",
    "        ax1 = data.sort_values(by=\"closure_size\").query(\"closure_test and instantiation_test and not invocation_test\").plot.line(x=\"closure_size\", y=\"Score\")\n",
    "        ax1.set_xlabel(\"closuregrootte\")\n",
    "        ax1.set_ylabel(\"verwerkingscapaciteit voor \\n3 miljoen instantiaties\")\n",
    "        ax1.set_title(f\"Impact closuregrootte op verwerkingscapaciteit instantiaties\\n{df_name}\")\n",
    "        if \"ProGuard with shrinking\" in df_name and \"lambda merging\" in df_name:\n",
    "            ax1.yaxis.set_major_formatter(lambda val, val2: f\"{round(val, 2)} ops/s\")\n",
    "        else:\n",
    "            ax1.yaxis.set_major_formatter(ops_per_sec_formatter)\n",
    "        plt.savefig(f\"average-throughput-instantiation-{df_name.replace(' ', '-')}-nl.pdf\", bbox_inches='tight')\n",
    "    except Exception as exception:\n",
    "        print(f\"Exception for dataframe {df_name}: {exception}\")\n",
    "    \n",
    "apply_to_each_dataframe(plot_closure_instantiation, True)\n",
    "\"\"\"\n",
    "ax2 = data_lg.sort_values(by=\"closure_size\").query(\"closure_test and instantiation_test and not invocation_test\").plot.line(x=\"closure_size\", y=\"Score\")\n",
    "ax2.set_xlabel(\"closuregrootte\")\n",
    "ax2.set_ylabel(\"verwerkingscapaciteit voor \\n3 miljoen instantiaties\")\n",
    "ax2.set_title(\"Impact closuregrootte op verwerkingscapaciteit instantiaties\\nna lambda merging\")\n",
    "ax2.yaxis.set_major_formatter(lambda val, val2: f\"{round(val,2)} ops/s\")\n",
    "plt.savefig(\"average-throughput-instantiation-after-lambda-merging-nl.pdf\", bbox_inches='tight')\n",
    "\"\"\""
   ]
  },
  {
   "cell_type": "code",
   "execution_count": 108,
   "id": "pharmaceutical-pipeline",
   "metadata": {},
   "outputs": [
    {
     "data": {
      "text/html": [
       "<div>\n",
       "<style scoped>\n",
       "    .dataframe tbody tr th:only-of-type {\n",
       "        vertical-align: middle;\n",
       "    }\n",
       "\n",
       "    .dataframe tbody tr th {\n",
       "        vertical-align: top;\n",
       "    }\n",
       "\n",
       "    .dataframe thead th {\n",
       "        text-align: right;\n",
       "    }\n",
       "</style>\n",
       "<table border=\"1\" class=\"dataframe\">\n",
       "  <thead>\n",
       "    <tr style=\"text-align: right;\">\n",
       "      <th></th>\n",
       "      <th>Benchmark</th>\n",
       "      <th>Mode</th>\n",
       "      <th>Threads</th>\n",
       "      <th>Samples</th>\n",
       "      <th>Score</th>\n",
       "      <th>Score Error (99,9%)</th>\n",
       "      <th>Unit</th>\n",
       "      <th>Score - error</th>\n",
       "      <th>Score + error</th>\n",
       "      <th>inverse score</th>\n",
       "      <th>inverse lower score</th>\n",
       "      <th>inverse upper score</th>\n",
       "      <th>closure_size</th>\n",
       "      <th>arity</th>\n",
       "      <th>closure_test</th>\n",
       "      <th>arity_test</th>\n",
       "      <th>instantiation_test</th>\n",
       "      <th>invocation_test</th>\n",
       "    </tr>\n",
       "  </thead>\n",
       "  <tbody>\n",
       "    <tr>\n",
       "      <th>11</th>\n",
       "      <td>test.MyBenchmark.closure1FreeVariables3Million...</td>\n",
       "      <td>thrpt</td>\n",
       "      <td>1</td>\n",
       "      <td>25</td>\n",
       "      <td>41.313424</td>\n",
       "      <td>0.149978</td>\n",
       "      <td>ops/s</td>\n",
       "      <td>41.163446</td>\n",
       "      <td>41.463402</td>\n",
       "      <td>0.024205</td>\n",
       "      <td>0.024293</td>\n",
       "      <td>0.024118</td>\n",
       "      <td>1</td>\n",
       "      <td>0</td>\n",
       "      <td>True</td>\n",
       "      <td>False</td>\n",
       "      <td>True</td>\n",
       "      <td>False</td>\n",
       "    </tr>\n",
       "    <tr>\n",
       "      <th>15</th>\n",
       "      <td>test.MyBenchmark.closure2FreeVariables3Million...</td>\n",
       "      <td>thrpt</td>\n",
       "      <td>1</td>\n",
       "      <td>25</td>\n",
       "      <td>41.433697</td>\n",
       "      <td>0.137585</td>\n",
       "      <td>ops/s</td>\n",
       "      <td>41.296112</td>\n",
       "      <td>41.571282</td>\n",
       "      <td>0.024135</td>\n",
       "      <td>0.024215</td>\n",
       "      <td>0.024055</td>\n",
       "      <td>2</td>\n",
       "      <td>0</td>\n",
       "      <td>True</td>\n",
       "      <td>False</td>\n",
       "      <td>True</td>\n",
       "      <td>False</td>\n",
       "    </tr>\n",
       "    <tr>\n",
       "      <th>17</th>\n",
       "      <td>test.MyBenchmark.closure4FreeVariables3Million...</td>\n",
       "      <td>thrpt</td>\n",
       "      <td>1</td>\n",
       "      <td>25</td>\n",
       "      <td>41.524992</td>\n",
       "      <td>0.172999</td>\n",
       "      <td>ops/s</td>\n",
       "      <td>41.351993</td>\n",
       "      <td>41.697991</td>\n",
       "      <td>0.024082</td>\n",
       "      <td>0.024183</td>\n",
       "      <td>0.023982</td>\n",
       "      <td>4</td>\n",
       "      <td>0</td>\n",
       "      <td>True</td>\n",
       "      <td>False</td>\n",
       "      <td>True</td>\n",
       "      <td>False</td>\n",
       "    </tr>\n",
       "    <tr>\n",
       "      <th>19</th>\n",
       "      <td>test.MyBenchmark.closure6FreeVariables3Million...</td>\n",
       "      <td>thrpt</td>\n",
       "      <td>1</td>\n",
       "      <td>25</td>\n",
       "      <td>41.198351</td>\n",
       "      <td>0.182858</td>\n",
       "      <td>ops/s</td>\n",
       "      <td>41.015493</td>\n",
       "      <td>41.381209</td>\n",
       "      <td>0.024273</td>\n",
       "      <td>0.024381</td>\n",
       "      <td>0.024166</td>\n",
       "      <td>6</td>\n",
       "      <td>0</td>\n",
       "      <td>True</td>\n",
       "      <td>False</td>\n",
       "      <td>True</td>\n",
       "      <td>False</td>\n",
       "    </tr>\n",
       "    <tr>\n",
       "      <th>21</th>\n",
       "      <td>test.MyBenchmark.closure8FreeVariables3Million...</td>\n",
       "      <td>thrpt</td>\n",
       "      <td>1</td>\n",
       "      <td>25</td>\n",
       "      <td>41.291221</td>\n",
       "      <td>0.254767</td>\n",
       "      <td>ops/s</td>\n",
       "      <td>41.036454</td>\n",
       "      <td>41.545988</td>\n",
       "      <td>0.024218</td>\n",
       "      <td>0.024369</td>\n",
       "      <td>0.024070</td>\n",
       "      <td>8</td>\n",
       "      <td>0</td>\n",
       "      <td>True</td>\n",
       "      <td>False</td>\n",
       "      <td>True</td>\n",
       "      <td>False</td>\n",
       "    </tr>\n",
       "    <tr>\n",
       "      <th>23</th>\n",
       "      <td>test.MyBenchmark.closure9FreeVariables3Million...</td>\n",
       "      <td>thrpt</td>\n",
       "      <td>1</td>\n",
       "      <td>25</td>\n",
       "      <td>41.378974</td>\n",
       "      <td>0.215723</td>\n",
       "      <td>ops/s</td>\n",
       "      <td>41.163251</td>\n",
       "      <td>41.594697</td>\n",
       "      <td>0.024167</td>\n",
       "      <td>0.024294</td>\n",
       "      <td>0.024042</td>\n",
       "      <td>9</td>\n",
       "      <td>0</td>\n",
       "      <td>True</td>\n",
       "      <td>False</td>\n",
       "      <td>True</td>\n",
       "      <td>False</td>\n",
       "    </tr>\n",
       "    <tr>\n",
       "      <th>1</th>\n",
       "      <td>test.MyBenchmark.closure11FreeVariables3Millio...</td>\n",
       "      <td>thrpt</td>\n",
       "      <td>1</td>\n",
       "      <td>25</td>\n",
       "      <td>41.573513</td>\n",
       "      <td>0.083068</td>\n",
       "      <td>ops/s</td>\n",
       "      <td>41.490445</td>\n",
       "      <td>41.656581</td>\n",
       "      <td>0.024054</td>\n",
       "      <td>0.024102</td>\n",
       "      <td>0.024006</td>\n",
       "      <td>11</td>\n",
       "      <td>0</td>\n",
       "      <td>True</td>\n",
       "      <td>False</td>\n",
       "      <td>True</td>\n",
       "      <td>False</td>\n",
       "    </tr>\n",
       "    <tr>\n",
       "      <th>3</th>\n",
       "      <td>test.MyBenchmark.closure13FreeVariables3Millio...</td>\n",
       "      <td>thrpt</td>\n",
       "      <td>1</td>\n",
       "      <td>25</td>\n",
       "      <td>41.267932</td>\n",
       "      <td>0.122207</td>\n",
       "      <td>ops/s</td>\n",
       "      <td>41.145725</td>\n",
       "      <td>41.390139</td>\n",
       "      <td>0.024232</td>\n",
       "      <td>0.024304</td>\n",
       "      <td>0.024160</td>\n",
       "      <td>13</td>\n",
       "      <td>0</td>\n",
       "      <td>True</td>\n",
       "      <td>False</td>\n",
       "      <td>True</td>\n",
       "      <td>False</td>\n",
       "    </tr>\n",
       "    <tr>\n",
       "      <th>5</th>\n",
       "      <td>test.MyBenchmark.closure15FreeVariables3Millio...</td>\n",
       "      <td>thrpt</td>\n",
       "      <td>1</td>\n",
       "      <td>25</td>\n",
       "      <td>41.650611</td>\n",
       "      <td>0.146926</td>\n",
       "      <td>ops/s</td>\n",
       "      <td>41.503685</td>\n",
       "      <td>41.797537</td>\n",
       "      <td>0.024009</td>\n",
       "      <td>0.024094</td>\n",
       "      <td>0.023925</td>\n",
       "      <td>15</td>\n",
       "      <td>0</td>\n",
       "      <td>True</td>\n",
       "      <td>False</td>\n",
       "      <td>True</td>\n",
       "      <td>False</td>\n",
       "    </tr>\n",
       "    <tr>\n",
       "      <th>7</th>\n",
       "      <td>test.MyBenchmark.closure16FreeVariables3Millio...</td>\n",
       "      <td>thrpt</td>\n",
       "      <td>1</td>\n",
       "      <td>25</td>\n",
       "      <td>41.572001</td>\n",
       "      <td>0.183935</td>\n",
       "      <td>ops/s</td>\n",
       "      <td>41.388066</td>\n",
       "      <td>41.755936</td>\n",
       "      <td>0.024055</td>\n",
       "      <td>0.024162</td>\n",
       "      <td>0.023949</td>\n",
       "      <td>16</td>\n",
       "      <td>0</td>\n",
       "      <td>True</td>\n",
       "      <td>False</td>\n",
       "      <td>True</td>\n",
       "      <td>False</td>\n",
       "    </tr>\n",
       "    <tr>\n",
       "      <th>9</th>\n",
       "      <td>test.MyBenchmark.closure19FreeVariables3Millio...</td>\n",
       "      <td>thrpt</td>\n",
       "      <td>1</td>\n",
       "      <td>25</td>\n",
       "      <td>41.399847</td>\n",
       "      <td>0.129321</td>\n",
       "      <td>ops/s</td>\n",
       "      <td>41.270526</td>\n",
       "      <td>41.529168</td>\n",
       "      <td>0.024155</td>\n",
       "      <td>0.024230</td>\n",
       "      <td>0.024079</td>\n",
       "      <td>19</td>\n",
       "      <td>0</td>\n",
       "      <td>True</td>\n",
       "      <td>False</td>\n",
       "      <td>True</td>\n",
       "      <td>False</td>\n",
       "    </tr>\n",
       "    <tr>\n",
       "      <th>13</th>\n",
       "      <td>test.MyBenchmark.closure23FreeVariables3Millio...</td>\n",
       "      <td>thrpt</td>\n",
       "      <td>1</td>\n",
       "      <td>25</td>\n",
       "      <td>41.352763</td>\n",
       "      <td>0.136338</td>\n",
       "      <td>ops/s</td>\n",
       "      <td>41.216425</td>\n",
       "      <td>41.489101</td>\n",
       "      <td>0.024182</td>\n",
       "      <td>0.024262</td>\n",
       "      <td>0.024103</td>\n",
       "      <td>23</td>\n",
       "      <td>0</td>\n",
       "      <td>True</td>\n",
       "      <td>False</td>\n",
       "      <td>True</td>\n",
       "      <td>False</td>\n",
       "    </tr>\n",
       "  </tbody>\n",
       "</table>\n",
       "</div>"
      ],
      "text/plain": [
       "                                            Benchmark   Mode  Threads  \\\n",
       "11  test.MyBenchmark.closure1FreeVariables3Million...  thrpt        1   \n",
       "15  test.MyBenchmark.closure2FreeVariables3Million...  thrpt        1   \n",
       "17  test.MyBenchmark.closure4FreeVariables3Million...  thrpt        1   \n",
       "19  test.MyBenchmark.closure6FreeVariables3Million...  thrpt        1   \n",
       "21  test.MyBenchmark.closure8FreeVariables3Million...  thrpt        1   \n",
       "23  test.MyBenchmark.closure9FreeVariables3Million...  thrpt        1   \n",
       "1   test.MyBenchmark.closure11FreeVariables3Millio...  thrpt        1   \n",
       "3   test.MyBenchmark.closure13FreeVariables3Millio...  thrpt        1   \n",
       "5   test.MyBenchmark.closure15FreeVariables3Millio...  thrpt        1   \n",
       "7   test.MyBenchmark.closure16FreeVariables3Millio...  thrpt        1   \n",
       "9   test.MyBenchmark.closure19FreeVariables3Millio...  thrpt        1   \n",
       "13  test.MyBenchmark.closure23FreeVariables3Millio...  thrpt        1   \n",
       "\n",
       "    Samples      Score  Score Error (99,9%)   Unit  Score - error  \\\n",
       "11       25  41.313424             0.149978  ops/s      41.163446   \n",
       "15       25  41.433697             0.137585  ops/s      41.296112   \n",
       "17       25  41.524992             0.172999  ops/s      41.351993   \n",
       "19       25  41.198351             0.182858  ops/s      41.015493   \n",
       "21       25  41.291221             0.254767  ops/s      41.036454   \n",
       "23       25  41.378974             0.215723  ops/s      41.163251   \n",
       "1        25  41.573513             0.083068  ops/s      41.490445   \n",
       "3        25  41.267932             0.122207  ops/s      41.145725   \n",
       "5        25  41.650611             0.146926  ops/s      41.503685   \n",
       "7        25  41.572001             0.183935  ops/s      41.388066   \n",
       "9        25  41.399847             0.129321  ops/s      41.270526   \n",
       "13       25  41.352763             0.136338  ops/s      41.216425   \n",
       "\n",
       "    Score + error  inverse score  inverse lower score  inverse upper score  \\\n",
       "11      41.463402       0.024205             0.024293             0.024118   \n",
       "15      41.571282       0.024135             0.024215             0.024055   \n",
       "17      41.697991       0.024082             0.024183             0.023982   \n",
       "19      41.381209       0.024273             0.024381             0.024166   \n",
       "21      41.545988       0.024218             0.024369             0.024070   \n",
       "23      41.594697       0.024167             0.024294             0.024042   \n",
       "1       41.656581       0.024054             0.024102             0.024006   \n",
       "3       41.390139       0.024232             0.024304             0.024160   \n",
       "5       41.797537       0.024009             0.024094             0.023925   \n",
       "7       41.755936       0.024055             0.024162             0.023949   \n",
       "9       41.529168       0.024155             0.024230             0.024079   \n",
       "13      41.489101       0.024182             0.024262             0.024103   \n",
       "\n",
       "    closure_size  arity  closure_test  arity_test  instantiation_test  \\\n",
       "11             1      0          True       False                True   \n",
       "15             2      0          True       False                True   \n",
       "17             4      0          True       False                True   \n",
       "19             6      0          True       False                True   \n",
       "21             8      0          True       False                True   \n",
       "23             9      0          True       False                True   \n",
       "1             11      0          True       False                True   \n",
       "3             13      0          True       False                True   \n",
       "5             15      0          True       False                True   \n",
       "7             16      0          True       False                True   \n",
       "9             19      0          True       False                True   \n",
       "13            23      0          True       False                True   \n",
       "\n",
       "    invocation_test  \n",
       "11            False  \n",
       "15            False  \n",
       "17            False  \n",
       "19            False  \n",
       "21            False  \n",
       "23            False  \n",
       "1             False  \n",
       "3             False  \n",
       "5             False  \n",
       "7             False  \n",
       "9             False  \n",
       "13            False  "
      ]
     },
     "execution_count": 108,
     "metadata": {},
     "output_type": "execute_result"
    }
   ],
   "source": [
    "data_r8.sort_values(by=\"closure_size\").query(\"closure_test and instantiation_test and not invocation_test\")"
   ]
  },
  {
   "cell_type": "code",
   "execution_count": 110,
   "id": "taken-liabilities",
   "metadata": {},
   "outputs": [
    {
     "data": {
      "text/plain": [
       "<AxesSubplot:xlabel='arity'>"
      ]
     },
     "execution_count": 110,
     "metadata": {},
     "output_type": "execute_result"
    },
    {
     "data": {
      "image/png": "[encoded data removed]",
      "text/plain": [
       "<Figure size 432x288 with 1 Axes>"
      ]
     },
     "metadata": {
      "needs_background": "light"
     },
     "output_type": "display_data"
    },
    {
     "data": {
      "image/png": "[encoded data removed]",
      "text/plain": [
       "<Figure size 432x288 with 1 Axes>"
      ]
     },
     "metadata": {
      "needs_background": "light"
     },
     "output_type": "display_data"
    }
   ],
   "source": [
    "data.sort_values(by=\"arity\").query(\"arity_test and instantiation_test and invocation_test\").plot.line(x=\"arity\", y=\"Score\")\n",
    "data_lg.sort_values(by=\"arity\").query(\"arity_test and instantiation_test and invocation_test\").plot.line(x=\"arity\", y=\"Score\")"
   ]
  },
  {
   "cell_type": "code",
   "execution_count": 111,
   "id": "opposite-worry",
   "metadata": {},
   "outputs": [
    {
     "data": {
      "text/plain": [
       "18    9.959159e+08\n",
       "39    9.895682e+08\n",
       "12    9.962228e+08\n",
       "35    9.910910e+08\n",
       "10    1.064341e+01\n",
       "37    7.903415e+00\n",
       "20    9.962492e+08\n",
       "Name: Score, dtype: float64"
      ]
     },
     "execution_count": 111,
     "metadata": {},
     "output_type": "execute_result"
    }
   ],
   "source": [
    "data.sort_values(by=\"arity\").query(\"arity_test and instantiation_test and invocation_test\").sort_values(by=\"arity\")[\"Score\"]"
   ]
  },
  {
   "cell_type": "code",
   "execution_count": 112,
   "id": "charming-technician",
   "metadata": {},
   "outputs": [
    {
     "data": {
      "text/plain": [
       "17    9.957199e+08\n",
       "42    9.946258e+08\n",
       "38    9.907592e+08\n",
       "43    9.962833e+08\n",
       "11    9.945798e+08\n",
       "44    9.962801e+08\n",
       "34    9.906907e+08\n",
       "40    9.962256e+08\n",
       "9     1.062922e+01\n",
       "41    1.010603e+01\n",
       "36    1.656694e+04\n",
       "19    9.961809e+08\n",
       "Name: Score, dtype: float64"
      ]
     },
     "execution_count": 112,
     "metadata": {},
     "output_type": "execute_result"
    }
   ],
   "source": [
    "data.sort_values(by=\"arity\").query(\"arity_test and invocation_test and not instantiation_test\").sort_values(by=\"arity\")[\"Score\"]"
   ]
  },
  {
   "cell_type": "code",
   "execution_count": 144,
   "id": "responsible-bridal",
   "metadata": {},
   "outputs": [
    {
     "name": "stdout",
     "output_type": "stream",
     "text": [
      "No transformations\n",
      "ProGuard with lambda merging\n",
      "ProGuard with shrinking, lambda merging and optimisation\n",
      "R8 with shrinking and optimisation (target: dex)\n"
     ]
    },
    {
     "data": {
      "text/plain": [
       "'ax2 = data_lg.sort_values(by=\"arity\").query(\"arity_test and invocation_test and not instantiation_test\").plot.line(x=\"arity\", y=\"Score\")\\nax2.set_xlabel(\"ariteit\")\\nax2.set_ylabel(\"verwerkingscapaciteit voor \\n3 miljoen functieoproepen\")\\nax2.set_title(\"Impact ariteit op verwerkingscapaciteit functieoproepen\\nna lambda merging\")\\nax2.yaxis.set_major_formatter(lambda val, val2: f\"{round(val/10**6)}M ops/s\")\\nplt.savefig(\"average-throughput-invocation-arity-after-lambda-merging-nl.pdf\", bbox_inches=\\'tight\\')'"
      ]
     },
     "execution_count": 144,
     "metadata": {},
     "output_type": "execute_result"
    },
    {
     "data": {
      "image/png": "[encoded data removed]",
      "text/plain": [
       "<Figure size 432x288 with 1 Axes>"
      ]
     },
     "metadata": {
      "needs_background": "light"
     },
     "output_type": "display_data"
    },
    {
     "data": {
      "image/png": "[encoded data removed]",
      "text/plain": [
       "<Figure size 432x288 with 1 Axes>"
      ]
     },
     "metadata": {
      "needs_background": "light"
     },
     "output_type": "display_data"
    },
    {
     "data": {
      "image/png": "[encoded data removed]",
      "text/plain": [
       "<Figure size 432x288 with 1 Axes>"
      ]
     },
     "metadata": {
      "needs_background": "light"
     },
     "output_type": "display_data"
    },
    {
     "data": {
      "image/png": "[encoded data removed]",
      "text/plain": [
       "<Figure size 432x288 with 1 Axes>"
      ]
     },
     "metadata": {
      "needs_background": "light"
     },
     "output_type": "display_data"
    }
   ],
   "source": [
    "def plot_arity_invocation(data, df_name=\"\"):\n",
    "    try:\n",
    "        ax1 = data.sort_values(by=\"arity\").query(\"arity_test and invocation_test and not instantiation_test\").plot.line(x=\"arity\", y=\"Score\")\n",
    "        ax1.set_xlabel(\"ariteit\")\n",
    "        ax1.set_ylabel(\"verwerkingscapaciteit voor \\n3 miljoen functieoproepen\")\n",
    "        ax1.set_title(f\"Impact ariteit op verwerkingscapaciteit functieoproepen\\n{df_name}\")\n",
    "        ax1.yaxis.set_major_formatter(lambda val, val2: f\"{round(val/10**6)}M ops/s\")\n",
    "        plt.savefig(f\"average-throughput-invocation-arity-{df_name.replace(' ', '-')}-nl.pdf\", bbox_inches='tight')\n",
    "    except Exception as exception:\n",
    "        print(f\"Exception for dataframe '{df_name}': {exception}\")\n",
    "        \n",
    "apply_to_each_dataframe(plot_arity_invocation, True)\n",
    "\n",
    "\"\"\"ax2 = data_lg.sort_values(by=\"arity\").query(\"arity_test and invocation_test and not instantiation_test\").plot.line(x=\"arity\", y=\"Score\")\n",
    "ax2.set_xlabel(\"ariteit\")\n",
    "ax2.set_ylabel(\"verwerkingscapaciteit voor \\n3 miljoen functieoproepen\")\n",
    "ax2.set_title(\"Impact ariteit op verwerkingscapaciteit functieoproepen\\nna lambda merging\")\n",
    "ax2.yaxis.set_major_formatter(lambda val, val2: f\"{round(val/10**6)}M ops/s\")\n",
    "plt.savefig(\"average-throughput-invocation-arity-after-lambda-merging-nl.pdf\", bbox_inches='tight')\"\"\""
   ]
  },
  {
   "cell_type": "code",
   "execution_count": 114,
   "id": "hungarian-reservoir",
   "metadata": {},
   "outputs": [
    {
     "data": {
      "text/plain": [
       "<AxesSubplot:xlabel='arity'>"
      ]
     },
     "execution_count": 114,
     "metadata": {},
     "output_type": "execute_result"
    },
    {
     "data": {
      "image/png": "[encoded data removed]",
      "text/plain": [
       "<Figure size 432x288 with 1 Axes>"
      ]
     },
     "metadata": {
      "needs_background": "light"
     },
     "output_type": "display_data"
    },
    {
     "data": {
      "image/png": "[encoded data removed]",
      "text/plain": [
       "<Figure size 432x288 with 1 Axes>"
      ]
     },
     "metadata": {
      "needs_background": "light"
     },
     "output_type": "display_data"
    }
   ],
   "source": [
    "data.sort_values(by=\"arity\").query(\"arity_test and instantiation_test and not invocation_test\").plot.line(x=\"arity\", y=\"Score\")\n",
    "data_lg.sort_values(by=\"arity\").query(\"arity_test and instantiation_test and not invocation_test\").plot.line(x=\"arity\", y=\"Score\")"
   ]
  },
  {
   "cell_type": "code",
   "execution_count": 115,
   "id": "subject-agent",
   "metadata": {},
   "outputs": [
    {
     "data": {
      "text/plain": [
       "count    4.300000e+01\n",
       "mean     8.786393e+08\n",
       "std      3.224971e+08\n",
       "min      7.903415e+00\n",
       "25%      9.905183e+08\n",
       "50%      9.956233e+08\n",
       "75%      9.962401e+08\n",
       "max      9.963023e+08\n",
       "Name: Score, dtype: float64"
      ]
     },
     "execution_count": 115,
     "metadata": {},
     "output_type": "execute_result"
    }
   ],
   "source": [
    "data.query(\"invocation_test\")[\"Score\"].describe()"
   ]
  },
  {
   "cell_type": "code",
   "execution_count": 116,
   "id": "adult-catering",
   "metadata": {},
   "outputs": [
    {
     "data": {
      "text/plain": [
       "count    4.300000e+01\n",
       "mean     1.850196e+08\n",
       "std      3.915777e+08\n",
       "min      2.766685e+00\n",
       "25%      7.549327e+00\n",
       "50%      2.022609e+01\n",
       "75%      5.292942e+01\n",
       "max      9.962950e+08\n",
       "Name: Score, dtype: float64"
      ]
     },
     "execution_count": 116,
     "metadata": {},
     "output_type": "execute_result"
    }
   ],
   "source": [
    "data_lg.query(\"invocation_test\")[\"Score\"].describe()"
   ]
  },
  {
   "cell_type": "code",
   "execution_count": 117,
   "id": "stainless-creature",
   "metadata": {},
   "outputs": [
    {
     "data": {
      "text/plain": [
       "count    4.300000e+01\n",
       "mean     9.618000e-03\n",
       "std      3.066772e-02\n",
       "min      1.003711e-09\n",
       "25%      1.003774e-09\n",
       "50%      1.004396e-09\n",
       "75%      1.009572e-09\n",
       "max      1.265276e-01\n",
       "Name: inverse score, dtype: float64"
      ]
     },
     "execution_count": 117,
     "metadata": {},
     "output_type": "execute_result"
    }
   ],
   "source": [
    "data.query(\"invocation_test\")[\"inverse score\"].describe()"
   ]
  },
  {
   "cell_type": "code",
   "execution_count": 118,
   "id": "dated-metallic",
   "metadata": {},
   "outputs": [
    {
     "data": {
      "text/plain": [
       "count    4.300000e+01\n",
       "mean     8.168989e-02\n",
       "std      8.135593e-02\n",
       "min      1.003719e-09\n",
       "25%      1.892942e-02\n",
       "50%      4.944109e-02\n",
       "75%      1.324698e-01\n",
       "max      3.614434e-01\n",
       "Name: inverse score, dtype: float64"
      ]
     },
     "execution_count": 118,
     "metadata": {},
     "output_type": "execute_result"
    }
   ],
   "source": [
    "data_lg.query(\"invocation_test\")[\"inverse score\"].describe()"
   ]
  },
  {
   "cell_type": "code",
   "execution_count": 119,
   "id": "academic-toddler",
   "metadata": {},
   "outputs": [
    {
     "name": "stdout",
     "output_type": "stream",
     "text": [
      "0.3348460662042738 femto seconds per median lambda invocation\n"
     ]
    }
   ],
   "source": [
    "median_invocation_time = data.query(\"invocation_test and not instantiation_test\")[\"inverse score\"].median()\n",
    "print(f'{median_invocation_time / 3_000_000 * 1000**5} femto seconds per median lambda invocation')"
   ]
  },
  {
   "cell_type": "code",
   "execution_count": 120,
   "id": "changing-particle",
   "metadata": {},
   "outputs": [
    {
     "name": "stdout",
     "output_type": "stream",
     "text": [
      "7.798416574549514 nano seconds per median lambda group invocation, 23289557.087978654 times as much as the lambda classes.\n"
     ]
    }
   ],
   "source": [
    "median_invocation_time_lg = data_lg.query(\"invocation_test and not instantiation_test\")[\"inverse score\"].median()\n",
    "print(f'{median_invocation_time_lg / 3_000_000 * 1000**3} nano seconds per median lambda group invocation, {median_invocation_time_lg / median_invocation_time} times as much as the lambda classes.')"
   ]
  },
  {
   "cell_type": "code",
   "execution_count": 121,
   "id": "lonely-large",
   "metadata": {},
   "outputs": [
    {
     "name": "stdout",
     "output_type": "stream",
     "text": [
      "2.6818268398437692 nano seconds per mean lambda invocation.\n"
     ]
    }
   ],
   "source": [
    "mean_invocation_time = data.query(\"invocation_test and not instantiation_test\")[\"inverse score\"].mean()\n",
    "print(f'{mean_invocation_time / 3_000_000 * 1000**3} nano seconds per mean lambda invocation.')"
   ]
  },
  {
   "cell_type": "code",
   "execution_count": 122,
   "id": "abroad-emission",
   "metadata": {},
   "outputs": [
    {
     "name": "stdout",
     "output_type": "stream",
     "text": [
      "15.130449014498515 nano seconds per mean lambda group invocation, 5.641844130167608 times as much as the lambda classes.\n"
     ]
    }
   ],
   "source": [
    "mean_invocation_time_lg = data_lg.query(\"invocation_test and not instantiation_test\")[\"inverse score\"].mean()\n",
    "print(f'{mean_invocation_time_lg / 3_000_000 * 1000**3} nano seconds per mean lambda group invocation, {mean_invocation_time_lg / mean_invocation_time} times as much as the lambda classes.')"
   ]
  },
  {
   "cell_type": "code",
   "execution_count": 123,
   "id": "simplified-norman",
   "metadata": {},
   "outputs": [
    {
     "name": "stdout",
     "output_type": "stream",
     "text": [
      "0.334766117261032 femto seconds per median lambda instantiation and invocation.\n"
     ]
    }
   ],
   "source": [
    "median_instantiation_invocation_time = data.query(\"instantiation_test and invocation_test\")[\"inverse score\"].median()\n",
    "print(f'{median_instantiation_invocation_time / 3_000_000 * 1000**5} femto seconds per median lambda instantiation and invocation.')"
   ]
  },
  {
   "cell_type": "code",
   "execution_count": 124,
   "id": "consolidated-jacket",
   "metadata": {},
   "outputs": [
    {
     "name": "stdout",
     "output_type": "stream",
     "text": [
      "44.49313773438095 nano seconds per median lambda group instantiation and invocation, 132908127.31710145 times as much as the lambda classes.\n"
     ]
    }
   ],
   "source": [
    "median_instantiation_invocation_time_lg = data_lg.query(\"instantiation_test and invocation_test\")[\"inverse score\"].median()\n",
    "print(f'{median_instantiation_invocation_time_lg / 3_000_000 * 1000**3} nano seconds per median lambda group instantiation and invocation, {median_instantiation_invocation_time_lg / median_instantiation_invocation_time} times as much as the lambda classes.')"
   ]
  },
  {
   "cell_type": "code",
   "execution_count": 125,
   "id": "assigned-relations",
   "metadata": {},
   "outputs": [
    {
     "name": "stdout",
     "output_type": "stream",
     "text": [
      "3.8681138013618312 nano seconds per mean lambda instantiation and invocation.\n"
     ]
    }
   ],
   "source": [
    "mean_instantiation_invocation_time = data.query(\"instantiation_test and invocation_test\")[\"inverse score\"].mean()\n",
    "print(f'{mean_instantiation_invocation_time / 3_000_000 * 1000**3} nano seconds per mean lambda instantiation and invocation.')"
   ]
  },
  {
   "cell_type": "code",
   "execution_count": 126,
   "id": "liberal-albany",
   "metadata": {},
   "outputs": [
    {
     "name": "stdout",
     "output_type": "stream",
     "text": [
      "42.51356260151616 nano seconds per mean lambda group instantiation and invocation, 10.990773484107057 times as much as the lambda classes.\n"
     ]
    }
   ],
   "source": [
    "mean_instantiation_invocation_time_lg = data_lg.query(\"instantiation_test and invocation_test\")[\"inverse score\"].mean()\n",
    "print(f'{mean_instantiation_invocation_time_lg / 3_000_000 * 1000**3} nano seconds per mean lambda group instantiation and invocation, {mean_instantiation_invocation_time_lg / mean_instantiation_invocation_time} times as much as the lambda classes.')"
   ]
  },
  {
   "cell_type": "code",
   "execution_count": null,
   "id": "organized-sport",
   "metadata": {},
   "outputs": [],
   "source": []
  },
  {
   "cell_type": "code",
   "execution_count": 127,
   "id": "disturbed-scientist",
   "metadata": {},
   "outputs": [
    {
     "name": "stdout",
     "output_type": "stream",
     "text": [
      "19.06351306972164 nano seconds per median lambda instantiation.\n"
     ]
    }
   ],
   "source": [
    "median_instantiation_time = data.query(\"instantiation_test and not invocation_test\")[\"inverse score\"].median()\n",
    "print(f'{median_instantiation_time / 3_000_000 * 1000**3} nano seconds per median lambda instantiation.')"
   ]
  },
  {
   "cell_type": "code",
   "execution_count": 128,
   "id": "common-saint",
   "metadata": {},
   "outputs": [
    {
     "name": "stdout",
     "output_type": "stream",
     "text": [
      "42.6350616592642 nano seconds per median lambda group instantiation, 2.2364745418818415 times as much as the lambda classes.\n"
     ]
    }
   ],
   "source": [
    "median_instantiation_time_lg = data_lg.query(\"instantiation_test and not invocation_test\")[\"inverse score\"].median()\n",
    "print(f'{median_instantiation_time_lg / 3_000_000 * 1000**3} nano seconds per median lambda group instantiation, {median_instantiation_time_lg / median_instantiation_time} times as much as the lambda classes.')"
   ]
  },
  {
   "cell_type": "code",
   "execution_count": 129,
   "id": "spiritual-motion",
   "metadata": {},
   "outputs": [
    {
     "name": "stdout",
     "output_type": "stream",
     "text": [
      "20.6460014469875 nano seconds per mean lambda instantiation.\n"
     ]
    }
   ],
   "source": [
    "mean_instantiation_time = data.query(\"instantiation_test and not invocation_test\")[\"inverse score\"].mean()\n",
    "print(f'{mean_instantiation_time / 3_000_000 * 1000**3} nano seconds per mean lambda instantiation.')"
   ]
  },
  {
   "cell_type": "code",
   "execution_count": 130,
   "id": "korean-israel",
   "metadata": {},
   "outputs": [
    {
     "name": "stdout",
     "output_type": "stream",
     "text": [
      "42.530983320858205 nano seconds per mean lambda group instantiation, 2.0600106722875378 times as much as the lambda classes.\n"
     ]
    }
   ],
   "source": [
    "mean_instantiation_time_lg = data_lg.query(\"instantiation_test and not invocation_test\")[\"inverse score\"].mean()\n",
    "print(f'{mean_instantiation_time_lg / 3_000_000 * 1000**3} nano seconds per mean lambda group instantiation, {mean_instantiation_time_lg / mean_instantiation_time} times as much as the lambda classes.')"
   ]
  },
  {
   "cell_type": "code",
   "execution_count": 131,
   "id": "civil-marathon",
   "metadata": {},
   "outputs": [
    {
     "data": {
      "text/html": [
       "<div>\n",
       "<style scoped>\n",
       "    .dataframe tbody tr th:only-of-type {\n",
       "        vertical-align: middle;\n",
       "    }\n",
       "\n",
       "    .dataframe tbody tr th {\n",
       "        vertical-align: top;\n",
       "    }\n",
       "\n",
       "    .dataframe thead th {\n",
       "        text-align: right;\n",
       "    }\n",
       "</style>\n",
       "<table border=\"1\" class=\"dataframe\">\n",
       "  <thead>\n",
       "    <tr style=\"text-align: right;\">\n",
       "      <th></th>\n",
       "      <th>Benchmark</th>\n",
       "      <th>Score</th>\n",
       "      <th>arity</th>\n",
       "      <th>closure_size</th>\n",
       "    </tr>\n",
       "  </thead>\n",
       "  <tbody>\n",
       "    <tr>\n",
       "      <th>24</th>\n",
       "      <td>test.MyBenchmark.closure1FreeVariables3Million...</td>\n",
       "      <td>41.109090</td>\n",
       "      <td>0</td>\n",
       "      <td>1</td>\n",
       "    </tr>\n",
       "    <tr>\n",
       "      <th>0</th>\n",
       "      <td>test.MyBenchmark.closure2FreeVariables3Million...</td>\n",
       "      <td>42.163108</td>\n",
       "      <td>0</td>\n",
       "      <td>2</td>\n",
       "    </tr>\n",
       "    <tr>\n",
       "      <th>26</th>\n",
       "      <td>test.MyBenchmark.closure4FreeVariables3Million...</td>\n",
       "      <td>32.397068</td>\n",
       "      <td>0</td>\n",
       "      <td>4</td>\n",
       "    </tr>\n",
       "    <tr>\n",
       "      <th>1</th>\n",
       "      <td>test.MyBenchmark.closure6FreeVariables3Million...</td>\n",
       "      <td>26.177601</td>\n",
       "      <td>0</td>\n",
       "      <td>6</td>\n",
       "    </tr>\n",
       "    <tr>\n",
       "      <th>27</th>\n",
       "      <td>test.MyBenchmark.closure8FreeVariables3Million...</td>\n",
       "      <td>21.909248</td>\n",
       "      <td>0</td>\n",
       "      <td>8</td>\n",
       "    </tr>\n",
       "    <tr>\n",
       "      <th>2</th>\n",
       "      <td>test.MyBenchmark.closure9FreeVariables3Million...</td>\n",
       "      <td>18.807198</td>\n",
       "      <td>0</td>\n",
       "      <td>9</td>\n",
       "    </tr>\n",
       "    <tr>\n",
       "      <th>21</th>\n",
       "      <td>test.MyBenchmark.closure11FreeVariables3Millio...</td>\n",
       "      <td>16.337214</td>\n",
       "      <td>0</td>\n",
       "      <td>11</td>\n",
       "    </tr>\n",
       "    <tr>\n",
       "      <th>3</th>\n",
       "      <td>test.MyBenchmark.closure13FreeVariables3Millio...</td>\n",
       "      <td>13.604294</td>\n",
       "      <td>0</td>\n",
       "      <td>13</td>\n",
       "    </tr>\n",
       "    <tr>\n",
       "      <th>22</th>\n",
       "      <td>test.MyBenchmark.closure15FreeVariables3Millio...</td>\n",
       "      <td>11.839602</td>\n",
       "      <td>0</td>\n",
       "      <td>15</td>\n",
       "    </tr>\n",
       "    <tr>\n",
       "      <th>4</th>\n",
       "      <td>test.MyBenchmark.closure16FreeVariables3Millio...</td>\n",
       "      <td>11.811881</td>\n",
       "      <td>0</td>\n",
       "      <td>16</td>\n",
       "    </tr>\n",
       "    <tr>\n",
       "      <th>23</th>\n",
       "      <td>test.MyBenchmark.closure19FreeVariables3Millio...</td>\n",
       "      <td>10.002063</td>\n",
       "      <td>0</td>\n",
       "      <td>19</td>\n",
       "    </tr>\n",
       "    <tr>\n",
       "      <th>25</th>\n",
       "      <td>test.MyBenchmark.closure23FreeVariables3Millio...</td>\n",
       "      <td>8.096299</td>\n",
       "      <td>0</td>\n",
       "      <td>23</td>\n",
       "    </tr>\n",
       "  </tbody>\n",
       "</table>\n",
       "</div>"
      ],
      "text/plain": [
       "                                            Benchmark      Score  arity  \\\n",
       "24  test.MyBenchmark.closure1FreeVariables3Million...  41.109090      0   \n",
       "0   test.MyBenchmark.closure2FreeVariables3Million...  42.163108      0   \n",
       "26  test.MyBenchmark.closure4FreeVariables3Million...  32.397068      0   \n",
       "1   test.MyBenchmark.closure6FreeVariables3Million...  26.177601      0   \n",
       "27  test.MyBenchmark.closure8FreeVariables3Million...  21.909248      0   \n",
       "2   test.MyBenchmark.closure9FreeVariables3Million...  18.807198      0   \n",
       "21  test.MyBenchmark.closure11FreeVariables3Millio...  16.337214      0   \n",
       "3   test.MyBenchmark.closure13FreeVariables3Millio...  13.604294      0   \n",
       "22  test.MyBenchmark.closure15FreeVariables3Millio...  11.839602      0   \n",
       "4   test.MyBenchmark.closure16FreeVariables3Millio...  11.811881      0   \n",
       "23  test.MyBenchmark.closure19FreeVariables3Millio...  10.002063      0   \n",
       "25  test.MyBenchmark.closure23FreeVariables3Millio...   8.096299      0   \n",
       "\n",
       "    closure_size  \n",
       "24             1  \n",
       "0              2  \n",
       "26             4  \n",
       "1              6  \n",
       "27             8  \n",
       "2              9  \n",
       "21            11  \n",
       "3             13  \n",
       "22            15  \n",
       "4             16  \n",
       "23            19  \n",
       "25            23  "
      ]
     },
     "execution_count": 131,
     "metadata": {},
     "output_type": "execute_result"
    }
   ],
   "source": [
    "data.query(\"instantiation_test and not invocation_test\")[[\"Benchmark\", \"Score\", \"arity\", \"closure_size\"]].sort_values(by=\"closure_size\")"
   ]
  },
  {
   "cell_type": "code",
   "execution_count": 132,
   "id": "dated-wallace",
   "metadata": {},
   "outputs": [
    {
     "data": {
      "text/html": [
       "<div>\n",
       "<style scoped>\n",
       "    .dataframe tbody tr th:only-of-type {\n",
       "        vertical-align: middle;\n",
       "    }\n",
       "\n",
       "    .dataframe tbody tr th {\n",
       "        vertical-align: top;\n",
       "    }\n",
       "\n",
       "    .dataframe thead th {\n",
       "        text-align: right;\n",
       "    }\n",
       "</style>\n",
       "<table border=\"1\" class=\"dataframe\">\n",
       "  <thead>\n",
       "    <tr style=\"text-align: right;\">\n",
       "      <th></th>\n",
       "      <th>Benchmark</th>\n",
       "      <th>Score</th>\n",
       "      <th>arity</th>\n",
       "      <th>closure_size</th>\n",
       "    </tr>\n",
       "  </thead>\n",
       "  <tbody>\n",
       "    <tr>\n",
       "      <th>17</th>\n",
       "      <td>test.MyBenchmark.emptyClosure1Arguments3Millio...</td>\n",
       "      <td>9.957199e+08</td>\n",
       "      <td>1</td>\n",
       "      <td>0</td>\n",
       "    </tr>\n",
       "    <tr>\n",
       "      <th>42</th>\n",
       "      <td>test.MyBenchmark.emptyClosure2Arguments3Millio...</td>\n",
       "      <td>9.946258e+08</td>\n",
       "      <td>2</td>\n",
       "      <td>0</td>\n",
       "    </tr>\n",
       "    <tr>\n",
       "      <th>38</th>\n",
       "      <td>test.MyBenchmark.emptyClosure4Arguments3Millio...</td>\n",
       "      <td>9.907592e+08</td>\n",
       "      <td>4</td>\n",
       "      <td>0</td>\n",
       "    </tr>\n",
       "    <tr>\n",
       "      <th>43</th>\n",
       "      <td>test.MyBenchmark.emptyClosure6Arguments3Millio...</td>\n",
       "      <td>9.962833e+08</td>\n",
       "      <td>6</td>\n",
       "      <td>0</td>\n",
       "    </tr>\n",
       "    <tr>\n",
       "      <th>11</th>\n",
       "      <td>test.MyBenchmark.emptyClosure8Arguments3Millio...</td>\n",
       "      <td>9.945798e+08</td>\n",
       "      <td>8</td>\n",
       "      <td>0</td>\n",
       "    </tr>\n",
       "    <tr>\n",
       "      <th>44</th>\n",
       "      <td>test.MyBenchmark.emptyClosure9Arguments3Millio...</td>\n",
       "      <td>9.962801e+08</td>\n",
       "      <td>9</td>\n",
       "      <td>0</td>\n",
       "    </tr>\n",
       "    <tr>\n",
       "      <th>34</th>\n",
       "      <td>test.MyBenchmark.emptyClosure11Arguments3Milli...</td>\n",
       "      <td>9.906907e+08</td>\n",
       "      <td>11</td>\n",
       "      <td>0</td>\n",
       "    </tr>\n",
       "    <tr>\n",
       "      <th>40</th>\n",
       "      <td>test.MyBenchmark.emptyClosure13Arguments3Milli...</td>\n",
       "      <td>9.962256e+08</td>\n",
       "      <td>13</td>\n",
       "      <td>0</td>\n",
       "    </tr>\n",
       "    <tr>\n",
       "      <th>9</th>\n",
       "      <td>test.MyBenchmark.emptyClosure15Arguments3Milli...</td>\n",
       "      <td>1.062922e+01</td>\n",
       "      <td>15</td>\n",
       "      <td>0</td>\n",
       "    </tr>\n",
       "    <tr>\n",
       "      <th>41</th>\n",
       "      <td>test.MyBenchmark.emptyClosure16Arguments3Milli...</td>\n",
       "      <td>1.010603e+01</td>\n",
       "      <td>16</td>\n",
       "      <td>0</td>\n",
       "    </tr>\n",
       "    <tr>\n",
       "      <th>36</th>\n",
       "      <td>test.MyBenchmark.emptyClosure19Arguments3Milli...</td>\n",
       "      <td>1.656694e+04</td>\n",
       "      <td>19</td>\n",
       "      <td>0</td>\n",
       "    </tr>\n",
       "    <tr>\n",
       "      <th>19</th>\n",
       "      <td>test.MyBenchmark.emptyClosure23Arguments3Milli...</td>\n",
       "      <td>9.961809e+08</td>\n",
       "      <td>23</td>\n",
       "      <td>0</td>\n",
       "    </tr>\n",
       "    <tr>\n",
       "      <th>13</th>\n",
       "      <td>test.MyBenchmark.closure1FreeVariables3Million...</td>\n",
       "      <td>9.962612e+08</td>\n",
       "      <td>0</td>\n",
       "      <td>1</td>\n",
       "    </tr>\n",
       "    <tr>\n",
       "      <th>52</th>\n",
       "      <td>test.MyBenchmark.closure2FreeVariables3Million...</td>\n",
       "      <td>9.962782e+08</td>\n",
       "      <td>0</td>\n",
       "      <td>2</td>\n",
       "    </tr>\n",
       "    <tr>\n",
       "      <th>32</th>\n",
       "      <td>test.MyBenchmark.closure4FreeVariables3Million...</td>\n",
       "      <td>9.903460e+08</td>\n",
       "      <td>0</td>\n",
       "      <td>4</td>\n",
       "    </tr>\n",
       "    <tr>\n",
       "      <th>53</th>\n",
       "      <td>test.MyBenchmark.closure6FreeVariables3Million...</td>\n",
       "      <td>9.962920e+08</td>\n",
       "      <td>0</td>\n",
       "      <td>6</td>\n",
       "    </tr>\n",
       "    <tr>\n",
       "      <th>7</th>\n",
       "      <td>test.MyBenchmark.closure8FreeVariables3Million...</td>\n",
       "      <td>9.930169e+08</td>\n",
       "      <td>0</td>\n",
       "      <td>8</td>\n",
       "    </tr>\n",
       "    <tr>\n",
       "      <th>54</th>\n",
       "      <td>test.MyBenchmark.closure9FreeVariables3Million...</td>\n",
       "      <td>9.956233e+08</td>\n",
       "      <td>0</td>\n",
       "      <td>9</td>\n",
       "    </tr>\n",
       "    <tr>\n",
       "      <th>28</th>\n",
       "      <td>test.MyBenchmark.closure11FreeVariables3Millio...</td>\n",
       "      <td>9.886538e+08</td>\n",
       "      <td>0</td>\n",
       "      <td>11</td>\n",
       "    </tr>\n",
       "    <tr>\n",
       "      <th>50</th>\n",
       "      <td>test.MyBenchmark.closure13FreeVariables3Millio...</td>\n",
       "      <td>9.960145e+08</td>\n",
       "      <td>0</td>\n",
       "      <td>13</td>\n",
       "    </tr>\n",
       "    <tr>\n",
       "      <th>5</th>\n",
       "      <td>test.MyBenchmark.closure15FreeVariables3Millio...</td>\n",
       "      <td>9.953414e+08</td>\n",
       "      <td>0</td>\n",
       "      <td>15</td>\n",
       "    </tr>\n",
       "    <tr>\n",
       "      <th>51</th>\n",
       "      <td>test.MyBenchmark.closure16FreeVariables3Millio...</td>\n",
       "      <td>9.963023e+08</td>\n",
       "      <td>0</td>\n",
       "      <td>16</td>\n",
       "    </tr>\n",
       "    <tr>\n",
       "      <th>30</th>\n",
       "      <td>test.MyBenchmark.closure19FreeVariables3Millio...</td>\n",
       "      <td>9.911408e+08</td>\n",
       "      <td>0</td>\n",
       "      <td>19</td>\n",
       "    </tr>\n",
       "    <tr>\n",
       "      <th>15</th>\n",
       "      <td>test.MyBenchmark.closure23FreeVariables3Millio...</td>\n",
       "      <td>9.962310e+08</td>\n",
       "      <td>0</td>\n",
       "      <td>23</td>\n",
       "    </tr>\n",
       "  </tbody>\n",
       "</table>\n",
       "</div>"
      ],
      "text/plain": [
       "                                            Benchmark         Score  arity  \\\n",
       "17  test.MyBenchmark.emptyClosure1Arguments3Millio...  9.957199e+08      1   \n",
       "42  test.MyBenchmark.emptyClosure2Arguments3Millio...  9.946258e+08      2   \n",
       "38  test.MyBenchmark.emptyClosure4Arguments3Millio...  9.907592e+08      4   \n",
       "43  test.MyBenchmark.emptyClosure6Arguments3Millio...  9.962833e+08      6   \n",
       "11  test.MyBenchmark.emptyClosure8Arguments3Millio...  9.945798e+08      8   \n",
       "44  test.MyBenchmark.emptyClosure9Arguments3Millio...  9.962801e+08      9   \n",
       "34  test.MyBenchmark.emptyClosure11Arguments3Milli...  9.906907e+08     11   \n",
       "40  test.MyBenchmark.emptyClosure13Arguments3Milli...  9.962256e+08     13   \n",
       "9   test.MyBenchmark.emptyClosure15Arguments3Milli...  1.062922e+01     15   \n",
       "41  test.MyBenchmark.emptyClosure16Arguments3Milli...  1.010603e+01     16   \n",
       "36  test.MyBenchmark.emptyClosure19Arguments3Milli...  1.656694e+04     19   \n",
       "19  test.MyBenchmark.emptyClosure23Arguments3Milli...  9.961809e+08     23   \n",
       "13  test.MyBenchmark.closure1FreeVariables3Million...  9.962612e+08      0   \n",
       "52  test.MyBenchmark.closure2FreeVariables3Million...  9.962782e+08      0   \n",
       "32  test.MyBenchmark.closure4FreeVariables3Million...  9.903460e+08      0   \n",
       "53  test.MyBenchmark.closure6FreeVariables3Million...  9.962920e+08      0   \n",
       "7   test.MyBenchmark.closure8FreeVariables3Million...  9.930169e+08      0   \n",
       "54  test.MyBenchmark.closure9FreeVariables3Million...  9.956233e+08      0   \n",
       "28  test.MyBenchmark.closure11FreeVariables3Millio...  9.886538e+08      0   \n",
       "50  test.MyBenchmark.closure13FreeVariables3Millio...  9.960145e+08      0   \n",
       "5   test.MyBenchmark.closure15FreeVariables3Millio...  9.953414e+08      0   \n",
       "51  test.MyBenchmark.closure16FreeVariables3Millio...  9.963023e+08      0   \n",
       "30  test.MyBenchmark.closure19FreeVariables3Millio...  9.911408e+08      0   \n",
       "15  test.MyBenchmark.closure23FreeVariables3Millio...  9.962310e+08      0   \n",
       "\n",
       "    closure_size  \n",
       "17             0  \n",
       "42             0  \n",
       "38             0  \n",
       "43             0  \n",
       "11             0  \n",
       "44             0  \n",
       "34             0  \n",
       "40             0  \n",
       "9              0  \n",
       "41             0  \n",
       "36             0  \n",
       "19             0  \n",
       "13             1  \n",
       "52             2  \n",
       "32             4  \n",
       "53             6  \n",
       "7              8  \n",
       "54             9  \n",
       "28            11  \n",
       "50            13  \n",
       "5             15  \n",
       "51            16  \n",
       "30            19  \n",
       "15            23  "
      ]
     },
     "execution_count": 132,
     "metadata": {},
     "output_type": "execute_result"
    }
   ],
   "source": [
    "data.query(\"not instantiation_test and invocation_test\")[[\"Benchmark\", \"Score\", \"arity\", \"closure_size\"]].sort_values(by=[\"closure_size\", \"arity\"])"
   ]
  },
  {
   "cell_type": "code",
   "execution_count": null,
   "id": "confident-client",
   "metadata": {},
   "outputs": [],
   "source": []
  }
 ],
 "metadata": {
  "kernelspec": {
   "display_name": "Python 3",
   "language": "python",
   "name": "python3"
  },
  "language_info": {
   "codemirror_mode": {
    "name": "ipython",
    "version": 3
   },
   "file_extension": ".py",
   "mimetype": "text/x-python",
   "name": "python",
   "nbconvert_exporter": "python",
   "pygments_lexer": "ipython3",
   "version": "3.9.6"
  }
 },
 "nbformat": 4,
 "nbformat_minor": 5
}
