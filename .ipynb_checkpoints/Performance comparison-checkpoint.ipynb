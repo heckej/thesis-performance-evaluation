{
 "cells": [
  {
   "cell_type": "code",
   "execution_count": 8,
   "id": "negative-pontiac",
   "metadata": {},
   "outputs": [],
   "source": [
    "import matplotlib.pyplot as plt"
   ]
  },
  {
   "cell_type": "code",
   "execution_count": 6,
   "id": "floppy-continuity",
   "metadata": {},
   "outputs": [
    {
     "data": {
      "text/plain": [
       "[<matplotlib.lines.Line2D at 0x1f37ac9bfa0>]"
      ]
     },
     "execution_count": 6,
     "metadata": {},
     "output_type": "execute_result"
    },
    {
     "data": {
      "image/png": "[encoded data removed]",
      "text/plain": [
       "<Figure size 432x288 with 1 Axes>"
      ]
     },
     "metadata": {
      "needs_background": "light"
     },
     "output_type": "display_data"
    }
   ],
   "source": [
    "# emptyClosure3MillionAssignmentsAndCalls\n",
    "plt.plot([16.098, 16.122], [1, 1]) # ubuntu/base\n",
    "plt.plot([16.08, 16.116], [1.2, 1.2]) # ubuntu/lg\n",
    "plt.plot([16.016, 16.066], [2, 2]) # develop/base\n",
    "plt.plot([16.135, 16.197], [2.2, 2.2]) # develop/lg"
   ]
  },
  {
   "cell_type": "code",
   "execution_count": 7,
   "id": "charitable-disposition",
   "metadata": {},
   "outputs": [
    {
     "data": {
      "text/plain": [
       "[<matplotlib.lines.Line2D at 0x1f37ad077c0>]"
      ]
     },
     "execution_count": 7,
     "metadata": {},
     "output_type": "execute_result"
    },
    {
     "data": {
      "image/png": "[encoded data removed]",
      "text/plain": [
       "<Figure size 432x288 with 1 Axes>"
      ]
     },
     "metadata": {
      "needs_background": "light"
     },
     "output_type": "display_data"
    }
   ],
   "source": [
    "# multipleEmptyClosure3MillionAssignmentsAndCalls\n",
    "plt.plot([3.723 - 0.008, 3.723 + 0.008], [1, 1]) # ubuntu/base\n",
    "plt.plot([3.720 - 0.012, 3.720 + 0.012], [1.2, 1.2]) # ubuntu/lg\n",
    "plt.plot([3.717 - 0.009, 3.717 + 0.009], [2, 2]) # develop/base\n",
    "plt.plot([3.712 - 0.014, 3.712 + 0.014], [2.2, 2.2]) # develop/lg"
   ]
  },
  {
   "cell_type": "code",
   "execution_count": 9,
   "id": "musical-cooling",
   "metadata": {},
   "outputs": [
    {
     "data": {
      "text/plain": [
       "[<matplotlib.lines.Line2D at 0x1f37add1610>]"
      ]
     },
     "execution_count": 9,
     "metadata": {},
     "output_type": "execute_result"
    },
    {
     "data": {
      "image/png": "[encoded data removed]",
      "text/plain": [
       "<Figure size 432x288 with 1 Axes>"
      ]
     },
     "metadata": {
      "needs_background": "light"
     },
     "output_type": "display_data"
    }
   ],
   "source": [
    "# multipleEmptyClosure3MillionCalls\n",
    "plt.plot([6.053 - 0.064, 6.053 + 0.064], [1, 1]) # ubuntu/base\n",
    "plt.plot([6.079 - 0.024, 6.079 + 0.024], [1.2, 1.2]) # ubuntu/lg\n",
    "plt.plot([6.023 - 0.060, 6.023 + 0.060], [2, 2]) # develop/base\n",
    "plt.plot([5.977 - 0.090, 5.977 + 0.090], [2.2, 2.2]) # develop/lg"
   ]
  },
  {
   "cell_type": "code",
   "execution_count": 10,
   "id": "cardiac-dress",
   "metadata": {},
   "outputs": [
    {
     "data": {
      "text/plain": [
       "[<matplotlib.lines.Line2D at 0x1f37ae2eac0>]"
      ]
     },
     "execution_count": 10,
     "metadata": {},
     "output_type": "execute_result"
    },
    {
     "data": {
      "image/png": "[encoded data removed]",
      "text/plain": [
       "<Figure size 432x288 with 1 Axes>"
      ]
     },
     "metadata": {
      "needs_background": "light"
     },
     "output_type": "display_data"
    }
   ],
   "source": [
    "# multipleNonEmptyClosure3MillionAssignmentsAndCalls\n",
    "plt.plot([3.713 - 0.004, 3.713 + 0.004], [1, 1]) # ubuntu/base\n",
    "plt.plot([3.715 - 0.006, 3.715 + 0.006], [1.2, 1.2]) # ubuntu/lg\n",
    "plt.plot([3.713 - 0.006, 3.713 + 0.006], [2, 2]) # develop/base\n",
    "plt.plot([3.712 - 0.014, 3.712 + 0.014], [2.2, 2.2]) # develop/lg"
   ]
  },
  {
   "cell_type": "code",
   "execution_count": 11,
   "id": "intended-inspection",
   "metadata": {},
   "outputs": [
    {
     "data": {
      "text/plain": [
       "[<matplotlib.lines.Line2D at 0x1f37ae96490>]"
      ]
     },
     "execution_count": 11,
     "metadata": {},
     "output_type": "execute_result"
    },
    {
     "data": {
      "image/png": "[encoded data removed]",
      "text/plain": [
       "<Figure size 432x288 with 1 Axes>"
      ]
     },
     "metadata": {
      "needs_background": "light"
     },
     "output_type": "display_data"
    }
   ],
   "source": [
    "# multipleNonEmptyClosure3MillionCalls\n",
    "plt.plot([6.131 - 0.011, 6.131 + 0.011], [1, 1]) # ubuntu/base\n",
    "plt.plot([5.944 - 0.273, 5.944 + 0.273], [1.2, 1.2]) # ubuntu/lg\n",
    "plt.plot([6.093 - 0.012, 6.093 + 0.012], [2, 2]) # develop/base\n",
    "plt.plot([6.077 - 0.050, 6.077 + 0.050], [2.2, 2.2]) # develop/lg"
   ]
  },
  {
   "cell_type": "markdown",
   "id": "logical-manhattan",
   "metadata": {},
   "source": [
    "# Statistical comparison tests"
   ]
  },
  {
   "cell_type": "code",
   "execution_count": 2,
   "id": "outstanding-intensity",
   "metadata": {},
   "outputs": [],
   "source": [
    "from scipy import stats\n",
    "import pandas as pd"
   ]
  },
  {
   "cell_type": "markdown",
   "id": "quantitative-turning",
   "metadata": {},
   "source": [
    "## multipleNonEmptyClosure3MillionAssignmentsAndCalls"
   ]
  },
  {
   "cell_type": "markdown",
   "id": "orange-investment",
   "metadata": {},
   "source": [
    "### Attempt 1 (Ubuntu)"
   ]
  },
  {
   "cell_type": "code",
   "execution_count": 40,
   "id": "hollow-purple",
   "metadata": {},
   "outputs": [],
   "source": [
    "nec_assign_call_original_1 = pd.read_csv(\"D:/Documenten/Leuven/Masterproef/notes/performance-evaluation/ubuntu_multipleNonEmptyClosure3MillionAssignmentsAndCalls_base.csv\")\n",
    "nec_assign_call_lg_1 = pd.read_csv(\"D:/Documenten/Leuven/Masterproef/notes/performance-evaluation/ubuntu_multipleNonEmptyClosure3MillionAssignmentsAndCalls_lambdagroups.csv\")"
   ]
  },
  {
   "cell_type": "markdown",
   "id": "spoken-wonder",
   "metadata": {},
   "source": [
    "#### Test homogeneity of variances"
   ]
  },
  {
   "cell_type": "code",
   "execution_count": 41,
   "id": "least-clinton",
   "metadata": {},
   "outputs": [
    {
     "data": {
      "text/plain": [
       "LeveneResult(statistic=1.8276337562051068, pvalue=0.1827434941270854)"
      ]
     },
     "execution_count": 41,
     "metadata": {},
     "output_type": "execute_result"
    }
   ],
   "source": [
    "stats.levene(nec_assign_call_original_1['ops_per_second'], nec_assign_call_lg_1['ops_per_second'])"
   ]
  },
  {
   "cell_type": "markdown",
   "id": "comparable-clothing",
   "metadata": {},
   "source": [
    "The p-value of 0.18 signifies that the test is not significant, meaning there is homogeneity of variances."
   ]
  },
  {
   "cell_type": "markdown",
   "id": "divine-mambo",
   "metadata": {},
   "source": [
    "#### Test normal distribution"
   ]
  },
  {
   "cell_type": "code",
   "execution_count": 42,
   "id": "direct-print",
   "metadata": {},
   "outputs": [
    {
     "data": {
      "image/png": "[encoded data removed]",
      "text/plain": [
       "<Figure size 432x288 with 1 Axes>"
      ]
     },
     "metadata": {
      "needs_background": "light"
     },
     "output_type": "display_data"
    }
   ],
   "source": [
    "nec_assign_call_original_1['ops_per_second'].plot(kind=\"hist\", title=\"Benchmark performance before lambda merging\")\n",
    "plt.xlabel(\"Performance (ops/s)\")\n",
    "plt.savefig('base_ops_per_second_1')"
   ]
  },
  {
   "cell_type": "code",
   "execution_count": 43,
   "id": "finite-runner",
   "metadata": {},
   "outputs": [
    {
     "data": {
      "image/png": "[encoded data removed]",
      "text/plain": [
       "<Figure size 432x288 with 1 Axes>"
      ]
     },
     "metadata": {
      "needs_background": "light"
     },
     "output_type": "display_data"
    }
   ],
   "source": [
    "nec_assign_call_lg_1['ops_per_second'].plot(kind=\"hist\", title= \"Benchmark performance after lambda merging\", color=\"green\")\n",
    "plt.xlabel(\"Performance (ops/s)\")\n",
    "plt.savefig('lambdagroups_ops_per_second_1')"
   ]
  },
  {
   "cell_type": "code",
   "execution_count": 44,
   "id": "advanced-backup",
   "metadata": {},
   "outputs": [
    {
     "data": {
      "image/png": "[encoded data removed]",
      "text/plain": [
       "<Figure size 432x288 with 1 Axes>"
      ]
     },
     "metadata": {
      "needs_background": "light"
     },
     "output_type": "display_data"
    }
   ],
   "source": [
    "stats.probplot(nec_assign_call_original_1['ops_per_second'], dist=\"norm\", plot= plt)\n",
    "plt.title(\"Benchmark performance before lambda merging Q-Q Plot\")\n",
    "plt.savefig(\"base_qqplot_1.png\")"
   ]
  },
  {
   "cell_type": "code",
   "execution_count": 45,
   "id": "annual-arrangement",
   "metadata": {},
   "outputs": [
    {
     "data": {
      "image/png": "[encoded data removed]",
      "text/plain": [
       "<Figure size 432x288 with 1 Axes>"
      ]
     },
     "metadata": {
      "needs_background": "light"
     },
     "output_type": "display_data"
    }
   ],
   "source": [
    "stats.probplot(nec_assign_call_lg_1['ops_per_second'], dist=\"norm\", plot= plt)\n",
    "plt.title(\"Benchmark performance after lambda merging Q-Q Plot\")\n",
    "plt.savefig(\"lambdagroups_qqplot_1.png\")"
   ]
  },
  {
   "cell_type": "code",
   "execution_count": 46,
   "id": "exact-relation",
   "metadata": {},
   "outputs": [
    {
     "data": {
      "text/plain": [
       "ShapiroResult(statistic=0.9533631801605225, pvalue=0.29810431599617004)"
      ]
     },
     "execution_count": 46,
     "metadata": {},
     "output_type": "execute_result"
    }
   ],
   "source": [
    "stats.shapiro(nec_assign_call_original_1['ops_per_second'])"
   ]
  },
  {
   "cell_type": "code",
   "execution_count": 47,
   "id": "latest-outline",
   "metadata": {},
   "outputs": [
    {
     "data": {
      "text/plain": [
       "ShapiroResult(statistic=0.8007323741912842, pvalue=0.0002338268532184884)"
      ]
     },
     "execution_count": 47,
     "metadata": {},
     "output_type": "execute_result"
    }
   ],
   "source": [
    "stats.shapiro(nec_assign_call_lg_1['ops_per_second'])"
   ]
  },
  {
   "cell_type": "markdown",
   "id": "incomplete-middle",
   "metadata": {},
   "source": [
    "According to the Shapiro-Wilk test with a boundary of 0.05 for the p-value, the second dataset is not normally distributed."
   ]
  },
  {
   "cell_type": "markdown",
   "id": "still-patrick",
   "metadata": {},
   "source": [
    "#### Test whether the performance after lambda merging differs from the performance before lambda merging"
   ]
  },
  {
   "cell_type": "markdown",
   "id": "minute-advisory",
   "metadata": {},
   "source": [
    "**Null hypothesis:** the ops/s is equal before and after lambda merging"
   ]
  },
  {
   "cell_type": "markdown",
   "id": "cutting-march",
   "metadata": {},
   "source": [
    "\n",
    "**Alternative hypothesis:** the ops/s is *not* equal before and after lambda merging"
   ]
  },
  {
   "cell_type": "markdown",
   "id": "interpreted-prospect",
   "metadata": {},
   "source": [
    "We take 0.05 as a threshold for the p-value."
   ]
  },
  {
   "cell_type": "markdown",
   "id": "recreational-independence",
   "metadata": {},
   "source": [
    "##### Wilcoxon Signed-Rank Test"
   ]
  },
  {
   "cell_type": "code",
   "execution_count": 55,
   "id": "removable-huntington",
   "metadata": {},
   "outputs": [
    {
     "data": {
      "text/plain": [
       "WilcoxonResult(statistic=117.0, pvalue=0.3451626031380596)"
      ]
     },
     "execution_count": 55,
     "metadata": {},
     "output_type": "execute_result"
    }
   ],
   "source": [
    "stats.wilcoxon(nec_assign_call_original_1['ops_per_second'], nec_assign_call_lg_1['ops_per_second'])"
   ]
  },
  {
   "cell_type": "markdown",
   "id": "industrial-denial",
   "metadata": {},
   "source": [
    "The value of 0.345 is higher than 0.05, so according to this test, the null hypothesis must not be rejected."
   ]
  },
  {
   "cell_type": "markdown",
   "id": "absolute-assurance",
   "metadata": {},
   "source": [
    "### Attempt 2 (Develop)"
   ]
  },
  {
   "cell_type": "code",
   "execution_count": 57,
   "id": "arabic-junior",
   "metadata": {},
   "outputs": [],
   "source": [
    "nec_assign_call_original_2 = pd.read_csv(\"D:/Documenten/Leuven/Masterproef/notes/performance-evaluation/220415-develop_multipleNonEmptyClosure3MillionAssignmentsAndCalls_base.csv\")\n",
    "nec_assign_call_lg_2 = pd.read_csv(\"D:/Documenten/Leuven/Masterproef/notes/performance-evaluation/220415-develop_multipleNonEmptyClosure3MillionAssignmentsAndCalls_lambdagroups.csv\")"
   ]
  },
  {
   "cell_type": "markdown",
   "id": "efficient-conversion",
   "metadata": {},
   "source": [
    "#### Test homogeneity of variances"
   ]
  },
  {
   "cell_type": "code",
   "execution_count": 58,
   "id": "neural-greene",
   "metadata": {},
   "outputs": [
    {
     "data": {
      "text/plain": [
       "LeveneResult(statistic=9.924398625429642, pvalue=0.0028067724644932368)"
      ]
     },
     "execution_count": 58,
     "metadata": {},
     "output_type": "execute_result"
    }
   ],
   "source": [
    "stats.levene(nec_assign_call_original_2['ops_per_second'], nec_assign_call_lg_2['ops_per_second'])"
   ]
  },
  {
   "cell_type": "markdown",
   "id": "cultural-victory",
   "metadata": {},
   "source": [
    "The p-value of 0.02 signifies that the test is significant, meaning there is no homogeneity of variances, if we take a boundary of 0.05 for our p-value."
   ]
  },
  {
   "cell_type": "markdown",
   "id": "awful-indie",
   "metadata": {},
   "source": [
    "#### Test normal distribution"
   ]
  },
  {
   "cell_type": "code",
   "execution_count": 59,
   "id": "herbal-entrepreneur",
   "metadata": {},
   "outputs": [
    {
     "data": {
      "image/png": "[encoded data removed]",
      "text/plain": [
       "<Figure size 432x288 with 1 Axes>"
      ]
     },
     "metadata": {
      "needs_background": "light"
     },
     "output_type": "display_data"
    }
   ],
   "source": [
    "nec_assign_call_original_2['ops_per_second'].plot(kind=\"hist\", title=\"Benchmark performance before lambda merging\")\n",
    "plt.xlabel(\"Performance (ops/s)\")\n",
    "plt.savefig('base_ops_per_second_2')"
   ]
  },
  {
   "cell_type": "code",
   "execution_count": 60,
   "id": "broadband-isolation",
   "metadata": {},
   "outputs": [
    {
     "data": {
      "image/png": "[encoded data removed]",
      "text/plain": [
       "<Figure size 432x288 with 1 Axes>"
      ]
     },
     "metadata": {
      "needs_background": "light"
     },
     "output_type": "display_data"
    }
   ],
   "source": [
    "nec_assign_call_lg_2['ops_per_second'].plot(kind=\"hist\", title= \"Benchmark performance after lambda merging\", color=\"green\")\n",
    "plt.xlabel(\"Performance (ops/s)\")\n",
    "plt.savefig('lambdagroups_ops_per_second_2')"
   ]
  },
  {
   "cell_type": "code",
   "execution_count": 61,
   "id": "round-geology",
   "metadata": {},
   "outputs": [
    {
     "data": {
      "image/png": "[encoded data removed]",
      "text/plain": [
       "<Figure size 432x288 with 1 Axes>"
      ]
     },
     "metadata": {
      "needs_background": "light"
     },
     "output_type": "display_data"
    }
   ],
   "source": [
    "stats.probplot(nec_assign_call_original_2['ops_per_second'], dist=\"norm\", plot= plt)\n",
    "plt.title(\"Benchmark performance before lambda merging Q-Q Plot\")\n",
    "plt.savefig(\"base_qqplot_2.png\")"
   ]
  },
  {
   "cell_type": "code",
   "execution_count": 62,
   "id": "obvious-tribute",
   "metadata": {},
   "outputs": [
    {
     "data": {
      "image/png": "[encoded data removed]",
      "text/plain": [
       "<Figure size 432x288 with 1 Axes>"
      ]
     },
     "metadata": {
      "needs_background": "light"
     },
     "output_type": "display_data"
    }
   ],
   "source": [
    "stats.probplot(nec_assign_call_lg_2['ops_per_second'], dist=\"norm\", plot= plt)\n",
    "plt.title(\"Benchmark performance after lambda merging Q-Q Plot\")\n",
    "plt.savefig(\"lambdagroups_qqplot_2.png\")"
   ]
  },
  {
   "cell_type": "code",
   "execution_count": 63,
   "id": "potential-inspiration",
   "metadata": {},
   "outputs": [
    {
     "data": {
      "text/plain": [
       "ShapiroResult(statistic=0.943942666053772, pvalue=0.18247583508491516)"
      ]
     },
     "execution_count": 63,
     "metadata": {},
     "output_type": "execute_result"
    }
   ],
   "source": [
    "stats.shapiro(nec_assign_call_original_2['ops_per_second'])"
   ]
  },
  {
   "cell_type": "code",
   "execution_count": 65,
   "id": "tutorial-phone",
   "metadata": {},
   "outputs": [
    {
     "data": {
      "text/plain": [
       "ShapiroResult(statistic=0.8751510381698608, pvalue=0.005497519392520189)"
      ]
     },
     "execution_count": 65,
     "metadata": {},
     "output_type": "execute_result"
    }
   ],
   "source": [
    "stats.shapiro(nec_assign_call_lg_2['ops_per_second'])"
   ]
  },
  {
   "cell_type": "markdown",
   "id": "familiar-supervision",
   "metadata": {},
   "source": [
    "According to the Shapiro-Wilk test with a boundary of 0.05 for the p-value, the second dataset is not normally distributed."
   ]
  },
  {
   "cell_type": "markdown",
   "id": "severe-objective",
   "metadata": {},
   "source": [
    "#### Test whether the performance after lambda merging differs from the performance before lambda merging"
   ]
  },
  {
   "cell_type": "markdown",
   "id": "relative-template",
   "metadata": {},
   "source": [
    "**Null hypothesis:** the ops/s is equal before and after lambda merging"
   ]
  },
  {
   "cell_type": "markdown",
   "id": "romance-walker",
   "metadata": {},
   "source": [
    "\n",
    "**Alternative hypothesis:** the ops/s is *not* equal before and after lambda merging"
   ]
  },
  {
   "cell_type": "markdown",
   "id": "enabling-horse",
   "metadata": {},
   "source": [
    "We take 0.05 as a threshold for the p-value."
   ]
  },
  {
   "cell_type": "markdown",
   "id": "unlimited-comedy",
   "metadata": {},
   "source": [
    "##### Wilcoxon Signed-Rank Test"
   ]
  },
  {
   "cell_type": "code",
   "execution_count": 67,
   "id": "supposed-financing",
   "metadata": {},
   "outputs": [
    {
     "data": {
      "text/plain": [
       "WilcoxonResult(statistic=147.0, pvalue=0.6915188431739807)"
      ]
     },
     "execution_count": 67,
     "metadata": {},
     "output_type": "execute_result"
    }
   ],
   "source": [
    "stats.wilcoxon(nec_assign_call_original_2['ops_per_second'], nec_assign_call_lg_2['ops_per_second'])"
   ]
  },
  {
   "cell_type": "markdown",
   "id": "controlling-dynamics",
   "metadata": {},
   "source": [
    "The value of 0.69 is higher than 0.05, so according to this test, the null hypothesis must not be rejected."
   ]
  },
  {
   "cell_type": "markdown",
   "id": "anticipated-intent",
   "metadata": {},
   "source": [
    "### Attempt 3 (Ubuntu)"
   ]
  },
  {
   "cell_type": "code",
   "execution_count": 80,
   "id": "short-equity",
   "metadata": {},
   "outputs": [],
   "source": [
    "nec_assign_call_original_3 = pd.read_csv(\"D:/Documenten/Leuven/Masterproef/notes/performance-evaluation/220421-12.52-ubuntu_multipleNonEmptyClosure3MillionAssignmentsAndCalls_base.csv\")\n",
    "nec_assign_call_lg_3 = pd.read_csv(\"D:/Documenten/Leuven/Masterproef/notes/performance-evaluation/220421-13.08-ubuntu_multipleNonEmptyClosure3MillionAssignmentsAndCalls_lambdagroups.csv\")"
   ]
  },
  {
   "cell_type": "markdown",
   "id": "sharp-event",
   "metadata": {},
   "source": [
    "#### Test homogeneity of variances"
   ]
  },
  {
   "cell_type": "code",
   "execution_count": 82,
   "id": "chief-culture",
   "metadata": {},
   "outputs": [
    {
     "data": {
      "text/plain": [
       "LeveneResult(statistic=0.8423653619363, pvalue=0.36331002918856703)"
      ]
     },
     "execution_count": 82,
     "metadata": {},
     "output_type": "execute_result"
    }
   ],
   "source": [
    "stats.levene(nec_assign_call_original_3['ops_per_second'], nec_assign_call_lg_3['ops_per_second'])"
   ]
  },
  {
   "cell_type": "markdown",
   "id": "ultimate-travel",
   "metadata": {},
   "source": [
    "The p-value of 0.36 signifies that the test is not significant, meaning there is homogeneity of variances."
   ]
  },
  {
   "cell_type": "markdown",
   "id": "standing-bunch",
   "metadata": {},
   "source": [
    "#### Test normal distribution"
   ]
  },
  {
   "cell_type": "code",
   "execution_count": 83,
   "id": "muslim-university",
   "metadata": {},
   "outputs": [
    {
     "data": {
      "image/png": "[encoded data removed]",
      "text/plain": [
       "<Figure size 432x288 with 1 Axes>"
      ]
     },
     "metadata": {
      "needs_background": "light"
     },
     "output_type": "display_data"
    }
   ],
   "source": [
    "nec_assign_call_original_3['ops_per_second'].plot(kind=\"hist\", title=\"Benchmark performance before lambda merging\")\n",
    "plt.xlabel(\"Performance (ops/s)\")\n",
    "plt.savefig('base_ops_per_second_3')"
   ]
  },
  {
   "cell_type": "code",
   "execution_count": 84,
   "id": "wrapped-venue",
   "metadata": {},
   "outputs": [
    {
     "data": {
      "image/png": "[encoded data removed]",
      "text/plain": [
       "<Figure size 432x288 with 1 Axes>"
      ]
     },
     "metadata": {
      "needs_background": "light"
     },
     "output_type": "display_data"
    }
   ],
   "source": [
    "nec_assign_call_lg_3['ops_per_second'].plot(kind=\"hist\", title= \"Benchmark performance after lambda merging\", color=\"green\")\n",
    "plt.xlabel(\"Performance (ops/s)\")\n",
    "plt.savefig('lambdagroups_ops_per_second_3')"
   ]
  },
  {
   "cell_type": "code",
   "execution_count": 85,
   "id": "worthy-photography",
   "metadata": {},
   "outputs": [
    {
     "data": {
      "image/png": "[encoded data removed]",
      "text/plain": [
       "<Figure size 432x288 with 1 Axes>"
      ]
     },
     "metadata": {
      "needs_background": "light"
     },
     "output_type": "display_data"
    }
   ],
   "source": [
    "stats.probplot(nec_assign_call_original_3['ops_per_second'], dist=\"norm\", plot= plt)\n",
    "plt.title(\"Benchmark performance before lambda merging Q-Q Plot\")\n",
    "plt.savefig(\"base_qqplot_3.png\")"
   ]
  },
  {
   "cell_type": "code",
   "execution_count": 86,
   "id": "given-african",
   "metadata": {},
   "outputs": [
    {
     "data": {
      "image/png": "[encoded data removed]",
      "text/plain": [
       "<Figure size 432x288 with 1 Axes>"
      ]
     },
     "metadata": {
      "needs_background": "light"
     },
     "output_type": "display_data"
    }
   ],
   "source": [
    "stats.probplot(nec_assign_call_lg_3['ops_per_second'], dist=\"norm\", plot= plt)\n",
    "plt.title(\"Benchmark performance after lambda merging Q-Q Plot\")\n",
    "plt.savefig(\"lambdagroups_qqplot_3.png\")"
   ]
  },
  {
   "cell_type": "code",
   "execution_count": 87,
   "id": "equivalent-sleep",
   "metadata": {},
   "outputs": [
    {
     "data": {
      "text/plain": [
       "ShapiroResult(statistic=0.7191476821899414, pvalue=1.3335505173017737e-05)"
      ]
     },
     "execution_count": 87,
     "metadata": {},
     "output_type": "execute_result"
    }
   ],
   "source": [
    "stats.shapiro(nec_assign_call_original_3['ops_per_second'])"
   ]
  },
  {
   "cell_type": "markdown",
   "id": "current-fashion",
   "metadata": {},
   "source": [
    "The p-value of 1.3e-05 is lower than the boundary of 0.05, so according to the Shapiro-Wilk test the second dataset is not normally distributed."
   ]
  },
  {
   "cell_type": "code",
   "execution_count": 88,
   "id": "surprised-vanilla",
   "metadata": {},
   "outputs": [
    {
     "data": {
      "text/plain": [
       "ShapiroResult(statistic=0.8239523768424988, pvalue=0.0005865103448741138)"
      ]
     },
     "execution_count": 88,
     "metadata": {},
     "output_type": "execute_result"
    }
   ],
   "source": [
    "stats.shapiro(nec_assign_call_lg_3['ops_per_second'])"
   ]
  },
  {
   "cell_type": "markdown",
   "id": "headed-quest",
   "metadata": {},
   "source": [
    "The p-value of 0.0005 is lower than the boundary of 0.05, so according to the Shapiro-Wilk test the second dataset is not normally distributed."
   ]
  },
  {
   "cell_type": "markdown",
   "id": "mathematical-lesbian",
   "metadata": {},
   "source": [
    "#### Test whether the performance after lambda merging differs from the performance before lambda merging"
   ]
  },
  {
   "cell_type": "markdown",
   "id": "breeding-measurement",
   "metadata": {},
   "source": [
    "**Null hypothesis:** the ops/s is equal before and after lambda merging"
   ]
  },
  {
   "cell_type": "markdown",
   "id": "quick-meditation",
   "metadata": {},
   "source": [
    "\n",
    "**Alternative hypothesis:** the ops/s is *not* equal before and after lambda merging"
   ]
  },
  {
   "cell_type": "markdown",
   "id": "associate-jaguar",
   "metadata": {},
   "source": [
    "We take 0.05 as a threshold for the p-value."
   ]
  },
  {
   "cell_type": "markdown",
   "id": "several-warehouse",
   "metadata": {},
   "source": [
    "##### Wilcoxon Signed-Rank Test"
   ]
  },
  {
   "cell_type": "code",
   "execution_count": 90,
   "id": "bright-tennis",
   "metadata": {},
   "outputs": [
    {
     "data": {
      "text/plain": [
       "WilcoxonResult(statistic=83.5, pvalue=0.034173786640167236)"
      ]
     },
     "execution_count": 90,
     "metadata": {},
     "output_type": "execute_result"
    }
   ],
   "source": [
    "stats.wilcoxon(nec_assign_call_original_3['ops_per_second'], nec_assign_call_lg_3['ops_per_second'])"
   ]
  },
  {
   "cell_type": "markdown",
   "id": "vertical-spray",
   "metadata": {},
   "source": [
    "The value of 0.034 is lower than 0.05, so according to this test, the null hypothesis must be rejected."
   ]
  },
  {
   "cell_type": "markdown",
   "id": "searching-enterprise",
   "metadata": {},
   "source": [
    "# Performance test algorithms"
   ]
  },
  {
   "cell_type": "code",
   "execution_count": 16,
   "id": "olive-paradise",
   "metadata": {},
   "outputs": [],
   "source": [
    "def generate_lambda(arity, implementation):\n",
    "    parameters = \"\"\n",
    "    for i in range(arity):\n",
    "        if i > 0:\n",
    "            parameters += \", \"\n",
    "        parameters += f\"a{i}: Int\"\n",
    "    if arity > 0:\n",
    "        parameters += \" -> \"\n",
    "    result = \"{\" + parameters + implementation + \"}\"\n",
    "    return result"
   ]
  },
  {
   "cell_type": "code",
   "execution_count": 27,
   "id": "choice-compact",
   "metadata": {},
   "outputs": [
    {
     "name": "stdout",
     "output_type": "stream",
     "text": [
      "val lambda0 = {a0: Int -> println(\"a0: $a0\")}\n",
      "val lambda1 = {a0: Int -> println(\"a0: $a0\")}\n",
      "val lambda2 = {a0: Int -> println(\"a0: $a0\")}\n",
      "val lambda3 = {a0: Int -> println(\"a0: $a0\")}\n",
      "val lambda4 = {a0: Int -> println(\"a0: $a0\")}\n",
      "val lambda5 = {a0: Int -> println(\"a0: $a0\")}\n",
      "val lambda6 = {a0: Int -> println(\"a0: $a0\")}\n",
      "val lambda7 = {a0: Int -> println(\"a0: $a0\")}\n",
      "val lambda8 = {a0: Int -> println(\"a0: $a0\")}\n",
      "val lambda9 = {a0: Int -> println(\"a0: $a0\")}\n",
      "val lambda10 = {a0: Int -> println(\"a0: $a0\")}\n",
      "val lambda11 = {a0: Int -> println(\"a0: $a0\")}\n",
      "val lambda12 = {a0: Int -> println(\"a0: $a0\")}\n",
      "val lambda13 = {a0: Int -> println(\"a0: $a0\")}\n",
      "val lambda14 = {a0: Int -> println(\"a0: $a0\")}\n",
      "val lambda15 = {a0: Int -> println(\"a0: $a0\")}\n",
      "val lambda16 = {a0: Int -> println(\"a0: $a0\")}\n",
      "val lambda17 = {a0: Int -> println(\"a0: $a0\")}\n",
      "val lambda18 = {a0: Int -> println(\"a0: $a0\")}\n",
      "val lambda19 = {a0: Int -> println(\"a0: $a0\")}\n",
      "val lambda20 = {a0: Int -> println(\"a0: $a0\")}\n",
      "val lambda21 = {a0: Int -> println(\"a0: $a0\")}\n",
      "val lambda22 = {a0: Int -> println(\"a0: $a0\")}\n",
      "val lambda23 = {a0: Int -> println(\"a0: $a0\")}\n",
      "val lambda24 = {a0: Int -> println(\"a0: $a0\")}\n",
      "val lambda25 = {a0: Int -> println(\"a0: $a0\")}\n",
      "val lambda26 = {a0: Int -> println(\"a0: $a0\")}\n",
      "val lambda27 = {a0: Int -> println(\"a0: $a0\")}\n",
      "val lambda28 = {a0: Int -> println(\"a0: $a0\")}\n",
      "val lambda29 = {a0: Int -> println(\"a0: $a0\")}\n",
      "val lambda30 = {a0: Int -> println(\"a0: $a0\")}\n",
      "val lambda31 = {a0: Int -> println(\"a0: $a0\")}\n",
      "val lambda32 = {a0: Int -> println(\"a0: $a0\")}\n",
      "val lambda33 = {a0: Int -> println(\"a0: $a0\")}\n",
      "val lambda34 = {a0: Int -> println(\"a0: $a0\")}\n",
      "val lambda35 = {a0: Int -> println(\"a0: $a0\")}\n",
      "val lambda36 = {a0: Int -> println(\"a0: $a0\")}\n",
      "val lambda37 = {a0: Int -> println(\"a0: $a0\")}\n",
      "val lambda38 = {a0: Int -> println(\"a0: $a0\")}\n",
      "val lambda39 = {a0: Int -> println(\"a0: $a0\")}\n",
      "val lambda40 = {a0: Int -> println(\"a0: $a0\")}\n",
      "val lambda41 = {a0: Int -> println(\"a0: $a0\")}\n",
      "val lambda42 = {a0: Int -> println(\"a0: $a0\")}\n",
      "val lambda43 = {a0: Int -> println(\"a0: $a0\")}\n",
      "val lambda44 = {a0: Int -> println(\"a0: $a0\")}\n",
      "val lambda45 = {a0: Int -> println(\"a0: $a0\")}\n",
      "val lambda46 = {a0: Int -> println(\"a0: $a0\")}\n",
      "val lambda47 = {a0: Int -> println(\"a0: $a0\")}\n",
      "val lambda48 = {a0: Int -> println(\"a0: $a0\")}\n",
      "val lambda49 = {a0: Int -> println(\"a0: $a0\")}\n",
      "val lambda50 = {a0: Int -> println(\"a0: $a0\")}\n",
      "val lambda51 = {a0: Int -> println(\"a0: $a0\")}\n",
      "val lambda52 = {a0: Int -> println(\"a0: $a0\")}\n",
      "val lambda53 = {a0: Int -> println(\"a0: $a0\")}\n",
      "val lambda54 = {a0: Int -> println(\"a0: $a0\")}\n",
      "val lambda55 = {a0: Int -> println(\"a0: $a0\")}\n",
      "val lambda56 = {a0: Int -> println(\"a0: $a0\")}\n",
      "val lambda57 = {a0: Int -> println(\"a0: $a0\")}\n",
      "val lambda58 = {a0: Int -> println(\"a0: $a0\")}\n",
      "val lambda59 = {a0: Int -> println(\"a0: $a0\")}\n",
      "val lambda60 = {a0: Int -> println(\"a0: $a0\")}\n",
      "val lambda61 = {a0: Int -> println(\"a0: $a0\")}\n",
      "val lambda62 = {a0: Int -> println(\"a0: $a0\")}\n",
      "val lambda63 = {a0: Int -> println(\"a0: $a0\")}\n",
      "val lambda64 = {a0: Int -> println(\"a0: $a0\")}\n",
      "val lambda65 = {a0: Int -> println(\"a0: $a0\")}\n",
      "val lambda66 = {a0: Int -> println(\"a0: $a0\")}\n",
      "val lambda67 = {a0: Int -> println(\"a0: $a0\")}\n",
      "val lambda68 = {a0: Int -> println(\"a0: $a0\")}\n",
      "val lambda69 = {a0: Int -> println(\"a0: $a0\")}\n",
      "val lambda70 = {a0: Int -> println(\"a0: $a0\")}\n",
      "val lambda71 = {a0: Int -> println(\"a0: $a0\")}\n",
      "val lambda72 = {a0: Int -> println(\"a0: $a0\")}\n",
      "val lambda73 = {a0: Int -> println(\"a0: $a0\")}\n",
      "val lambda74 = {a0: Int -> println(\"a0: $a0\")}\n",
      "val lambda75 = {a0: Int -> println(\"a0: $a0\")}\n",
      "val lambda76 = {a0: Int -> println(\"a0: $a0\")}\n",
      "val lambda77 = {a0: Int -> println(\"a0: $a0\")}\n",
      "val lambda78 = {a0: Int -> println(\"a0: $a0\")}\n",
      "val lambda79 = {a0: Int -> println(\"a0: $a0\")}\n",
      "val lambda80 = {a0: Int -> println(\"a0: $a0\")}\n",
      "val lambda81 = {a0: Int -> println(\"a0: $a0\")}\n",
      "val lambda82 = {a0: Int -> println(\"a0: $a0\")}\n",
      "val lambda83 = {a0: Int -> println(\"a0: $a0\")}\n",
      "val lambda84 = {a0: Int -> println(\"a0: $a0\")}\n",
      "val lambda85 = {a0: Int -> println(\"a0: $a0\")}\n",
      "val lambda86 = {a0: Int -> println(\"a0: $a0\")}\n",
      "val lambda87 = {a0: Int -> println(\"a0: $a0\")}\n",
      "val lambda88 = {a0: Int -> println(\"a0: $a0\")}\n",
      "val lambda89 = {a0: Int -> println(\"a0: $a0\")}\n",
      "val lambda90 = {a0: Int -> println(\"a0: $a0\")}\n",
      "val lambda91 = {a0: Int -> println(\"a0: $a0\")}\n",
      "val lambda92 = {a0: Int -> println(\"a0: $a0\")}\n",
      "val lambda93 = {a0: Int -> println(\"a0: $a0\")}\n",
      "val lambda94 = {a0: Int -> println(\"a0: $a0\")}\n",
      "val lambda95 = {a0: Int -> println(\"a0: $a0\")}\n",
      "val lambda96 = {a0: Int -> println(\"a0: $a0\")}\n",
      "val lambda97 = {a0: Int -> println(\"a0: $a0\")}\n",
      "val lambda98 = {a0: Int -> println(\"a0: $a0\")}\n",
      "val lambda99 = {a0: Int -> println(\"a0: $a0\")}\n",
      "val lambda100 = {a0: Int -> println(\"a0: $a0\")}\n",
      "val lambda101 = {a0: Int -> println(\"a0: $a0\")}\n",
      "val lambda102 = {a0: Int -> println(\"a0: $a0\")}\n",
      "val lambda103 = {a0: Int -> println(\"a0: $a0\")}\n",
      "val lambda104 = {a0: Int -> println(\"a0: $a0\")}\n",
      "val lambda105 = {a0: Int -> println(\"a0: $a0\")}\n",
      "val lambda106 = {a0: Int -> println(\"a0: $a0\")}\n",
      "val lambda107 = {a0: Int -> println(\"a0: $a0\")}\n",
      "val lambda108 = {a0: Int -> println(\"a0: $a0\")}\n",
      "val lambda109 = {a0: Int -> println(\"a0: $a0\")}\n",
      "val lambda110 = {a0: Int -> println(\"a0: $a0\")}\n",
      "val lambda111 = {a0: Int -> println(\"a0: $a0\")}\n",
      "val lambda112 = {a0: Int -> println(\"a0: $a0\")}\n",
      "val lambda113 = {a0: Int -> println(\"a0: $a0\")}\n",
      "val lambda114 = {a0: Int -> println(\"a0: $a0\")}\n",
      "val lambda115 = {a0: Int -> println(\"a0: $a0\")}\n",
      "val lambda116 = {a0: Int -> println(\"a0: $a0\")}\n",
      "val lambda117 = {a0: Int -> println(\"a0: $a0\")}\n",
      "val lambda118 = {a0: Int -> println(\"a0: $a0\")}\n",
      "val lambda119 = {a0: Int -> println(\"a0: $a0\")}\n",
      "val lambda120 = {a0: Int -> println(\"a0: $a0\")}\n",
      "val lambda121 = {a0: Int -> println(\"a0: $a0\")}\n",
      "val lambda122 = {a0: Int -> println(\"a0: $a0\")}\n",
      "val lambda123 = {a0: Int -> println(\"a0: $a0\")}\n",
      "val lambda124 = {a0: Int -> println(\"a0: $a0\")}\n",
      "val lambda125 = {a0: Int -> println(\"a0: $a0\")}\n",
      "val lambda126 = {a0: Int -> println(\"a0: $a0\")}\n",
      "val lambda127 = {a0: Int -> println(\"a0: $a0\")}\n",
      "val lambda128 = {a0: Int -> println(\"a0: $a0\")}\n",
      "val lambda129 = {a0: Int -> println(\"a0: $a0\")}\n",
      "val lambda130 = {a0: Int -> println(\"a0: $a0\")}\n",
      "val lambda131 = {a0: Int -> println(\"a0: $a0\")}\n",
      "val lambda132 = {a0: Int -> println(\"a0: $a0\")}\n",
      "val lambda133 = {a0: Int -> println(\"a0: $a0\")}\n",
      "val lambda134 = {a0: Int -> println(\"a0: $a0\")}\n",
      "val lambda135 = {a0: Int -> println(\"a0: $a0\")}\n",
      "val lambda136 = {a0: Int -> println(\"a0: $a0\")}\n",
      "val lambda137 = {a0: Int -> println(\"a0: $a0\")}\n",
      "val lambda138 = {a0: Int -> println(\"a0: $a0\")}\n",
      "val lambda139 = {a0: Int -> println(\"a0: $a0\")}\n",
      "val lambda140 = {a0: Int -> println(\"a0: $a0\")}\n",
      "val lambda141 = {a0: Int -> println(\"a0: $a0\")}\n",
      "val lambda142 = {a0: Int -> println(\"a0: $a0\")}\n",
      "val lambda143 = {a0: Int -> println(\"a0: $a0\")}\n",
      "val lambda144 = {a0: Int -> println(\"a0: $a0\")}\n",
      "val lambda145 = {a0: Int -> println(\"a0: $a0\")}\n",
      "val lambda146 = {a0: Int -> println(\"a0: $a0\")}\n",
      "val lambda147 = {a0: Int -> println(\"a0: $a0\")}\n",
      "val lambda148 = {a0: Int -> println(\"a0: $a0\")}\n",
      "val lambda149 = {a0: Int -> println(\"a0: $a0\")}\n",
      "val lambda150 = {a0: Int -> println(\"a0: $a0\")}\n",
      "val lambda151 = {a0: Int -> println(\"a0: $a0\")}\n",
      "val lambda152 = {a0: Int -> println(\"a0: $a0\")}\n",
      "val lambda153 = {a0: Int -> println(\"a0: $a0\")}\n",
      "val lambda154 = {a0: Int -> println(\"a0: $a0\")}\n",
      "val lambda155 = {a0: Int -> println(\"a0: $a0\")}\n",
      "val lambda156 = {a0: Int -> println(\"a0: $a0\")}\n",
      "val lambda157 = {a0: Int -> println(\"a0: $a0\")}\n",
      "val lambda158 = {a0: Int -> println(\"a0: $a0\")}\n",
      "val lambda159 = {a0: Int -> println(\"a0: $a0\")}\n",
      "val lambda160 = {a0: Int -> println(\"a0: $a0\")}\n",
      "val lambda161 = {a0: Int -> println(\"a0: $a0\")}\n",
      "val lambda162 = {a0: Int -> println(\"a0: $a0\")}\n",
      "val lambda163 = {a0: Int -> println(\"a0: $a0\")}\n",
      "val lambda164 = {a0: Int -> println(\"a0: $a0\")}\n",
      "val lambda165 = {a0: Int -> println(\"a0: $a0\")}\n",
      "val lambda166 = {a0: Int -> println(\"a0: $a0\")}\n",
      "val lambda167 = {a0: Int -> println(\"a0: $a0\")}\n",
      "val lambda168 = {a0: Int -> println(\"a0: $a0\")}\n",
      "val lambda169 = {a0: Int -> println(\"a0: $a0\")}\n",
      "val lambda170 = {a0: Int -> println(\"a0: $a0\")}\n",
      "val lambda171 = {a0: Int -> println(\"a0: $a0\")}\n",
      "val lambda172 = {a0: Int -> println(\"a0: $a0\")}\n",
      "val lambda173 = {a0: Int -> println(\"a0: $a0\")}\n",
      "val lambda174 = {a0: Int -> println(\"a0: $a0\")}\n",
      "val lambda175 = {a0: Int -> println(\"a0: $a0\")}\n",
      "val lambda176 = {a0: Int -> println(\"a0: $a0\")}\n",
      "val lambda177 = {a0: Int -> println(\"a0: $a0\")}\n",
      "val lambda178 = {a0: Int -> println(\"a0: $a0\")}\n",
      "val lambda179 = {a0: Int -> println(\"a0: $a0\")}\n",
      "val lambda180 = {a0: Int -> println(\"a0: $a0\")}\n",
      "val lambda181 = {a0: Int -> println(\"a0: $a0\")}\n",
      "val lambda182 = {a0: Int -> println(\"a0: $a0\")}\n",
      "val lambda183 = {a0: Int -> println(\"a0: $a0\")}\n",
      "val lambda184 = {a0: Int -> println(\"a0: $a0\")}\n",
      "val lambda185 = {a0: Int -> println(\"a0: $a0\")}\n",
      "val lambda186 = {a0: Int -> println(\"a0: $a0\")}\n",
      "val lambda187 = {a0: Int -> println(\"a0: $a0\")}\n",
      "val lambda188 = {a0: Int -> println(\"a0: $a0\")}\n",
      "val lambda189 = {a0: Int -> println(\"a0: $a0\")}\n",
      "val lambda190 = {a0: Int -> println(\"a0: $a0\")}\n",
      "val lambda191 = {a0: Int -> println(\"a0: $a0\")}\n",
      "val lambda192 = {a0: Int -> println(\"a0: $a0\")}\n",
      "val lambda193 = {a0: Int -> println(\"a0: $a0\")}\n",
      "val lambda194 = {a0: Int -> println(\"a0: $a0\")}\n",
      "val lambda195 = {a0: Int -> println(\"a0: $a0\")}\n",
      "val lambda196 = {a0: Int -> println(\"a0: $a0\")}\n",
      "val lambda197 = {a0: Int -> println(\"a0: $a0\")}\n",
      "val lambda198 = {a0: Int -> println(\"a0: $a0\")}\n",
      "val lambda199 = {a0: Int -> println(\"a0: $a0\")}\n",
      "val lambda200 = {a0: Int -> println(\"a0: $a0\")}\n",
      "val lambda201 = {a0: Int -> println(\"a0: $a0\")}\n",
      "val lambda202 = {a0: Int -> println(\"a0: $a0\")}\n",
      "val lambda203 = {a0: Int -> println(\"a0: $a0\")}\n",
      "val lambda204 = {a0: Int -> println(\"a0: $a0\")}\n",
      "val lambda205 = {a0: Int -> println(\"a0: $a0\")}\n",
      "val lambda206 = {a0: Int -> println(\"a0: $a0\")}\n",
      "val lambda207 = {a0: Int -> println(\"a0: $a0\")}\n",
      "val lambda208 = {a0: Int -> println(\"a0: $a0\")}\n",
      "val lambda209 = {a0: Int -> println(\"a0: $a0\")}\n",
      "val lambda210 = {a0: Int -> println(\"a0: $a0\")}\n",
      "val lambda211 = {a0: Int -> println(\"a0: $a0\")}\n",
      "val lambda212 = {a0: Int -> println(\"a0: $a0\")}\n",
      "val lambda213 = {a0: Int -> println(\"a0: $a0\")}\n",
      "val lambda214 = {a0: Int -> println(\"a0: $a0\")}\n",
      "val lambda215 = {a0: Int -> println(\"a0: $a0\")}\n",
      "val lambda216 = {a0: Int -> println(\"a0: $a0\")}\n",
      "val lambda217 = {a0: Int -> println(\"a0: $a0\")}\n",
      "val lambda218 = {a0: Int -> println(\"a0: $a0\")}\n",
      "val lambda219 = {a0: Int -> println(\"a0: $a0\")}\n",
      "val lambda220 = {a0: Int -> println(\"a0: $a0\")}\n",
      "val lambda221 = {a0: Int -> println(\"a0: $a0\")}\n",
      "val lambda222 = {a0: Int -> println(\"a0: $a0\")}\n",
      "val lambda223 = {a0: Int -> println(\"a0: $a0\")}\n",
      "val lambda224 = {a0: Int -> println(\"a0: $a0\")}\n",
      "val lambda225 = {a0: Int -> println(\"a0: $a0\")}\n",
      "val lambda226 = {a0: Int -> println(\"a0: $a0\")}\n",
      "val lambda227 = {a0: Int -> println(\"a0: $a0\")}\n",
      "val lambda228 = {a0: Int -> println(\"a0: $a0\")}\n",
      "val lambda229 = {a0: Int -> println(\"a0: $a0\")}\n",
      "val lambda230 = {a0: Int -> println(\"a0: $a0\")}\n",
      "val lambda231 = {a0: Int -> println(\"a0: $a0\")}\n",
      "val lambda232 = {a0: Int -> println(\"a0: $a0\")}\n",
      "val lambda233 = {a0: Int -> println(\"a0: $a0\")}\n",
      "val lambda234 = {a0: Int -> println(\"a0: $a0\")}\n",
      "val lambda235 = {a0: Int -> println(\"a0: $a0\")}\n",
      "val lambda236 = {a0: Int -> println(\"a0: $a0\")}\n",
      "val lambda237 = {a0: Int -> println(\"a0: $a0\")}\n",
      "val lambda238 = {a0: Int -> println(\"a0: $a0\")}\n",
      "val lambda239 = {a0: Int -> println(\"a0: $a0\")}\n",
      "val lambda240 = {a0: Int -> println(\"a0: $a0\")}\n",
      "val lambda241 = {a0: Int -> println(\"a0: $a0\")}\n",
      "val lambda242 = {a0: Int -> println(\"a0: $a0\")}\n",
      "val lambda243 = {a0: Int -> println(\"a0: $a0\")}\n",
      "val lambda244 = {a0: Int -> println(\"a0: $a0\")}\n",
      "val lambda245 = {a0: Int -> println(\"a0: $a0\")}\n",
      "val lambda246 = {a0: Int -> println(\"a0: $a0\")}\n",
      "val lambda247 = {a0: Int -> println(\"a0: $a0\")}\n",
      "val lambda248 = {a0: Int -> println(\"a0: $a0\")}\n",
      "val lambda249 = {a0: Int -> println(\"a0: $a0\")}\n",
      "val lambda250 = {a0: Int -> println(\"a0: $a0\")}\n",
      "val lambda251 = {a0: Int -> println(\"a0: $a0\")}\n",
      "val lambda252 = {a0: Int -> println(\"a0: $a0\")}\n",
      "val lambda253 = {a0: Int -> println(\"a0: $a0\")}\n",
      "val lambda254 = {a0: Int -> println(\"a0: $a0\")}\n",
      "val lambda255 = {a0: Int -> println(\"a0: $a0\")}\n",
      "val lambda256 = {a0: Int -> println(\"a0: $a0\")}\n",
      "val lambda257 = {a0: Int -> println(\"a0: $a0\")}\n",
      "val lambda258 = {a0: Int -> println(\"a0: $a0\")}\n",
      "val lambda259 = {a0: Int -> println(\"a0: $a0\")}\n",
      "val lambda260 = {a0: Int -> println(\"a0: $a0\")}\n",
      "val lambda261 = {a0: Int -> println(\"a0: $a0\")}\n",
      "val lambda262 = {a0: Int -> println(\"a0: $a0\")}\n",
      "val lambda263 = {a0: Int -> println(\"a0: $a0\")}\n",
      "val lambda264 = {a0: Int -> println(\"a0: $a0\")}\n",
      "val lambda265 = {a0: Int -> println(\"a0: $a0\")}\n",
      "val lambda266 = {a0: Int -> println(\"a0: $a0\")}\n",
      "val lambda267 = {a0: Int -> println(\"a0: $a0\")}\n",
      "val lambda268 = {a0: Int -> println(\"a0: $a0\")}\n",
      "val lambda269 = {a0: Int -> println(\"a0: $a0\")}\n",
      "val lambda270 = {a0: Int -> println(\"a0: $a0\")}\n",
      "val lambda271 = {a0: Int -> println(\"a0: $a0\")}\n",
      "val lambda272 = {a0: Int -> println(\"a0: $a0\")}\n",
      "val lambda273 = {a0: Int -> println(\"a0: $a0\")}\n",
      "val lambda274 = {a0: Int -> println(\"a0: $a0\")}\n",
      "val lambda275 = {a0: Int -> println(\"a0: $a0\")}\n",
      "val lambda276 = {a0: Int -> println(\"a0: $a0\")}\n",
      "val lambda277 = {a0: Int -> println(\"a0: $a0\")}\n",
      "val lambda278 = {a0: Int -> println(\"a0: $a0\")}\n",
      "val lambda279 = {a0: Int -> println(\"a0: $a0\")}\n",
      "val lambda280 = {a0: Int -> println(\"a0: $a0\")}\n",
      "val lambda281 = {a0: Int -> println(\"a0: $a0\")}\n",
      "val lambda282 = {a0: Int -> println(\"a0: $a0\")}\n",
      "val lambda283 = {a0: Int -> println(\"a0: $a0\")}\n",
      "val lambda284 = {a0: Int -> println(\"a0: $a0\")}\n",
      "val lambda285 = {a0: Int -> println(\"a0: $a0\")}\n",
      "val lambda286 = {a0: Int -> println(\"a0: $a0\")}\n",
      "val lambda287 = {a0: Int -> println(\"a0: $a0\")}\n",
      "val lambda288 = {a0: Int -> println(\"a0: $a0\")}\n",
      "val lambda289 = {a0: Int -> println(\"a0: $a0\")}\n",
      "val lambda290 = {a0: Int -> println(\"a0: $a0\")}\n",
      "val lambda291 = {a0: Int -> println(\"a0: $a0\")}\n",
      "val lambda292 = {a0: Int -> println(\"a0: $a0\")}\n",
      "val lambda293 = {a0: Int -> println(\"a0: $a0\")}\n",
      "val lambda294 = {a0: Int -> println(\"a0: $a0\")}\n",
      "val lambda295 = {a0: Int -> println(\"a0: $a0\")}\n",
      "val lambda296 = {a0: Int -> println(\"a0: $a0\")}\n",
      "val lambda297 = {a0: Int -> println(\"a0: $a0\")}\n",
      "val lambda298 = {a0: Int -> println(\"a0: $a0\")}\n",
      "val lambda299 = {a0: Int -> println(\"a0: $a0\")}\n",
      "val lambda300 = {a0: Int -> println(\"a0: $a0\")}\n",
      "val lambda301 = {a0: Int -> println(\"a0: $a0\")}\n",
      "val lambda302 = {a0: Int -> println(\"a0: $a0\")}\n",
      "val lambda303 = {a0: Int -> println(\"a0: $a0\")}\n",
      "val lambda304 = {a0: Int -> println(\"a0: $a0\")}\n",
      "val lambda305 = {a0: Int -> println(\"a0: $a0\")}\n",
      "val lambda306 = {a0: Int -> println(\"a0: $a0\")}\n",
      "val lambda307 = {a0: Int -> println(\"a0: $a0\")}\n",
      "val lambda308 = {a0: Int -> println(\"a0: $a0\")}\n",
      "val lambda309 = {a0: Int -> println(\"a0: $a0\")}\n",
      "val lambda310 = {a0: Int -> println(\"a0: $a0\")}\n",
      "val lambda311 = {a0: Int -> println(\"a0: $a0\")}\n",
      "val lambda312 = {a0: Int -> println(\"a0: $a0\")}\n",
      "val lambda313 = {a0: Int -> println(\"a0: $a0\")}\n",
      "val lambda314 = {a0: Int -> println(\"a0: $a0\")}\n",
      "val lambda315 = {a0: Int -> println(\"a0: $a0\")}\n",
      "val lambda316 = {a0: Int -> println(\"a0: $a0\")}\n",
      "val lambda317 = {a0: Int -> println(\"a0: $a0\")}\n",
      "val lambda318 = {a0: Int -> println(\"a0: $a0\")}\n",
      "val lambda319 = {a0: Int -> println(\"a0: $a0\")}\n",
      "val lambda320 = {a0: Int -> println(\"a0: $a0\")}\n",
      "val lambda321 = {a0: Int -> println(\"a0: $a0\")}\n",
      "val lambda322 = {a0: Int -> println(\"a0: $a0\")}\n",
      "val lambda323 = {a0: Int -> println(\"a0: $a0\")}\n",
      "val lambda324 = {a0: Int -> println(\"a0: $a0\")}\n",
      "val lambda325 = {a0: Int -> println(\"a0: $a0\")}\n",
      "val lambda326 = {a0: Int -> println(\"a0: $a0\")}\n",
      "val lambda327 = {a0: Int -> println(\"a0: $a0\")}\n",
      "val lambda328 = {a0: Int -> println(\"a0: $a0\")}\n",
      "val lambda329 = {a0: Int -> println(\"a0: $a0\")}\n",
      "val lambda330 = {a0: Int -> println(\"a0: $a0\")}\n",
      "val lambda331 = {a0: Int -> println(\"a0: $a0\")}\n",
      "val lambda332 = {a0: Int -> println(\"a0: $a0\")}\n",
      "val lambda333 = {a0: Int -> println(\"a0: $a0\")}\n",
      "val lambda334 = {a0: Int -> println(\"a0: $a0\")}\n",
      "val lambda335 = {a0: Int -> println(\"a0: $a0\")}\n",
      "val lambda336 = {a0: Int -> println(\"a0: $a0\")}\n",
      "val lambda337 = {a0: Int -> println(\"a0: $a0\")}\n",
      "val lambda338 = {a0: Int -> println(\"a0: $a0\")}\n",
      "val lambda339 = {a0: Int -> println(\"a0: $a0\")}\n",
      "val lambda340 = {a0: Int -> println(\"a0: $a0\")}\n",
      "val lambda341 = {a0: Int -> println(\"a0: $a0\")}\n",
      "val lambda342 = {a0: Int -> println(\"a0: $a0\")}\n",
      "val lambda343 = {a0: Int -> println(\"a0: $a0\")}\n",
      "val lambda344 = {a0: Int -> println(\"a0: $a0\")}\n",
      "val lambda345 = {a0: Int -> println(\"a0: $a0\")}\n",
      "val lambda346 = {a0: Int -> println(\"a0: $a0\")}\n",
      "val lambda347 = {a0: Int -> println(\"a0: $a0\")}\n",
      "val lambda348 = {a0: Int -> println(\"a0: $a0\")}\n",
      "val lambda349 = {a0: Int -> println(\"a0: $a0\")}\n",
      "val lambda350 = {a0: Int -> println(\"a0: $a0\")}\n",
      "val lambda351 = {a0: Int -> println(\"a0: $a0\")}\n",
      "val lambda352 = {a0: Int -> println(\"a0: $a0\")}\n",
      "val lambda353 = {a0: Int -> println(\"a0: $a0\")}\n",
      "val lambda354 = {a0: Int -> println(\"a0: $a0\")}\n",
      "val lambda355 = {a0: Int -> println(\"a0: $a0\")}\n",
      "val lambda356 = {a0: Int -> println(\"a0: $a0\")}\n",
      "val lambda357 = {a0: Int -> println(\"a0: $a0\")}\n",
      "val lambda358 = {a0: Int -> println(\"a0: $a0\")}\n",
      "val lambda359 = {a0: Int -> println(\"a0: $a0\")}\n",
      "val lambda360 = {a0: Int -> println(\"a0: $a0\")}\n",
      "val lambda361 = {a0: Int -> println(\"a0: $a0\")}\n",
      "val lambda362 = {a0: Int -> println(\"a0: $a0\")}\n",
      "val lambda363 = {a0: Int -> println(\"a0: $a0\")}\n",
      "val lambda364 = {a0: Int -> println(\"a0: $a0\")}\n",
      "val lambda365 = {a0: Int -> println(\"a0: $a0\")}\n",
      "val lambda366 = {a0: Int -> println(\"a0: $a0\")}\n",
      "val lambda367 = {a0: Int -> println(\"a0: $a0\")}\n",
      "val lambda368 = {a0: Int -> println(\"a0: $a0\")}\n",
      "val lambda369 = {a0: Int -> println(\"a0: $a0\")}\n",
      "val lambda370 = {a0: Int -> println(\"a0: $a0\")}\n",
      "val lambda371 = {a0: Int -> println(\"a0: $a0\")}\n",
      "val lambda372 = {a0: Int -> println(\"a0: $a0\")}\n",
      "val lambda373 = {a0: Int -> println(\"a0: $a0\")}\n",
      "val lambda374 = {a0: Int -> println(\"a0: $a0\")}\n",
      "val lambda375 = {a0: Int -> println(\"a0: $a0\")}\n",
      "val lambda376 = {a0: Int -> println(\"a0: $a0\")}\n",
      "val lambda377 = {a0: Int -> println(\"a0: $a0\")}\n",
      "val lambda378 = {a0: Int -> println(\"a0: $a0\")}\n",
      "val lambda379 = {a0: Int -> println(\"a0: $a0\")}\n",
      "val lambda380 = {a0: Int -> println(\"a0: $a0\")}\n",
      "val lambda381 = {a0: Int -> println(\"a0: $a0\")}\n",
      "val lambda382 = {a0: Int -> println(\"a0: $a0\")}\n",
      "val lambda383 = {a0: Int -> println(\"a0: $a0\")}\n",
      "val lambda384 = {a0: Int -> println(\"a0: $a0\")}\n",
      "val lambda385 = {a0: Int -> println(\"a0: $a0\")}\n",
      "val lambda386 = {a0: Int -> println(\"a0: $a0\")}\n",
      "val lambda387 = {a0: Int -> println(\"a0: $a0\")}\n",
      "val lambda388 = {a0: Int -> println(\"a0: $a0\")}\n",
      "val lambda389 = {a0: Int -> println(\"a0: $a0\")}\n",
      "val lambda390 = {a0: Int -> println(\"a0: $a0\")}\n",
      "val lambda391 = {a0: Int -> println(\"a0: $a0\")}\n",
      "val lambda392 = {a0: Int -> println(\"a0: $a0\")}\n",
      "val lambda393 = {a0: Int -> println(\"a0: $a0\")}\n",
      "val lambda394 = {a0: Int -> println(\"a0: $a0\")}\n",
      "val lambda395 = {a0: Int -> println(\"a0: $a0\")}\n",
      "val lambda396 = {a0: Int -> println(\"a0: $a0\")}\n",
      "val lambda397 = {a0: Int -> println(\"a0: $a0\")}\n",
      "val lambda398 = {a0: Int -> println(\"a0: $a0\")}\n",
      "val lambda399 = {a0: Int -> println(\"a0: $a0\")}\n",
      "val lambda400 = {a0: Int -> println(\"a0: $a0\")}\n",
      "val lambda401 = {a0: Int -> println(\"a0: $a0\")}\n",
      "val lambda402 = {a0: Int -> println(\"a0: $a0\")}\n",
      "val lambda403 = {a0: Int -> println(\"a0: $a0\")}\n",
      "val lambda404 = {a0: Int -> println(\"a0: $a0\")}\n",
      "val lambda405 = {a0: Int -> println(\"a0: $a0\")}\n",
      "val lambda406 = {a0: Int -> println(\"a0: $a0\")}\n",
      "val lambda407 = {a0: Int -> println(\"a0: $a0\")}\n",
      "val lambda408 = {a0: Int -> println(\"a0: $a0\")}\n",
      "val lambda409 = {a0: Int -> println(\"a0: $a0\")}\n",
      "val lambda410 = {a0: Int -> println(\"a0: $a0\")}\n",
      "val lambda411 = {a0: Int -> println(\"a0: $a0\")}\n",
      "val lambda412 = {a0: Int -> println(\"a0: $a0\")}\n",
      "val lambda413 = {a0: Int -> println(\"a0: $a0\")}\n",
      "val lambda414 = {a0: Int -> println(\"a0: $a0\")}\n",
      "val lambda415 = {a0: Int -> println(\"a0: $a0\")}\n",
      "val lambda416 = {a0: Int -> println(\"a0: $a0\")}\n",
      "val lambda417 = {a0: Int -> println(\"a0: $a0\")}\n",
      "val lambda418 = {a0: Int -> println(\"a0: $a0\")}\n",
      "val lambda419 = {a0: Int -> println(\"a0: $a0\")}\n",
      "val lambda420 = {a0: Int -> println(\"a0: $a0\")}\n",
      "val lambda421 = {a0: Int -> println(\"a0: $a0\")}\n",
      "val lambda422 = {a0: Int -> println(\"a0: $a0\")}\n",
      "val lambda423 = {a0: Int -> println(\"a0: $a0\")}\n",
      "val lambda424 = {a0: Int -> println(\"a0: $a0\")}\n",
      "val lambda425 = {a0: Int -> println(\"a0: $a0\")}\n",
      "val lambda426 = {a0: Int -> println(\"a0: $a0\")}\n",
      "val lambda427 = {a0: Int -> println(\"a0: $a0\")}\n",
      "val lambda428 = {a0: Int -> println(\"a0: $a0\")}\n",
      "val lambda429 = {a0: Int -> println(\"a0: $a0\")}\n",
      "val lambda430 = {a0: Int -> println(\"a0: $a0\")}\n",
      "val lambda431 = {a0: Int -> println(\"a0: $a0\")}\n",
      "val lambda432 = {a0: Int -> println(\"a0: $a0\")}\n",
      "val lambda433 = {a0: Int -> println(\"a0: $a0\")}\n",
      "val lambda434 = {a0: Int -> println(\"a0: $a0\")}\n",
      "val lambda435 = {a0: Int -> println(\"a0: $a0\")}\n",
      "val lambda436 = {a0: Int -> println(\"a0: $a0\")}\n",
      "val lambda437 = {a0: Int -> println(\"a0: $a0\")}\n",
      "val lambda438 = {a0: Int -> println(\"a0: $a0\")}\n",
      "val lambda439 = {a0: Int -> println(\"a0: $a0\")}\n",
      "val lambda440 = {a0: Int -> println(\"a0: $a0\")}\n",
      "val lambda441 = {a0: Int -> println(\"a0: $a0\")}\n",
      "val lambda442 = {a0: Int -> println(\"a0: $a0\")}\n",
      "val lambda443 = {a0: Int -> println(\"a0: $a0\")}\n",
      "val lambda444 = {a0: Int -> println(\"a0: $a0\")}\n",
      "val lambda445 = {a0: Int -> println(\"a0: $a0\")}\n",
      "val lambda446 = {a0: Int -> println(\"a0: $a0\")}\n",
      "val lambda447 = {a0: Int -> println(\"a0: $a0\")}\n",
      "val lambda448 = {a0: Int -> println(\"a0: $a0\")}\n",
      "val lambda449 = {a0: Int -> println(\"a0: $a0\")}\n",
      "val lambda450 = {a0: Int -> println(\"a0: $a0\")}\n",
      "val lambda451 = {a0: Int -> println(\"a0: $a0\")}\n",
      "val lambda452 = {a0: Int -> println(\"a0: $a0\")}\n",
      "val lambda453 = {a0: Int -> println(\"a0: $a0\")}\n",
      "val lambda454 = {a0: Int -> println(\"a0: $a0\")}\n",
      "val lambda455 = {a0: Int -> println(\"a0: $a0\")}\n",
      "val lambda456 = {a0: Int -> println(\"a0: $a0\")}\n",
      "val lambda457 = {a0: Int -> println(\"a0: $a0\")}\n",
      "val lambda458 = {a0: Int -> println(\"a0: $a0\")}\n",
      "val lambda459 = {a0: Int -> println(\"a0: $a0\")}\n",
      "val lambda460 = {a0: Int -> println(\"a0: $a0\")}\n",
      "val lambda461 = {a0: Int -> println(\"a0: $a0\")}\n",
      "val lambda462 = {a0: Int -> println(\"a0: $a0\")}\n",
      "val lambda463 = {a0: Int -> println(\"a0: $a0\")}\n",
      "val lambda464 = {a0: Int -> println(\"a0: $a0\")}\n",
      "val lambda465 = {a0: Int -> println(\"a0: $a0\")}\n",
      "val lambda466 = {a0: Int -> println(\"a0: $a0\")}\n",
      "val lambda467 = {a0: Int -> println(\"a0: $a0\")}\n",
      "val lambda468 = {a0: Int -> println(\"a0: $a0\")}\n",
      "val lambda469 = {a0: Int -> println(\"a0: $a0\")}\n",
      "val lambda470 = {a0: Int -> println(\"a0: $a0\")}\n",
      "val lambda471 = {a0: Int -> println(\"a0: $a0\")}\n",
      "val lambda472 = {a0: Int -> println(\"a0: $a0\")}\n",
      "val lambda473 = {a0: Int -> println(\"a0: $a0\")}\n",
      "val lambda474 = {a0: Int -> println(\"a0: $a0\")}\n",
      "val lambda475 = {a0: Int -> println(\"a0: $a0\")}\n",
      "val lambda476 = {a0: Int -> println(\"a0: $a0\")}\n",
      "val lambda477 = {a0: Int -> println(\"a0: $a0\")}\n",
      "val lambda478 = {a0: Int -> println(\"a0: $a0\")}\n",
      "val lambda479 = {a0: Int -> println(\"a0: $a0\")}\n",
      "val lambda480 = {a0: Int -> println(\"a0: $a0\")}\n",
      "val lambda481 = {a0: Int -> println(\"a0: $a0\")}\n",
      "val lambda482 = {a0: Int -> println(\"a0: $a0\")}\n",
      "val lambda483 = {a0: Int -> println(\"a0: $a0\")}\n",
      "val lambda484 = {a0: Int -> println(\"a0: $a0\")}\n",
      "val lambda485 = {a0: Int -> println(\"a0: $a0\")}\n",
      "val lambda486 = {a0: Int -> println(\"a0: $a0\")}\n",
      "val lambda487 = {a0: Int -> println(\"a0: $a0\")}\n",
      "val lambda488 = {a0: Int -> println(\"a0: $a0\")}\n",
      "val lambda489 = {a0: Int -> println(\"a0: $a0\")}\n",
      "val lambda490 = {a0: Int -> println(\"a0: $a0\")}\n",
      "val lambda491 = {a0: Int -> println(\"a0: $a0\")}\n",
      "val lambda492 = {a0: Int -> println(\"a0: $a0\")}\n",
      "val lambda493 = {a0: Int -> println(\"a0: $a0\")}\n",
      "val lambda494 = {a0: Int -> println(\"a0: $a0\")}\n",
      "val lambda495 = {a0: Int -> println(\"a0: $a0\")}\n",
      "val lambda496 = {a0: Int -> println(\"a0: $a0\")}\n",
      "val lambda497 = {a0: Int -> println(\"a0: $a0\")}\n",
      "val lambda498 = {a0: Int -> println(\"a0: $a0\")}\n",
      "val lambda499 = {a0: Int -> println(\"a0: $a0\")}\n"
     ]
    }
   ],
   "source": [
    "for i in range(500):\n",
    "    lambdaDef = generate_lambda(1, \"println(\\\"a0: $a0\\\")\")\n",
    "    print(f\"val lambda{i} = {lambdaDef}\")"
   ]
  },
  {
   "cell_type": "markdown",
   "id": "distinguished-spanking",
   "metadata": {},
   "source": [
    "# New performance analysis (16/5) (Ubuntu)"
   ]
  },
  {
   "cell_type": "code",
   "execution_count": 1,
   "id": "pleasant-tuesday",
   "metadata": {},
   "outputs": [],
   "source": [
    "from scipy import stats\n",
    "import pandas as pd"
   ]
  },
  {
   "cell_type": "code",
   "execution_count": 96,
   "id": "prepared-photography",
   "metadata": {},
   "outputs": [],
   "source": [
    "data    = pd.read_csv(\"test/ubuntu/test-1.4.8.11.15.19.23.csv\").query(\"'jfr' not in Benchmark\")\n",
    "data_lg = pd.read_csv(\"test-lambda-groups/ubuntu/test-1.4.8.11.15.19.23.csv\").query(\"'jfr' not in Benchmark\")"
   ]
  },
  {
   "cell_type": "code",
   "execution_count": 97,
   "id": "failing-ireland",
   "metadata": {},
   "outputs": [],
   "source": [
    "data[\"jfr_benchmark\"] = data[\"Benchmark\"].apply(lambda val: \"jfr\" in val)\n",
    "data_lg[\"jfr_benchmark\"] = data_lg[\"Benchmark\"].apply(lambda val: \"jfr\" in val)"
   ]
  },
  {
   "cell_type": "code",
   "execution_count": 98,
   "id": "muslim-friendship",
   "metadata": {},
   "outputs": [],
   "source": [
    "data    = data.query(\"not jfr_benchmark\")\n",
    "data_lg = data_lg.query(\"not jfr_benchmark\")"
   ]
  },
  {
   "cell_type": "code",
   "execution_count": 99,
   "id": "cultural-beijing",
   "metadata": {},
   "outputs": [],
   "source": [
    "data[\"Score\"] = data[\"Score\"].apply(lambda val: float(val.replace(\",\", \".\")))\n",
    "data_lg[\"Score\"] = data_lg[\"Score\"].apply(lambda val: float(val.replace(\",\", \".\")))"
   ]
  },
  {
   "cell_type": "code",
   "execution_count": 100,
   "id": "signal-blogger",
   "metadata": {},
   "outputs": [],
   "source": [
    "data[\"Score Error (99,9%)\"] = data[\"Score Error (99,9%)\"].apply(lambda val: float(val.replace(\",\", \".\")))\n",
    "data_lg[\"Score Error (99,9%)\"] = data_lg[\"Score Error (99,9%)\"].apply(lambda val: float(val.replace(\",\", \".\")))"
   ]
  },
  {
   "cell_type": "code",
   "execution_count": 101,
   "id": "employed-tuner",
   "metadata": {},
   "outputs": [
    {
     "data": {
      "text/html": [
       "<div>\n",
       "<style scoped>\n",
       "    .dataframe tbody tr th:only-of-type {\n",
       "        vertical-align: middle;\n",
       "    }\n",
       "\n",
       "    .dataframe tbody tr th {\n",
       "        vertical-align: top;\n",
       "    }\n",
       "\n",
       "    .dataframe thead th {\n",
       "        text-align: right;\n",
       "    }\n",
       "</style>\n",
       "<table border=\"1\" class=\"dataframe\">\n",
       "  <thead>\n",
       "    <tr style=\"text-align: right;\">\n",
       "      <th></th>\n",
       "      <th>Benchmark</th>\n",
       "      <th>Mode</th>\n",
       "      <th>Threads</th>\n",
       "      <th>Samples</th>\n",
       "      <th>Score</th>\n",
       "      <th>Score Error (99,9%)</th>\n",
       "      <th>Unit</th>\n",
       "      <th>jfr_benchmark</th>\n",
       "    </tr>\n",
       "  </thead>\n",
       "  <tbody>\n",
       "    <tr>\n",
       "      <th>0</th>\n",
       "      <td>test.MyBenchmark.closure15FreeVariables3Millio...</td>\n",
       "      <td>thrpt</td>\n",
       "      <td>1</td>\n",
       "      <td>25</td>\n",
       "      <td>9.953414e+08</td>\n",
       "      <td>1.686288e+06</td>\n",
       "      <td>ops/s</td>\n",
       "      <td>False</td>\n",
       "    </tr>\n",
       "    <tr>\n",
       "      <th>1</th>\n",
       "      <td>test.MyBenchmark.closure15FreeVariables3Millio...</td>\n",
       "      <td>thrpt</td>\n",
       "      <td>1</td>\n",
       "      <td>25</td>\n",
       "      <td>9.962773e+08</td>\n",
       "      <td>5.143263e+04</td>\n",
       "      <td>ops/s</td>\n",
       "      <td>False</td>\n",
       "    </tr>\n",
       "    <tr>\n",
       "      <th>2</th>\n",
       "      <td>test.MyBenchmark.closure8FreeVariables3Million...</td>\n",
       "      <td>thrpt</td>\n",
       "      <td>1</td>\n",
       "      <td>25</td>\n",
       "      <td>9.930169e+08</td>\n",
       "      <td>8.102720e+06</td>\n",
       "      <td>ops/s</td>\n",
       "      <td>False</td>\n",
       "    </tr>\n",
       "    <tr>\n",
       "      <th>3</th>\n",
       "      <td>test.MyBenchmark.closure8FreeVariables3Million...</td>\n",
       "      <td>thrpt</td>\n",
       "      <td>1</td>\n",
       "      <td>25</td>\n",
       "      <td>9.956068e+08</td>\n",
       "      <td>1.328868e+06</td>\n",
       "      <td>ops/s</td>\n",
       "      <td>False</td>\n",
       "    </tr>\n",
       "    <tr>\n",
       "      <th>4</th>\n",
       "      <td>test.MyBenchmark.emptyClosure15Arguments3Milli...</td>\n",
       "      <td>thrpt</td>\n",
       "      <td>1</td>\n",
       "      <td>25</td>\n",
       "      <td>1.062922e+01</td>\n",
       "      <td>6.403400e-02</td>\n",
       "      <td>ops/s</td>\n",
       "      <td>False</td>\n",
       "    </tr>\n",
       "    <tr>\n",
       "      <th>5</th>\n",
       "      <td>test.MyBenchmark.emptyClosure15Arguments3Milli...</td>\n",
       "      <td>thrpt</td>\n",
       "      <td>1</td>\n",
       "      <td>25</td>\n",
       "      <td>1.064341e+01</td>\n",
       "      <td>3.962000e-03</td>\n",
       "      <td>ops/s</td>\n",
       "      <td>False</td>\n",
       "    </tr>\n",
       "    <tr>\n",
       "      <th>6</th>\n",
       "      <td>test.MyBenchmark.emptyClosure8Arguments3Millio...</td>\n",
       "      <td>thrpt</td>\n",
       "      <td>1</td>\n",
       "      <td>25</td>\n",
       "      <td>9.945798e+08</td>\n",
       "      <td>6.313075e+06</td>\n",
       "      <td>ops/s</td>\n",
       "      <td>False</td>\n",
       "    </tr>\n",
       "    <tr>\n",
       "      <th>7</th>\n",
       "      <td>test.MyBenchmark.emptyClosure8Arguments3Millio...</td>\n",
       "      <td>thrpt</td>\n",
       "      <td>1</td>\n",
       "      <td>25</td>\n",
       "      <td>9.962228e+08</td>\n",
       "      <td>1.159962e+05</td>\n",
       "      <td>ops/s</td>\n",
       "      <td>False</td>\n",
       "    </tr>\n",
       "    <tr>\n",
       "      <th>8</th>\n",
       "      <td>test.MyBenchmark.closure1FreeVariables3Million...</td>\n",
       "      <td>thrpt</td>\n",
       "      <td>1</td>\n",
       "      <td>25</td>\n",
       "      <td>9.962612e+08</td>\n",
       "      <td>5.327122e+04</td>\n",
       "      <td>ops/s</td>\n",
       "      <td>False</td>\n",
       "    </tr>\n",
       "    <tr>\n",
       "      <th>9</th>\n",
       "      <td>test.MyBenchmark.closure1FreeVariables3Million...</td>\n",
       "      <td>thrpt</td>\n",
       "      <td>1</td>\n",
       "      <td>25</td>\n",
       "      <td>9.962668e+08</td>\n",
       "      <td>5.740726e+04</td>\n",
       "      <td>ops/s</td>\n",
       "      <td>False</td>\n",
       "    </tr>\n",
       "    <tr>\n",
       "      <th>10</th>\n",
       "      <td>test.MyBenchmark.closure23FreeVariables3Millio...</td>\n",
       "      <td>thrpt</td>\n",
       "      <td>1</td>\n",
       "      <td>25</td>\n",
       "      <td>9.962310e+08</td>\n",
       "      <td>1.505822e+05</td>\n",
       "      <td>ops/s</td>\n",
       "      <td>False</td>\n",
       "    </tr>\n",
       "    <tr>\n",
       "      <th>11</th>\n",
       "      <td>test.MyBenchmark.closure23FreeVariables3Millio...</td>\n",
       "      <td>thrpt</td>\n",
       "      <td>1</td>\n",
       "      <td>25</td>\n",
       "      <td>9.943489e+08</td>\n",
       "      <td>7.053299e+06</td>\n",
       "      <td>ops/s</td>\n",
       "      <td>False</td>\n",
       "    </tr>\n",
       "    <tr>\n",
       "      <th>12</th>\n",
       "      <td>test.MyBenchmark.emptyClosure1Arguments3Millio...</td>\n",
       "      <td>thrpt</td>\n",
       "      <td>1</td>\n",
       "      <td>25</td>\n",
       "      <td>9.957199e+08</td>\n",
       "      <td>1.432369e+06</td>\n",
       "      <td>ops/s</td>\n",
       "      <td>False</td>\n",
       "    </tr>\n",
       "    <tr>\n",
       "      <th>13</th>\n",
       "      <td>test.MyBenchmark.emptyClosure1Arguments3Millio...</td>\n",
       "      <td>thrpt</td>\n",
       "      <td>1</td>\n",
       "      <td>25</td>\n",
       "      <td>9.959159e+08</td>\n",
       "      <td>1.184996e+06</td>\n",
       "      <td>ops/s</td>\n",
       "      <td>False</td>\n",
       "    </tr>\n",
       "    <tr>\n",
       "      <th>14</th>\n",
       "      <td>test.MyBenchmark.emptyClosure23Arguments3Milli...</td>\n",
       "      <td>thrpt</td>\n",
       "      <td>1</td>\n",
       "      <td>25</td>\n",
       "      <td>9.961809e+08</td>\n",
       "      <td>3.077852e+05</td>\n",
       "      <td>ops/s</td>\n",
       "      <td>False</td>\n",
       "    </tr>\n",
       "    <tr>\n",
       "      <th>15</th>\n",
       "      <td>test.MyBenchmark.emptyClosure23Arguments3Milli...</td>\n",
       "      <td>thrpt</td>\n",
       "      <td>1</td>\n",
       "      <td>25</td>\n",
       "      <td>9.962492e+08</td>\n",
       "      <td>7.011129e+04</td>\n",
       "      <td>ops/s</td>\n",
       "      <td>False</td>\n",
       "    </tr>\n",
       "    <tr>\n",
       "      <th>16</th>\n",
       "      <td>test.MyBenchmark.closure11FreeVariables3Millio...</td>\n",
       "      <td>thrpt</td>\n",
       "      <td>1</td>\n",
       "      <td>25</td>\n",
       "      <td>9.886538e+08</td>\n",
       "      <td>7.712577e+06</td>\n",
       "      <td>ops/s</td>\n",
       "      <td>False</td>\n",
       "    </tr>\n",
       "    <tr>\n",
       "      <th>18</th>\n",
       "      <td>test.MyBenchmark.closure11FreeVariables3Millio...</td>\n",
       "      <td>thrpt</td>\n",
       "      <td>1</td>\n",
       "      <td>25</td>\n",
       "      <td>9.883121e+08</td>\n",
       "      <td>8.786453e+06</td>\n",
       "      <td>ops/s</td>\n",
       "      <td>False</td>\n",
       "    </tr>\n",
       "    <tr>\n",
       "      <th>20</th>\n",
       "      <td>test.MyBenchmark.closure19FreeVariables3Millio...</td>\n",
       "      <td>thrpt</td>\n",
       "      <td>1</td>\n",
       "      <td>25</td>\n",
       "      <td>9.911408e+08</td>\n",
       "      <td>4.650404e+06</td>\n",
       "      <td>ops/s</td>\n",
       "      <td>False</td>\n",
       "    </tr>\n",
       "    <tr>\n",
       "      <th>22</th>\n",
       "      <td>test.MyBenchmark.closure19FreeVariables3Millio...</td>\n",
       "      <td>thrpt</td>\n",
       "      <td>1</td>\n",
       "      <td>25</td>\n",
       "      <td>9.894035e+08</td>\n",
       "      <td>7.157177e+06</td>\n",
       "      <td>ops/s</td>\n",
       "      <td>False</td>\n",
       "    </tr>\n",
       "    <tr>\n",
       "      <th>24</th>\n",
       "      <td>test.MyBenchmark.closure4FreeVariables3Million...</td>\n",
       "      <td>thrpt</td>\n",
       "      <td>1</td>\n",
       "      <td>25</td>\n",
       "      <td>9.903460e+08</td>\n",
       "      <td>6.524351e+06</td>\n",
       "      <td>ops/s</td>\n",
       "      <td>False</td>\n",
       "    </tr>\n",
       "    <tr>\n",
       "      <th>26</th>\n",
       "      <td>test.MyBenchmark.closure4FreeVariables3Million...</td>\n",
       "      <td>thrpt</td>\n",
       "      <td>1</td>\n",
       "      <td>25</td>\n",
       "      <td>9.890013e+08</td>\n",
       "      <td>7.479938e+06</td>\n",
       "      <td>ops/s</td>\n",
       "      <td>False</td>\n",
       "    </tr>\n",
       "    <tr>\n",
       "      <th>28</th>\n",
       "      <td>test.MyBenchmark.emptyClosure11Arguments3Milli...</td>\n",
       "      <td>thrpt</td>\n",
       "      <td>1</td>\n",
       "      <td>25</td>\n",
       "      <td>9.906907e+08</td>\n",
       "      <td>5.195273e+06</td>\n",
       "      <td>ops/s</td>\n",
       "      <td>False</td>\n",
       "    </tr>\n",
       "    <tr>\n",
       "      <th>30</th>\n",
       "      <td>test.MyBenchmark.emptyClosure11Arguments3Milli...</td>\n",
       "      <td>thrpt</td>\n",
       "      <td>1</td>\n",
       "      <td>25</td>\n",
       "      <td>9.910910e+08</td>\n",
       "      <td>4.822242e+06</td>\n",
       "      <td>ops/s</td>\n",
       "      <td>False</td>\n",
       "    </tr>\n",
       "    <tr>\n",
       "      <th>32</th>\n",
       "      <td>test.MyBenchmark.emptyClosure19Arguments3Milli...</td>\n",
       "      <td>thrpt</td>\n",
       "      <td>1</td>\n",
       "      <td>25</td>\n",
       "      <td>1.656694e+04</td>\n",
       "      <td>3.332985e+04</td>\n",
       "      <td>ops/s</td>\n",
       "      <td>False</td>\n",
       "    </tr>\n",
       "    <tr>\n",
       "      <th>34</th>\n",
       "      <td>test.MyBenchmark.emptyClosure19Arguments3Milli...</td>\n",
       "      <td>thrpt</td>\n",
       "      <td>1</td>\n",
       "      <td>25</td>\n",
       "      <td>7.903415e+00</td>\n",
       "      <td>1.398140e-01</td>\n",
       "      <td>ops/s</td>\n",
       "      <td>False</td>\n",
       "    </tr>\n",
       "    <tr>\n",
       "      <th>36</th>\n",
       "      <td>test.MyBenchmark.emptyClosure4Arguments3Millio...</td>\n",
       "      <td>thrpt</td>\n",
       "      <td>1</td>\n",
       "      <td>25</td>\n",
       "      <td>9.907592e+08</td>\n",
       "      <td>5.458733e+06</td>\n",
       "      <td>ops/s</td>\n",
       "      <td>False</td>\n",
       "    </tr>\n",
       "    <tr>\n",
       "      <th>38</th>\n",
       "      <td>test.MyBenchmark.emptyClosure4Arguments3Millio...</td>\n",
       "      <td>thrpt</td>\n",
       "      <td>1</td>\n",
       "      <td>25</td>\n",
       "      <td>9.895682e+08</td>\n",
       "      <td>6.918497e+06</td>\n",
       "      <td>ops/s</td>\n",
       "      <td>False</td>\n",
       "    </tr>\n",
       "    <tr>\n",
       "      <th>40</th>\n",
       "      <td>test.MyBenchmark.closure11FreeVariables3Millio...</td>\n",
       "      <td>thrpt</td>\n",
       "      <td>1</td>\n",
       "      <td>25</td>\n",
       "      <td>1.633721e+01</td>\n",
       "      <td>1.063540e-01</td>\n",
       "      <td>ops/s</td>\n",
       "      <td>False</td>\n",
       "    </tr>\n",
       "    <tr>\n",
       "      <th>41</th>\n",
       "      <td>test.MyBenchmark.closure11FreeVariables3Millio...</td>\n",
       "      <td>thrpt</td>\n",
       "      <td>1</td>\n",
       "      <td>25</td>\n",
       "      <td>9.962720e+08</td>\n",
       "      <td>4.501448e+04</td>\n",
       "      <td>ops/s</td>\n",
       "      <td>False</td>\n",
       "    </tr>\n",
       "    <tr>\n",
       "      <th>42</th>\n",
       "      <td>test.MyBenchmark.closure15FreeVariables3Millio...</td>\n",
       "      <td>thrpt</td>\n",
       "      <td>1</td>\n",
       "      <td>25</td>\n",
       "      <td>1.183960e+01</td>\n",
       "      <td>4.318000e-03</td>\n",
       "      <td>ops/s</td>\n",
       "      <td>False</td>\n",
       "    </tr>\n",
       "    <tr>\n",
       "      <th>43</th>\n",
       "      <td>test.MyBenchmark.closure15FreeVariables3Millio...</td>\n",
       "      <td>thrpt</td>\n",
       "      <td>1</td>\n",
       "      <td>25</td>\n",
       "      <td>9.944541e+08</td>\n",
       "      <td>6.854209e+06</td>\n",
       "      <td>ops/s</td>\n",
       "      <td>False</td>\n",
       "    </tr>\n",
       "    <tr>\n",
       "      <th>44</th>\n",
       "      <td>test.MyBenchmark.closure19FreeVariables3Millio...</td>\n",
       "      <td>thrpt</td>\n",
       "      <td>1</td>\n",
       "      <td>25</td>\n",
       "      <td>1.000206e+01</td>\n",
       "      <td>3.421000e-02</td>\n",
       "      <td>ops/s</td>\n",
       "      <td>False</td>\n",
       "    </tr>\n",
       "    <tr>\n",
       "      <th>45</th>\n",
       "      <td>test.MyBenchmark.closure19FreeVariables3Millio...</td>\n",
       "      <td>thrpt</td>\n",
       "      <td>1</td>\n",
       "      <td>25</td>\n",
       "      <td>9.962791e+08</td>\n",
       "      <td>5.720604e+04</td>\n",
       "      <td>ops/s</td>\n",
       "      <td>False</td>\n",
       "    </tr>\n",
       "    <tr>\n",
       "      <th>46</th>\n",
       "      <td>test.MyBenchmark.closure1FreeVariables3Million...</td>\n",
       "      <td>thrpt</td>\n",
       "      <td>1</td>\n",
       "      <td>25</td>\n",
       "      <td>4.110909e+01</td>\n",
       "      <td>8.185200e-02</td>\n",
       "      <td>ops/s</td>\n",
       "      <td>False</td>\n",
       "    </tr>\n",
       "    <tr>\n",
       "      <th>47</th>\n",
       "      <td>test.MyBenchmark.closure1FreeVariables3Million...</td>\n",
       "      <td>thrpt</td>\n",
       "      <td>1</td>\n",
       "      <td>25</td>\n",
       "      <td>9.962198e+08</td>\n",
       "      <td>2.039163e+05</td>\n",
       "      <td>ops/s</td>\n",
       "      <td>False</td>\n",
       "    </tr>\n",
       "    <tr>\n",
       "      <th>48</th>\n",
       "      <td>test.MyBenchmark.closure23FreeVariables3Millio...</td>\n",
       "      <td>thrpt</td>\n",
       "      <td>1</td>\n",
       "      <td>25</td>\n",
       "      <td>8.096299e+00</td>\n",
       "      <td>9.438000e-03</td>\n",
       "      <td>ops/s</td>\n",
       "      <td>False</td>\n",
       "    </tr>\n",
       "    <tr>\n",
       "      <th>49</th>\n",
       "      <td>test.MyBenchmark.closure23FreeVariables3Millio...</td>\n",
       "      <td>thrpt</td>\n",
       "      <td>1</td>\n",
       "      <td>25</td>\n",
       "      <td>9.963175e+08</td>\n",
       "      <td>3.617681e+04</td>\n",
       "      <td>ops/s</td>\n",
       "      <td>False</td>\n",
       "    </tr>\n",
       "    <tr>\n",
       "      <th>50</th>\n",
       "      <td>test.MyBenchmark.closure4FreeVariables3Million...</td>\n",
       "      <td>thrpt</td>\n",
       "      <td>1</td>\n",
       "      <td>25</td>\n",
       "      <td>3.239707e+01</td>\n",
       "      <td>2.833200e-01</td>\n",
       "      <td>ops/s</td>\n",
       "      <td>False</td>\n",
       "    </tr>\n",
       "    <tr>\n",
       "      <th>51</th>\n",
       "      <td>test.MyBenchmark.closure4FreeVariables3Million...</td>\n",
       "      <td>thrpt</td>\n",
       "      <td>1</td>\n",
       "      <td>25</td>\n",
       "      <td>9.962796e+08</td>\n",
       "      <td>6.125986e+04</td>\n",
       "      <td>ops/s</td>\n",
       "      <td>False</td>\n",
       "    </tr>\n",
       "    <tr>\n",
       "      <th>52</th>\n",
       "      <td>test.MyBenchmark.closure8FreeVariables3Million...</td>\n",
       "      <td>thrpt</td>\n",
       "      <td>1</td>\n",
       "      <td>25</td>\n",
       "      <td>2.190925e+01</td>\n",
       "      <td>3.622800e-02</td>\n",
       "      <td>ops/s</td>\n",
       "      <td>False</td>\n",
       "    </tr>\n",
       "    <tr>\n",
       "      <th>53</th>\n",
       "      <td>test.MyBenchmark.closure8FreeVariables3Million...</td>\n",
       "      <td>thrpt</td>\n",
       "      <td>1</td>\n",
       "      <td>25</td>\n",
       "      <td>9.960237e+08</td>\n",
       "      <td>8.106505e+05</td>\n",
       "      <td>ops/s</td>\n",
       "      <td>False</td>\n",
       "    </tr>\n",
       "  </tbody>\n",
       "</table>\n",
       "</div>"
      ],
      "text/plain": [
       "                                            Benchmark   Mode  Threads  \\\n",
       "0   test.MyBenchmark.closure15FreeVariables3Millio...  thrpt        1   \n",
       "1   test.MyBenchmark.closure15FreeVariables3Millio...  thrpt        1   \n",
       "2   test.MyBenchmark.closure8FreeVariables3Million...  thrpt        1   \n",
       "3   test.MyBenchmark.closure8FreeVariables3Million...  thrpt        1   \n",
       "4   test.MyBenchmark.emptyClosure15Arguments3Milli...  thrpt        1   \n",
       "5   test.MyBenchmark.emptyClosure15Arguments3Milli...  thrpt        1   \n",
       "6   test.MyBenchmark.emptyClosure8Arguments3Millio...  thrpt        1   \n",
       "7   test.MyBenchmark.emptyClosure8Arguments3Millio...  thrpt        1   \n",
       "8   test.MyBenchmark.closure1FreeVariables3Million...  thrpt        1   \n",
       "9   test.MyBenchmark.closure1FreeVariables3Million...  thrpt        1   \n",
       "10  test.MyBenchmark.closure23FreeVariables3Millio...  thrpt        1   \n",
       "11  test.MyBenchmark.closure23FreeVariables3Millio...  thrpt        1   \n",
       "12  test.MyBenchmark.emptyClosure1Arguments3Millio...  thrpt        1   \n",
       "13  test.MyBenchmark.emptyClosure1Arguments3Millio...  thrpt        1   \n",
       "14  test.MyBenchmark.emptyClosure23Arguments3Milli...  thrpt        1   \n",
       "15  test.MyBenchmark.emptyClosure23Arguments3Milli...  thrpt        1   \n",
       "16  test.MyBenchmark.closure11FreeVariables3Millio...  thrpt        1   \n",
       "18  test.MyBenchmark.closure11FreeVariables3Millio...  thrpt        1   \n",
       "20  test.MyBenchmark.closure19FreeVariables3Millio...  thrpt        1   \n",
       "22  test.MyBenchmark.closure19FreeVariables3Millio...  thrpt        1   \n",
       "24  test.MyBenchmark.closure4FreeVariables3Million...  thrpt        1   \n",
       "26  test.MyBenchmark.closure4FreeVariables3Million...  thrpt        1   \n",
       "28  test.MyBenchmark.emptyClosure11Arguments3Milli...  thrpt        1   \n",
       "30  test.MyBenchmark.emptyClosure11Arguments3Milli...  thrpt        1   \n",
       "32  test.MyBenchmark.emptyClosure19Arguments3Milli...  thrpt        1   \n",
       "34  test.MyBenchmark.emptyClosure19Arguments3Milli...  thrpt        1   \n",
       "36  test.MyBenchmark.emptyClosure4Arguments3Millio...  thrpt        1   \n",
       "38  test.MyBenchmark.emptyClosure4Arguments3Millio...  thrpt        1   \n",
       "40  test.MyBenchmark.closure11FreeVariables3Millio...  thrpt        1   \n",
       "41  test.MyBenchmark.closure11FreeVariables3Millio...  thrpt        1   \n",
       "42  test.MyBenchmark.closure15FreeVariables3Millio...  thrpt        1   \n",
       "43  test.MyBenchmark.closure15FreeVariables3Millio...  thrpt        1   \n",
       "44  test.MyBenchmark.closure19FreeVariables3Millio...  thrpt        1   \n",
       "45  test.MyBenchmark.closure19FreeVariables3Millio...  thrpt        1   \n",
       "46  test.MyBenchmark.closure1FreeVariables3Million...  thrpt        1   \n",
       "47  test.MyBenchmark.closure1FreeVariables3Million...  thrpt        1   \n",
       "48  test.MyBenchmark.closure23FreeVariables3Millio...  thrpt        1   \n",
       "49  test.MyBenchmark.closure23FreeVariables3Millio...  thrpt        1   \n",
       "50  test.MyBenchmark.closure4FreeVariables3Million...  thrpt        1   \n",
       "51  test.MyBenchmark.closure4FreeVariables3Million...  thrpt        1   \n",
       "52  test.MyBenchmark.closure8FreeVariables3Million...  thrpt        1   \n",
       "53  test.MyBenchmark.closure8FreeVariables3Million...  thrpt        1   \n",
       "\n",
       "    Samples         Score  Score Error (99,9%)   Unit  jfr_benchmark  \n",
       "0        25  9.953414e+08         1.686288e+06  ops/s          False  \n",
       "1        25  9.962773e+08         5.143263e+04  ops/s          False  \n",
       "2        25  9.930169e+08         8.102720e+06  ops/s          False  \n",
       "3        25  9.956068e+08         1.328868e+06  ops/s          False  \n",
       "4        25  1.062922e+01         6.403400e-02  ops/s          False  \n",
       "5        25  1.064341e+01         3.962000e-03  ops/s          False  \n",
       "6        25  9.945798e+08         6.313075e+06  ops/s          False  \n",
       "7        25  9.962228e+08         1.159962e+05  ops/s          False  \n",
       "8        25  9.962612e+08         5.327122e+04  ops/s          False  \n",
       "9        25  9.962668e+08         5.740726e+04  ops/s          False  \n",
       "10       25  9.962310e+08         1.505822e+05  ops/s          False  \n",
       "11       25  9.943489e+08         7.053299e+06  ops/s          False  \n",
       "12       25  9.957199e+08         1.432369e+06  ops/s          False  \n",
       "13       25  9.959159e+08         1.184996e+06  ops/s          False  \n",
       "14       25  9.961809e+08         3.077852e+05  ops/s          False  \n",
       "15       25  9.962492e+08         7.011129e+04  ops/s          False  \n",
       "16       25  9.886538e+08         7.712577e+06  ops/s          False  \n",
       "18       25  9.883121e+08         8.786453e+06  ops/s          False  \n",
       "20       25  9.911408e+08         4.650404e+06  ops/s          False  \n",
       "22       25  9.894035e+08         7.157177e+06  ops/s          False  \n",
       "24       25  9.903460e+08         6.524351e+06  ops/s          False  \n",
       "26       25  9.890013e+08         7.479938e+06  ops/s          False  \n",
       "28       25  9.906907e+08         5.195273e+06  ops/s          False  \n",
       "30       25  9.910910e+08         4.822242e+06  ops/s          False  \n",
       "32       25  1.656694e+04         3.332985e+04  ops/s          False  \n",
       "34       25  7.903415e+00         1.398140e-01  ops/s          False  \n",
       "36       25  9.907592e+08         5.458733e+06  ops/s          False  \n",
       "38       25  9.895682e+08         6.918497e+06  ops/s          False  \n",
       "40       25  1.633721e+01         1.063540e-01  ops/s          False  \n",
       "41       25  9.962720e+08         4.501448e+04  ops/s          False  \n",
       "42       25  1.183960e+01         4.318000e-03  ops/s          False  \n",
       "43       25  9.944541e+08         6.854209e+06  ops/s          False  \n",
       "44       25  1.000206e+01         3.421000e-02  ops/s          False  \n",
       "45       25  9.962791e+08         5.720604e+04  ops/s          False  \n",
       "46       25  4.110909e+01         8.185200e-02  ops/s          False  \n",
       "47       25  9.962198e+08         2.039163e+05  ops/s          False  \n",
       "48       25  8.096299e+00         9.438000e-03  ops/s          False  \n",
       "49       25  9.963175e+08         3.617681e+04  ops/s          False  \n",
       "50       25  3.239707e+01         2.833200e-01  ops/s          False  \n",
       "51       25  9.962796e+08         6.125986e+04  ops/s          False  \n",
       "52       25  2.190925e+01         3.622800e-02  ops/s          False  \n",
       "53       25  9.960237e+08         8.106505e+05  ops/s          False  "
      ]
     },
     "execution_count": 101,
     "metadata": {},
     "output_type": "execute_result"
    }
   ],
   "source": [
    "data"
   ]
  },
  {
   "cell_type": "code",
   "execution_count": 102,
   "id": "rental-copper",
   "metadata": {},
   "outputs": [
    {
     "data": {
      "text/html": [
       "<div>\n",
       "<style scoped>\n",
       "    .dataframe tbody tr th:only-of-type {\n",
       "        vertical-align: middle;\n",
       "    }\n",
       "\n",
       "    .dataframe tbody tr th {\n",
       "        vertical-align: top;\n",
       "    }\n",
       "\n",
       "    .dataframe thead th {\n",
       "        text-align: right;\n",
       "    }\n",
       "</style>\n",
       "<table border=\"1\" class=\"dataframe\">\n",
       "  <thead>\n",
       "    <tr style=\"text-align: right;\">\n",
       "      <th></th>\n",
       "      <th>Benchmark</th>\n",
       "      <th>Mode</th>\n",
       "      <th>Threads</th>\n",
       "      <th>Samples</th>\n",
       "      <th>Score</th>\n",
       "      <th>Score Error (99,9%)</th>\n",
       "      <th>Unit</th>\n",
       "      <th>jfr_benchmark</th>\n",
       "    </tr>\n",
       "  </thead>\n",
       "  <tbody>\n",
       "    <tr>\n",
       "      <th>0</th>\n",
       "      <td>test.MyBenchmark.closure15FreeVariables3Millio...</td>\n",
       "      <td>thrpt</td>\n",
       "      <td>1</td>\n",
       "      <td>25</td>\n",
       "      <td>3.789023e+01</td>\n",
       "      <td>1.633060e-01</td>\n",
       "      <td>ops/s</td>\n",
       "      <td>False</td>\n",
       "    </tr>\n",
       "    <tr>\n",
       "      <th>1</th>\n",
       "      <td>test.MyBenchmark.closure15FreeVariables3Millio...</td>\n",
       "      <td>thrpt</td>\n",
       "      <td>1</td>\n",
       "      <td>25</td>\n",
       "      <td>7.669248e+00</td>\n",
       "      <td>1.201700e-02</td>\n",
       "      <td>ops/s</td>\n",
       "      <td>False</td>\n",
       "    </tr>\n",
       "    <tr>\n",
       "      <th>2</th>\n",
       "      <td>test.MyBenchmark.closure1FreeVariables3Million...</td>\n",
       "      <td>thrpt</td>\n",
       "      <td>1</td>\n",
       "      <td>25</td>\n",
       "      <td>5.524835e+01</td>\n",
       "      <td>3.472144e+00</td>\n",
       "      <td>ops/s</td>\n",
       "      <td>False</td>\n",
       "    </tr>\n",
       "    <tr>\n",
       "      <th>3</th>\n",
       "      <td>test.MyBenchmark.closure1FreeVariables3Million...</td>\n",
       "      <td>thrpt</td>\n",
       "      <td>1</td>\n",
       "      <td>25</td>\n",
       "      <td>7.653771e+00</td>\n",
       "      <td>8.266900e-02</td>\n",
       "      <td>ops/s</td>\n",
       "      <td>False</td>\n",
       "    </tr>\n",
       "    <tr>\n",
       "      <th>4</th>\n",
       "      <td>test.MyBenchmark.closure23FreeVariables3Millio...</td>\n",
       "      <td>thrpt</td>\n",
       "      <td>1</td>\n",
       "      <td>25</td>\n",
       "      <td>2.457211e+01</td>\n",
       "      <td>2.227060e-01</td>\n",
       "      <td>ops/s</td>\n",
       "      <td>False</td>\n",
       "    </tr>\n",
       "    <tr>\n",
       "      <th>5</th>\n",
       "      <td>test.MyBenchmark.closure23FreeVariables3Millio...</td>\n",
       "      <td>thrpt</td>\n",
       "      <td>1</td>\n",
       "      <td>25</td>\n",
       "      <td>7.320912e+00</td>\n",
       "      <td>8.750600e-02</td>\n",
       "      <td>ops/s</td>\n",
       "      <td>False</td>\n",
       "    </tr>\n",
       "    <tr>\n",
       "      <th>6</th>\n",
       "      <td>test.MyBenchmark.closure8FreeVariables3Million...</td>\n",
       "      <td>thrpt</td>\n",
       "      <td>1</td>\n",
       "      <td>25</td>\n",
       "      <td>5.061050e+01</td>\n",
       "      <td>2.893330e-01</td>\n",
       "      <td>ops/s</td>\n",
       "      <td>False</td>\n",
       "    </tr>\n",
       "    <tr>\n",
       "      <th>7</th>\n",
       "      <td>test.MyBenchmark.closure8FreeVariables3Million...</td>\n",
       "      <td>thrpt</td>\n",
       "      <td>1</td>\n",
       "      <td>25</td>\n",
       "      <td>7.620139e+00</td>\n",
       "      <td>8.876000e-03</td>\n",
       "      <td>ops/s</td>\n",
       "      <td>False</td>\n",
       "    </tr>\n",
       "    <tr>\n",
       "      <th>8</th>\n",
       "      <td>test.MyBenchmark.emptyClosure15Arguments3Milli...</td>\n",
       "      <td>thrpt</td>\n",
       "      <td>1</td>\n",
       "      <td>25</td>\n",
       "      <td>1.082164e+01</td>\n",
       "      <td>1.529500e-02</td>\n",
       "      <td>ops/s</td>\n",
       "      <td>False</td>\n",
       "    </tr>\n",
       "    <tr>\n",
       "      <th>9</th>\n",
       "      <td>test.MyBenchmark.emptyClosure15Arguments3Milli...</td>\n",
       "      <td>thrpt</td>\n",
       "      <td>1</td>\n",
       "      <td>25</td>\n",
       "      <td>6.640904e+00</td>\n",
       "      <td>1.589900e-02</td>\n",
       "      <td>ops/s</td>\n",
       "      <td>False</td>\n",
       "    </tr>\n",
       "    <tr>\n",
       "      <th>10</th>\n",
       "      <td>test.MyBenchmark.emptyClosure1Arguments3Millio...</td>\n",
       "      <td>thrpt</td>\n",
       "      <td>1</td>\n",
       "      <td>25</td>\n",
       "      <td>9.943285e+08</td>\n",
       "      <td>7.323734e+06</td>\n",
       "      <td>ops/s</td>\n",
       "      <td>False</td>\n",
       "    </tr>\n",
       "    <tr>\n",
       "      <th>11</th>\n",
       "      <td>test.MyBenchmark.emptyClosure1Arguments3Millio...</td>\n",
       "      <td>thrpt</td>\n",
       "      <td>1</td>\n",
       "      <td>25</td>\n",
       "      <td>9.962893e+08</td>\n",
       "      <td>3.551796e+04</td>\n",
       "      <td>ops/s</td>\n",
       "      <td>False</td>\n",
       "    </tr>\n",
       "    <tr>\n",
       "      <th>12</th>\n",
       "      <td>test.MyBenchmark.emptyClosure23Arguments3Milli...</td>\n",
       "      <td>thrpt</td>\n",
       "      <td>1</td>\n",
       "      <td>25</td>\n",
       "      <td>3.216961e+00</td>\n",
       "      <td>4.411300e-02</td>\n",
       "      <td>ops/s</td>\n",
       "      <td>False</td>\n",
       "    </tr>\n",
       "    <tr>\n",
       "      <th>13</th>\n",
       "      <td>test.MyBenchmark.emptyClosure23Arguments3Milli...</td>\n",
       "      <td>thrpt</td>\n",
       "      <td>1</td>\n",
       "      <td>25</td>\n",
       "      <td>2.766685e+00</td>\n",
       "      <td>1.769600e-02</td>\n",
       "      <td>ops/s</td>\n",
       "      <td>False</td>\n",
       "    </tr>\n",
       "    <tr>\n",
       "      <th>14</th>\n",
       "      <td>test.MyBenchmark.emptyClosure8Arguments3Millio...</td>\n",
       "      <td>thrpt</td>\n",
       "      <td>1</td>\n",
       "      <td>25</td>\n",
       "      <td>9.962530e+08</td>\n",
       "      <td>7.075970e+04</td>\n",
       "      <td>ops/s</td>\n",
       "      <td>False</td>\n",
       "    </tr>\n",
       "    <tr>\n",
       "      <th>15</th>\n",
       "      <td>test.MyBenchmark.emptyClosure8Arguments3Millio...</td>\n",
       "      <td>thrpt</td>\n",
       "      <td>1</td>\n",
       "      <td>25</td>\n",
       "      <td>9.962563e+08</td>\n",
       "      <td>5.257298e+04</td>\n",
       "      <td>ops/s</td>\n",
       "      <td>False</td>\n",
       "    </tr>\n",
       "    <tr>\n",
       "      <th>16</th>\n",
       "      <td>test.MyBenchmark.closure11FreeVariables3Millio...</td>\n",
       "      <td>thrpt</td>\n",
       "      <td>1</td>\n",
       "      <td>25</td>\n",
       "      <td>4.355906e+01</td>\n",
       "      <td>7.933460e-01</td>\n",
       "      <td>ops/s</td>\n",
       "      <td>False</td>\n",
       "    </tr>\n",
       "    <tr>\n",
       "      <th>18</th>\n",
       "      <td>test.MyBenchmark.closure11FreeVariables3Millio...</td>\n",
       "      <td>thrpt</td>\n",
       "      <td>1</td>\n",
       "      <td>25</td>\n",
       "      <td>7.428626e+00</td>\n",
       "      <td>6.176400e-02</td>\n",
       "      <td>ops/s</td>\n",
       "      <td>False</td>\n",
       "    </tr>\n",
       "    <tr>\n",
       "      <th>20</th>\n",
       "      <td>test.MyBenchmark.closure19FreeVariables3Millio...</td>\n",
       "      <td>thrpt</td>\n",
       "      <td>1</td>\n",
       "      <td>25</td>\n",
       "      <td>2.792310e+01</td>\n",
       "      <td>2.985710e-01</td>\n",
       "      <td>ops/s</td>\n",
       "      <td>False</td>\n",
       "    </tr>\n",
       "    <tr>\n",
       "      <th>22</th>\n",
       "      <td>test.MyBenchmark.closure19FreeVariables3Millio...</td>\n",
       "      <td>thrpt</td>\n",
       "      <td>1</td>\n",
       "      <td>25</td>\n",
       "      <td>7.117279e+00</td>\n",
       "      <td>8.359100e-02</td>\n",
       "      <td>ops/s</td>\n",
       "      <td>False</td>\n",
       "    </tr>\n",
       "    <tr>\n",
       "      <th>24</th>\n",
       "      <td>test.MyBenchmark.closure4FreeVariables3Million...</td>\n",
       "      <td>thrpt</td>\n",
       "      <td>1</td>\n",
       "      <td>25</td>\n",
       "      <td>5.762116e+01</td>\n",
       "      <td>6.265260e-01</td>\n",
       "      <td>ops/s</td>\n",
       "      <td>False</td>\n",
       "    </tr>\n",
       "    <tr>\n",
       "      <th>26</th>\n",
       "      <td>test.MyBenchmark.closure4FreeVariables3Million...</td>\n",
       "      <td>thrpt</td>\n",
       "      <td>1</td>\n",
       "      <td>25</td>\n",
       "      <td>7.403208e+00</td>\n",
       "      <td>6.346400e-02</td>\n",
       "      <td>ops/s</td>\n",
       "      <td>False</td>\n",
       "    </tr>\n",
       "    <tr>\n",
       "      <th>28</th>\n",
       "      <td>test.MyBenchmark.emptyClosure11Arguments3Milli...</td>\n",
       "      <td>thrpt</td>\n",
       "      <td>1</td>\n",
       "      <td>25</td>\n",
       "      <td>2.022609e+01</td>\n",
       "      <td>1.212410e-01</td>\n",
       "      <td>ops/s</td>\n",
       "      <td>False</td>\n",
       "    </tr>\n",
       "    <tr>\n",
       "      <th>30</th>\n",
       "      <td>test.MyBenchmark.emptyClosure11Arguments3Milli...</td>\n",
       "      <td>thrpt</td>\n",
       "      <td>1</td>\n",
       "      <td>25</td>\n",
       "      <td>7.255488e+00</td>\n",
       "      <td>8.220000e-02</td>\n",
       "      <td>ops/s</td>\n",
       "      <td>False</td>\n",
       "    </tr>\n",
       "    <tr>\n",
       "      <th>32</th>\n",
       "      <td>test.MyBenchmark.emptyClosure19Arguments3Milli...</td>\n",
       "      <td>thrpt</td>\n",
       "      <td>1</td>\n",
       "      <td>25</td>\n",
       "      <td>7.716051e+00</td>\n",
       "      <td>7.024800e-02</td>\n",
       "      <td>ops/s</td>\n",
       "      <td>False</td>\n",
       "    </tr>\n",
       "    <tr>\n",
       "      <th>34</th>\n",
       "      <td>test.MyBenchmark.emptyClosure19Arguments3Milli...</td>\n",
       "      <td>thrpt</td>\n",
       "      <td>1</td>\n",
       "      <td>25</td>\n",
       "      <td>5.888573e+00</td>\n",
       "      <td>7.619800e-02</td>\n",
       "      <td>ops/s</td>\n",
       "      <td>False</td>\n",
       "    </tr>\n",
       "    <tr>\n",
       "      <th>36</th>\n",
       "      <td>test.MyBenchmark.emptyClosure4Arguments3Millio...</td>\n",
       "      <td>thrpt</td>\n",
       "      <td>1</td>\n",
       "      <td>25</td>\n",
       "      <td>9.904871e+08</td>\n",
       "      <td>5.691706e+06</td>\n",
       "      <td>ops/s</td>\n",
       "      <td>False</td>\n",
       "    </tr>\n",
       "    <tr>\n",
       "      <th>38</th>\n",
       "      <td>test.MyBenchmark.emptyClosure4Arguments3Millio...</td>\n",
       "      <td>thrpt</td>\n",
       "      <td>1</td>\n",
       "      <td>25</td>\n",
       "      <td>9.899124e+08</td>\n",
       "      <td>5.873472e+06</td>\n",
       "      <td>ops/s</td>\n",
       "      <td>False</td>\n",
       "    </tr>\n",
       "    <tr>\n",
       "      <th>40</th>\n",
       "      <td>test.MyBenchmark.closure11FreeVariables3Millio...</td>\n",
       "      <td>thrpt</td>\n",
       "      <td>1</td>\n",
       "      <td>25</td>\n",
       "      <td>7.686746e+00</td>\n",
       "      <td>6.253100e-02</td>\n",
       "      <td>ops/s</td>\n",
       "      <td>False</td>\n",
       "    </tr>\n",
       "    <tr>\n",
       "      <th>42</th>\n",
       "      <td>test.MyBenchmark.closure11FreeVariables3Millio...</td>\n",
       "      <td>thrpt</td>\n",
       "      <td>1</td>\n",
       "      <td>25</td>\n",
       "      <td>7.382109e+00</td>\n",
       "      <td>6.303500e-02</td>\n",
       "      <td>ops/s</td>\n",
       "      <td>False</td>\n",
       "    </tr>\n",
       "    <tr>\n",
       "      <th>44</th>\n",
       "      <td>test.MyBenchmark.closure15FreeVariables3Millio...</td>\n",
       "      <td>thrpt</td>\n",
       "      <td>1</td>\n",
       "      <td>25</td>\n",
       "      <td>7.696361e+00</td>\n",
       "      <td>4.945200e-02</td>\n",
       "      <td>ops/s</td>\n",
       "      <td>False</td>\n",
       "    </tr>\n",
       "    <tr>\n",
       "      <th>46</th>\n",
       "      <td>test.MyBenchmark.closure15FreeVariables3Millio...</td>\n",
       "      <td>thrpt</td>\n",
       "      <td>1</td>\n",
       "      <td>25</td>\n",
       "      <td>7.374109e+00</td>\n",
       "      <td>6.096800e-02</td>\n",
       "      <td>ops/s</td>\n",
       "      <td>False</td>\n",
       "    </tr>\n",
       "    <tr>\n",
       "      <th>48</th>\n",
       "      <td>test.MyBenchmark.closure19FreeVariables3Millio...</td>\n",
       "      <td>thrpt</td>\n",
       "      <td>1</td>\n",
       "      <td>25</td>\n",
       "      <td>7.660216e+00</td>\n",
       "      <td>6.294500e-02</td>\n",
       "      <td>ops/s</td>\n",
       "      <td>False</td>\n",
       "    </tr>\n",
       "    <tr>\n",
       "      <th>50</th>\n",
       "      <td>test.MyBenchmark.closure19FreeVariables3Millio...</td>\n",
       "      <td>thrpt</td>\n",
       "      <td>1</td>\n",
       "      <td>25</td>\n",
       "      <td>7.051690e+00</td>\n",
       "      <td>7.748500e-02</td>\n",
       "      <td>ops/s</td>\n",
       "      <td>False</td>\n",
       "    </tr>\n",
       "    <tr>\n",
       "      <th>52</th>\n",
       "      <td>test.MyBenchmark.closure1FreeVariables3Million...</td>\n",
       "      <td>thrpt</td>\n",
       "      <td>1</td>\n",
       "      <td>25</td>\n",
       "      <td>7.662642e+00</td>\n",
       "      <td>6.001100e-02</td>\n",
       "      <td>ops/s</td>\n",
       "      <td>False</td>\n",
       "    </tr>\n",
       "    <tr>\n",
       "      <th>54</th>\n",
       "      <td>test.MyBenchmark.closure1FreeVariables3Million...</td>\n",
       "      <td>thrpt</td>\n",
       "      <td>1</td>\n",
       "      <td>25</td>\n",
       "      <td>7.439607e+00</td>\n",
       "      <td>6.028500e-02</td>\n",
       "      <td>ops/s</td>\n",
       "      <td>False</td>\n",
       "    </tr>\n",
       "    <tr>\n",
       "      <th>56</th>\n",
       "      <td>test.MyBenchmark.closure23FreeVariables3Millio...</td>\n",
       "      <td>thrpt</td>\n",
       "      <td>1</td>\n",
       "      <td>25</td>\n",
       "      <td>7.842363e+00</td>\n",
       "      <td>6.284900e-02</td>\n",
       "      <td>ops/s</td>\n",
       "      <td>False</td>\n",
       "    </tr>\n",
       "    <tr>\n",
       "      <th>58</th>\n",
       "      <td>test.MyBenchmark.closure23FreeVariables3Millio...</td>\n",
       "      <td>thrpt</td>\n",
       "      <td>1</td>\n",
       "      <td>25</td>\n",
       "      <td>7.129219e+00</td>\n",
       "      <td>8.225500e-02</td>\n",
       "      <td>ops/s</td>\n",
       "      <td>False</td>\n",
       "    </tr>\n",
       "    <tr>\n",
       "      <th>60</th>\n",
       "      <td>test.MyBenchmark.closure4FreeVariables3Million...</td>\n",
       "      <td>thrpt</td>\n",
       "      <td>1</td>\n",
       "      <td>25</td>\n",
       "      <td>7.949590e+00</td>\n",
       "      <td>7.436100e-02</td>\n",
       "      <td>ops/s</td>\n",
       "      <td>False</td>\n",
       "    </tr>\n",
       "    <tr>\n",
       "      <th>62</th>\n",
       "      <td>test.MyBenchmark.closure4FreeVariables3Million...</td>\n",
       "      <td>thrpt</td>\n",
       "      <td>1</td>\n",
       "      <td>25</td>\n",
       "      <td>7.330297e+00</td>\n",
       "      <td>8.015200e-02</td>\n",
       "      <td>ops/s</td>\n",
       "      <td>False</td>\n",
       "    </tr>\n",
       "    <tr>\n",
       "      <th>64</th>\n",
       "      <td>test.MyBenchmark.closure8FreeVariables3Million...</td>\n",
       "      <td>thrpt</td>\n",
       "      <td>1</td>\n",
       "      <td>25</td>\n",
       "      <td>7.682047e+00</td>\n",
       "      <td>5.450800e-02</td>\n",
       "      <td>ops/s</td>\n",
       "      <td>False</td>\n",
       "    </tr>\n",
       "    <tr>\n",
       "      <th>66</th>\n",
       "      <td>test.MyBenchmark.closure8FreeVariables3Million...</td>\n",
       "      <td>thrpt</td>\n",
       "      <td>1</td>\n",
       "      <td>25</td>\n",
       "      <td>7.379428e+00</td>\n",
       "      <td>6.401900e-02</td>\n",
       "      <td>ops/s</td>\n",
       "      <td>False</td>\n",
       "    </tr>\n",
       "  </tbody>\n",
       "</table>\n",
       "</div>"
      ],
      "text/plain": [
       "                                            Benchmark   Mode  Threads  \\\n",
       "0   test.MyBenchmark.closure15FreeVariables3Millio...  thrpt        1   \n",
       "1   test.MyBenchmark.closure15FreeVariables3Millio...  thrpt        1   \n",
       "2   test.MyBenchmark.closure1FreeVariables3Million...  thrpt        1   \n",
       "3   test.MyBenchmark.closure1FreeVariables3Million...  thrpt        1   \n",
       "4   test.MyBenchmark.closure23FreeVariables3Millio...  thrpt        1   \n",
       "5   test.MyBenchmark.closure23FreeVariables3Millio...  thrpt        1   \n",
       "6   test.MyBenchmark.closure8FreeVariables3Million...  thrpt        1   \n",
       "7   test.MyBenchmark.closure8FreeVariables3Million...  thrpt        1   \n",
       "8   test.MyBenchmark.emptyClosure15Arguments3Milli...  thrpt        1   \n",
       "9   test.MyBenchmark.emptyClosure15Arguments3Milli...  thrpt        1   \n",
       "10  test.MyBenchmark.emptyClosure1Arguments3Millio...  thrpt        1   \n",
       "11  test.MyBenchmark.emptyClosure1Arguments3Millio...  thrpt        1   \n",
       "12  test.MyBenchmark.emptyClosure23Arguments3Milli...  thrpt        1   \n",
       "13  test.MyBenchmark.emptyClosure23Arguments3Milli...  thrpt        1   \n",
       "14  test.MyBenchmark.emptyClosure8Arguments3Millio...  thrpt        1   \n",
       "15  test.MyBenchmark.emptyClosure8Arguments3Millio...  thrpt        1   \n",
       "16  test.MyBenchmark.closure11FreeVariables3Millio...  thrpt        1   \n",
       "18  test.MyBenchmark.closure11FreeVariables3Millio...  thrpt        1   \n",
       "20  test.MyBenchmark.closure19FreeVariables3Millio...  thrpt        1   \n",
       "22  test.MyBenchmark.closure19FreeVariables3Millio...  thrpt        1   \n",
       "24  test.MyBenchmark.closure4FreeVariables3Million...  thrpt        1   \n",
       "26  test.MyBenchmark.closure4FreeVariables3Million...  thrpt        1   \n",
       "28  test.MyBenchmark.emptyClosure11Arguments3Milli...  thrpt        1   \n",
       "30  test.MyBenchmark.emptyClosure11Arguments3Milli...  thrpt        1   \n",
       "32  test.MyBenchmark.emptyClosure19Arguments3Milli...  thrpt        1   \n",
       "34  test.MyBenchmark.emptyClosure19Arguments3Milli...  thrpt        1   \n",
       "36  test.MyBenchmark.emptyClosure4Arguments3Millio...  thrpt        1   \n",
       "38  test.MyBenchmark.emptyClosure4Arguments3Millio...  thrpt        1   \n",
       "40  test.MyBenchmark.closure11FreeVariables3Millio...  thrpt        1   \n",
       "42  test.MyBenchmark.closure11FreeVariables3Millio...  thrpt        1   \n",
       "44  test.MyBenchmark.closure15FreeVariables3Millio...  thrpt        1   \n",
       "46  test.MyBenchmark.closure15FreeVariables3Millio...  thrpt        1   \n",
       "48  test.MyBenchmark.closure19FreeVariables3Millio...  thrpt        1   \n",
       "50  test.MyBenchmark.closure19FreeVariables3Millio...  thrpt        1   \n",
       "52  test.MyBenchmark.closure1FreeVariables3Million...  thrpt        1   \n",
       "54  test.MyBenchmark.closure1FreeVariables3Million...  thrpt        1   \n",
       "56  test.MyBenchmark.closure23FreeVariables3Millio...  thrpt        1   \n",
       "58  test.MyBenchmark.closure23FreeVariables3Millio...  thrpt        1   \n",
       "60  test.MyBenchmark.closure4FreeVariables3Million...  thrpt        1   \n",
       "62  test.MyBenchmark.closure4FreeVariables3Million...  thrpt        1   \n",
       "64  test.MyBenchmark.closure8FreeVariables3Million...  thrpt        1   \n",
       "66  test.MyBenchmark.closure8FreeVariables3Million...  thrpt        1   \n",
       "\n",
       "    Samples         Score  Score Error (99,9%)   Unit  jfr_benchmark  \n",
       "0        25  3.789023e+01         1.633060e-01  ops/s          False  \n",
       "1        25  7.669248e+00         1.201700e-02  ops/s          False  \n",
       "2        25  5.524835e+01         3.472144e+00  ops/s          False  \n",
       "3        25  7.653771e+00         8.266900e-02  ops/s          False  \n",
       "4        25  2.457211e+01         2.227060e-01  ops/s          False  \n",
       "5        25  7.320912e+00         8.750600e-02  ops/s          False  \n",
       "6        25  5.061050e+01         2.893330e-01  ops/s          False  \n",
       "7        25  7.620139e+00         8.876000e-03  ops/s          False  \n",
       "8        25  1.082164e+01         1.529500e-02  ops/s          False  \n",
       "9        25  6.640904e+00         1.589900e-02  ops/s          False  \n",
       "10       25  9.943285e+08         7.323734e+06  ops/s          False  \n",
       "11       25  9.962893e+08         3.551796e+04  ops/s          False  \n",
       "12       25  3.216961e+00         4.411300e-02  ops/s          False  \n",
       "13       25  2.766685e+00         1.769600e-02  ops/s          False  \n",
       "14       25  9.962530e+08         7.075970e+04  ops/s          False  \n",
       "15       25  9.962563e+08         5.257298e+04  ops/s          False  \n",
       "16       25  4.355906e+01         7.933460e-01  ops/s          False  \n",
       "18       25  7.428626e+00         6.176400e-02  ops/s          False  \n",
       "20       25  2.792310e+01         2.985710e-01  ops/s          False  \n",
       "22       25  7.117279e+00         8.359100e-02  ops/s          False  \n",
       "24       25  5.762116e+01         6.265260e-01  ops/s          False  \n",
       "26       25  7.403208e+00         6.346400e-02  ops/s          False  \n",
       "28       25  2.022609e+01         1.212410e-01  ops/s          False  \n",
       "30       25  7.255488e+00         8.220000e-02  ops/s          False  \n",
       "32       25  7.716051e+00         7.024800e-02  ops/s          False  \n",
       "34       25  5.888573e+00         7.619800e-02  ops/s          False  \n",
       "36       25  9.904871e+08         5.691706e+06  ops/s          False  \n",
       "38       25  9.899124e+08         5.873472e+06  ops/s          False  \n",
       "40       25  7.686746e+00         6.253100e-02  ops/s          False  \n",
       "42       25  7.382109e+00         6.303500e-02  ops/s          False  \n",
       "44       25  7.696361e+00         4.945200e-02  ops/s          False  \n",
       "46       25  7.374109e+00         6.096800e-02  ops/s          False  \n",
       "48       25  7.660216e+00         6.294500e-02  ops/s          False  \n",
       "50       25  7.051690e+00         7.748500e-02  ops/s          False  \n",
       "52       25  7.662642e+00         6.001100e-02  ops/s          False  \n",
       "54       25  7.439607e+00         6.028500e-02  ops/s          False  \n",
       "56       25  7.842363e+00         6.284900e-02  ops/s          False  \n",
       "58       25  7.129219e+00         8.225500e-02  ops/s          False  \n",
       "60       25  7.949590e+00         7.436100e-02  ops/s          False  \n",
       "62       25  7.330297e+00         8.015200e-02  ops/s          False  \n",
       "64       25  7.682047e+00         5.450800e-02  ops/s          False  \n",
       "66       25  7.379428e+00         6.401900e-02  ops/s          False  "
      ]
     },
     "execution_count": 102,
     "metadata": {},
     "output_type": "execute_result"
    }
   ],
   "source": [
    "data_lg"
   ]
  },
  {
   "cell_type": "code",
   "execution_count": 103,
   "id": "pacific-referral",
   "metadata": {},
   "outputs": [],
   "source": [
    "data[\"Score - error\"] = data[\"Score\"] - data[\"Score Error (99,9%)\"]\n",
    "data_lg[\"Score - error\"] = data_lg[\"Score\"] - data_lg[\"Score Error (99,9%)\"]"
   ]
  },
  {
   "cell_type": "code",
   "execution_count": 104,
   "id": "parental-design",
   "metadata": {},
   "outputs": [],
   "source": [
    "data[\"Score + error\"] = data[\"Score\"] + data[\"Score Error (99,9%)\"]\n",
    "data_lg[\"Score + error\"] = data_lg[\"Score\"] + data_lg[\"Score Error (99,9%)\"]"
   ]
  },
  {
   "cell_type": "code",
   "execution_count": 105,
   "id": "sixth-deficit",
   "metadata": {},
   "outputs": [],
   "source": [
    "data[\"inverse score\"] = data[\"Score\"].apply(lambda val: val**(-1))\n",
    "data[\"inverse lower score\"] = data[\"Score - error\"].apply(lambda val: val**(-1))\n",
    "data[\"inverse upper score\"] = data[\"Score + error\"].apply(lambda val: val**(-1))\n",
    "data_lg[\"inverse score\"] = data_lg[\"Score\"].apply(lambda val: val**(-1))\n",
    "data_lg[\"inverse lower score\"] = data_lg[\"Score - error\"].apply(lambda val: val**(-1))\n",
    "data_lg[\"inverse upper score\"] = data_lg[\"Score + error\"].apply(lambda val: val**(-1))"
   ]
  },
  {
   "cell_type": "code",
   "execution_count": 106,
   "id": "parliamentary-harvest",
   "metadata": {},
   "outputs": [],
   "source": [
    "def get_closure_size_from_benchmark(benchmark):\n",
    "    benchmark = benchmark.replace(\"InstantiationsAnd\", \"\")\n",
    "    benchmark = benchmark.replace(\"Instantiations\", \"\")\n",
    "    benchmark = benchmark.replace(\"test.MyBenchmark.closure\", \"\")\n",
    "    benchmark = benchmark.replace(\"FreeVariables3MillionCalls\", \"\")\n",
    "    try:\n",
    "        closure_size = int(benchmark)\n",
    "        return closure_size\n",
    "    except Exception:\n",
    "        return 0"
   ]
  },
  {
   "cell_type": "code",
   "execution_count": 107,
   "id": "constant-macintosh",
   "metadata": {},
   "outputs": [],
   "source": [
    "def get_arity_from_benchmark(benchmark):\n",
    "    benchmark = benchmark.replace(\"InstantiationsAnd\", \"\")\n",
    "    benchmark = benchmark.replace(\"test.MyBenchmark.emptyClosure\", \"\")\n",
    "    benchmark = benchmark.replace(\"Arguments3MillionCalls\", \"\")\n",
    "    try:\n",
    "        arity = int(benchmark)\n",
    "        return arity\n",
    "    except Exception:\n",
    "        return 0"
   ]
  },
  {
   "cell_type": "code",
   "execution_count": 108,
   "id": "greater-stocks",
   "metadata": {},
   "outputs": [],
   "source": [
    "data[\"closure_size\"] = data[\"Benchmark\"].apply(get_closure_size_from_benchmark)\n",
    "data[\"arity\"]        = data[\"Benchmark\"].apply(get_arity_from_benchmark)\n",
    "data_lg[\"closure_size\"] = data_lg[\"Benchmark\"].apply(get_closure_size_from_benchmark)\n",
    "data_lg[\"arity\"]        = data_lg[\"Benchmark\"].apply(get_arity_from_benchmark)"
   ]
  },
  {
   "cell_type": "code",
   "execution_count": 109,
   "id": "aerial-resource",
   "metadata": {},
   "outputs": [],
   "source": [
    "data[\"closure_test\"] = data[\"Benchmark\"].apply(lambda val: val.startswith(\"test.MyBenchmark.closure\") and \"FreeVariables\" in val)\n",
    "data[\"arity_test\"] = data[\"Benchmark\"].apply(lambda val: val.startswith(\"test.MyBenchmark.emptyClosure\") and \"Arguments3Million\" in val)\n",
    "data_lg[\"closure_test\"] = data_lg[\"Benchmark\"].apply(lambda val: val.startswith(\"test.MyBenchmark.closure\") and \"FreeVariables\" in val)\n",
    "data_lg[\"arity_test\"] = data_lg[\"Benchmark\"].apply(lambda val: val.startswith(\"test.MyBenchmark.emptyClosure\") and \"Arguments3Million\" in val)"
   ]
  },
  {
   "cell_type": "code",
   "execution_count": 110,
   "id": "equal-genealogy",
   "metadata": {},
   "outputs": [],
   "source": [
    "data[\"instantiation_test\"] = data[\"Benchmark\"].apply(lambda val: \"Instantiations\" in val)\n",
    "data[\"invocation_test\"] = data[\"Benchmark\"].apply(lambda val: \"Calls\" in val)\n",
    "data_lg[\"instantiation_test\"] = data_lg[\"Benchmark\"].apply(lambda val: \"Instantiations\" in val)\n",
    "data_lg[\"invocation_test\"] = data_lg[\"Benchmark\"].apply(lambda val: \"Calls\" in val)"
   ]
  },
  {
   "cell_type": "code",
   "execution_count": 111,
   "id": "promising-football",
   "metadata": {},
   "outputs": [
    {
     "data": {
      "text/html": [
       "<div>\n",
       "<style scoped>\n",
       "    .dataframe tbody tr th:only-of-type {\n",
       "        vertical-align: middle;\n",
       "    }\n",
       "\n",
       "    .dataframe tbody tr th {\n",
       "        vertical-align: top;\n",
       "    }\n",
       "\n",
       "    .dataframe thead th {\n",
       "        text-align: right;\n",
       "    }\n",
       "</style>\n",
       "<table border=\"1\" class=\"dataframe\">\n",
       "  <thead>\n",
       "    <tr style=\"text-align: right;\">\n",
       "      <th></th>\n",
       "      <th>Benchmark</th>\n",
       "      <th>closure_size</th>\n",
       "      <th>arity</th>\n",
       "      <th>closure_test</th>\n",
       "      <th>arity_test</th>\n",
       "      <th>instantiation_test</th>\n",
       "      <th>invocation_test</th>\n",
       "    </tr>\n",
       "  </thead>\n",
       "  <tbody>\n",
       "    <tr>\n",
       "      <th>0</th>\n",
       "      <td>test.MyBenchmark.closure15FreeVariables3Millio...</td>\n",
       "      <td>15</td>\n",
       "      <td>0</td>\n",
       "      <td>True</td>\n",
       "      <td>False</td>\n",
       "      <td>False</td>\n",
       "      <td>True</td>\n",
       "    </tr>\n",
       "    <tr>\n",
       "      <th>1</th>\n",
       "      <td>test.MyBenchmark.closure15FreeVariables3Millio...</td>\n",
       "      <td>15</td>\n",
       "      <td>0</td>\n",
       "      <td>True</td>\n",
       "      <td>False</td>\n",
       "      <td>True</td>\n",
       "      <td>True</td>\n",
       "    </tr>\n",
       "    <tr>\n",
       "      <th>2</th>\n",
       "      <td>test.MyBenchmark.closure8FreeVariables3Million...</td>\n",
       "      <td>8</td>\n",
       "      <td>0</td>\n",
       "      <td>True</td>\n",
       "      <td>False</td>\n",
       "      <td>False</td>\n",
       "      <td>True</td>\n",
       "    </tr>\n",
       "    <tr>\n",
       "      <th>3</th>\n",
       "      <td>test.MyBenchmark.closure8FreeVariables3Million...</td>\n",
       "      <td>8</td>\n",
       "      <td>0</td>\n",
       "      <td>True</td>\n",
       "      <td>False</td>\n",
       "      <td>True</td>\n",
       "      <td>True</td>\n",
       "    </tr>\n",
       "    <tr>\n",
       "      <th>4</th>\n",
       "      <td>test.MyBenchmark.emptyClosure15Arguments3Milli...</td>\n",
       "      <td>0</td>\n",
       "      <td>15</td>\n",
       "      <td>False</td>\n",
       "      <td>True</td>\n",
       "      <td>False</td>\n",
       "      <td>True</td>\n",
       "    </tr>\n",
       "    <tr>\n",
       "      <th>5</th>\n",
       "      <td>test.MyBenchmark.emptyClosure15Arguments3Milli...</td>\n",
       "      <td>0</td>\n",
       "      <td>15</td>\n",
       "      <td>False</td>\n",
       "      <td>True</td>\n",
       "      <td>True</td>\n",
       "      <td>True</td>\n",
       "    </tr>\n",
       "    <tr>\n",
       "      <th>6</th>\n",
       "      <td>test.MyBenchmark.emptyClosure8Arguments3Millio...</td>\n",
       "      <td>0</td>\n",
       "      <td>8</td>\n",
       "      <td>False</td>\n",
       "      <td>True</td>\n",
       "      <td>False</td>\n",
       "      <td>True</td>\n",
       "    </tr>\n",
       "    <tr>\n",
       "      <th>7</th>\n",
       "      <td>test.MyBenchmark.emptyClosure8Arguments3Millio...</td>\n",
       "      <td>0</td>\n",
       "      <td>8</td>\n",
       "      <td>False</td>\n",
       "      <td>True</td>\n",
       "      <td>True</td>\n",
       "      <td>True</td>\n",
       "    </tr>\n",
       "    <tr>\n",
       "      <th>8</th>\n",
       "      <td>test.MyBenchmark.closure1FreeVariables3Million...</td>\n",
       "      <td>1</td>\n",
       "      <td>0</td>\n",
       "      <td>True</td>\n",
       "      <td>False</td>\n",
       "      <td>False</td>\n",
       "      <td>True</td>\n",
       "    </tr>\n",
       "    <tr>\n",
       "      <th>9</th>\n",
       "      <td>test.MyBenchmark.closure1FreeVariables3Million...</td>\n",
       "      <td>1</td>\n",
       "      <td>0</td>\n",
       "      <td>True</td>\n",
       "      <td>False</td>\n",
       "      <td>True</td>\n",
       "      <td>True</td>\n",
       "    </tr>\n",
       "    <tr>\n",
       "      <th>10</th>\n",
       "      <td>test.MyBenchmark.closure23FreeVariables3Millio...</td>\n",
       "      <td>23</td>\n",
       "      <td>0</td>\n",
       "      <td>True</td>\n",
       "      <td>False</td>\n",
       "      <td>False</td>\n",
       "      <td>True</td>\n",
       "    </tr>\n",
       "    <tr>\n",
       "      <th>11</th>\n",
       "      <td>test.MyBenchmark.closure23FreeVariables3Millio...</td>\n",
       "      <td>23</td>\n",
       "      <td>0</td>\n",
       "      <td>True</td>\n",
       "      <td>False</td>\n",
       "      <td>True</td>\n",
       "      <td>True</td>\n",
       "    </tr>\n",
       "    <tr>\n",
       "      <th>12</th>\n",
       "      <td>test.MyBenchmark.emptyClosure1Arguments3Millio...</td>\n",
       "      <td>0</td>\n",
       "      <td>1</td>\n",
       "      <td>False</td>\n",
       "      <td>True</td>\n",
       "      <td>False</td>\n",
       "      <td>True</td>\n",
       "    </tr>\n",
       "    <tr>\n",
       "      <th>13</th>\n",
       "      <td>test.MyBenchmark.emptyClosure1Arguments3Millio...</td>\n",
       "      <td>0</td>\n",
       "      <td>1</td>\n",
       "      <td>False</td>\n",
       "      <td>True</td>\n",
       "      <td>True</td>\n",
       "      <td>True</td>\n",
       "    </tr>\n",
       "    <tr>\n",
       "      <th>14</th>\n",
       "      <td>test.MyBenchmark.emptyClosure23Arguments3Milli...</td>\n",
       "      <td>0</td>\n",
       "      <td>23</td>\n",
       "      <td>False</td>\n",
       "      <td>True</td>\n",
       "      <td>False</td>\n",
       "      <td>True</td>\n",
       "    </tr>\n",
       "    <tr>\n",
       "      <th>15</th>\n",
       "      <td>test.MyBenchmark.emptyClosure23Arguments3Milli...</td>\n",
       "      <td>0</td>\n",
       "      <td>23</td>\n",
       "      <td>False</td>\n",
       "      <td>True</td>\n",
       "      <td>True</td>\n",
       "      <td>True</td>\n",
       "    </tr>\n",
       "    <tr>\n",
       "      <th>16</th>\n",
       "      <td>test.MyBenchmark.closure11FreeVariables3Millio...</td>\n",
       "      <td>11</td>\n",
       "      <td>0</td>\n",
       "      <td>True</td>\n",
       "      <td>False</td>\n",
       "      <td>False</td>\n",
       "      <td>True</td>\n",
       "    </tr>\n",
       "    <tr>\n",
       "      <th>18</th>\n",
       "      <td>test.MyBenchmark.closure11FreeVariables3Millio...</td>\n",
       "      <td>11</td>\n",
       "      <td>0</td>\n",
       "      <td>True</td>\n",
       "      <td>False</td>\n",
       "      <td>True</td>\n",
       "      <td>True</td>\n",
       "    </tr>\n",
       "    <tr>\n",
       "      <th>20</th>\n",
       "      <td>test.MyBenchmark.closure19FreeVariables3Millio...</td>\n",
       "      <td>19</td>\n",
       "      <td>0</td>\n",
       "      <td>True</td>\n",
       "      <td>False</td>\n",
       "      <td>False</td>\n",
       "      <td>True</td>\n",
       "    </tr>\n",
       "    <tr>\n",
       "      <th>22</th>\n",
       "      <td>test.MyBenchmark.closure19FreeVariables3Millio...</td>\n",
       "      <td>19</td>\n",
       "      <td>0</td>\n",
       "      <td>True</td>\n",
       "      <td>False</td>\n",
       "      <td>True</td>\n",
       "      <td>True</td>\n",
       "    </tr>\n",
       "    <tr>\n",
       "      <th>24</th>\n",
       "      <td>test.MyBenchmark.closure4FreeVariables3Million...</td>\n",
       "      <td>4</td>\n",
       "      <td>0</td>\n",
       "      <td>True</td>\n",
       "      <td>False</td>\n",
       "      <td>False</td>\n",
       "      <td>True</td>\n",
       "    </tr>\n",
       "    <tr>\n",
       "      <th>26</th>\n",
       "      <td>test.MyBenchmark.closure4FreeVariables3Million...</td>\n",
       "      <td>4</td>\n",
       "      <td>0</td>\n",
       "      <td>True</td>\n",
       "      <td>False</td>\n",
       "      <td>True</td>\n",
       "      <td>True</td>\n",
       "    </tr>\n",
       "    <tr>\n",
       "      <th>28</th>\n",
       "      <td>test.MyBenchmark.emptyClosure11Arguments3Milli...</td>\n",
       "      <td>0</td>\n",
       "      <td>11</td>\n",
       "      <td>False</td>\n",
       "      <td>True</td>\n",
       "      <td>False</td>\n",
       "      <td>True</td>\n",
       "    </tr>\n",
       "    <tr>\n",
       "      <th>30</th>\n",
       "      <td>test.MyBenchmark.emptyClosure11Arguments3Milli...</td>\n",
       "      <td>0</td>\n",
       "      <td>11</td>\n",
       "      <td>False</td>\n",
       "      <td>True</td>\n",
       "      <td>True</td>\n",
       "      <td>True</td>\n",
       "    </tr>\n",
       "    <tr>\n",
       "      <th>32</th>\n",
       "      <td>test.MyBenchmark.emptyClosure19Arguments3Milli...</td>\n",
       "      <td>0</td>\n",
       "      <td>19</td>\n",
       "      <td>False</td>\n",
       "      <td>True</td>\n",
       "      <td>False</td>\n",
       "      <td>True</td>\n",
       "    </tr>\n",
       "    <tr>\n",
       "      <th>34</th>\n",
       "      <td>test.MyBenchmark.emptyClosure19Arguments3Milli...</td>\n",
       "      <td>0</td>\n",
       "      <td>19</td>\n",
       "      <td>False</td>\n",
       "      <td>True</td>\n",
       "      <td>True</td>\n",
       "      <td>True</td>\n",
       "    </tr>\n",
       "    <tr>\n",
       "      <th>36</th>\n",
       "      <td>test.MyBenchmark.emptyClosure4Arguments3Millio...</td>\n",
       "      <td>0</td>\n",
       "      <td>4</td>\n",
       "      <td>False</td>\n",
       "      <td>True</td>\n",
       "      <td>False</td>\n",
       "      <td>True</td>\n",
       "    </tr>\n",
       "    <tr>\n",
       "      <th>38</th>\n",
       "      <td>test.MyBenchmark.emptyClosure4Arguments3Millio...</td>\n",
       "      <td>0</td>\n",
       "      <td>4</td>\n",
       "      <td>False</td>\n",
       "      <td>True</td>\n",
       "      <td>True</td>\n",
       "      <td>True</td>\n",
       "    </tr>\n",
       "    <tr>\n",
       "      <th>40</th>\n",
       "      <td>test.MyBenchmark.closure11FreeVariables3Millio...</td>\n",
       "      <td>0</td>\n",
       "      <td>0</td>\n",
       "      <td>True</td>\n",
       "      <td>False</td>\n",
       "      <td>True</td>\n",
       "      <td>False</td>\n",
       "    </tr>\n",
       "    <tr>\n",
       "      <th>41</th>\n",
       "      <td>test.MyBenchmark.closure11FreeVariables3Millio...</td>\n",
       "      <td>11</td>\n",
       "      <td>0</td>\n",
       "      <td>True</td>\n",
       "      <td>False</td>\n",
       "      <td>True</td>\n",
       "      <td>True</td>\n",
       "    </tr>\n",
       "    <tr>\n",
       "      <th>42</th>\n",
       "      <td>test.MyBenchmark.closure15FreeVariables3Millio...</td>\n",
       "      <td>0</td>\n",
       "      <td>0</td>\n",
       "      <td>True</td>\n",
       "      <td>False</td>\n",
       "      <td>True</td>\n",
       "      <td>False</td>\n",
       "    </tr>\n",
       "    <tr>\n",
       "      <th>43</th>\n",
       "      <td>test.MyBenchmark.closure15FreeVariables3Millio...</td>\n",
       "      <td>15</td>\n",
       "      <td>0</td>\n",
       "      <td>True</td>\n",
       "      <td>False</td>\n",
       "      <td>True</td>\n",
       "      <td>True</td>\n",
       "    </tr>\n",
       "    <tr>\n",
       "      <th>44</th>\n",
       "      <td>test.MyBenchmark.closure19FreeVariables3Millio...</td>\n",
       "      <td>0</td>\n",
       "      <td>0</td>\n",
       "      <td>True</td>\n",
       "      <td>False</td>\n",
       "      <td>True</td>\n",
       "      <td>False</td>\n",
       "    </tr>\n",
       "    <tr>\n",
       "      <th>45</th>\n",
       "      <td>test.MyBenchmark.closure19FreeVariables3Millio...</td>\n",
       "      <td>19</td>\n",
       "      <td>0</td>\n",
       "      <td>True</td>\n",
       "      <td>False</td>\n",
       "      <td>True</td>\n",
       "      <td>True</td>\n",
       "    </tr>\n",
       "    <tr>\n",
       "      <th>46</th>\n",
       "      <td>test.MyBenchmark.closure1FreeVariables3Million...</td>\n",
       "      <td>0</td>\n",
       "      <td>0</td>\n",
       "      <td>True</td>\n",
       "      <td>False</td>\n",
       "      <td>True</td>\n",
       "      <td>False</td>\n",
       "    </tr>\n",
       "    <tr>\n",
       "      <th>47</th>\n",
       "      <td>test.MyBenchmark.closure1FreeVariables3Million...</td>\n",
       "      <td>1</td>\n",
       "      <td>0</td>\n",
       "      <td>True</td>\n",
       "      <td>False</td>\n",
       "      <td>True</td>\n",
       "      <td>True</td>\n",
       "    </tr>\n",
       "    <tr>\n",
       "      <th>48</th>\n",
       "      <td>test.MyBenchmark.closure23FreeVariables3Millio...</td>\n",
       "      <td>0</td>\n",
       "      <td>0</td>\n",
       "      <td>True</td>\n",
       "      <td>False</td>\n",
       "      <td>True</td>\n",
       "      <td>False</td>\n",
       "    </tr>\n",
       "    <tr>\n",
       "      <th>49</th>\n",
       "      <td>test.MyBenchmark.closure23FreeVariables3Millio...</td>\n",
       "      <td>23</td>\n",
       "      <td>0</td>\n",
       "      <td>True</td>\n",
       "      <td>False</td>\n",
       "      <td>True</td>\n",
       "      <td>True</td>\n",
       "    </tr>\n",
       "    <tr>\n",
       "      <th>50</th>\n",
       "      <td>test.MyBenchmark.closure4FreeVariables3Million...</td>\n",
       "      <td>0</td>\n",
       "      <td>0</td>\n",
       "      <td>True</td>\n",
       "      <td>False</td>\n",
       "      <td>True</td>\n",
       "      <td>False</td>\n",
       "    </tr>\n",
       "    <tr>\n",
       "      <th>51</th>\n",
       "      <td>test.MyBenchmark.closure4FreeVariables3Million...</td>\n",
       "      <td>4</td>\n",
       "      <td>0</td>\n",
       "      <td>True</td>\n",
       "      <td>False</td>\n",
       "      <td>True</td>\n",
       "      <td>True</td>\n",
       "    </tr>\n",
       "    <tr>\n",
       "      <th>52</th>\n",
       "      <td>test.MyBenchmark.closure8FreeVariables3Million...</td>\n",
       "      <td>0</td>\n",
       "      <td>0</td>\n",
       "      <td>True</td>\n",
       "      <td>False</td>\n",
       "      <td>True</td>\n",
       "      <td>False</td>\n",
       "    </tr>\n",
       "    <tr>\n",
       "      <th>53</th>\n",
       "      <td>test.MyBenchmark.closure8FreeVariables3Million...</td>\n",
       "      <td>8</td>\n",
       "      <td>0</td>\n",
       "      <td>True</td>\n",
       "      <td>False</td>\n",
       "      <td>True</td>\n",
       "      <td>True</td>\n",
       "    </tr>\n",
       "  </tbody>\n",
       "</table>\n",
       "</div>"
      ],
      "text/plain": [
       "                                            Benchmark  closure_size  arity  \\\n",
       "0   test.MyBenchmark.closure15FreeVariables3Millio...            15      0   \n",
       "1   test.MyBenchmark.closure15FreeVariables3Millio...            15      0   \n",
       "2   test.MyBenchmark.closure8FreeVariables3Million...             8      0   \n",
       "3   test.MyBenchmark.closure8FreeVariables3Million...             8      0   \n",
       "4   test.MyBenchmark.emptyClosure15Arguments3Milli...             0     15   \n",
       "5   test.MyBenchmark.emptyClosure15Arguments3Milli...             0     15   \n",
       "6   test.MyBenchmark.emptyClosure8Arguments3Millio...             0      8   \n",
       "7   test.MyBenchmark.emptyClosure8Arguments3Millio...             0      8   \n",
       "8   test.MyBenchmark.closure1FreeVariables3Million...             1      0   \n",
       "9   test.MyBenchmark.closure1FreeVariables3Million...             1      0   \n",
       "10  test.MyBenchmark.closure23FreeVariables3Millio...            23      0   \n",
       "11  test.MyBenchmark.closure23FreeVariables3Millio...            23      0   \n",
       "12  test.MyBenchmark.emptyClosure1Arguments3Millio...             0      1   \n",
       "13  test.MyBenchmark.emptyClosure1Arguments3Millio...             0      1   \n",
       "14  test.MyBenchmark.emptyClosure23Arguments3Milli...             0     23   \n",
       "15  test.MyBenchmark.emptyClosure23Arguments3Milli...             0     23   \n",
       "16  test.MyBenchmark.closure11FreeVariables3Millio...            11      0   \n",
       "18  test.MyBenchmark.closure11FreeVariables3Millio...            11      0   \n",
       "20  test.MyBenchmark.closure19FreeVariables3Millio...            19      0   \n",
       "22  test.MyBenchmark.closure19FreeVariables3Millio...            19      0   \n",
       "24  test.MyBenchmark.closure4FreeVariables3Million...             4      0   \n",
       "26  test.MyBenchmark.closure4FreeVariables3Million...             4      0   \n",
       "28  test.MyBenchmark.emptyClosure11Arguments3Milli...             0     11   \n",
       "30  test.MyBenchmark.emptyClosure11Arguments3Milli...             0     11   \n",
       "32  test.MyBenchmark.emptyClosure19Arguments3Milli...             0     19   \n",
       "34  test.MyBenchmark.emptyClosure19Arguments3Milli...             0     19   \n",
       "36  test.MyBenchmark.emptyClosure4Arguments3Millio...             0      4   \n",
       "38  test.MyBenchmark.emptyClosure4Arguments3Millio...             0      4   \n",
       "40  test.MyBenchmark.closure11FreeVariables3Millio...             0      0   \n",
       "41  test.MyBenchmark.closure11FreeVariables3Millio...            11      0   \n",
       "42  test.MyBenchmark.closure15FreeVariables3Millio...             0      0   \n",
       "43  test.MyBenchmark.closure15FreeVariables3Millio...            15      0   \n",
       "44  test.MyBenchmark.closure19FreeVariables3Millio...             0      0   \n",
       "45  test.MyBenchmark.closure19FreeVariables3Millio...            19      0   \n",
       "46  test.MyBenchmark.closure1FreeVariables3Million...             0      0   \n",
       "47  test.MyBenchmark.closure1FreeVariables3Million...             1      0   \n",
       "48  test.MyBenchmark.closure23FreeVariables3Millio...             0      0   \n",
       "49  test.MyBenchmark.closure23FreeVariables3Millio...            23      0   \n",
       "50  test.MyBenchmark.closure4FreeVariables3Million...             0      0   \n",
       "51  test.MyBenchmark.closure4FreeVariables3Million...             4      0   \n",
       "52  test.MyBenchmark.closure8FreeVariables3Million...             0      0   \n",
       "53  test.MyBenchmark.closure8FreeVariables3Million...             8      0   \n",
       "\n",
       "    closure_test  arity_test  instantiation_test  invocation_test  \n",
       "0           True       False               False             True  \n",
       "1           True       False                True             True  \n",
       "2           True       False               False             True  \n",
       "3           True       False                True             True  \n",
       "4          False        True               False             True  \n",
       "5          False        True                True             True  \n",
       "6          False        True               False             True  \n",
       "7          False        True                True             True  \n",
       "8           True       False               False             True  \n",
       "9           True       False                True             True  \n",
       "10          True       False               False             True  \n",
       "11          True       False                True             True  \n",
       "12         False        True               False             True  \n",
       "13         False        True                True             True  \n",
       "14         False        True               False             True  \n",
       "15         False        True                True             True  \n",
       "16          True       False               False             True  \n",
       "18          True       False                True             True  \n",
       "20          True       False               False             True  \n",
       "22          True       False                True             True  \n",
       "24          True       False               False             True  \n",
       "26          True       False                True             True  \n",
       "28         False        True               False             True  \n",
       "30         False        True                True             True  \n",
       "32         False        True               False             True  \n",
       "34         False        True                True             True  \n",
       "36         False        True               False             True  \n",
       "38         False        True                True             True  \n",
       "40          True       False                True            False  \n",
       "41          True       False                True             True  \n",
       "42          True       False                True            False  \n",
       "43          True       False                True             True  \n",
       "44          True       False                True            False  \n",
       "45          True       False                True             True  \n",
       "46          True       False                True            False  \n",
       "47          True       False                True             True  \n",
       "48          True       False                True            False  \n",
       "49          True       False                True             True  \n",
       "50          True       False                True            False  \n",
       "51          True       False                True             True  \n",
       "52          True       False                True            False  \n",
       "53          True       False                True             True  "
      ]
     },
     "execution_count": 111,
     "metadata": {},
     "output_type": "execute_result"
    }
   ],
   "source": [
    "data[[\"Benchmark\", \"closure_size\", \"arity\", \"closure_test\", \"arity_test\", \"instantiation_test\", \"invocation_test\"]]"
   ]
  },
  {
   "cell_type": "code",
   "execution_count": 112,
   "id": "fiscal-boston",
   "metadata": {},
   "outputs": [
    {
     "data": {
      "text/html": [
       "<div>\n",
       "<style scoped>\n",
       "    .dataframe tbody tr th:only-of-type {\n",
       "        vertical-align: middle;\n",
       "    }\n",
       "\n",
       "    .dataframe tbody tr th {\n",
       "        vertical-align: top;\n",
       "    }\n",
       "\n",
       "    .dataframe thead th {\n",
       "        text-align: right;\n",
       "    }\n",
       "</style>\n",
       "<table border=\"1\" class=\"dataframe\">\n",
       "  <thead>\n",
       "    <tr style=\"text-align: right;\">\n",
       "      <th></th>\n",
       "      <th>Benchmark</th>\n",
       "      <th>closure_size</th>\n",
       "      <th>arity</th>\n",
       "      <th>closure_test</th>\n",
       "      <th>arity_test</th>\n",
       "      <th>instantiation_test</th>\n",
       "      <th>invocation_test</th>\n",
       "    </tr>\n",
       "  </thead>\n",
       "  <tbody>\n",
       "    <tr>\n",
       "      <th>0</th>\n",
       "      <td>test.MyBenchmark.closure15FreeVariables3Millio...</td>\n",
       "      <td>15</td>\n",
       "      <td>0</td>\n",
       "      <td>True</td>\n",
       "      <td>False</td>\n",
       "      <td>False</td>\n",
       "      <td>True</td>\n",
       "    </tr>\n",
       "    <tr>\n",
       "      <th>1</th>\n",
       "      <td>test.MyBenchmark.closure15FreeVariables3Millio...</td>\n",
       "      <td>15</td>\n",
       "      <td>0</td>\n",
       "      <td>True</td>\n",
       "      <td>False</td>\n",
       "      <td>True</td>\n",
       "      <td>True</td>\n",
       "    </tr>\n",
       "    <tr>\n",
       "      <th>2</th>\n",
       "      <td>test.MyBenchmark.closure1FreeVariables3Million...</td>\n",
       "      <td>1</td>\n",
       "      <td>0</td>\n",
       "      <td>True</td>\n",
       "      <td>False</td>\n",
       "      <td>False</td>\n",
       "      <td>True</td>\n",
       "    </tr>\n",
       "    <tr>\n",
       "      <th>3</th>\n",
       "      <td>test.MyBenchmark.closure1FreeVariables3Million...</td>\n",
       "      <td>1</td>\n",
       "      <td>0</td>\n",
       "      <td>True</td>\n",
       "      <td>False</td>\n",
       "      <td>True</td>\n",
       "      <td>True</td>\n",
       "    </tr>\n",
       "    <tr>\n",
       "      <th>4</th>\n",
       "      <td>test.MyBenchmark.closure23FreeVariables3Millio...</td>\n",
       "      <td>23</td>\n",
       "      <td>0</td>\n",
       "      <td>True</td>\n",
       "      <td>False</td>\n",
       "      <td>False</td>\n",
       "      <td>True</td>\n",
       "    </tr>\n",
       "    <tr>\n",
       "      <th>5</th>\n",
       "      <td>test.MyBenchmark.closure23FreeVariables3Millio...</td>\n",
       "      <td>23</td>\n",
       "      <td>0</td>\n",
       "      <td>True</td>\n",
       "      <td>False</td>\n",
       "      <td>True</td>\n",
       "      <td>True</td>\n",
       "    </tr>\n",
       "    <tr>\n",
       "      <th>6</th>\n",
       "      <td>test.MyBenchmark.closure8FreeVariables3Million...</td>\n",
       "      <td>8</td>\n",
       "      <td>0</td>\n",
       "      <td>True</td>\n",
       "      <td>False</td>\n",
       "      <td>False</td>\n",
       "      <td>True</td>\n",
       "    </tr>\n",
       "    <tr>\n",
       "      <th>7</th>\n",
       "      <td>test.MyBenchmark.closure8FreeVariables3Million...</td>\n",
       "      <td>8</td>\n",
       "      <td>0</td>\n",
       "      <td>True</td>\n",
       "      <td>False</td>\n",
       "      <td>True</td>\n",
       "      <td>True</td>\n",
       "    </tr>\n",
       "    <tr>\n",
       "      <th>8</th>\n",
       "      <td>test.MyBenchmark.emptyClosure15Arguments3Milli...</td>\n",
       "      <td>0</td>\n",
       "      <td>15</td>\n",
       "      <td>False</td>\n",
       "      <td>True</td>\n",
       "      <td>False</td>\n",
       "      <td>True</td>\n",
       "    </tr>\n",
       "    <tr>\n",
       "      <th>9</th>\n",
       "      <td>test.MyBenchmark.emptyClosure15Arguments3Milli...</td>\n",
       "      <td>0</td>\n",
       "      <td>15</td>\n",
       "      <td>False</td>\n",
       "      <td>True</td>\n",
       "      <td>True</td>\n",
       "      <td>True</td>\n",
       "    </tr>\n",
       "    <tr>\n",
       "      <th>10</th>\n",
       "      <td>test.MyBenchmark.emptyClosure1Arguments3Millio...</td>\n",
       "      <td>0</td>\n",
       "      <td>1</td>\n",
       "      <td>False</td>\n",
       "      <td>True</td>\n",
       "      <td>False</td>\n",
       "      <td>True</td>\n",
       "    </tr>\n",
       "    <tr>\n",
       "      <th>11</th>\n",
       "      <td>test.MyBenchmark.emptyClosure1Arguments3Millio...</td>\n",
       "      <td>0</td>\n",
       "      <td>1</td>\n",
       "      <td>False</td>\n",
       "      <td>True</td>\n",
       "      <td>True</td>\n",
       "      <td>True</td>\n",
       "    </tr>\n",
       "    <tr>\n",
       "      <th>12</th>\n",
       "      <td>test.MyBenchmark.emptyClosure23Arguments3Milli...</td>\n",
       "      <td>0</td>\n",
       "      <td>23</td>\n",
       "      <td>False</td>\n",
       "      <td>True</td>\n",
       "      <td>False</td>\n",
       "      <td>True</td>\n",
       "    </tr>\n",
       "    <tr>\n",
       "      <th>13</th>\n",
       "      <td>test.MyBenchmark.emptyClosure23Arguments3Milli...</td>\n",
       "      <td>0</td>\n",
       "      <td>23</td>\n",
       "      <td>False</td>\n",
       "      <td>True</td>\n",
       "      <td>True</td>\n",
       "      <td>True</td>\n",
       "    </tr>\n",
       "    <tr>\n",
       "      <th>14</th>\n",
       "      <td>test.MyBenchmark.emptyClosure8Arguments3Millio...</td>\n",
       "      <td>0</td>\n",
       "      <td>8</td>\n",
       "      <td>False</td>\n",
       "      <td>True</td>\n",
       "      <td>False</td>\n",
       "      <td>True</td>\n",
       "    </tr>\n",
       "    <tr>\n",
       "      <th>15</th>\n",
       "      <td>test.MyBenchmark.emptyClosure8Arguments3Millio...</td>\n",
       "      <td>0</td>\n",
       "      <td>8</td>\n",
       "      <td>False</td>\n",
       "      <td>True</td>\n",
       "      <td>True</td>\n",
       "      <td>True</td>\n",
       "    </tr>\n",
       "    <tr>\n",
       "      <th>16</th>\n",
       "      <td>test.MyBenchmark.closure11FreeVariables3Millio...</td>\n",
       "      <td>11</td>\n",
       "      <td>0</td>\n",
       "      <td>True</td>\n",
       "      <td>False</td>\n",
       "      <td>False</td>\n",
       "      <td>True</td>\n",
       "    </tr>\n",
       "    <tr>\n",
       "      <th>18</th>\n",
       "      <td>test.MyBenchmark.closure11FreeVariables3Millio...</td>\n",
       "      <td>11</td>\n",
       "      <td>0</td>\n",
       "      <td>True</td>\n",
       "      <td>False</td>\n",
       "      <td>True</td>\n",
       "      <td>True</td>\n",
       "    </tr>\n",
       "    <tr>\n",
       "      <th>20</th>\n",
       "      <td>test.MyBenchmark.closure19FreeVariables3Millio...</td>\n",
       "      <td>19</td>\n",
       "      <td>0</td>\n",
       "      <td>True</td>\n",
       "      <td>False</td>\n",
       "      <td>False</td>\n",
       "      <td>True</td>\n",
       "    </tr>\n",
       "    <tr>\n",
       "      <th>22</th>\n",
       "      <td>test.MyBenchmark.closure19FreeVariables3Millio...</td>\n",
       "      <td>19</td>\n",
       "      <td>0</td>\n",
       "      <td>True</td>\n",
       "      <td>False</td>\n",
       "      <td>True</td>\n",
       "      <td>True</td>\n",
       "    </tr>\n",
       "    <tr>\n",
       "      <th>24</th>\n",
       "      <td>test.MyBenchmark.closure4FreeVariables3Million...</td>\n",
       "      <td>4</td>\n",
       "      <td>0</td>\n",
       "      <td>True</td>\n",
       "      <td>False</td>\n",
       "      <td>False</td>\n",
       "      <td>True</td>\n",
       "    </tr>\n",
       "    <tr>\n",
       "      <th>26</th>\n",
       "      <td>test.MyBenchmark.closure4FreeVariables3Million...</td>\n",
       "      <td>4</td>\n",
       "      <td>0</td>\n",
       "      <td>True</td>\n",
       "      <td>False</td>\n",
       "      <td>True</td>\n",
       "      <td>True</td>\n",
       "    </tr>\n",
       "    <tr>\n",
       "      <th>28</th>\n",
       "      <td>test.MyBenchmark.emptyClosure11Arguments3Milli...</td>\n",
       "      <td>0</td>\n",
       "      <td>11</td>\n",
       "      <td>False</td>\n",
       "      <td>True</td>\n",
       "      <td>False</td>\n",
       "      <td>True</td>\n",
       "    </tr>\n",
       "    <tr>\n",
       "      <th>30</th>\n",
       "      <td>test.MyBenchmark.emptyClosure11Arguments3Milli...</td>\n",
       "      <td>0</td>\n",
       "      <td>11</td>\n",
       "      <td>False</td>\n",
       "      <td>True</td>\n",
       "      <td>True</td>\n",
       "      <td>True</td>\n",
       "    </tr>\n",
       "    <tr>\n",
       "      <th>32</th>\n",
       "      <td>test.MyBenchmark.emptyClosure19Arguments3Milli...</td>\n",
       "      <td>0</td>\n",
       "      <td>19</td>\n",
       "      <td>False</td>\n",
       "      <td>True</td>\n",
       "      <td>False</td>\n",
       "      <td>True</td>\n",
       "    </tr>\n",
       "    <tr>\n",
       "      <th>34</th>\n",
       "      <td>test.MyBenchmark.emptyClosure19Arguments3Milli...</td>\n",
       "      <td>0</td>\n",
       "      <td>19</td>\n",
       "      <td>False</td>\n",
       "      <td>True</td>\n",
       "      <td>True</td>\n",
       "      <td>True</td>\n",
       "    </tr>\n",
       "    <tr>\n",
       "      <th>36</th>\n",
       "      <td>test.MyBenchmark.emptyClosure4Arguments3Millio...</td>\n",
       "      <td>0</td>\n",
       "      <td>4</td>\n",
       "      <td>False</td>\n",
       "      <td>True</td>\n",
       "      <td>False</td>\n",
       "      <td>True</td>\n",
       "    </tr>\n",
       "    <tr>\n",
       "      <th>38</th>\n",
       "      <td>test.MyBenchmark.emptyClosure4Arguments3Millio...</td>\n",
       "      <td>0</td>\n",
       "      <td>4</td>\n",
       "      <td>False</td>\n",
       "      <td>True</td>\n",
       "      <td>True</td>\n",
       "      <td>True</td>\n",
       "    </tr>\n",
       "    <tr>\n",
       "      <th>40</th>\n",
       "      <td>test.MyBenchmark.closure11FreeVariables3Millio...</td>\n",
       "      <td>0</td>\n",
       "      <td>0</td>\n",
       "      <td>True</td>\n",
       "      <td>False</td>\n",
       "      <td>True</td>\n",
       "      <td>False</td>\n",
       "    </tr>\n",
       "    <tr>\n",
       "      <th>42</th>\n",
       "      <td>test.MyBenchmark.closure11FreeVariables3Millio...</td>\n",
       "      <td>11</td>\n",
       "      <td>0</td>\n",
       "      <td>True</td>\n",
       "      <td>False</td>\n",
       "      <td>True</td>\n",
       "      <td>True</td>\n",
       "    </tr>\n",
       "    <tr>\n",
       "      <th>44</th>\n",
       "      <td>test.MyBenchmark.closure15FreeVariables3Millio...</td>\n",
       "      <td>0</td>\n",
       "      <td>0</td>\n",
       "      <td>True</td>\n",
       "      <td>False</td>\n",
       "      <td>True</td>\n",
       "      <td>False</td>\n",
       "    </tr>\n",
       "    <tr>\n",
       "      <th>46</th>\n",
       "      <td>test.MyBenchmark.closure15FreeVariables3Millio...</td>\n",
       "      <td>15</td>\n",
       "      <td>0</td>\n",
       "      <td>True</td>\n",
       "      <td>False</td>\n",
       "      <td>True</td>\n",
       "      <td>True</td>\n",
       "    </tr>\n",
       "    <tr>\n",
       "      <th>48</th>\n",
       "      <td>test.MyBenchmark.closure19FreeVariables3Millio...</td>\n",
       "      <td>0</td>\n",
       "      <td>0</td>\n",
       "      <td>True</td>\n",
       "      <td>False</td>\n",
       "      <td>True</td>\n",
       "      <td>False</td>\n",
       "    </tr>\n",
       "    <tr>\n",
       "      <th>50</th>\n",
       "      <td>test.MyBenchmark.closure19FreeVariables3Millio...</td>\n",
       "      <td>19</td>\n",
       "      <td>0</td>\n",
       "      <td>True</td>\n",
       "      <td>False</td>\n",
       "      <td>True</td>\n",
       "      <td>True</td>\n",
       "    </tr>\n",
       "    <tr>\n",
       "      <th>52</th>\n",
       "      <td>test.MyBenchmark.closure1FreeVariables3Million...</td>\n",
       "      <td>0</td>\n",
       "      <td>0</td>\n",
       "      <td>True</td>\n",
       "      <td>False</td>\n",
       "      <td>True</td>\n",
       "      <td>False</td>\n",
       "    </tr>\n",
       "    <tr>\n",
       "      <th>54</th>\n",
       "      <td>test.MyBenchmark.closure1FreeVariables3Million...</td>\n",
       "      <td>1</td>\n",
       "      <td>0</td>\n",
       "      <td>True</td>\n",
       "      <td>False</td>\n",
       "      <td>True</td>\n",
       "      <td>True</td>\n",
       "    </tr>\n",
       "    <tr>\n",
       "      <th>56</th>\n",
       "      <td>test.MyBenchmark.closure23FreeVariables3Millio...</td>\n",
       "      <td>0</td>\n",
       "      <td>0</td>\n",
       "      <td>True</td>\n",
       "      <td>False</td>\n",
       "      <td>True</td>\n",
       "      <td>False</td>\n",
       "    </tr>\n",
       "    <tr>\n",
       "      <th>58</th>\n",
       "      <td>test.MyBenchmark.closure23FreeVariables3Millio...</td>\n",
       "      <td>23</td>\n",
       "      <td>0</td>\n",
       "      <td>True</td>\n",
       "      <td>False</td>\n",
       "      <td>True</td>\n",
       "      <td>True</td>\n",
       "    </tr>\n",
       "    <tr>\n",
       "      <th>60</th>\n",
       "      <td>test.MyBenchmark.closure4FreeVariables3Million...</td>\n",
       "      <td>0</td>\n",
       "      <td>0</td>\n",
       "      <td>True</td>\n",
       "      <td>False</td>\n",
       "      <td>True</td>\n",
       "      <td>False</td>\n",
       "    </tr>\n",
       "    <tr>\n",
       "      <th>62</th>\n",
       "      <td>test.MyBenchmark.closure4FreeVariables3Million...</td>\n",
       "      <td>4</td>\n",
       "      <td>0</td>\n",
       "      <td>True</td>\n",
       "      <td>False</td>\n",
       "      <td>True</td>\n",
       "      <td>True</td>\n",
       "    </tr>\n",
       "    <tr>\n",
       "      <th>64</th>\n",
       "      <td>test.MyBenchmark.closure8FreeVariables3Million...</td>\n",
       "      <td>0</td>\n",
       "      <td>0</td>\n",
       "      <td>True</td>\n",
       "      <td>False</td>\n",
       "      <td>True</td>\n",
       "      <td>False</td>\n",
       "    </tr>\n",
       "    <tr>\n",
       "      <th>66</th>\n",
       "      <td>test.MyBenchmark.closure8FreeVariables3Million...</td>\n",
       "      <td>8</td>\n",
       "      <td>0</td>\n",
       "      <td>True</td>\n",
       "      <td>False</td>\n",
       "      <td>True</td>\n",
       "      <td>True</td>\n",
       "    </tr>\n",
       "  </tbody>\n",
       "</table>\n",
       "</div>"
      ],
      "text/plain": [
       "                                            Benchmark  closure_size  arity  \\\n",
       "0   test.MyBenchmark.closure15FreeVariables3Millio...            15      0   \n",
       "1   test.MyBenchmark.closure15FreeVariables3Millio...            15      0   \n",
       "2   test.MyBenchmark.closure1FreeVariables3Million...             1      0   \n",
       "3   test.MyBenchmark.closure1FreeVariables3Million...             1      0   \n",
       "4   test.MyBenchmark.closure23FreeVariables3Millio...            23      0   \n",
       "5   test.MyBenchmark.closure23FreeVariables3Millio...            23      0   \n",
       "6   test.MyBenchmark.closure8FreeVariables3Million...             8      0   \n",
       "7   test.MyBenchmark.closure8FreeVariables3Million...             8      0   \n",
       "8   test.MyBenchmark.emptyClosure15Arguments3Milli...             0     15   \n",
       "9   test.MyBenchmark.emptyClosure15Arguments3Milli...             0     15   \n",
       "10  test.MyBenchmark.emptyClosure1Arguments3Millio...             0      1   \n",
       "11  test.MyBenchmark.emptyClosure1Arguments3Millio...             0      1   \n",
       "12  test.MyBenchmark.emptyClosure23Arguments3Milli...             0     23   \n",
       "13  test.MyBenchmark.emptyClosure23Arguments3Milli...             0     23   \n",
       "14  test.MyBenchmark.emptyClosure8Arguments3Millio...             0      8   \n",
       "15  test.MyBenchmark.emptyClosure8Arguments3Millio...             0      8   \n",
       "16  test.MyBenchmark.closure11FreeVariables3Millio...            11      0   \n",
       "18  test.MyBenchmark.closure11FreeVariables3Millio...            11      0   \n",
       "20  test.MyBenchmark.closure19FreeVariables3Millio...            19      0   \n",
       "22  test.MyBenchmark.closure19FreeVariables3Millio...            19      0   \n",
       "24  test.MyBenchmark.closure4FreeVariables3Million...             4      0   \n",
       "26  test.MyBenchmark.closure4FreeVariables3Million...             4      0   \n",
       "28  test.MyBenchmark.emptyClosure11Arguments3Milli...             0     11   \n",
       "30  test.MyBenchmark.emptyClosure11Arguments3Milli...             0     11   \n",
       "32  test.MyBenchmark.emptyClosure19Arguments3Milli...             0     19   \n",
       "34  test.MyBenchmark.emptyClosure19Arguments3Milli...             0     19   \n",
       "36  test.MyBenchmark.emptyClosure4Arguments3Millio...             0      4   \n",
       "38  test.MyBenchmark.emptyClosure4Arguments3Millio...             0      4   \n",
       "40  test.MyBenchmark.closure11FreeVariables3Millio...             0      0   \n",
       "42  test.MyBenchmark.closure11FreeVariables3Millio...            11      0   \n",
       "44  test.MyBenchmark.closure15FreeVariables3Millio...             0      0   \n",
       "46  test.MyBenchmark.closure15FreeVariables3Millio...            15      0   \n",
       "48  test.MyBenchmark.closure19FreeVariables3Millio...             0      0   \n",
       "50  test.MyBenchmark.closure19FreeVariables3Millio...            19      0   \n",
       "52  test.MyBenchmark.closure1FreeVariables3Million...             0      0   \n",
       "54  test.MyBenchmark.closure1FreeVariables3Million...             1      0   \n",
       "56  test.MyBenchmark.closure23FreeVariables3Millio...             0      0   \n",
       "58  test.MyBenchmark.closure23FreeVariables3Millio...            23      0   \n",
       "60  test.MyBenchmark.closure4FreeVariables3Million...             0      0   \n",
       "62  test.MyBenchmark.closure4FreeVariables3Million...             4      0   \n",
       "64  test.MyBenchmark.closure8FreeVariables3Million...             0      0   \n",
       "66  test.MyBenchmark.closure8FreeVariables3Million...             8      0   \n",
       "\n",
       "    closure_test  arity_test  instantiation_test  invocation_test  \n",
       "0           True       False               False             True  \n",
       "1           True       False                True             True  \n",
       "2           True       False               False             True  \n",
       "3           True       False                True             True  \n",
       "4           True       False               False             True  \n",
       "5           True       False                True             True  \n",
       "6           True       False               False             True  \n",
       "7           True       False                True             True  \n",
       "8          False        True               False             True  \n",
       "9          False        True                True             True  \n",
       "10         False        True               False             True  \n",
       "11         False        True                True             True  \n",
       "12         False        True               False             True  \n",
       "13         False        True                True             True  \n",
       "14         False        True               False             True  \n",
       "15         False        True                True             True  \n",
       "16          True       False               False             True  \n",
       "18          True       False                True             True  \n",
       "20          True       False               False             True  \n",
       "22          True       False                True             True  \n",
       "24          True       False               False             True  \n",
       "26          True       False                True             True  \n",
       "28         False        True               False             True  \n",
       "30         False        True                True             True  \n",
       "32         False        True               False             True  \n",
       "34         False        True                True             True  \n",
       "36         False        True               False             True  \n",
       "38         False        True                True             True  \n",
       "40          True       False                True            False  \n",
       "42          True       False                True             True  \n",
       "44          True       False                True            False  \n",
       "46          True       False                True             True  \n",
       "48          True       False                True            False  \n",
       "50          True       False                True             True  \n",
       "52          True       False                True            False  \n",
       "54          True       False                True             True  \n",
       "56          True       False                True            False  \n",
       "58          True       False                True             True  \n",
       "60          True       False                True            False  \n",
       "62          True       False                True             True  \n",
       "64          True       False                True            False  \n",
       "66          True       False                True             True  "
      ]
     },
     "execution_count": 112,
     "metadata": {},
     "output_type": "execute_result"
    }
   ],
   "source": [
    "data_lg[[\"Benchmark\", \"closure_size\", \"arity\", \"closure_test\", \"arity_test\", \"instantiation_test\", \"invocation_test\"]]"
   ]
  },
  {
   "cell_type": "code",
   "execution_count": 114,
   "id": "premier-discrimination",
   "metadata": {},
   "outputs": [
    {
     "name": "stdout",
     "output_type": "stream",
     "text": [
      "|    | Benchmark                                                              |   closure_size |   arity | closure_test   | arity_test   | instantiation_test   | invocation_test   |\n",
      "|---:|:-----------------------------------------------------------------------|---------------:|--------:|:---------------|:-------------|:---------------------|:------------------|\n",
      "|  0 | test.MyBenchmark.closure15FreeVariables3MillionCalls                   |             15 |       0 | True           | False        | False                | True              |\n",
      "|  1 | test.MyBenchmark.closure15FreeVariables3MillionInstantiationsAndCalls  |             15 |       0 | True           | False        | True                 | True              |\n",
      "|  2 | test.MyBenchmark.closure1FreeVariables3MillionCalls                    |              1 |       0 | True           | False        | False                | True              |\n",
      "|  3 | test.MyBenchmark.closure1FreeVariables3MillionInstantiationsAndCalls   |              1 |       0 | True           | False        | True                 | True              |\n",
      "|  4 | test.MyBenchmark.closure23FreeVariables3MillionCalls                   |             23 |       0 | True           | False        | False                | True              |\n",
      "|  5 | test.MyBenchmark.closure23FreeVariables3MillionInstantiationsAndCalls  |             23 |       0 | True           | False        | True                 | True              |\n",
      "|  6 | test.MyBenchmark.closure8FreeVariables3MillionCalls                    |              8 |       0 | True           | False        | False                | True              |\n",
      "|  7 | test.MyBenchmark.closure8FreeVariables3MillionInstantiationsAndCalls   |              8 |       0 | True           | False        | True                 | True              |\n",
      "|  8 | test.MyBenchmark.emptyClosure15Arguments3MillionCalls                  |              0 |      15 | False          | True         | False                | True              |\n",
      "|  9 | test.MyBenchmark.emptyClosure15Arguments3MillionInstantiationsAndCalls |              0 |      15 | False          | True         | True                 | True              |\n",
      "| 10 | test.MyBenchmark.emptyClosure1Arguments3MillionCalls                   |              0 |       1 | False          | True         | False                | True              |\n",
      "| 11 | test.MyBenchmark.emptyClosure1Arguments3MillionInstantiationsAndCalls  |              0 |       1 | False          | True         | True                 | True              |\n",
      "| 12 | test.MyBenchmark.emptyClosure23Arguments3MillionCalls                  |              0 |      23 | False          | True         | False                | True              |\n",
      "| 13 | test.MyBenchmark.emptyClosure23Arguments3MillionInstantiationsAndCalls |              0 |      23 | False          | True         | True                 | True              |\n",
      "| 14 | test.MyBenchmark.emptyClosure8Arguments3MillionCalls                   |              0 |       8 | False          | True         | False                | True              |\n",
      "| 15 | test.MyBenchmark.emptyClosure8Arguments3MillionInstantiationsAndCalls  |              0 |       8 | False          | True         | True                 | True              |\n",
      "| 16 | test.MyBenchmark.closure11FreeVariables3MillionCalls                   |             11 |       0 | True           | False        | False                | True              |\n",
      "| 18 | test.MyBenchmark.closure11FreeVariables3MillionInstantiationsAndCalls  |             11 |       0 | True           | False        | True                 | True              |\n",
      "| 20 | test.MyBenchmark.closure19FreeVariables3MillionCalls                   |             19 |       0 | True           | False        | False                | True              |\n",
      "| 22 | test.MyBenchmark.closure19FreeVariables3MillionInstantiationsAndCalls  |             19 |       0 | True           | False        | True                 | True              |\n",
      "| 24 | test.MyBenchmark.closure4FreeVariables3MillionCalls                    |              4 |       0 | True           | False        | False                | True              |\n",
      "| 26 | test.MyBenchmark.closure4FreeVariables3MillionInstantiationsAndCalls   |              4 |       0 | True           | False        | True                 | True              |\n",
      "| 28 | test.MyBenchmark.emptyClosure11Arguments3MillionCalls                  |              0 |      11 | False          | True         | False                | True              |\n",
      "| 30 | test.MyBenchmark.emptyClosure11Arguments3MillionInstantiationsAndCalls |              0 |      11 | False          | True         | True                 | True              |\n",
      "| 32 | test.MyBenchmark.emptyClosure19Arguments3MillionCalls                  |              0 |      19 | False          | True         | False                | True              |\n",
      "| 34 | test.MyBenchmark.emptyClosure19Arguments3MillionInstantiationsAndCalls |              0 |      19 | False          | True         | True                 | True              |\n",
      "| 36 | test.MyBenchmark.emptyClosure4Arguments3MillionCalls                   |              0 |       4 | False          | True         | False                | True              |\n",
      "| 38 | test.MyBenchmark.emptyClosure4Arguments3MillionInstantiationsAndCalls  |              0 |       4 | False          | True         | True                 | True              |\n",
      "| 40 | test.MyBenchmark.closure11FreeVariables3MillionInstantiations          |              0 |       0 | True           | False        | True                 | False             |\n",
      "| 42 | test.MyBenchmark.closure11FreeVariables3MillionInstantiationsAndCalls  |             11 |       0 | True           | False        | True                 | True              |\n",
      "| 44 | test.MyBenchmark.closure15FreeVariables3MillionInstantiations          |              0 |       0 | True           | False        | True                 | False             |\n",
      "| 46 | test.MyBenchmark.closure15FreeVariables3MillionInstantiationsAndCalls  |             15 |       0 | True           | False        | True                 | True              |\n",
      "| 48 | test.MyBenchmark.closure19FreeVariables3MillionInstantiations          |              0 |       0 | True           | False        | True                 | False             |\n",
      "| 50 | test.MyBenchmark.closure19FreeVariables3MillionInstantiationsAndCalls  |             19 |       0 | True           | False        | True                 | True              |\n",
      "| 52 | test.MyBenchmark.closure1FreeVariables3MillionInstantiations           |              0 |       0 | True           | False        | True                 | False             |\n",
      "| 54 | test.MyBenchmark.closure1FreeVariables3MillionInstantiationsAndCalls   |              1 |       0 | True           | False        | True                 | True              |\n",
      "| 56 | test.MyBenchmark.closure23FreeVariables3MillionInstantiations          |              0 |       0 | True           | False        | True                 | False             |\n",
      "| 58 | test.MyBenchmark.closure23FreeVariables3MillionInstantiationsAndCalls  |             23 |       0 | True           | False        | True                 | True              |\n",
      "| 60 | test.MyBenchmark.closure4FreeVariables3MillionInstantiations           |              0 |       0 | True           | False        | True                 | False             |\n",
      "| 62 | test.MyBenchmark.closure4FreeVariables3MillionInstantiationsAndCalls   |              4 |       0 | True           | False        | True                 | True              |\n",
      "| 64 | test.MyBenchmark.closure8FreeVariables3MillionInstantiations           |              0 |       0 | True           | False        | True                 | False             |\n",
      "| 66 | test.MyBenchmark.closure8FreeVariables3MillionInstantiationsAndCalls   |              8 |       0 | True           | False        | True                 | True              |\n"
     ]
    }
   ],
   "source": [
    "print(data_lg[[\"Benchmark\", \"closure_size\", \"arity\", \"closure_test\", \"arity_test\", \"instantiation_test\", \"invocation_test\"]].to_markdown())"
   ]
  },
  {
   "cell_type": "code",
   "execution_count": 113,
   "id": "impressive-label",
   "metadata": {},
   "outputs": [
    {
     "data": {
      "text/plain": [
       "<AxesSubplot:xlabel='closure_size'>"
      ]
     },
     "execution_count": 113,
     "metadata": {},
     "output_type": "execute_result"
    },
    {
     "data": {
      "image/png": "[encoded data removed]",
      "text/plain": [
       "<Figure size 432x288 with 1 Axes>"
      ]
     },
     "metadata": {
      "needs_background": "light"
     },
     "output_type": "display_data"
    },
    {
     "data": {
      "image/png": "[encoded data removed]",
      "text/plain": [
       "<Figure size 432x288 with 1 Axes>"
      ]
     },
     "metadata": {
      "needs_background": "light"
     },
     "output_type": "display_data"
    }
   ],
   "source": [
    "data.sort_values(by=\"closure_size\").query(\"closure_test and instantiation_test and invocation_test\").plot.line(x=\"closure_size\", y=\"Score\")\n",
    "data_lg.sort_values(by=\"closure_size\").query(\"closure_test and instantiation_test and invocation_test\").plot.line(x=\"closure_size\", y=\"Score\")"
   ]
  },
  {
   "cell_type": "code",
   "execution_count": 115,
   "id": "revolutionary-narrative",
   "metadata": {},
   "outputs": [
    {
     "data": {
      "text/plain": [
       "<AxesSubplot:xlabel='closure_size'>"
      ]
     },
     "execution_count": 115,
     "metadata": {},
     "output_type": "execute_result"
    },
    {
     "data": {
      "image/png": "[encoded data removed]",
      "text/plain": [
       "<Figure size 432x288 with 1 Axes>"
      ]
     },
     "metadata": {
      "needs_background": "light"
     },
     "output_type": "display_data"
    },
    {
     "data": {
      "image/png": "[encoded data removed]",
      "text/plain": [
       "<Figure size 432x288 with 1 Axes>"
      ]
     },
     "metadata": {
      "needs_background": "light"
     },
     "output_type": "display_data"
    }
   ],
   "source": [
    "data.sort_values(by=\"closure_size\").query(\"closure_test and invocation_test and not instantiation_test\").plot.line(x=\"closure_size\", y=\"Score\")\n",
    "data_lg.sort_values(by=\"closure_size\").query(\"closure_test and invocation_test and not instantiation_test\").plot.line(x=\"closure_size\", y=\"Score\")"
   ]
  },
  {
   "cell_type": "code",
   "execution_count": 118,
   "id": "recovered-cotton",
   "metadata": {},
   "outputs": [
    {
     "data": {
      "text/plain": [
       "<AxesSubplot:xlabel='closure_size'>"
      ]
     },
     "execution_count": 118,
     "metadata": {},
     "output_type": "execute_result"
    },
    {
     "data": {
      "image/png": "[encoded data removed]",
      "text/plain": [
       "<Figure size 432x288 with 1 Axes>"
      ]
     },
     "metadata": {
      "needs_background": "light"
     },
     "output_type": "display_data"
    },
    {
     "data": {
      "image/png": "[encoded data removed]",
      "text/plain": [
       "<Figure size 432x288 with 1 Axes>"
      ]
     },
     "metadata": {
      "needs_background": "light"
     },
     "output_type": "display_data"
    }
   ],
   "source": [
    "data.sort_values(by=\"closure_size\").query(\"closure_test and instantiation_test and not invocation_test\").plot.line(x=\"closure_size\", y=\"Score\")\n",
    "data_lg.sort_values(by=\"closure_size\").query(\"closure_test and instantiation_test and not invocation_test\").plot.line(x=\"closure_size\", y=\"Score\")"
   ]
  },
  {
   "cell_type": "code",
   "execution_count": 119,
   "id": "international-illness",
   "metadata": {},
   "outputs": [
    {
     "name": "stdout",
     "output_type": "stream",
     "text": [
      "|    | Benchmark                                                     | Mode   |   Threads |   Samples |   Score |   Score Error (99,9%) | Unit   | jfr_benchmark   |   Score - error |   Score + error |   inverse score |   inverse lower score |   inverse upper score |   closure_size |   arity | closure_test   | arity_test   | instantiation_test   | invocation_test   |\n",
      "|---:|:--------------------------------------------------------------|:-------|----------:|----------:|--------:|----------------------:|:-------|:----------------|----------------:|----------------:|----------------:|----------------------:|----------------------:|---------------:|--------:|:---------------|:-------------|:---------------------|:------------------|\n",
      "| 52 | test.MyBenchmark.closure8FreeVariables3MillionInstantiations  | thrpt  |         1 |        25 | 21.9092 |              0.036228 | ops/s  | False           |        21.873   |        21.9455  |       0.0456428 |             0.0457184 |             0.0455675 |              0 |       0 | True           | False        | True                 | False             |\n",
      "| 40 | test.MyBenchmark.closure11FreeVariables3MillionInstantiations | thrpt  |         1 |        25 | 16.3372 |              0.106354 | ops/s  | False           |        16.2309  |        16.4436  |       0.0612099 |             0.061611  |             0.0608141 |              0 |       0 | True           | False        | True                 | False             |\n",
      "| 42 | test.MyBenchmark.closure15FreeVariables3MillionInstantiations | thrpt  |         1 |        25 | 11.8396 |              0.004318 | ops/s  | False           |        11.8353  |        11.8439  |       0.0844623 |             0.0844931 |             0.0844315 |              0 |       0 | True           | False        | True                 | False             |\n",
      "| 44 | test.MyBenchmark.closure19FreeVariables3MillionInstantiations | thrpt  |         1 |        25 | 10.0021 |              0.03421  | ops/s  | False           |         9.96785 |        10.0363  |       0.0999794 |             0.100323  |             0.0996386 |              0 |       0 | True           | False        | True                 | False             |\n",
      "| 46 | test.MyBenchmark.closure1FreeVariables3MillionInstantiations  | thrpt  |         1 |        25 | 41.1091 |              0.081852 | ops/s  | False           |        41.0272  |        41.1909  |       0.0243255 |             0.0243741 |             0.0242772 |              0 |       0 | True           | False        | True                 | False             |\n",
      "| 48 | test.MyBenchmark.closure23FreeVariables3MillionInstantiations | thrpt  |         1 |        25 |  8.0963 |              0.009438 | ops/s  | False           |         8.08686 |         8.10574 |       0.123513  |             0.123657  |             0.123369  |              0 |       0 | True           | False        | True                 | False             |\n",
      "| 50 | test.MyBenchmark.closure4FreeVariables3MillionInstantiations  | thrpt  |         1 |        25 | 32.3971 |              0.28332  | ops/s  | False           |        32.1137  |        32.6804  |       0.030867  |             0.0311393 |             0.0305994 |              0 |       0 | True           | False        | True                 | False             |\n",
      "|    | Benchmark                                                     | Mode   |   Threads |   Samples |   Score |   Score Error (99,9%) | Unit   | jfr_benchmark   |   Score - error |   Score + error |   inverse score |   inverse lower score |   inverse upper score |   closure_size |   arity | closure_test   | arity_test   | instantiation_test   | invocation_test   |\n",
      "|---:|:--------------------------------------------------------------|:-------|----------:|----------:|--------:|----------------------:|:-------|:----------------|----------------:|----------------:|----------------:|----------------------:|----------------------:|---------------:|--------:|:---------------|:-------------|:---------------------|:------------------|\n",
      "| 64 | test.MyBenchmark.closure8FreeVariables3MillionInstantiations  | thrpt  |         1 |        25 | 7.68205 |              0.054508 | ops/s  | False           |         7.62754 |         7.73656 |        0.130174 |              0.131104 |              0.129256 |              0 |       0 | True           | False        | True                 | False             |\n",
      "| 40 | test.MyBenchmark.closure11FreeVariables3MillionInstantiations | thrpt  |         1 |        25 | 7.68675 |              0.062531 | ops/s  | False           |         7.62422 |         7.74928 |        0.130094 |              0.131161 |              0.129044 |              0 |       0 | True           | False        | True                 | False             |\n",
      "| 44 | test.MyBenchmark.closure15FreeVariables3MillionInstantiations | thrpt  |         1 |        25 | 7.69636 |              0.049452 | ops/s  | False           |         7.64691 |         7.74581 |        0.129932 |              0.130772 |              0.129102 |              0 |       0 | True           | False        | True                 | False             |\n",
      "| 48 | test.MyBenchmark.closure19FreeVariables3MillionInstantiations | thrpt  |         1 |        25 | 7.66022 |              0.062945 | ops/s  | False           |         7.59727 |         7.72316 |        0.130545 |              0.131626 |              0.129481 |              0 |       0 | True           | False        | True                 | False             |\n",
      "| 52 | test.MyBenchmark.closure1FreeVariables3MillionInstantiations  | thrpt  |         1 |        25 | 7.66264 |              0.060011 | ops/s  | False           |         7.60263 |         7.72265 |        0.130503 |              0.131533 |              0.129489 |              0 |       0 | True           | False        | True                 | False             |\n",
      "| 56 | test.MyBenchmark.closure23FreeVariables3MillionInstantiations | thrpt  |         1 |        25 | 7.84236 |              0.062849 | ops/s  | False           |         7.77951 |         7.90521 |        0.127513 |              0.128543 |              0.126499 |              0 |       0 | True           | False        | True                 | False             |\n",
      "| 60 | test.MyBenchmark.closure4FreeVariables3MillionInstantiations  | thrpt  |         1 |        25 | 7.94959 |              0.074361 | ops/s  | False           |         7.87523 |         8.02395 |        0.125793 |              0.12698  |              0.124627 |              0 |       0 | True           | False        | True                 | False             |\n"
     ]
    }
   ],
   "source": [
    "print(data.sort_values(by=\"closure_size\").query(\"closure_test and instantiation_test and not invocation_test\").to_markdown())\n",
    "print(data_lg.sort_values(by=\"closure_size\").query(\"closure_test and instantiation_test and not invocation_test\").to_markdown())"
   ]
  },
  {
   "cell_type": "code",
   "execution_count": 117,
   "id": "taken-liabilities",
   "metadata": {},
   "outputs": [
    {
     "data": {
      "text/plain": [
       "<AxesSubplot:xlabel='arity'>"
      ]
     },
     "execution_count": 117,
     "metadata": {},
     "output_type": "execute_result"
    },
    {
     "data": {
      "image/png": "[encoded data removed]",
      "text/plain": [
       "<Figure size 432x288 with 1 Axes>"
      ]
     },
     "metadata": {
      "needs_background": "light"
     },
     "output_type": "display_data"
    },
    {
     "data": {
      "image/png": "[encoded data removed]",
      "text/plain": [
       "<Figure size 432x288 with 1 Axes>"
      ]
     },
     "metadata": {
      "needs_background": "light"
     },
     "output_type": "display_data"
    }
   ],
   "source": [
    "data.sort_values(by=\"arity\").query(\"arity_test and instantiation_test and invocation_test\").plot.line(x=\"arity\", y=\"Score\")\n",
    "data_lg.sort_values(by=\"arity\").query(\"arity_test and instantiation_test and invocation_test\").plot.line(x=\"arity\", y=\"Score\")"
   ]
  },
  {
   "cell_type": "code",
   "execution_count": 77,
   "id": "beginning-chambers",
   "metadata": {},
   "outputs": [
    {
     "data": {
      "text/plain": [
       "13    9.959159e+08\n",
       "38    9.895682e+08\n",
       "7     9.962228e+08\n",
       "30    9.910910e+08\n",
       "5     1.064341e+01\n",
       "34    7.903415e+00\n",
       "15    9.962492e+08\n",
       "Name: Score, dtype: float64"
      ]
     },
     "execution_count": 77,
     "metadata": {},
     "output_type": "execute_result"
    }
   ],
   "source": [
    "data.sort_values(by=\"arity\").query(\"arity_test and instantiation_test and invocation_test\").sort_values(by=\"arity\")[\"Score\"]"
   ]
  },
  {
   "cell_type": "code",
   "execution_count": 78,
   "id": "skilled-azerbaijan",
   "metadata": {},
   "outputs": [
    {
     "data": {
      "text/plain": [
       "12    9.957199e+08\n",
       "36    9.907592e+08\n",
       "6     9.945798e+08\n",
       "28    9.906907e+08\n",
       "4     1.062922e+01\n",
       "32    1.656694e+04\n",
       "14    9.961809e+08\n",
       "Name: Score, dtype: float64"
      ]
     },
     "execution_count": 78,
     "metadata": {},
     "output_type": "execute_result"
    }
   ],
   "source": [
    "data.sort_values(by=\"arity\").query(\"arity_test and invocation_test and not instantiation_test\").sort_values(by=\"arity\")[\"Score\"]"
   ]
  },
  {
   "cell_type": "code",
   "execution_count": 70,
   "id": "responsible-bridal",
   "metadata": {},
   "outputs": [
    {
     "data": {
      "text/plain": [
       "<AxesSubplot:xlabel='arity'>"
      ]
     },
     "execution_count": 70,
     "metadata": {},
     "output_type": "execute_result"
    },
    {
     "data": {
      "image/png": "[encoded data removed]",
      "text/plain": [
       "<Figure size 432x288 with 1 Axes>"
      ]
     },
     "metadata": {
      "needs_background": "light"
     },
     "output_type": "display_data"
    },
    {
     "data": {
      "image/png": "[encoded data removed]",
      "text/plain": [
       "<Figure size 432x288 with 1 Axes>"
      ]
     },
     "metadata": {
      "needs_background": "light"
     },
     "output_type": "display_data"
    }
   ],
   "source": [
    "data.sort_values(by=\"arity\").query(\"arity_test and invocation_test and not instantiation_test\").plot.line(x=\"arity\", y=\"Score\")\n",
    "data_lg.sort_values(by=\"arity\").query(\"arity_test and invocation_test and not instantiation_test\").plot.line(x=\"arity\", y=\"Score\")"
   ]
  },
  {
   "cell_type": "code",
   "execution_count": 79,
   "id": "devoted-change",
   "metadata": {},
   "outputs": [
    {
     "data": {
      "text/plain": [
       "<AxesSubplot:xlabel='arity'>"
      ]
     },
     "execution_count": 79,
     "metadata": {},
     "output_type": "execute_result"
    },
    {
     "data": {
      "image/png": "[encoded data removed]",
      "text/plain": [
       "<Figure size 432x288 with 1 Axes>"
      ]
     },
     "metadata": {
      "needs_background": "light"
     },
     "output_type": "display_data"
    },
    {
     "data": {
      "image/png": "[encoded data removed]",
      "text/plain": [
       "<Figure size 432x288 with 1 Axes>"
      ]
     },
     "metadata": {
      "needs_background": "light"
     },
     "output_type": "display_data"
    }
   ],
   "source": [
    "data.sort_values(by=\"arity\").query(\"arity_test and instantiation_test and not invocation_test\").plot.line(x=\"arity\", y=\"Score\")\n",
    "data_lg.sort_values(by=\"arity\").query(\"arity_test and instantiation_test and not invocation_test\").plot.line(x=\"arity\", y=\"Score\")"
   ]
  },
  {
   "cell_type": "code",
   "execution_count": 116,
   "id": "subject-agent",
   "metadata": {},
   "outputs": [
    {
     "data": {
      "text/plain": [
       "count    8.000000e+00\n",
       "mean     8.709164e+08\n",
       "std      3.519051e+08\n",
       "min      1.062922e+01\n",
       "25%      9.941891e+08\n",
       "50%      9.955306e+08\n",
       "75%      9.961934e+08\n",
       "max      9.962612e+08\n",
       "Name: Score, dtype: float64"
      ]
     },
     "execution_count": 116,
     "metadata": {},
     "output_type": "execute_result"
    }
   ],
   "source": [
    "data.query(\"invocation_test\")[\"Score\"].describe()"
   ]
  },
  {
   "cell_type": "code",
   "execution_count": 117,
   "id": "adult-catering",
   "metadata": {},
   "outputs": [
    {
     "data": {
      "text/plain": [
       "count    8.000000e+00\n",
       "mean     2.488227e+08\n",
       "std      4.607304e+08\n",
       "min      3.216961e+00\n",
       "25%      2.113449e+01\n",
       "50%      4.425037e+01\n",
       "75%      2.485822e+08\n",
       "max      9.962530e+08\n",
       "Name: Score, dtype: float64"
      ]
     },
     "execution_count": 117,
     "metadata": {},
     "output_type": "execute_result"
    }
   ],
   "source": [
    "data_lg.query(\"invocation_test\")[\"Score\"].describe()"
   ]
  },
  {
   "cell_type": "code",
   "execution_count": 118,
   "id": "stainless-creature",
   "metadata": {},
   "outputs": [
    {
     "data": {
      "text/plain": [
       "count    8.000000e+00\n",
       "mean     1.176004e-02\n",
       "std      3.326241e-02\n",
       "min      1.003753e-09\n",
       "25%      1.003821e-09\n",
       "50%      1.004489e-09\n",
       "75%      1.005845e-09\n",
       "max      9.408032e-02\n",
       "Name: inverse score, dtype: float64"
      ]
     },
     "execution_count": 118,
     "metadata": {},
     "output_type": "execute_result"
    }
   ],
   "source": [
    "data.query(\"invocation_test\")[\"inverse score\"].describe()"
   ]
  },
  {
   "cell_type": "code",
   "execution_count": 119,
   "id": "dated-metallic",
   "metadata": {},
   "outputs": [
    {
     "data": {
      "text/plain": [
       "count    8.000000e+00\n",
       "mean     6.352590e-02\n",
       "std      1.041666e-01\n",
       "min      1.003761e-09\n",
       "25%      1.357507e-02\n",
       "50%      2.307539e-02\n",
       "75%      5.362427e-02\n",
       "max      3.108524e-01\n",
       "Name: inverse score, dtype: float64"
      ]
     },
     "execution_count": 119,
     "metadata": {},
     "output_type": "execute_result"
    }
   ],
   "source": [
    "data_lg.query(\"invocation_test\")[\"inverse score\"].describe()"
   ]
  },
  {
   "cell_type": "code",
   "execution_count": 80,
   "id": "academic-toddler",
   "metadata": {},
   "outputs": [
    {
     "name": "stdout",
     "output_type": "stream",
     "text": [
      "0.3359950867355739 femto seconds per median lambda invocation\n"
     ]
    }
   ],
   "source": [
    "median_invocation_time = data.query(\"invocation_test and not instantiation_test\")[\"inverse score\"].median()\n",
    "print(f'{median_invocation_time / 3_000_000 * 1000**5} femto seconds per median lambda invocation')"
   ]
  },
  {
   "cell_type": "code",
   "execution_count": 81,
   "id": "changing-particle",
   "metadata": {},
   "outputs": [
    {
     "name": "stdout",
     "output_type": "stream",
     "text": [
      "8.224893577693637 nano seconds per median lambda group invocation, 24479207.88843731 times as much as the lambda classes.\n"
     ]
    }
   ],
   "source": [
    "median_invocation_time_lg = data_lg.query(\"invocation_test and not instantiation_test\")[\"inverse score\"].median()\n",
    "print(f'{median_invocation_time_lg / 3_000_000 * 1000**3} nano seconds per median lambda group invocation, {median_invocation_time_lg / median_invocation_time} times as much as the lambda classes.')"
   ]
  },
  {
   "cell_type": "code",
   "execution_count": 83,
   "id": "lonely-large",
   "metadata": {},
   "outputs": [
    {
     "name": "stdout",
     "output_type": "stream",
     "text": [
      "2.241444981725442 nano seconds per mean lambda invocation.\n"
     ]
    }
   ],
   "source": [
    "mean_invocation_time = data.query(\"invocation_test and not instantiation_test\")[\"inverse score\"].mean()\n",
    "print(f'{mean_invocation_time / 3_000_000 * 1000**3} nano seconds per mean lambda invocation.')"
   ]
  },
  {
   "cell_type": "code",
   "execution_count": 84,
   "id": "abroad-emission",
   "metadata": {},
   "outputs": [
    {
     "name": "stdout",
     "output_type": "stream",
     "text": [
      "18.175547595915518 nano seconds per mean lambda group invocation, 8.108852880218441 times as much as the lambda classes.\n"
     ]
    }
   ],
   "source": [
    "mean_invocation_time_lg = data_lg.query(\"invocation_test and not instantiation_test\")[\"inverse score\"].mean()\n",
    "print(f'{mean_invocation_time_lg / 3_000_000 * 1000**3} nano seconds per mean lambda group invocation, {mean_invocation_time_lg / mean_invocation_time} times as much as the lambda classes.')"
   ]
  },
  {
   "cell_type": "code",
   "execution_count": 85,
   "id": "simplified-norman",
   "metadata": {},
   "outputs": [
    {
     "name": "stdout",
     "output_type": "stream",
     "text": [
      "0.33577872041803297 femto seconds per median lambda instantiation and invocation.\n"
     ]
    }
   ],
   "source": [
    "median_instantiation_invocation_time = data.query(\"instantiation_test and invocation_test\")[\"inverse score\"].median()\n",
    "print(f'{median_instantiation_invocation_time / 3_000_000 * 1000**5} femto seconds per median lambda instantiation and invocation.')"
   ]
  },
  {
   "cell_type": "code",
   "execution_count": 86,
   "id": "consolidated-jacket",
   "metadata": {},
   "outputs": [
    {
     "name": "stdout",
     "output_type": "stream",
     "text": [
      "44.94849555511739 nano seconds per median lambda group instantiation and invocation, 133863442.86248414 times as much as the lambda classes.\n"
     ]
    }
   ],
   "source": [
    "median_instantiation_invocation_time_lg = data_lg.query(\"instantiation_test and invocation_test\")[\"inverse score\"].median()\n",
    "print(f'{median_instantiation_invocation_time_lg / 3_000_000 * 1000**3} nano seconds per median lambda group instantiation and invocation, {median_instantiation_invocation_time_lg / median_instantiation_invocation_time} times as much as the lambda classes.')"
   ]
  },
  {
   "cell_type": "code",
   "execution_count": 87,
   "id": "assigned-relations",
   "metadata": {},
   "outputs": [
    {
     "name": "stdout",
     "output_type": "stream",
     "text": [
      "5.249582896616917 nano seconds per mean lambda instantiation and invocation.\n"
     ]
    }
   ],
   "source": [
    "mean_instantiation_invocation_time = data.query(\"instantiation_test and invocation_test\")[\"inverse score\"].mean()\n",
    "print(f'{mean_instantiation_invocation_time / 3_000_000 * 1000**3} nano seconds per mean lambda instantiation and invocation.')"
   ]
  },
  {
   "cell_type": "code",
   "execution_count": 88,
   "id": "liberal-albany",
   "metadata": {},
   "outputs": [
    {
     "name": "stdout",
     "output_type": "stream",
     "text": [
      "41.87471848126801 nano seconds per mean lambda group instantiation and invocation, 7.976770594146459 times as much as the lambda classes.\n"
     ]
    }
   ],
   "source": [
    "mean_instantiation_invocation_time_lg = data_lg.query(\"instantiation_test and invocation_test\")[\"inverse score\"].mean()\n",
    "print(f'{mean_instantiation_invocation_time_lg / 3_000_000 * 1000**3} nano seconds per mean lambda group instantiation and invocation, {mean_instantiation_invocation_time_lg / mean_instantiation_invocation_time} times as much as the lambda classes.')"
   ]
  },
  {
   "cell_type": "code",
   "execution_count": null,
   "id": "assumed-amplifier",
   "metadata": {},
   "outputs": [],
   "source": []
  },
  {
   "cell_type": "code",
   "execution_count": 92,
   "id": "piano-cartridge",
   "metadata": {},
   "outputs": [
    {
     "name": "stdout",
     "output_type": "stream",
     "text": [
      "nan femto seconds per median lambda instantiation.\n"
     ]
    }
   ],
   "source": [
    "median_invocation_time = data.query(\"instantiation_test and not invocation_test\")[\"inverse score\"].median()\n",
    "print(f'{median_invocation_time / 3_000_000 * 1000**5} femto seconds per median lambda instantiation.')"
   ]
  },
  {
   "cell_type": "code",
   "execution_count": 93,
   "id": "liked-digest",
   "metadata": {},
   "outputs": [
    {
     "name": "stdout",
     "output_type": "stream",
     "text": [
      "nan nano seconds per median lambda group invocation, nan times as much as the lambda classes.\n"
     ]
    }
   ],
   "source": [
    "median_invocation_time_lg = data_lg.query(\"instantiation_test and not invocation_test\")[\"inverse score\"].median()\n",
    "print(f'{median_invocation_time_lg / 3_000_000 * 1000**3} nano seconds per median lambda group invocation, {median_invocation_time_lg / median_invocation_time} times as much as the lambda classes.')"
   ]
  },
  {
   "cell_type": "code",
   "execution_count": 94,
   "id": "extraordinary-vehicle",
   "metadata": {},
   "outputs": [
    {
     "name": "stdout",
     "output_type": "stream",
     "text": [
      "nan nano seconds per mean lambda invocation.\n"
     ]
    }
   ],
   "source": [
    "mean_invocation_time = data.query(\"instantiation_test and not invocation_test\")[\"inverse score\"].mean()\n",
    "print(f'{mean_invocation_time / 3_000_000 * 1000**3} nano seconds per mean lambda invocation.')"
   ]
  },
  {
   "cell_type": "code",
   "execution_count": 95,
   "id": "adjustable-reminder",
   "metadata": {},
   "outputs": [
    {
     "name": "stdout",
     "output_type": "stream",
     "text": [
      "nan nano seconds per mean lambda group invocation, nan times as much as the lambda classes.\n"
     ]
    }
   ],
   "source": [
    "mean_invocation_time_lg = data_lg.query(\"instantiation_test and not invocation_test\")[\"inverse score\"].mean()\n",
    "print(f'{mean_invocation_time_lg / 3_000_000 * 1000**3} nano seconds per mean lambda group invocation, {mean_invocation_time_lg / mean_invocation_time} times as much as the lambda classes.')"
   ]
  }
 ],
 "metadata": {
  "kernelspec": {
   "display_name": "Python 3",
   "language": "python",
   "name": "python3"
  },
  "language_info": {
   "codemirror_mode": {
    "name": "ipython",
    "version": 3
   },
   "file_extension": ".py",
   "mimetype": "text/x-python",
   "name": "python",
   "nbconvert_exporter": "python",
   "pygments_lexer": "ipython3",
   "version": "3.9.6"
  }
 },
 "nbformat": 4,
 "nbformat_minor": 5
}
