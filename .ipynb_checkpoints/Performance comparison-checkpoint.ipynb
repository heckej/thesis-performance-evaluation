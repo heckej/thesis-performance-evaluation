{
 "cells": [
  {
   "cell_type": "code",
   "execution_count": 1,
   "id": "local-treatment",
   "metadata": {},
   "outputs": [],
   "source": [
    "import matplotlib.pyplot as plt"
   ]
  },
  {
   "cell_type": "code",
   "execution_count": 6,
   "id": "significant-colors",
   "metadata": {},
   "outputs": [
    {
     "data": {
      "text/plain": [
       "[<matplotlib.lines.Line2D at 0x1f37ac9bfa0>]"
      ]
     },
     "execution_count": 6,
     "metadata": {},
     "output_type": "execute_result"
    },
    {
     "data": {
      "image/png": "[encoded data removed]",
      "text/plain": [
       "<Figure size 432x288 with 1 Axes>"
      ]
     },
     "metadata": {
      "needs_background": "light"
     },
     "output_type": "display_data"
    }
   ],
   "source": [
    "# emptyClosure3MillionAssignmentsAndCalls\n",
    "plt.plot([16.098, 16.122], [1, 1]) # ubuntu/base\n",
    "plt.plot([16.08, 16.116], [1.2, 1.2]) # ubuntu/lg\n",
    "plt.plot([16.016, 16.066], [2, 2]) # develop/base\n",
    "plt.plot([16.135, 16.197], [2.2, 2.2]) # develop/lg"
   ]
  },
  {
   "cell_type": "code",
   "execution_count": 7,
   "id": "geological-coverage",
   "metadata": {},
   "outputs": [
    {
     "data": {
      "text/plain": [
       "[<matplotlib.lines.Line2D at 0x1f37ad077c0>]"
      ]
     },
     "execution_count": 7,
     "metadata": {},
     "output_type": "execute_result"
    },
    {
     "data": {
      "image/png": "[encoded data removed]",
      "text/plain": [
       "<Figure size 432x288 with 1 Axes>"
      ]
     },
     "metadata": {
      "needs_background": "light"
     },
     "output_type": "display_data"
    }
   ],
   "source": [
    "# multipleEmptyClosure3MillionAssignmentsAndCalls\n",
    "plt.plot([3.723 - 0.008, 3.723 + 0.008], [1, 1]) # ubuntu/base\n",
    "plt.plot([3.720 - 0.012, 3.720 + 0.012], [1.2, 1.2]) # ubuntu/lg\n",
    "plt.plot([3.717 - 0.009, 3.717 + 0.009], [2, 2]) # develop/base\n",
    "plt.plot([3.712 - 0.014, 3.712 + 0.014], [2.2, 2.2]) # develop/lg"
   ]
  },
  {
   "cell_type": "code",
   "execution_count": 9,
   "id": "missing-pixel",
   "metadata": {},
   "outputs": [
    {
     "data": {
      "text/plain": [
       "[<matplotlib.lines.Line2D at 0x1f37add1610>]"
      ]
     },
     "execution_count": 9,
     "metadata": {},
     "output_type": "execute_result"
    },
    {
     "data": {
      "image/png": "[encoded data removed]",
      "text/plain": [
       "<Figure size 432x288 with 1 Axes>"
      ]
     },
     "metadata": {
      "needs_background": "light"
     },
     "output_type": "display_data"
    }
   ],
   "source": [
    "# multipleEmptyClosure3MillionCalls\n",
    "plt.plot([6.053 - 0.064, 6.053 + 0.064], [1, 1]) # ubuntu/base\n",
    "plt.plot([6.079 - 0.024, 6.079 + 0.024], [1.2, 1.2]) # ubuntu/lg\n",
    "plt.plot([6.023 - 0.060, 6.023 + 0.060], [2, 2]) # develop/base\n",
    "plt.plot([5.977 - 0.090, 5.977 + 0.090], [2.2, 2.2]) # develop/lg"
   ]
  },
  {
   "cell_type": "code",
   "execution_count": 10,
   "id": "furnished-latin",
   "metadata": {},
   "outputs": [
    {
     "data": {
      "text/plain": [
       "[<matplotlib.lines.Line2D at 0x1f37ae2eac0>]"
      ]
     },
     "execution_count": 10,
     "metadata": {},
     "output_type": "execute_result"
    },
    {
     "data": {
      "image/png": "[encoded data removed]",
      "text/plain": [
       "<Figure size 432x288 with 1 Axes>"
      ]
     },
     "metadata": {
      "needs_background": "light"
     },
     "output_type": "display_data"
    }
   ],
   "source": [
    "# multipleNonEmptyClosure3MillionAssignmentsAndCalls\n",
    "plt.plot([3.713 - 0.004, 3.713 + 0.004], [1, 1]) # ubuntu/base\n",
    "plt.plot([3.715 - 0.006, 3.715 + 0.006], [1.2, 1.2]) # ubuntu/lg\n",
    "plt.plot([3.713 - 0.006, 3.713 + 0.006], [2, 2]) # develop/base\n",
    "plt.plot([3.712 - 0.014, 3.712 + 0.014], [2.2, 2.2]) # develop/lg"
   ]
  },
  {
   "cell_type": "code",
   "execution_count": 11,
   "id": "dietary-qatar",
   "metadata": {},
   "outputs": [
    {
     "data": {
      "text/plain": [
       "[<matplotlib.lines.Line2D at 0x1f37ae96490>]"
      ]
     },
     "execution_count": 11,
     "metadata": {},
     "output_type": "execute_result"
    },
    {
     "data": {
      "image/png": "[encoded data removed]",
      "text/plain": [
       "<Figure size 432x288 with 1 Axes>"
      ]
     },
     "metadata": {
      "needs_background": "light"
     },
     "output_type": "display_data"
    }
   ],
   "source": [
    "# multipleNonEmptyClosure3MillionCalls\n",
    "plt.plot([6.131 - 0.011, 6.131 + 0.011], [1, 1]) # ubuntu/base\n",
    "plt.plot([5.944 - 0.273, 5.944 + 0.273], [1.2, 1.2]) # ubuntu/lg\n",
    "plt.plot([6.093 - 0.012, 6.093 + 0.012], [2, 2]) # develop/base\n",
    "plt.plot([6.077 - 0.050, 6.077 + 0.050], [2.2, 2.2]) # develop/lg"
   ]
  },
  {
   "cell_type": "markdown",
   "id": "raised-reducing",
   "metadata": {},
   "source": [
    "# Performance test algorithms"
   ]
  },
  {
   "cell_type": "code",
   "execution_count": 13,
   "id": "moderate-canadian",
   "metadata": {},
   "outputs": [],
   "source": [
    "def generate_lambda(arity, implementation):\n",
    "    parameters = \"\"\n",
    "    for i in range(arity):\n",
    "        if i > 0:\n",
    "            parameters += \", \"\n",
    "        parameters += f\"a{i}: Int\"\n",
    "    if arity > 0:\n",
    "        parameters += \" -> \"\n",
    "    result = \"{\" + parameters + implementation + \"}\"\n",
    "    return result"
   ]
  },
  {
   "cell_type": "code",
   "execution_count": 15,
   "id": "unauthorized-dylan",
   "metadata": {},
   "outputs": [
    {
     "ename": "UnboundLocalError",
     "evalue": "local variable 'parameters' referenced before assignment",
     "output_type": "error",
     "traceback": [
      "\u001b[1;31m---------------------------------------------------------------------------\u001b[0m",
      "\u001b[1;31mUnboundLocalError\u001b[0m                         Traceback (most recent call last)",
      "\u001b[1;32m<ipython-input-15-9f0e8df3f156>\u001b[0m in \u001b[0;36m<module>\u001b[1;34m\u001b[0m\n\u001b[1;32m----> 1\u001b[1;33m \u001b[0mprint\u001b[0m\u001b[1;33m(\u001b[0m\u001b[0mgenerate_lambda\u001b[0m\u001b[1;33m(\u001b[0m\u001b[1;36m5\u001b[0m\u001b[1;33m,\u001b[0m \u001b[1;34m\"\"\u001b[0m\u001b[1;33m)\u001b[0m\u001b[1;33m)\u001b[0m\u001b[1;33m\u001b[0m\u001b[1;33m\u001b[0m\u001b[0m\n\u001b[0m",
      "\u001b[1;32m<ipython-input-13-8c67778f9ed2>\u001b[0m in \u001b[0;36mgenerate_lambda\u001b[1;34m(arity, implementation)\u001b[0m\n\u001b[0;32m      3\u001b[0m         \u001b[1;32mif\u001b[0m \u001b[0mi\u001b[0m \u001b[1;33m>\u001b[0m \u001b[1;36m0\u001b[0m\u001b[1;33m:\u001b[0m\u001b[1;33m\u001b[0m\u001b[1;33m\u001b[0m\u001b[0m\n\u001b[0;32m      4\u001b[0m             \u001b[0mparamters\u001b[0m \u001b[1;33m+=\u001b[0m \u001b[1;34m\", \"\u001b[0m\u001b[1;33m\u001b[0m\u001b[1;33m\u001b[0m\u001b[0m\n\u001b[1;32m----> 5\u001b[1;33m         \u001b[0mparameters\u001b[0m \u001b[1;33m+=\u001b[0m \u001b[1;34mf\"a{i}: Int\"\u001b[0m\u001b[1;33m\u001b[0m\u001b[1;33m\u001b[0m\u001b[0m\n\u001b[0m\u001b[0;32m      6\u001b[0m     \u001b[1;32mif\u001b[0m \u001b[0marity\u001b[0m \u001b[1;33m>\u001b[0m \u001b[1;36m0\u001b[0m\u001b[1;33m:\u001b[0m\u001b[1;33m\u001b[0m\u001b[1;33m\u001b[0m\u001b[0m\n\u001b[0;32m      7\u001b[0m         \u001b[0mparameters\u001b[0m \u001b[1;33m+=\u001b[0m \u001b[1;34m\" -> \"\u001b[0m\u001b[1;33m\u001b[0m\u001b[1;33m\u001b[0m\u001b[0m\n",
      "\u001b[1;31mUnboundLocalError\u001b[0m: local variable 'parameters' referenced before assignment"
     ]
    }
   ],
   "source": [
    "print(generate_lambda(5, \"\"))"
   ]
  }
 ],
 "metadata": {
  "kernelspec": {
   "display_name": "Python 3",
   "language": "python",
   "name": "python3"
  },
  "language_info": {
   "codemirror_mode": {
    "name": "ipython",
    "version": 3
   },
   "file_extension": ".py",
   "mimetype": "text/x-python",
   "name": "python",
   "nbconvert_exporter": "python",
   "pygments_lexer": "ipython3",
   "version": "3.9.6"
  }
 },
 "nbformat": 4,
 "nbformat_minor": 5
}
