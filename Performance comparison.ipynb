{
 "cells": [
  {
   "cell_type": "code",
   "execution_count": 8,
   "id": "negative-pontiac",
   "metadata": {},
   "outputs": [],
   "source": [
    "import matplotlib.pyplot as plt"
   ]
  },
  {
   "cell_type": "code",
   "execution_count": 6,
   "id": "floppy-continuity",
   "metadata": {},
   "outputs": [
    {
     "data": {
      "text/plain": [
       "[<matplotlib.lines.Line2D at 0x1f37ac9bfa0>]"
      ]
     },
     "execution_count": 6,
     "metadata": {},
     "output_type": "execute_result"
    },
    {
     "data": {
      "image/png": "[encoded data removed]",
      "text/plain": [
       "<Figure size 432x288 with 1 Axes>"
      ]
     },
     "metadata": {
      "needs_background": "light"
     },
     "output_type": "display_data"
    }
   ],
   "source": [
    "# emptyClosure3MillionAssignmentsAndCalls\n",
    "plt.plot([16.098, 16.122], [1, 1]) # ubuntu/base\n",
    "plt.plot([16.08, 16.116], [1.2, 1.2]) # ubuntu/lg\n",
    "plt.plot([16.016, 16.066], [2, 2]) # develop/base\n",
    "plt.plot([16.135, 16.197], [2.2, 2.2]) # develop/lg"
   ]
  },
  {
   "cell_type": "code",
   "execution_count": 7,
   "id": "charitable-disposition",
   "metadata": {},
   "outputs": [
    {
     "data": {
      "text/plain": [
       "[<matplotlib.lines.Line2D at 0x1f37ad077c0>]"
      ]
     },
     "execution_count": 7,
     "metadata": {},
     "output_type": "execute_result"
    },
    {
     "data": {
      "image/png": "[encoded data removed]",
      "text/plain": [
       "<Figure size 432x288 with 1 Axes>"
      ]
     },
     "metadata": {
      "needs_background": "light"
     },
     "output_type": "display_data"
    }
   ],
   "source": [
    "# multipleEmptyClosure3MillionAssignmentsAndCalls\n",
    "plt.plot([3.723 - 0.008, 3.723 + 0.008], [1, 1]) # ubuntu/base\n",
    "plt.plot([3.720 - 0.012, 3.720 + 0.012], [1.2, 1.2]) # ubuntu/lg\n",
    "plt.plot([3.717 - 0.009, 3.717 + 0.009], [2, 2]) # develop/base\n",
    "plt.plot([3.712 - 0.014, 3.712 + 0.014], [2.2, 2.2]) # develop/lg"
   ]
  },
  {
   "cell_type": "code",
   "execution_count": 9,
   "id": "musical-cooling",
   "metadata": {},
   "outputs": [
    {
     "data": {
      "text/plain": [
       "[<matplotlib.lines.Line2D at 0x1f37add1610>]"
      ]
     },
     "execution_count": 9,
     "metadata": {},
     "output_type": "execute_result"
    },
    {
     "data": {
      "image/png": "[encoded data removed]",
      "text/plain": [
       "<Figure size 432x288 with 1 Axes>"
      ]
     },
     "metadata": {
      "needs_background": "light"
     },
     "output_type": "display_data"
    }
   ],
   "source": [
    "# multipleEmptyClosure3MillionCalls\n",
    "plt.plot([6.053 - 0.064, 6.053 + 0.064], [1, 1]) # ubuntu/base\n",
    "plt.plot([6.079 - 0.024, 6.079 + 0.024], [1.2, 1.2]) # ubuntu/lg\n",
    "plt.plot([6.023 - 0.060, 6.023 + 0.060], [2, 2]) # develop/base\n",
    "plt.plot([5.977 - 0.090, 5.977 + 0.090], [2.2, 2.2]) # develop/lg"
   ]
  },
  {
   "cell_type": "code",
   "execution_count": 10,
   "id": "cardiac-dress",
   "metadata": {},
   "outputs": [
    {
     "data": {
      "text/plain": [
       "[<matplotlib.lines.Line2D at 0x1f37ae2eac0>]"
      ]
     },
     "execution_count": 10,
     "metadata": {},
     "output_type": "execute_result"
    },
    {
     "data": {
      "image/png": "[encoded data removed]",
      "text/plain": [
       "<Figure size 432x288 with 1 Axes>"
      ]
     },
     "metadata": {
      "needs_background": "light"
     },
     "output_type": "display_data"
    }
   ],
   "source": [
    "# multipleNonEmptyClosure3MillionAssignmentsAndCalls\n",
    "plt.plot([3.713 - 0.004, 3.713 + 0.004], [1, 1]) # ubuntu/base\n",
    "plt.plot([3.715 - 0.006, 3.715 + 0.006], [1.2, 1.2]) # ubuntu/lg\n",
    "plt.plot([3.713 - 0.006, 3.713 + 0.006], [2, 2]) # develop/base\n",
    "plt.plot([3.712 - 0.014, 3.712 + 0.014], [2.2, 2.2]) # develop/lg"
   ]
  },
  {
   "cell_type": "code",
   "execution_count": 11,
   "id": "intended-inspection",
   "metadata": {},
   "outputs": [
    {
     "data": {
      "text/plain": [
       "[<matplotlib.lines.Line2D at 0x1f37ae96490>]"
      ]
     },
     "execution_count": 11,
     "metadata": {},
     "output_type": "execute_result"
    },
    {
     "data": {
      "image/png": "[encoded data removed]",
      "text/plain": [
       "<Figure size 432x288 with 1 Axes>"
      ]
     },
     "metadata": {
      "needs_background": "light"
     },
     "output_type": "display_data"
    }
   ],
   "source": [
    "# multipleNonEmptyClosure3MillionCalls\n",
    "plt.plot([6.131 - 0.011, 6.131 + 0.011], [1, 1]) # ubuntu/base\n",
    "plt.plot([5.944 - 0.273, 5.944 + 0.273], [1.2, 1.2]) # ubuntu/lg\n",
    "plt.plot([6.093 - 0.012, 6.093 + 0.012], [2, 2]) # develop/base\n",
    "plt.plot([6.077 - 0.050, 6.077 + 0.050], [2.2, 2.2]) # develop/lg"
   ]
  },
  {
   "cell_type": "markdown",
   "id": "logical-manhattan",
   "metadata": {},
   "source": [
    "# Statistical comparison tests"
   ]
  },
  {
   "cell_type": "code",
   "execution_count": 2,
   "id": "outstanding-intensity",
   "metadata": {},
   "outputs": [],
   "source": [
    "from scipy import stats\n",
    "import pandas as pd"
   ]
  },
  {
   "cell_type": "markdown",
   "id": "quantitative-turning",
   "metadata": {},
   "source": [
    "## multipleNonEmptyClosure3MillionAssignmentsAndCalls"
   ]
  },
  {
   "cell_type": "markdown",
   "id": "orange-investment",
   "metadata": {},
   "source": [
    "### Attempt 1 (Ubuntu)"
   ]
  },
  {
   "cell_type": "code",
   "execution_count": 40,
   "id": "hollow-purple",
   "metadata": {},
   "outputs": [],
   "source": [
    "nec_assign_call_original_1 = pd.read_csv(\"D:/Documenten/Leuven/Masterproef/notes/performance-evaluation/ubuntu_multipleNonEmptyClosure3MillionAssignmentsAndCalls_base.csv\")\n",
    "nec_assign_call_lg_1 = pd.read_csv(\"D:/Documenten/Leuven/Masterproef/notes/performance-evaluation/ubuntu_multipleNonEmptyClosure3MillionAssignmentsAndCalls_lambdagroups.csv\")"
   ]
  },
  {
   "cell_type": "markdown",
   "id": "spoken-wonder",
   "metadata": {},
   "source": [
    "#### Test homogeneity of variances"
   ]
  },
  {
   "cell_type": "code",
   "execution_count": 41,
   "id": "least-clinton",
   "metadata": {},
   "outputs": [
    {
     "data": {
      "text/plain": [
       "LeveneResult(statistic=1.8276337562051068, pvalue=0.1827434941270854)"
      ]
     },
     "execution_count": 41,
     "metadata": {},
     "output_type": "execute_result"
    }
   ],
   "source": [
    "stats.levene(nec_assign_call_original_1['ops_per_second'], nec_assign_call_lg_1['ops_per_second'])"
   ]
  },
  {
   "cell_type": "markdown",
   "id": "comparable-clothing",
   "metadata": {},
   "source": [
    "The p-value of 0.18 signifies that the test is not significant, meaning there is homogeneity of variances."
   ]
  },
  {
   "cell_type": "markdown",
   "id": "divine-mambo",
   "metadata": {},
   "source": [
    "#### Test normal distribution"
   ]
  },
  {
   "cell_type": "code",
   "execution_count": 42,
   "id": "direct-print",
   "metadata": {},
   "outputs": [
    {
     "data": {
      "image/png": "[encoded data removed]",
      "text/plain": [
       "<Figure size 432x288 with 1 Axes>"
      ]
     },
     "metadata": {
      "needs_background": "light"
     },
     "output_type": "display_data"
    }
   ],
   "source": [
    "nec_assign_call_original_1['ops_per_second'].plot(kind=\"hist\", title=\"Benchmark performance before lambda merging\")\n",
    "plt.xlabel(\"Performance (ops/s)\")\n",
    "plt.savefig('base_ops_per_second_1')"
   ]
  },
  {
   "cell_type": "code",
   "execution_count": 43,
   "id": "finite-runner",
   "metadata": {},
   "outputs": [
    {
     "data": {
      "image/png": "[encoded data removed]",
      "text/plain": [
       "<Figure size 432x288 with 1 Axes>"
      ]
     },
     "metadata": {
      "needs_background": "light"
     },
     "output_type": "display_data"
    }
   ],
   "source": [
    "nec_assign_call_lg_1['ops_per_second'].plot(kind=\"hist\", title= \"Benchmark performance after lambda merging\", color=\"green\")\n",
    "plt.xlabel(\"Performance (ops/s)\")\n",
    "plt.savefig('lambdagroups_ops_per_second_1')"
   ]
  },
  {
   "cell_type": "code",
   "execution_count": 44,
   "id": "advanced-backup",
   "metadata": {},
   "outputs": [
    {
     "data": {
      "image/png": "[encoded data removed]",
      "text/plain": [
       "<Figure size 432x288 with 1 Axes>"
      ]
     },
     "metadata": {
      "needs_background": "light"
     },
     "output_type": "display_data"
    }
   ],
   "source": [
    "stats.probplot(nec_assign_call_original_1['ops_per_second'], dist=\"norm\", plot= plt)\n",
    "plt.title(\"Benchmark performance before lambda merging Q-Q Plot\")\n",
    "plt.savefig(\"base_qqplot_1.png\")"
   ]
  },
  {
   "cell_type": "code",
   "execution_count": 45,
   "id": "annual-arrangement",
   "metadata": {},
   "outputs": [
    {
     "data": {
      "image/png": "[encoded data removed]",
      "text/plain": [
       "<Figure size 432x288 with 1 Axes>"
      ]
     },
     "metadata": {
      "needs_background": "light"
     },
     "output_type": "display_data"
    }
   ],
   "source": [
    "stats.probplot(nec_assign_call_lg_1['ops_per_second'], dist=\"norm\", plot= plt)\n",
    "plt.title(\"Benchmark performance after lambda merging Q-Q Plot\")\n",
    "plt.savefig(\"lambdagroups_qqplot_1.png\")"
   ]
  },
  {
   "cell_type": "code",
   "execution_count": 46,
   "id": "exact-relation",
   "metadata": {},
   "outputs": [
    {
     "data": {
      "text/plain": [
       "ShapiroResult(statistic=0.9533631801605225, pvalue=0.29810431599617004)"
      ]
     },
     "execution_count": 46,
     "metadata": {},
     "output_type": "execute_result"
    }
   ],
   "source": [
    "stats.shapiro(nec_assign_call_original_1['ops_per_second'])"
   ]
  },
  {
   "cell_type": "code",
   "execution_count": 47,
   "id": "latest-outline",
   "metadata": {},
   "outputs": [
    {
     "data": {
      "text/plain": [
       "ShapiroResult(statistic=0.8007323741912842, pvalue=0.0002338268532184884)"
      ]
     },
     "execution_count": 47,
     "metadata": {},
     "output_type": "execute_result"
    }
   ],
   "source": [
    "stats.shapiro(nec_assign_call_lg_1['ops_per_second'])"
   ]
  },
  {
   "cell_type": "markdown",
   "id": "incomplete-middle",
   "metadata": {},
   "source": [
    "According to the Shapiro-Wilk test with a boundary of 0.05 for the p-value, the second dataset is not normally distributed."
   ]
  },
  {
   "cell_type": "markdown",
   "id": "still-patrick",
   "metadata": {},
   "source": [
    "#### Test whether the performance after lambda merging differs from the performance before lambda merging"
   ]
  },
  {
   "cell_type": "markdown",
   "id": "minute-advisory",
   "metadata": {},
   "source": [
    "**Null hypothesis:** the ops/s is equal before and after lambda merging"
   ]
  },
  {
   "cell_type": "markdown",
   "id": "cutting-march",
   "metadata": {},
   "source": [
    "\n",
    "**Alternative hypothesis:** the ops/s is *not* equal before and after lambda merging"
   ]
  },
  {
   "cell_type": "markdown",
   "id": "interpreted-prospect",
   "metadata": {},
   "source": [
    "We take 0.05 as a threshold for the p-value."
   ]
  },
  {
   "cell_type": "markdown",
   "id": "recreational-independence",
   "metadata": {},
   "source": [
    "##### Wilcoxon Signed-Rank Test"
   ]
  },
  {
   "cell_type": "code",
   "execution_count": 55,
   "id": "removable-huntington",
   "metadata": {},
   "outputs": [
    {
     "data": {
      "text/plain": [
       "WilcoxonResult(statistic=117.0, pvalue=0.3451626031380596)"
      ]
     },
     "execution_count": 55,
     "metadata": {},
     "output_type": "execute_result"
    }
   ],
   "source": [
    "stats.wilcoxon(nec_assign_call_original_1['ops_per_second'], nec_assign_call_lg_1['ops_per_second'])"
   ]
  },
  {
   "cell_type": "markdown",
   "id": "industrial-denial",
   "metadata": {},
   "source": [
    "The value of 0.345 is higher than 0.05, so according to this test, the null hypothesis must not be rejected."
   ]
  },
  {
   "cell_type": "markdown",
   "id": "absolute-assurance",
   "metadata": {},
   "source": [
    "### Attempt 2 (Develop)"
   ]
  },
  {
   "cell_type": "code",
   "execution_count": 57,
   "id": "arabic-junior",
   "metadata": {},
   "outputs": [],
   "source": [
    "nec_assign_call_original_2 = pd.read_csv(\"D:/Documenten/Leuven/Masterproef/notes/performance-evaluation/220415-develop_multipleNonEmptyClosure3MillionAssignmentsAndCalls_base.csv\")\n",
    "nec_assign_call_lg_2 = pd.read_csv(\"D:/Documenten/Leuven/Masterproef/notes/performance-evaluation/220415-develop_multipleNonEmptyClosure3MillionAssignmentsAndCalls_lambdagroups.csv\")"
   ]
  },
  {
   "cell_type": "markdown",
   "id": "efficient-conversion",
   "metadata": {},
   "source": [
    "#### Test homogeneity of variances"
   ]
  },
  {
   "cell_type": "code",
   "execution_count": 58,
   "id": "neural-greene",
   "metadata": {},
   "outputs": [
    {
     "data": {
      "text/plain": [
       "LeveneResult(statistic=9.924398625429642, pvalue=0.0028067724644932368)"
      ]
     },
     "execution_count": 58,
     "metadata": {},
     "output_type": "execute_result"
    }
   ],
   "source": [
    "stats.levene(nec_assign_call_original_2['ops_per_second'], nec_assign_call_lg_2['ops_per_second'])"
   ]
  },
  {
   "cell_type": "markdown",
   "id": "cultural-victory",
   "metadata": {},
   "source": [
    "The p-value of 0.02 signifies that the test is significant, meaning there is no homogeneity of variances, if we take a boundary of 0.05 for our p-value."
   ]
  },
  {
   "cell_type": "markdown",
   "id": "awful-indie",
   "metadata": {},
   "source": [
    "#### Test normal distribution"
   ]
  },
  {
   "cell_type": "code",
   "execution_count": 59,
   "id": "herbal-entrepreneur",
   "metadata": {},
   "outputs": [
    {
     "data": {
      "image/png": "[encoded data removed]",
      "text/plain": [
       "<Figure size 432x288 with 1 Axes>"
      ]
     },
     "metadata": {
      "needs_background": "light"
     },
     "output_type": "display_data"
    }
   ],
   "source": [
    "nec_assign_call_original_2['ops_per_second'].plot(kind=\"hist\", title=\"Benchmark performance before lambda merging\")\n",
    "plt.xlabel(\"Performance (ops/s)\")\n",
    "plt.savefig('base_ops_per_second_2')"
   ]
  },
  {
   "cell_type": "code",
   "execution_count": 60,
   "id": "broadband-isolation",
   "metadata": {},
   "outputs": [
    {
     "data": {
      "image/png": "[encoded data removed]",
      "text/plain": [
       "<Figure size 432x288 with 1 Axes>"
      ]
     },
     "metadata": {
      "needs_background": "light"
     },
     "output_type": "display_data"
    }
   ],
   "source": [
    "nec_assign_call_lg_2['ops_per_second'].plot(kind=\"hist\", title= \"Benchmark performance after lambda merging\", color=\"green\")\n",
    "plt.xlabel(\"Performance (ops/s)\")\n",
    "plt.savefig('lambdagroups_ops_per_second_2')"
   ]
  },
  {
   "cell_type": "code",
   "execution_count": 61,
   "id": "round-geology",
   "metadata": {},
   "outputs": [
    {
     "data": {
      "image/png": "[encoded data removed]",
      "text/plain": [
       "<Figure size 432x288 with 1 Axes>"
      ]
     },
     "metadata": {
      "needs_background": "light"
     },
     "output_type": "display_data"
    }
   ],
   "source": [
    "stats.probplot(nec_assign_call_original_2['ops_per_second'], dist=\"norm\", plot= plt)\n",
    "plt.title(\"Benchmark performance before lambda merging Q-Q Plot\")\n",
    "plt.savefig(\"base_qqplot_2.png\")"
   ]
  },
  {
   "cell_type": "code",
   "execution_count": 62,
   "id": "obvious-tribute",
   "metadata": {},
   "outputs": [
    {
     "data": {
      "image/png": "[encoded data removed]",
      "text/plain": [
       "<Figure size 432x288 with 1 Axes>"
      ]
     },
     "metadata": {
      "needs_background": "light"
     },
     "output_type": "display_data"
    }
   ],
   "source": [
    "stats.probplot(nec_assign_call_lg_2['ops_per_second'], dist=\"norm\", plot= plt)\n",
    "plt.title(\"Benchmark performance after lambda merging Q-Q Plot\")\n",
    "plt.savefig(\"lambdagroups_qqplot_2.png\")"
   ]
  },
  {
   "cell_type": "code",
   "execution_count": 63,
   "id": "potential-inspiration",
   "metadata": {},
   "outputs": [
    {
     "data": {
      "text/plain": [
       "ShapiroResult(statistic=0.943942666053772, pvalue=0.18247583508491516)"
      ]
     },
     "execution_count": 63,
     "metadata": {},
     "output_type": "execute_result"
    }
   ],
   "source": [
    "stats.shapiro(nec_assign_call_original_2['ops_per_second'])"
   ]
  },
  {
   "cell_type": "code",
   "execution_count": 65,
   "id": "tutorial-phone",
   "metadata": {},
   "outputs": [
    {
     "data": {
      "text/plain": [
       "ShapiroResult(statistic=0.8751510381698608, pvalue=0.005497519392520189)"
      ]
     },
     "execution_count": 65,
     "metadata": {},
     "output_type": "execute_result"
    }
   ],
   "source": [
    "stats.shapiro(nec_assign_call_lg_2['ops_per_second'])"
   ]
  },
  {
   "cell_type": "markdown",
   "id": "familiar-supervision",
   "metadata": {},
   "source": [
    "According to the Shapiro-Wilk test with a boundary of 0.05 for the p-value, the second dataset is not normally distributed."
   ]
  },
  {
   "cell_type": "markdown",
   "id": "severe-objective",
   "metadata": {},
   "source": [
    "#### Test whether the performance after lambda merging differs from the performance before lambda merging"
   ]
  },
  {
   "cell_type": "markdown",
   "id": "relative-template",
   "metadata": {},
   "source": [
    "**Null hypothesis:** the ops/s is equal before and after lambda merging"
   ]
  },
  {
   "cell_type": "markdown",
   "id": "romance-walker",
   "metadata": {},
   "source": [
    "\n",
    "**Alternative hypothesis:** the ops/s is *not* equal before and after lambda merging"
   ]
  },
  {
   "cell_type": "markdown",
   "id": "enabling-horse",
   "metadata": {},
   "source": [
    "We take 0.05 as a threshold for the p-value."
   ]
  },
  {
   "cell_type": "markdown",
   "id": "unlimited-comedy",
   "metadata": {},
   "source": [
    "##### Wilcoxon Signed-Rank Test"
   ]
  },
  {
   "cell_type": "code",
   "execution_count": 67,
   "id": "supposed-financing",
   "metadata": {},
   "outputs": [
    {
     "data": {
      "text/plain": [
       "WilcoxonResult(statistic=147.0, pvalue=0.6915188431739807)"
      ]
     },
     "execution_count": 67,
     "metadata": {},
     "output_type": "execute_result"
    }
   ],
   "source": [
    "stats.wilcoxon(nec_assign_call_original_2['ops_per_second'], nec_assign_call_lg_2['ops_per_second'])"
   ]
  },
  {
   "cell_type": "markdown",
   "id": "controlling-dynamics",
   "metadata": {},
   "source": [
    "The value of 0.69 is higher than 0.05, so according to this test, the null hypothesis must not be rejected."
   ]
  },
  {
   "cell_type": "markdown",
   "id": "anticipated-intent",
   "metadata": {},
   "source": [
    "### Attempt 3 (Ubuntu)"
   ]
  },
  {
   "cell_type": "code",
   "execution_count": 80,
   "id": "short-equity",
   "metadata": {},
   "outputs": [],
   "source": [
    "nec_assign_call_original_3 = pd.read_csv(\"D:/Documenten/Leuven/Masterproef/notes/performance-evaluation/220421-12.52-ubuntu_multipleNonEmptyClosure3MillionAssignmentsAndCalls_base.csv\")\n",
    "nec_assign_call_lg_3 = pd.read_csv(\"D:/Documenten/Leuven/Masterproef/notes/performance-evaluation/220421-13.08-ubuntu_multipleNonEmptyClosure3MillionAssignmentsAndCalls_lambdagroups.csv\")"
   ]
  },
  {
   "cell_type": "markdown",
   "id": "sharp-event",
   "metadata": {},
   "source": [
    "#### Test homogeneity of variances"
   ]
  },
  {
   "cell_type": "code",
   "execution_count": 82,
   "id": "chief-culture",
   "metadata": {},
   "outputs": [
    {
     "data": {
      "text/plain": [
       "LeveneResult(statistic=0.8423653619363, pvalue=0.36331002918856703)"
      ]
     },
     "execution_count": 82,
     "metadata": {},
     "output_type": "execute_result"
    }
   ],
   "source": [
    "stats.levene(nec_assign_call_original_3['ops_per_second'], nec_assign_call_lg_3['ops_per_second'])"
   ]
  },
  {
   "cell_type": "markdown",
   "id": "ultimate-travel",
   "metadata": {},
   "source": [
    "The p-value of 0.36 signifies that the test is not significant, meaning there is homogeneity of variances."
   ]
  },
  {
   "cell_type": "markdown",
   "id": "standing-bunch",
   "metadata": {},
   "source": [
    "#### Test normal distribution"
   ]
  },
  {
   "cell_type": "code",
   "execution_count": 83,
   "id": "muslim-university",
   "metadata": {},
   "outputs": [
    {
     "data": {
      "image/png": "[encoded data removed]",
      "text/plain": [
       "<Figure size 432x288 with 1 Axes>"
      ]
     },
     "metadata": {
      "needs_background": "light"
     },
     "output_type": "display_data"
    }
   ],
   "source": [
    "nec_assign_call_original_3['ops_per_second'].plot(kind=\"hist\", title=\"Benchmark performance before lambda merging\")\n",
    "plt.xlabel(\"Performance (ops/s)\")\n",
    "plt.savefig('base_ops_per_second_3')"
   ]
  },
  {
   "cell_type": "code",
   "execution_count": 84,
   "id": "wrapped-venue",
   "metadata": {},
   "outputs": [
    {
     "data": {
      "image/png": "[encoded data removed]",
      "text/plain": [
       "<Figure size 432x288 with 1 Axes>"
      ]
     },
     "metadata": {
      "needs_background": "light"
     },
     "output_type": "display_data"
    }
   ],
   "source": [
    "nec_assign_call_lg_3['ops_per_second'].plot(kind=\"hist\", title= \"Benchmark performance after lambda merging\", color=\"green\")\n",
    "plt.xlabel(\"Performance (ops/s)\")\n",
    "plt.savefig('lambdagroups_ops_per_second_3')"
   ]
  },
  {
   "cell_type": "code",
   "execution_count": 85,
   "id": "worthy-photography",
   "metadata": {},
   "outputs": [
    {
     "data": {
      "image/png": "[encoded data removed]",
      "text/plain": [
       "<Figure size 432x288 with 1 Axes>"
      ]
     },
     "metadata": {
      "needs_background": "light"
     },
     "output_type": "display_data"
    }
   ],
   "source": [
    "stats.probplot(nec_assign_call_original_3['ops_per_second'], dist=\"norm\", plot= plt)\n",
    "plt.title(\"Benchmark performance before lambda merging Q-Q Plot\")\n",
    "plt.savefig(\"base_qqplot_3.png\")"
   ]
  },
  {
   "cell_type": "code",
   "execution_count": 86,
   "id": "given-african",
   "metadata": {},
   "outputs": [
    {
     "data": {
      "image/png": "[encoded data removed]",
      "text/plain": [
       "<Figure size 432x288 with 1 Axes>"
      ]
     },
     "metadata": {
      "needs_background": "light"
     },
     "output_type": "display_data"
    }
   ],
   "source": [
    "stats.probplot(nec_assign_call_lg_3['ops_per_second'], dist=\"norm\", plot= plt)\n",
    "plt.title(\"Benchmark performance after lambda merging Q-Q Plot\")\n",
    "plt.savefig(\"lambdagroups_qqplot_3.png\")"
   ]
  },
  {
   "cell_type": "code",
   "execution_count": 87,
   "id": "equivalent-sleep",
   "metadata": {},
   "outputs": [
    {
     "data": {
      "text/plain": [
       "ShapiroResult(statistic=0.7191476821899414, pvalue=1.3335505173017737e-05)"
      ]
     },
     "execution_count": 87,
     "metadata": {},
     "output_type": "execute_result"
    }
   ],
   "source": [
    "stats.shapiro(nec_assign_call_original_3['ops_per_second'])"
   ]
  },
  {
   "cell_type": "markdown",
   "id": "current-fashion",
   "metadata": {},
   "source": [
    "The p-value of 1.3e-05 is lower than the boundary of 0.05, so according to the Shapiro-Wilk test the second dataset is not normally distributed."
   ]
  },
  {
   "cell_type": "code",
   "execution_count": 88,
   "id": "surprised-vanilla",
   "metadata": {},
   "outputs": [
    {
     "data": {
      "text/plain": [
       "ShapiroResult(statistic=0.8239523768424988, pvalue=0.0005865103448741138)"
      ]
     },
     "execution_count": 88,
     "metadata": {},
     "output_type": "execute_result"
    }
   ],
   "source": [
    "stats.shapiro(nec_assign_call_lg_3['ops_per_second'])"
   ]
  },
  {
   "cell_type": "markdown",
   "id": "headed-quest",
   "metadata": {},
   "source": [
    "The p-value of 0.0005 is lower than the boundary of 0.05, so according to the Shapiro-Wilk test the second dataset is not normally distributed."
   ]
  },
  {
   "cell_type": "markdown",
   "id": "mathematical-lesbian",
   "metadata": {},
   "source": [
    "#### Test whether the performance after lambda merging differs from the performance before lambda merging"
   ]
  },
  {
   "cell_type": "markdown",
   "id": "breeding-measurement",
   "metadata": {},
   "source": [
    "**Null hypothesis:** the ops/s is equal before and after lambda merging"
   ]
  },
  {
   "cell_type": "markdown",
   "id": "quick-meditation",
   "metadata": {},
   "source": [
    "\n",
    "**Alternative hypothesis:** the ops/s is *not* equal before and after lambda merging"
   ]
  },
  {
   "cell_type": "markdown",
   "id": "associate-jaguar",
   "metadata": {},
   "source": [
    "We take 0.05 as a threshold for the p-value."
   ]
  },
  {
   "cell_type": "markdown",
   "id": "several-warehouse",
   "metadata": {},
   "source": [
    "##### Wilcoxon Signed-Rank Test"
   ]
  },
  {
   "cell_type": "code",
   "execution_count": 90,
   "id": "bright-tennis",
   "metadata": {},
   "outputs": [
    {
     "data": {
      "text/plain": [
       "WilcoxonResult(statistic=83.5, pvalue=0.034173786640167236)"
      ]
     },
     "execution_count": 90,
     "metadata": {},
     "output_type": "execute_result"
    }
   ],
   "source": [
    "stats.wilcoxon(nec_assign_call_original_3['ops_per_second'], nec_assign_call_lg_3['ops_per_second'])"
   ]
  },
  {
   "cell_type": "markdown",
   "id": "vertical-spray",
   "metadata": {},
   "source": [
    "The value of 0.034 is lower than 0.05, so according to this test, the null hypothesis must be rejected."
   ]
  },
  {
   "cell_type": "markdown",
   "id": "searching-enterprise",
   "metadata": {},
   "source": [
    "# Performance test algorithms"
   ]
  },
  {
   "cell_type": "code",
   "execution_count": 16,
   "id": "olive-paradise",
   "metadata": {},
   "outputs": [],
   "source": [
    "def generate_lambda(arity, implementation):\n",
    "    parameters = \"\"\n",
    "    for i in range(arity):\n",
    "        if i > 0:\n",
    "            parameters += \", \"\n",
    "        parameters += f\"a{i}: Int\"\n",
    "    if arity > 0:\n",
    "        parameters += \" -> \"\n",
    "    result = \"{\" + parameters + implementation + \"}\"\n",
    "    return result"
   ]
  },
  {
   "cell_type": "code",
   "execution_count": 27,
   "id": "choice-compact",
   "metadata": {},
   "outputs": [
    {
     "name": "stdout",
     "output_type": "stream",
     "text": [
      "val lambda0 = {a0: Int -> println(\"a0: $a0\")}\n",
      "val lambda1 = {a0: Int -> println(\"a0: $a0\")}\n",
      "val lambda2 = {a0: Int -> println(\"a0: $a0\")}\n",
      "val lambda3 = {a0: Int -> println(\"a0: $a0\")}\n",
      "val lambda4 = {a0: Int -> println(\"a0: $a0\")}\n",
      "val lambda5 = {a0: Int -> println(\"a0: $a0\")}\n",
      "val lambda6 = {a0: Int -> println(\"a0: $a0\")}\n",
      "val lambda7 = {a0: Int -> println(\"a0: $a0\")}\n",
      "val lambda8 = {a0: Int -> println(\"a0: $a0\")}\n",
      "val lambda9 = {a0: Int -> println(\"a0: $a0\")}\n",
      "val lambda10 = {a0: Int -> println(\"a0: $a0\")}\n",
      "val lambda11 = {a0: Int -> println(\"a0: $a0\")}\n",
      "val lambda12 = {a0: Int -> println(\"a0: $a0\")}\n",
      "val lambda13 = {a0: Int -> println(\"a0: $a0\")}\n",
      "val lambda14 = {a0: Int -> println(\"a0: $a0\")}\n",
      "val lambda15 = {a0: Int -> println(\"a0: $a0\")}\n",
      "val lambda16 = {a0: Int -> println(\"a0: $a0\")}\n",
      "val lambda17 = {a0: Int -> println(\"a0: $a0\")}\n",
      "val lambda18 = {a0: Int -> println(\"a0: $a0\")}\n",
      "val lambda19 = {a0: Int -> println(\"a0: $a0\")}\n",
      "val lambda20 = {a0: Int -> println(\"a0: $a0\")}\n",
      "val lambda21 = {a0: Int -> println(\"a0: $a0\")}\n",
      "val lambda22 = {a0: Int -> println(\"a0: $a0\")}\n",
      "val lambda23 = {a0: Int -> println(\"a0: $a0\")}\n",
      "val lambda24 = {a0: Int -> println(\"a0: $a0\")}\n",
      "val lambda25 = {a0: Int -> println(\"a0: $a0\")}\n",
      "val lambda26 = {a0: Int -> println(\"a0: $a0\")}\n",
      "val lambda27 = {a0: Int -> println(\"a0: $a0\")}\n",
      "val lambda28 = {a0: Int -> println(\"a0: $a0\")}\n",
      "val lambda29 = {a0: Int -> println(\"a0: $a0\")}\n",
      "val lambda30 = {a0: Int -> println(\"a0: $a0\")}\n",
      "val lambda31 = {a0: Int -> println(\"a0: $a0\")}\n",
      "val lambda32 = {a0: Int -> println(\"a0: $a0\")}\n",
      "val lambda33 = {a0: Int -> println(\"a0: $a0\")}\n",
      "val lambda34 = {a0: Int -> println(\"a0: $a0\")}\n",
      "val lambda35 = {a0: Int -> println(\"a0: $a0\")}\n",
      "val lambda36 = {a0: Int -> println(\"a0: $a0\")}\n",
      "val lambda37 = {a0: Int -> println(\"a0: $a0\")}\n",
      "val lambda38 = {a0: Int -> println(\"a0: $a0\")}\n",
      "val lambda39 = {a0: Int -> println(\"a0: $a0\")}\n",
      "val lambda40 = {a0: Int -> println(\"a0: $a0\")}\n",
      "val lambda41 = {a0: Int -> println(\"a0: $a0\")}\n",
      "val lambda42 = {a0: Int -> println(\"a0: $a0\")}\n",
      "val lambda43 = {a0: Int -> println(\"a0: $a0\")}\n",
      "val lambda44 = {a0: Int -> println(\"a0: $a0\")}\n",
      "val lambda45 = {a0: Int -> println(\"a0: $a0\")}\n",
      "val lambda46 = {a0: Int -> println(\"a0: $a0\")}\n",
      "val lambda47 = {a0: Int -> println(\"a0: $a0\")}\n",
      "val lambda48 = {a0: Int -> println(\"a0: $a0\")}\n",
      "val lambda49 = {a0: Int -> println(\"a0: $a0\")}\n",
      "val lambda50 = {a0: Int -> println(\"a0: $a0\")}\n",
      "val lambda51 = {a0: Int -> println(\"a0: $a0\")}\n",
      "val lambda52 = {a0: Int -> println(\"a0: $a0\")}\n",
      "val lambda53 = {a0: Int -> println(\"a0: $a0\")}\n",
      "val lambda54 = {a0: Int -> println(\"a0: $a0\")}\n",
      "val lambda55 = {a0: Int -> println(\"a0: $a0\")}\n",
      "val lambda56 = {a0: Int -> println(\"a0: $a0\")}\n",
      "val lambda57 = {a0: Int -> println(\"a0: $a0\")}\n",
      "val lambda58 = {a0: Int -> println(\"a0: $a0\")}\n",
      "val lambda59 = {a0: Int -> println(\"a0: $a0\")}\n",
      "val lambda60 = {a0: Int -> println(\"a0: $a0\")}\n",
      "val lambda61 = {a0: Int -> println(\"a0: $a0\")}\n",
      "val lambda62 = {a0: Int -> println(\"a0: $a0\")}\n",
      "val lambda63 = {a0: Int -> println(\"a0: $a0\")}\n",
      "val lambda64 = {a0: Int -> println(\"a0: $a0\")}\n",
      "val lambda65 = {a0: Int -> println(\"a0: $a0\")}\n",
      "val lambda66 = {a0: Int -> println(\"a0: $a0\")}\n",
      "val lambda67 = {a0: Int -> println(\"a0: $a0\")}\n",
      "val lambda68 = {a0: Int -> println(\"a0: $a0\")}\n",
      "val lambda69 = {a0: Int -> println(\"a0: $a0\")}\n",
      "val lambda70 = {a0: Int -> println(\"a0: $a0\")}\n",
      "val lambda71 = {a0: Int -> println(\"a0: $a0\")}\n",
      "val lambda72 = {a0: Int -> println(\"a0: $a0\")}\n",
      "val lambda73 = {a0: Int -> println(\"a0: $a0\")}\n",
      "val lambda74 = {a0: Int -> println(\"a0: $a0\")}\n",
      "val lambda75 = {a0: Int -> println(\"a0: $a0\")}\n",
      "val lambda76 = {a0: Int -> println(\"a0: $a0\")}\n",
      "val lambda77 = {a0: Int -> println(\"a0: $a0\")}\n",
      "val lambda78 = {a0: Int -> println(\"a0: $a0\")}\n",
      "val lambda79 = {a0: Int -> println(\"a0: $a0\")}\n",
      "val lambda80 = {a0: Int -> println(\"a0: $a0\")}\n",
      "val lambda81 = {a0: Int -> println(\"a0: $a0\")}\n",
      "val lambda82 = {a0: Int -> println(\"a0: $a0\")}\n",
      "val lambda83 = {a0: Int -> println(\"a0: $a0\")}\n",
      "val lambda84 = {a0: Int -> println(\"a0: $a0\")}\n",
      "val lambda85 = {a0: Int -> println(\"a0: $a0\")}\n",
      "val lambda86 = {a0: Int -> println(\"a0: $a0\")}\n",
      "val lambda87 = {a0: Int -> println(\"a0: $a0\")}\n",
      "val lambda88 = {a0: Int -> println(\"a0: $a0\")}\n",
      "val lambda89 = {a0: Int -> println(\"a0: $a0\")}\n",
      "val lambda90 = {a0: Int -> println(\"a0: $a0\")}\n",
      "val lambda91 = {a0: Int -> println(\"a0: $a0\")}\n",
      "val lambda92 = {a0: Int -> println(\"a0: $a0\")}\n",
      "val lambda93 = {a0: Int -> println(\"a0: $a0\")}\n",
      "val lambda94 = {a0: Int -> println(\"a0: $a0\")}\n",
      "val lambda95 = {a0: Int -> println(\"a0: $a0\")}\n",
      "val lambda96 = {a0: Int -> println(\"a0: $a0\")}\n",
      "val lambda97 = {a0: Int -> println(\"a0: $a0\")}\n",
      "val lambda98 = {a0: Int -> println(\"a0: $a0\")}\n",
      "val lambda99 = {a0: Int -> println(\"a0: $a0\")}\n",
      "val lambda100 = {a0: Int -> println(\"a0: $a0\")}\n",
      "val lambda101 = {a0: Int -> println(\"a0: $a0\")}\n",
      "val lambda102 = {a0: Int -> println(\"a0: $a0\")}\n",
      "val lambda103 = {a0: Int -> println(\"a0: $a0\")}\n",
      "val lambda104 = {a0: Int -> println(\"a0: $a0\")}\n",
      "val lambda105 = {a0: Int -> println(\"a0: $a0\")}\n",
      "val lambda106 = {a0: Int -> println(\"a0: $a0\")}\n",
      "val lambda107 = {a0: Int -> println(\"a0: $a0\")}\n",
      "val lambda108 = {a0: Int -> println(\"a0: $a0\")}\n",
      "val lambda109 = {a0: Int -> println(\"a0: $a0\")}\n",
      "val lambda110 = {a0: Int -> println(\"a0: $a0\")}\n",
      "val lambda111 = {a0: Int -> println(\"a0: $a0\")}\n",
      "val lambda112 = {a0: Int -> println(\"a0: $a0\")}\n",
      "val lambda113 = {a0: Int -> println(\"a0: $a0\")}\n",
      "val lambda114 = {a0: Int -> println(\"a0: $a0\")}\n",
      "val lambda115 = {a0: Int -> println(\"a0: $a0\")}\n",
      "val lambda116 = {a0: Int -> println(\"a0: $a0\")}\n",
      "val lambda117 = {a0: Int -> println(\"a0: $a0\")}\n",
      "val lambda118 = {a0: Int -> println(\"a0: $a0\")}\n",
      "val lambda119 = {a0: Int -> println(\"a0: $a0\")}\n",
      "val lambda120 = {a0: Int -> println(\"a0: $a0\")}\n",
      "val lambda121 = {a0: Int -> println(\"a0: $a0\")}\n",
      "val lambda122 = {a0: Int -> println(\"a0: $a0\")}\n",
      "val lambda123 = {a0: Int -> println(\"a0: $a0\")}\n",
      "val lambda124 = {a0: Int -> println(\"a0: $a0\")}\n",
      "val lambda125 = {a0: Int -> println(\"a0: $a0\")}\n",
      "val lambda126 = {a0: Int -> println(\"a0: $a0\")}\n",
      "val lambda127 = {a0: Int -> println(\"a0: $a0\")}\n",
      "val lambda128 = {a0: Int -> println(\"a0: $a0\")}\n",
      "val lambda129 = {a0: Int -> println(\"a0: $a0\")}\n",
      "val lambda130 = {a0: Int -> println(\"a0: $a0\")}\n",
      "val lambda131 = {a0: Int -> println(\"a0: $a0\")}\n",
      "val lambda132 = {a0: Int -> println(\"a0: $a0\")}\n",
      "val lambda133 = {a0: Int -> println(\"a0: $a0\")}\n",
      "val lambda134 = {a0: Int -> println(\"a0: $a0\")}\n",
      "val lambda135 = {a0: Int -> println(\"a0: $a0\")}\n",
      "val lambda136 = {a0: Int -> println(\"a0: $a0\")}\n",
      "val lambda137 = {a0: Int -> println(\"a0: $a0\")}\n",
      "val lambda138 = {a0: Int -> println(\"a0: $a0\")}\n",
      "val lambda139 = {a0: Int -> println(\"a0: $a0\")}\n",
      "val lambda140 = {a0: Int -> println(\"a0: $a0\")}\n",
      "val lambda141 = {a0: Int -> println(\"a0: $a0\")}\n",
      "val lambda142 = {a0: Int -> println(\"a0: $a0\")}\n",
      "val lambda143 = {a0: Int -> println(\"a0: $a0\")}\n",
      "val lambda144 = {a0: Int -> println(\"a0: $a0\")}\n",
      "val lambda145 = {a0: Int -> println(\"a0: $a0\")}\n",
      "val lambda146 = {a0: Int -> println(\"a0: $a0\")}\n",
      "val lambda147 = {a0: Int -> println(\"a0: $a0\")}\n",
      "val lambda148 = {a0: Int -> println(\"a0: $a0\")}\n",
      "val lambda149 = {a0: Int -> println(\"a0: $a0\")}\n",
      "val lambda150 = {a0: Int -> println(\"a0: $a0\")}\n",
      "val lambda151 = {a0: Int -> println(\"a0: $a0\")}\n",
      "val lambda152 = {a0: Int -> println(\"a0: $a0\")}\n",
      "val lambda153 = {a0: Int -> println(\"a0: $a0\")}\n",
      "val lambda154 = {a0: Int -> println(\"a0: $a0\")}\n",
      "val lambda155 = {a0: Int -> println(\"a0: $a0\")}\n",
      "val lambda156 = {a0: Int -> println(\"a0: $a0\")}\n",
      "val lambda157 = {a0: Int -> println(\"a0: $a0\")}\n",
      "val lambda158 = {a0: Int -> println(\"a0: $a0\")}\n",
      "val lambda159 = {a0: Int -> println(\"a0: $a0\")}\n",
      "val lambda160 = {a0: Int -> println(\"a0: $a0\")}\n",
      "val lambda161 = {a0: Int -> println(\"a0: $a0\")}\n",
      "val lambda162 = {a0: Int -> println(\"a0: $a0\")}\n",
      "val lambda163 = {a0: Int -> println(\"a0: $a0\")}\n",
      "val lambda164 = {a0: Int -> println(\"a0: $a0\")}\n",
      "val lambda165 = {a0: Int -> println(\"a0: $a0\")}\n",
      "val lambda166 = {a0: Int -> println(\"a0: $a0\")}\n",
      "val lambda167 = {a0: Int -> println(\"a0: $a0\")}\n",
      "val lambda168 = {a0: Int -> println(\"a0: $a0\")}\n",
      "val lambda169 = {a0: Int -> println(\"a0: $a0\")}\n",
      "val lambda170 = {a0: Int -> println(\"a0: $a0\")}\n",
      "val lambda171 = {a0: Int -> println(\"a0: $a0\")}\n",
      "val lambda172 = {a0: Int -> println(\"a0: $a0\")}\n",
      "val lambda173 = {a0: Int -> println(\"a0: $a0\")}\n",
      "val lambda174 = {a0: Int -> println(\"a0: $a0\")}\n",
      "val lambda175 = {a0: Int -> println(\"a0: $a0\")}\n",
      "val lambda176 = {a0: Int -> println(\"a0: $a0\")}\n",
      "val lambda177 = {a0: Int -> println(\"a0: $a0\")}\n",
      "val lambda178 = {a0: Int -> println(\"a0: $a0\")}\n",
      "val lambda179 = {a0: Int -> println(\"a0: $a0\")}\n",
      "val lambda180 = {a0: Int -> println(\"a0: $a0\")}\n",
      "val lambda181 = {a0: Int -> println(\"a0: $a0\")}\n",
      "val lambda182 = {a0: Int -> println(\"a0: $a0\")}\n",
      "val lambda183 = {a0: Int -> println(\"a0: $a0\")}\n",
      "val lambda184 = {a0: Int -> println(\"a0: $a0\")}\n",
      "val lambda185 = {a0: Int -> println(\"a0: $a0\")}\n",
      "val lambda186 = {a0: Int -> println(\"a0: $a0\")}\n",
      "val lambda187 = {a0: Int -> println(\"a0: $a0\")}\n",
      "val lambda188 = {a0: Int -> println(\"a0: $a0\")}\n",
      "val lambda189 = {a0: Int -> println(\"a0: $a0\")}\n",
      "val lambda190 = {a0: Int -> println(\"a0: $a0\")}\n",
      "val lambda191 = {a0: Int -> println(\"a0: $a0\")}\n",
      "val lambda192 = {a0: Int -> println(\"a0: $a0\")}\n",
      "val lambda193 = {a0: Int -> println(\"a0: $a0\")}\n",
      "val lambda194 = {a0: Int -> println(\"a0: $a0\")}\n",
      "val lambda195 = {a0: Int -> println(\"a0: $a0\")}\n",
      "val lambda196 = {a0: Int -> println(\"a0: $a0\")}\n",
      "val lambda197 = {a0: Int -> println(\"a0: $a0\")}\n",
      "val lambda198 = {a0: Int -> println(\"a0: $a0\")}\n",
      "val lambda199 = {a0: Int -> println(\"a0: $a0\")}\n",
      "val lambda200 = {a0: Int -> println(\"a0: $a0\")}\n",
      "val lambda201 = {a0: Int -> println(\"a0: $a0\")}\n",
      "val lambda202 = {a0: Int -> println(\"a0: $a0\")}\n",
      "val lambda203 = {a0: Int -> println(\"a0: $a0\")}\n",
      "val lambda204 = {a0: Int -> println(\"a0: $a0\")}\n",
      "val lambda205 = {a0: Int -> println(\"a0: $a0\")}\n",
      "val lambda206 = {a0: Int -> println(\"a0: $a0\")}\n",
      "val lambda207 = {a0: Int -> println(\"a0: $a0\")}\n",
      "val lambda208 = {a0: Int -> println(\"a0: $a0\")}\n",
      "val lambda209 = {a0: Int -> println(\"a0: $a0\")}\n",
      "val lambda210 = {a0: Int -> println(\"a0: $a0\")}\n",
      "val lambda211 = {a0: Int -> println(\"a0: $a0\")}\n",
      "val lambda212 = {a0: Int -> println(\"a0: $a0\")}\n",
      "val lambda213 = {a0: Int -> println(\"a0: $a0\")}\n",
      "val lambda214 = {a0: Int -> println(\"a0: $a0\")}\n",
      "val lambda215 = {a0: Int -> println(\"a0: $a0\")}\n",
      "val lambda216 = {a0: Int -> println(\"a0: $a0\")}\n",
      "val lambda217 = {a0: Int -> println(\"a0: $a0\")}\n",
      "val lambda218 = {a0: Int -> println(\"a0: $a0\")}\n",
      "val lambda219 = {a0: Int -> println(\"a0: $a0\")}\n",
      "val lambda220 = {a0: Int -> println(\"a0: $a0\")}\n",
      "val lambda221 = {a0: Int -> println(\"a0: $a0\")}\n",
      "val lambda222 = {a0: Int -> println(\"a0: $a0\")}\n",
      "val lambda223 = {a0: Int -> println(\"a0: $a0\")}\n",
      "val lambda224 = {a0: Int -> println(\"a0: $a0\")}\n",
      "val lambda225 = {a0: Int -> println(\"a0: $a0\")}\n",
      "val lambda226 = {a0: Int -> println(\"a0: $a0\")}\n",
      "val lambda227 = {a0: Int -> println(\"a0: $a0\")}\n",
      "val lambda228 = {a0: Int -> println(\"a0: $a0\")}\n",
      "val lambda229 = {a0: Int -> println(\"a0: $a0\")}\n",
      "val lambda230 = {a0: Int -> println(\"a0: $a0\")}\n",
      "val lambda231 = {a0: Int -> println(\"a0: $a0\")}\n",
      "val lambda232 = {a0: Int -> println(\"a0: $a0\")}\n",
      "val lambda233 = {a0: Int -> println(\"a0: $a0\")}\n",
      "val lambda234 = {a0: Int -> println(\"a0: $a0\")}\n",
      "val lambda235 = {a0: Int -> println(\"a0: $a0\")}\n",
      "val lambda236 = {a0: Int -> println(\"a0: $a0\")}\n",
      "val lambda237 = {a0: Int -> println(\"a0: $a0\")}\n",
      "val lambda238 = {a0: Int -> println(\"a0: $a0\")}\n",
      "val lambda239 = {a0: Int -> println(\"a0: $a0\")}\n",
      "val lambda240 = {a0: Int -> println(\"a0: $a0\")}\n",
      "val lambda241 = {a0: Int -> println(\"a0: $a0\")}\n",
      "val lambda242 = {a0: Int -> println(\"a0: $a0\")}\n",
      "val lambda243 = {a0: Int -> println(\"a0: $a0\")}\n",
      "val lambda244 = {a0: Int -> println(\"a0: $a0\")}\n",
      "val lambda245 = {a0: Int -> println(\"a0: $a0\")}\n",
      "val lambda246 = {a0: Int -> println(\"a0: $a0\")}\n",
      "val lambda247 = {a0: Int -> println(\"a0: $a0\")}\n",
      "val lambda248 = {a0: Int -> println(\"a0: $a0\")}\n",
      "val lambda249 = {a0: Int -> println(\"a0: $a0\")}\n",
      "val lambda250 = {a0: Int -> println(\"a0: $a0\")}\n",
      "val lambda251 = {a0: Int -> println(\"a0: $a0\")}\n",
      "val lambda252 = {a0: Int -> println(\"a0: $a0\")}\n",
      "val lambda253 = {a0: Int -> println(\"a0: $a0\")}\n",
      "val lambda254 = {a0: Int -> println(\"a0: $a0\")}\n",
      "val lambda255 = {a0: Int -> println(\"a0: $a0\")}\n",
      "val lambda256 = {a0: Int -> println(\"a0: $a0\")}\n",
      "val lambda257 = {a0: Int -> println(\"a0: $a0\")}\n",
      "val lambda258 = {a0: Int -> println(\"a0: $a0\")}\n",
      "val lambda259 = {a0: Int -> println(\"a0: $a0\")}\n",
      "val lambda260 = {a0: Int -> println(\"a0: $a0\")}\n",
      "val lambda261 = {a0: Int -> println(\"a0: $a0\")}\n",
      "val lambda262 = {a0: Int -> println(\"a0: $a0\")}\n",
      "val lambda263 = {a0: Int -> println(\"a0: $a0\")}\n",
      "val lambda264 = {a0: Int -> println(\"a0: $a0\")}\n",
      "val lambda265 = {a0: Int -> println(\"a0: $a0\")}\n",
      "val lambda266 = {a0: Int -> println(\"a0: $a0\")}\n",
      "val lambda267 = {a0: Int -> println(\"a0: $a0\")}\n",
      "val lambda268 = {a0: Int -> println(\"a0: $a0\")}\n",
      "val lambda269 = {a0: Int -> println(\"a0: $a0\")}\n",
      "val lambda270 = {a0: Int -> println(\"a0: $a0\")}\n",
      "val lambda271 = {a0: Int -> println(\"a0: $a0\")}\n",
      "val lambda272 = {a0: Int -> println(\"a0: $a0\")}\n",
      "val lambda273 = {a0: Int -> println(\"a0: $a0\")}\n",
      "val lambda274 = {a0: Int -> println(\"a0: $a0\")}\n",
      "val lambda275 = {a0: Int -> println(\"a0: $a0\")}\n",
      "val lambda276 = {a0: Int -> println(\"a0: $a0\")}\n",
      "val lambda277 = {a0: Int -> println(\"a0: $a0\")}\n",
      "val lambda278 = {a0: Int -> println(\"a0: $a0\")}\n",
      "val lambda279 = {a0: Int -> println(\"a0: $a0\")}\n",
      "val lambda280 = {a0: Int -> println(\"a0: $a0\")}\n",
      "val lambda281 = {a0: Int -> println(\"a0: $a0\")}\n",
      "val lambda282 = {a0: Int -> println(\"a0: $a0\")}\n",
      "val lambda283 = {a0: Int -> println(\"a0: $a0\")}\n",
      "val lambda284 = {a0: Int -> println(\"a0: $a0\")}\n",
      "val lambda285 = {a0: Int -> println(\"a0: $a0\")}\n",
      "val lambda286 = {a0: Int -> println(\"a0: $a0\")}\n",
      "val lambda287 = {a0: Int -> println(\"a0: $a0\")}\n",
      "val lambda288 = {a0: Int -> println(\"a0: $a0\")}\n",
      "val lambda289 = {a0: Int -> println(\"a0: $a0\")}\n",
      "val lambda290 = {a0: Int -> println(\"a0: $a0\")}\n",
      "val lambda291 = {a0: Int -> println(\"a0: $a0\")}\n",
      "val lambda292 = {a0: Int -> println(\"a0: $a0\")}\n",
      "val lambda293 = {a0: Int -> println(\"a0: $a0\")}\n",
      "val lambda294 = {a0: Int -> println(\"a0: $a0\")}\n",
      "val lambda295 = {a0: Int -> println(\"a0: $a0\")}\n",
      "val lambda296 = {a0: Int -> println(\"a0: $a0\")}\n",
      "val lambda297 = {a0: Int -> println(\"a0: $a0\")}\n",
      "val lambda298 = {a0: Int -> println(\"a0: $a0\")}\n",
      "val lambda299 = {a0: Int -> println(\"a0: $a0\")}\n",
      "val lambda300 = {a0: Int -> println(\"a0: $a0\")}\n",
      "val lambda301 = {a0: Int -> println(\"a0: $a0\")}\n",
      "val lambda302 = {a0: Int -> println(\"a0: $a0\")}\n",
      "val lambda303 = {a0: Int -> println(\"a0: $a0\")}\n",
      "val lambda304 = {a0: Int -> println(\"a0: $a0\")}\n",
      "val lambda305 = {a0: Int -> println(\"a0: $a0\")}\n",
      "val lambda306 = {a0: Int -> println(\"a0: $a0\")}\n",
      "val lambda307 = {a0: Int -> println(\"a0: $a0\")}\n",
      "val lambda308 = {a0: Int -> println(\"a0: $a0\")}\n",
      "val lambda309 = {a0: Int -> println(\"a0: $a0\")}\n",
      "val lambda310 = {a0: Int -> println(\"a0: $a0\")}\n",
      "val lambda311 = {a0: Int -> println(\"a0: $a0\")}\n",
      "val lambda312 = {a0: Int -> println(\"a0: $a0\")}\n",
      "val lambda313 = {a0: Int -> println(\"a0: $a0\")}\n",
      "val lambda314 = {a0: Int -> println(\"a0: $a0\")}\n",
      "val lambda315 = {a0: Int -> println(\"a0: $a0\")}\n",
      "val lambda316 = {a0: Int -> println(\"a0: $a0\")}\n",
      "val lambda317 = {a0: Int -> println(\"a0: $a0\")}\n",
      "val lambda318 = {a0: Int -> println(\"a0: $a0\")}\n",
      "val lambda319 = {a0: Int -> println(\"a0: $a0\")}\n",
      "val lambda320 = {a0: Int -> println(\"a0: $a0\")}\n",
      "val lambda321 = {a0: Int -> println(\"a0: $a0\")}\n",
      "val lambda322 = {a0: Int -> println(\"a0: $a0\")}\n",
      "val lambda323 = {a0: Int -> println(\"a0: $a0\")}\n",
      "val lambda324 = {a0: Int -> println(\"a0: $a0\")}\n",
      "val lambda325 = {a0: Int -> println(\"a0: $a0\")}\n",
      "val lambda326 = {a0: Int -> println(\"a0: $a0\")}\n",
      "val lambda327 = {a0: Int -> println(\"a0: $a0\")}\n",
      "val lambda328 = {a0: Int -> println(\"a0: $a0\")}\n",
      "val lambda329 = {a0: Int -> println(\"a0: $a0\")}\n",
      "val lambda330 = {a0: Int -> println(\"a0: $a0\")}\n",
      "val lambda331 = {a0: Int -> println(\"a0: $a0\")}\n",
      "val lambda332 = {a0: Int -> println(\"a0: $a0\")}\n",
      "val lambda333 = {a0: Int -> println(\"a0: $a0\")}\n",
      "val lambda334 = {a0: Int -> println(\"a0: $a0\")}\n",
      "val lambda335 = {a0: Int -> println(\"a0: $a0\")}\n",
      "val lambda336 = {a0: Int -> println(\"a0: $a0\")}\n",
      "val lambda337 = {a0: Int -> println(\"a0: $a0\")}\n",
      "val lambda338 = {a0: Int -> println(\"a0: $a0\")}\n",
      "val lambda339 = {a0: Int -> println(\"a0: $a0\")}\n",
      "val lambda340 = {a0: Int -> println(\"a0: $a0\")}\n",
      "val lambda341 = {a0: Int -> println(\"a0: $a0\")}\n",
      "val lambda342 = {a0: Int -> println(\"a0: $a0\")}\n",
      "val lambda343 = {a0: Int -> println(\"a0: $a0\")}\n",
      "val lambda344 = {a0: Int -> println(\"a0: $a0\")}\n",
      "val lambda345 = {a0: Int -> println(\"a0: $a0\")}\n",
      "val lambda346 = {a0: Int -> println(\"a0: $a0\")}\n",
      "val lambda347 = {a0: Int -> println(\"a0: $a0\")}\n",
      "val lambda348 = {a0: Int -> println(\"a0: $a0\")}\n",
      "val lambda349 = {a0: Int -> println(\"a0: $a0\")}\n",
      "val lambda350 = {a0: Int -> println(\"a0: $a0\")}\n",
      "val lambda351 = {a0: Int -> println(\"a0: $a0\")}\n",
      "val lambda352 = {a0: Int -> println(\"a0: $a0\")}\n",
      "val lambda353 = {a0: Int -> println(\"a0: $a0\")}\n",
      "val lambda354 = {a0: Int -> println(\"a0: $a0\")}\n",
      "val lambda355 = {a0: Int -> println(\"a0: $a0\")}\n",
      "val lambda356 = {a0: Int -> println(\"a0: $a0\")}\n",
      "val lambda357 = {a0: Int -> println(\"a0: $a0\")}\n",
      "val lambda358 = {a0: Int -> println(\"a0: $a0\")}\n",
      "val lambda359 = {a0: Int -> println(\"a0: $a0\")}\n",
      "val lambda360 = {a0: Int -> println(\"a0: $a0\")}\n",
      "val lambda361 = {a0: Int -> println(\"a0: $a0\")}\n",
      "val lambda362 = {a0: Int -> println(\"a0: $a0\")}\n",
      "val lambda363 = {a0: Int -> println(\"a0: $a0\")}\n",
      "val lambda364 = {a0: Int -> println(\"a0: $a0\")}\n",
      "val lambda365 = {a0: Int -> println(\"a0: $a0\")}\n",
      "val lambda366 = {a0: Int -> println(\"a0: $a0\")}\n",
      "val lambda367 = {a0: Int -> println(\"a0: $a0\")}\n",
      "val lambda368 = {a0: Int -> println(\"a0: $a0\")}\n",
      "val lambda369 = {a0: Int -> println(\"a0: $a0\")}\n",
      "val lambda370 = {a0: Int -> println(\"a0: $a0\")}\n",
      "val lambda371 = {a0: Int -> println(\"a0: $a0\")}\n",
      "val lambda372 = {a0: Int -> println(\"a0: $a0\")}\n",
      "val lambda373 = {a0: Int -> println(\"a0: $a0\")}\n",
      "val lambda374 = {a0: Int -> println(\"a0: $a0\")}\n",
      "val lambda375 = {a0: Int -> println(\"a0: $a0\")}\n",
      "val lambda376 = {a0: Int -> println(\"a0: $a0\")}\n",
      "val lambda377 = {a0: Int -> println(\"a0: $a0\")}\n",
      "val lambda378 = {a0: Int -> println(\"a0: $a0\")}\n",
      "val lambda379 = {a0: Int -> println(\"a0: $a0\")}\n",
      "val lambda380 = {a0: Int -> println(\"a0: $a0\")}\n",
      "val lambda381 = {a0: Int -> println(\"a0: $a0\")}\n",
      "val lambda382 = {a0: Int -> println(\"a0: $a0\")}\n",
      "val lambda383 = {a0: Int -> println(\"a0: $a0\")}\n",
      "val lambda384 = {a0: Int -> println(\"a0: $a0\")}\n",
      "val lambda385 = {a0: Int -> println(\"a0: $a0\")}\n",
      "val lambda386 = {a0: Int -> println(\"a0: $a0\")}\n",
      "val lambda387 = {a0: Int -> println(\"a0: $a0\")}\n",
      "val lambda388 = {a0: Int -> println(\"a0: $a0\")}\n",
      "val lambda389 = {a0: Int -> println(\"a0: $a0\")}\n",
      "val lambda390 = {a0: Int -> println(\"a0: $a0\")}\n",
      "val lambda391 = {a0: Int -> println(\"a0: $a0\")}\n",
      "val lambda392 = {a0: Int -> println(\"a0: $a0\")}\n",
      "val lambda393 = {a0: Int -> println(\"a0: $a0\")}\n",
      "val lambda394 = {a0: Int -> println(\"a0: $a0\")}\n",
      "val lambda395 = {a0: Int -> println(\"a0: $a0\")}\n",
      "val lambda396 = {a0: Int -> println(\"a0: $a0\")}\n",
      "val lambda397 = {a0: Int -> println(\"a0: $a0\")}\n",
      "val lambda398 = {a0: Int -> println(\"a0: $a0\")}\n",
      "val lambda399 = {a0: Int -> println(\"a0: $a0\")}\n",
      "val lambda400 = {a0: Int -> println(\"a0: $a0\")}\n",
      "val lambda401 = {a0: Int -> println(\"a0: $a0\")}\n",
      "val lambda402 = {a0: Int -> println(\"a0: $a0\")}\n",
      "val lambda403 = {a0: Int -> println(\"a0: $a0\")}\n",
      "val lambda404 = {a0: Int -> println(\"a0: $a0\")}\n",
      "val lambda405 = {a0: Int -> println(\"a0: $a0\")}\n",
      "val lambda406 = {a0: Int -> println(\"a0: $a0\")}\n",
      "val lambda407 = {a0: Int -> println(\"a0: $a0\")}\n",
      "val lambda408 = {a0: Int -> println(\"a0: $a0\")}\n",
      "val lambda409 = {a0: Int -> println(\"a0: $a0\")}\n",
      "val lambda410 = {a0: Int -> println(\"a0: $a0\")}\n",
      "val lambda411 = {a0: Int -> println(\"a0: $a0\")}\n",
      "val lambda412 = {a0: Int -> println(\"a0: $a0\")}\n",
      "val lambda413 = {a0: Int -> println(\"a0: $a0\")}\n",
      "val lambda414 = {a0: Int -> println(\"a0: $a0\")}\n",
      "val lambda415 = {a0: Int -> println(\"a0: $a0\")}\n",
      "val lambda416 = {a0: Int -> println(\"a0: $a0\")}\n",
      "val lambda417 = {a0: Int -> println(\"a0: $a0\")}\n",
      "val lambda418 = {a0: Int -> println(\"a0: $a0\")}\n",
      "val lambda419 = {a0: Int -> println(\"a0: $a0\")}\n",
      "val lambda420 = {a0: Int -> println(\"a0: $a0\")}\n",
      "val lambda421 = {a0: Int -> println(\"a0: $a0\")}\n",
      "val lambda422 = {a0: Int -> println(\"a0: $a0\")}\n",
      "val lambda423 = {a0: Int -> println(\"a0: $a0\")}\n",
      "val lambda424 = {a0: Int -> println(\"a0: $a0\")}\n",
      "val lambda425 = {a0: Int -> println(\"a0: $a0\")}\n",
      "val lambda426 = {a0: Int -> println(\"a0: $a0\")}\n",
      "val lambda427 = {a0: Int -> println(\"a0: $a0\")}\n",
      "val lambda428 = {a0: Int -> println(\"a0: $a0\")}\n",
      "val lambda429 = {a0: Int -> println(\"a0: $a0\")}\n",
      "val lambda430 = {a0: Int -> println(\"a0: $a0\")}\n",
      "val lambda431 = {a0: Int -> println(\"a0: $a0\")}\n",
      "val lambda432 = {a0: Int -> println(\"a0: $a0\")}\n",
      "val lambda433 = {a0: Int -> println(\"a0: $a0\")}\n",
      "val lambda434 = {a0: Int -> println(\"a0: $a0\")}\n",
      "val lambda435 = {a0: Int -> println(\"a0: $a0\")}\n",
      "val lambda436 = {a0: Int -> println(\"a0: $a0\")}\n",
      "val lambda437 = {a0: Int -> println(\"a0: $a0\")}\n",
      "val lambda438 = {a0: Int -> println(\"a0: $a0\")}\n",
      "val lambda439 = {a0: Int -> println(\"a0: $a0\")}\n",
      "val lambda440 = {a0: Int -> println(\"a0: $a0\")}\n",
      "val lambda441 = {a0: Int -> println(\"a0: $a0\")}\n",
      "val lambda442 = {a0: Int -> println(\"a0: $a0\")}\n",
      "val lambda443 = {a0: Int -> println(\"a0: $a0\")}\n",
      "val lambda444 = {a0: Int -> println(\"a0: $a0\")}\n",
      "val lambda445 = {a0: Int -> println(\"a0: $a0\")}\n",
      "val lambda446 = {a0: Int -> println(\"a0: $a0\")}\n",
      "val lambda447 = {a0: Int -> println(\"a0: $a0\")}\n",
      "val lambda448 = {a0: Int -> println(\"a0: $a0\")}\n",
      "val lambda449 = {a0: Int -> println(\"a0: $a0\")}\n",
      "val lambda450 = {a0: Int -> println(\"a0: $a0\")}\n",
      "val lambda451 = {a0: Int -> println(\"a0: $a0\")}\n",
      "val lambda452 = {a0: Int -> println(\"a0: $a0\")}\n",
      "val lambda453 = {a0: Int -> println(\"a0: $a0\")}\n",
      "val lambda454 = {a0: Int -> println(\"a0: $a0\")}\n",
      "val lambda455 = {a0: Int -> println(\"a0: $a0\")}\n",
      "val lambda456 = {a0: Int -> println(\"a0: $a0\")}\n",
      "val lambda457 = {a0: Int -> println(\"a0: $a0\")}\n",
      "val lambda458 = {a0: Int -> println(\"a0: $a0\")}\n",
      "val lambda459 = {a0: Int -> println(\"a0: $a0\")}\n",
      "val lambda460 = {a0: Int -> println(\"a0: $a0\")}\n",
      "val lambda461 = {a0: Int -> println(\"a0: $a0\")}\n",
      "val lambda462 = {a0: Int -> println(\"a0: $a0\")}\n",
      "val lambda463 = {a0: Int -> println(\"a0: $a0\")}\n",
      "val lambda464 = {a0: Int -> println(\"a0: $a0\")}\n",
      "val lambda465 = {a0: Int -> println(\"a0: $a0\")}\n",
      "val lambda466 = {a0: Int -> println(\"a0: $a0\")}\n",
      "val lambda467 = {a0: Int -> println(\"a0: $a0\")}\n",
      "val lambda468 = {a0: Int -> println(\"a0: $a0\")}\n",
      "val lambda469 = {a0: Int -> println(\"a0: $a0\")}\n",
      "val lambda470 = {a0: Int -> println(\"a0: $a0\")}\n",
      "val lambda471 = {a0: Int -> println(\"a0: $a0\")}\n",
      "val lambda472 = {a0: Int -> println(\"a0: $a0\")}\n",
      "val lambda473 = {a0: Int -> println(\"a0: $a0\")}\n",
      "val lambda474 = {a0: Int -> println(\"a0: $a0\")}\n",
      "val lambda475 = {a0: Int -> println(\"a0: $a0\")}\n",
      "val lambda476 = {a0: Int -> println(\"a0: $a0\")}\n",
      "val lambda477 = {a0: Int -> println(\"a0: $a0\")}\n",
      "val lambda478 = {a0: Int -> println(\"a0: $a0\")}\n",
      "val lambda479 = {a0: Int -> println(\"a0: $a0\")}\n",
      "val lambda480 = {a0: Int -> println(\"a0: $a0\")}\n",
      "val lambda481 = {a0: Int -> println(\"a0: $a0\")}\n",
      "val lambda482 = {a0: Int -> println(\"a0: $a0\")}\n",
      "val lambda483 = {a0: Int -> println(\"a0: $a0\")}\n",
      "val lambda484 = {a0: Int -> println(\"a0: $a0\")}\n",
      "val lambda485 = {a0: Int -> println(\"a0: $a0\")}\n",
      "val lambda486 = {a0: Int -> println(\"a0: $a0\")}\n",
      "val lambda487 = {a0: Int -> println(\"a0: $a0\")}\n",
      "val lambda488 = {a0: Int -> println(\"a0: $a0\")}\n",
      "val lambda489 = {a0: Int -> println(\"a0: $a0\")}\n",
      "val lambda490 = {a0: Int -> println(\"a0: $a0\")}\n",
      "val lambda491 = {a0: Int -> println(\"a0: $a0\")}\n",
      "val lambda492 = {a0: Int -> println(\"a0: $a0\")}\n",
      "val lambda493 = {a0: Int -> println(\"a0: $a0\")}\n",
      "val lambda494 = {a0: Int -> println(\"a0: $a0\")}\n",
      "val lambda495 = {a0: Int -> println(\"a0: $a0\")}\n",
      "val lambda496 = {a0: Int -> println(\"a0: $a0\")}\n",
      "val lambda497 = {a0: Int -> println(\"a0: $a0\")}\n",
      "val lambda498 = {a0: Int -> println(\"a0: $a0\")}\n",
      "val lambda499 = {a0: Int -> println(\"a0: $a0\")}\n"
     ]
    }
   ],
   "source": [
    "for i in range(500):\n",
    "    lambdaDef = generate_lambda(1, \"println(\\\"a0: $a0\\\")\")\n",
    "    print(f\"val lambda{i} = {lambdaDef}\")"
   ]
  }
 ],
 "metadata": {
  "kernelspec": {
   "display_name": "Python 3",
   "language": "python",
   "name": "python3"
  },
  "language_info": {
   "codemirror_mode": {
    "name": "ipython",
    "version": 3
   },
   "file_extension": ".py",
   "mimetype": "text/x-python",
   "name": "python",
   "nbconvert_exporter": "python",
   "pygments_lexer": "ipython3",
   "version": "3.9.6"
  }
 },
 "nbformat": 4,
 "nbformat_minor": 5
}
